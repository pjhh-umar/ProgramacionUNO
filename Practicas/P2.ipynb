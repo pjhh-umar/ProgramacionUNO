{
 "cells": [
  {
   "attachments": {},
   "cell_type": "markdown",
   "metadata": {},
   "source": [
    "# A practicar ... \n",
    "<center>\n",
    "<img src=\"../Imagenes/gorila_music.png\" alt=\"\", width=\"25%\" height=\"auto\">\n",
    "<!-- ![Tablero de ajedrez](./Quizes_Imagenes/tablero_ajedrez.jpg) -->\n",
    "</center>"
   ]
  },
  {
   "cell_type": "markdown",
   "metadata": {},
   "source": [
    "## Practica 2.1 ¿Qué día de la semana es el 1 de enero?\n",
    "\n",
    "#### La siguiente fórmula se puede utilizar para determinar el día de la semana para el 1 de enero en un año determinado:\n",
    "\n",
    "$$ \\mathrm{dia\\_semana}= \\left( \\mathrm{año} + \\left \\lfloor \\frac{\\mathrm{año} - 1}{4} \\right\\rfloor - \\left \\lfloor \\frac{\\mathrm{año} - 1}{100} \\right\\rfloor  + \\left \\lfloor \\frac{\\mathrm{año} - 1}{400} \\right\\rfloor  \\right)\\% 7    $$\n",
    "\n",
    "#### El resultado calculado por esta fórmula es un número entero que representa el día de la semana. El domingo está representado por $0$. Los días restantes de la semana siguen en secuencia hasta el sábado, que está representado por $6$.\n",
    "\n",
    "#### Usa la fórmula anterior para escribir un programa solicite al usuario un  año   e informe el día de la semana para el $1$ de enero de ese año La salida del  programa debe incluir el nombre completo del día de la semana, no solo el número entero devuelto por la fórmula."
   ]
  },
  {
   "cell_type": "markdown",
   "metadata": {},
   "source": [
    "## Practica 2.2 \n",
    "\n",
    "#### Crea un programa en Python que lea una lista de números enteros positivos e imprima una *barra de números* como se aprecia en la siguiente imagen:\n",
    "<center>\n",
    "<img src=\"../Imagenes/grafica_barra_numeros.jpg\" alt=\"\", width=\"35%\" height=\"auto\">\n",
    "</center>\n",
    "\n",
    "En la imagen anterior la gráfica fue contruida a partir de la lista: "
   ]
  },
  {
   "cell_type": "code",
   "execution_count": 1,
   "metadata": {},
   "outputs": [],
   "source": [
    "numeros = [19, 20, 15, 7, 11]"
   ]
  },
  {
   "attachments": {},
   "cell_type": "markdown",
   "metadata": {},
   "source": [
    "## Práctica 2.3\n",
    "\n",
    "#### Cree dos conjuntos de estudiantes, uno para los que presentaron un examen y otro para los que enviaron un proyecto.\n",
    "\n"
   ]
  },
  {
   "cell_type": "code",
   "execution_count": null,
   "metadata": {},
   "outputs": [],
   "source": [
    "examen = {'Benito','Maribel','Ximena','Doroteo','Flavia','Ignacio','Francisco','Lucia','Anahi','Juan','Pedro','Santiago','Lluvia'}\n",
    "\n",
    "proyecto = {'Heriberto','Ximena','Flavio','Concepcion','Fernando','Francisco','Jesus','Pedro','Santiago','Sebastian','Coral'}"
   ]
  },
  {
   "cell_type": "code",
   "execution_count": null,
   "metadata": {},
   "outputs": [],
   "source": [
    "print(examen)\n",
    "print(proyecto)"
   ]
  },
  {
   "attachments": {},
   "cell_type": "markdown",
   "metadata": {},
   "source": [
    "#### Usando estos conjuntos responde las siguientes preguntas:\n",
    "\n",
    "1. ##### ¿Qué estudiantes presentaron el examen y enviaron el proyecto?\n",
    "2. ##### ¿Qué estudiantes sólo presentaron el examen?\n",
    "3. ##### ¿Qué estudiantes sólo presentaron el proyecto?\n",
    "4. ##### Haga una lista de todos los estudiantes que presentaron el examen y el proyecto (o ambos).\n",
    "5. ##### Haga una lista de todos los estudiantes que  presentaron el examen y el proyecto (pero no ambos)."
   ]
  },
  {
   "cell_type": "markdown",
   "metadata": {},
   "source": [
    "## Práctica 2.4\n",
    "\n",
    "#### Escribe un programa en Python que lea una línea de texto y determine e imprima el número de ocurrencias de cada palabra en la cadena. También imprime el número total de palabras únicas \n",
    "\n",
    "<center>\n",
    "<img src=\"../Imagenes/contador_palabras.png\" alt=\"\", width=\"25%\" height=\"auto\">\n",
    "</center>\n",
    "\n",
    "#### **Sugerencia:** Usa el método Split"
   ]
  },
  {
   "cell_type": "markdown",
   "metadata": {},
   "source": [
    "## Práctica 2.5\n",
    "\n",
    "\n",
    "#### Crea un programa en Python que reciba una cadena y devuelve una lista de los caracteres únicos de la cadena de texto."
   ]
  },
  {
   "cell_type": "markdown",
   "metadata": {},
   "source": [
    "## Práctica 2.6\n",
    "\n",
    "\n",
    "#### Crea un programa en Python lea una línea de texto y luego solicite al usuario una palabra que desea buscar dentro de la cadena de texto y determine e imprima cuántas veces se encuentra la palabra en la cadena. "
   ]
  },
  {
   "cell_type": "markdown",
   "metadata": {},
   "source": [
    "## Práctica 2.7\n",
    "\n",
    "#### Crea un programa en Python que dado un diccionario imprima  (mediante un mensaje adecuado) el primer *valor* más largo del diccionario. Por ejemplo, el siguiente diccionario es:\n",
    "\n",
    "#### `frutas = {'fruta': 'manzana', 'color': 'verde'}`\n",
    "\n",
    "#### se debe imprimir `manzana` pues es el primer  valor más largo.\n"
   ]
  },
  {
   "cell_type": "markdown",
   "metadata": {},
   "source": [
    "## Práctica 2.8\n",
    "\n",
    "#### Crea un programa en Python que tome una lista de cadenas de números como argumento, la convierte en números enteros y calcule e imprima la suma de la lista. Por ejemplo, si la lista de cadenas de números es: `['1', '3', '5']` debe convertirse en `[1, 3, 5]` y e imprimir (mediante un mensaje adecuado)  a `9`."
   ]
  },
  {
   "cell_type": "markdown",
   "metadata": {},
   "source": [
    "## Práctica 2.9\n",
    "\n",
    "#### Crea un programa en Python tome una lista de cadenas verifique si la lista tiene cualquier duplicado. Si hay duplicados,  \n",
    "#### se deben imprimir los duplicados. Si no hay duplicados, se debe imprimir \"**Sin duplicados**\". Por ejemplo, si la lista es  `frutas` como a continuación debería devolver `manzana` y la lista de `nombres` debería devolver \"**Sin duplicados**\".\n",
    "\n",
    "#### `frutas = ['manzana', 'naranja', 'plátano', 'manzana']`\n",
    "#### `nombres = ['Daniela', 'Nayeli', 'Sarah', 'Jasubilene', 'Itiel', 'Yamil', 'Nestor', 'Orlando']`"
   ]
  },
  {
   "cell_type": "markdown",
   "metadata": {},
   "source": [
    "## Práctica 2.10\n",
    "\n",
    "#### Crea un programa en Python que tomé un el diccionario `registro` y verifique cuántos de los estudiantes si asistieron a la escuela. En el diccionario `registro` las claves corresponden a las matriculas de los estudiantes y el valor correspondientes es `'Si'`o `'No'`. Si el alumno fue a la escuela, el diccionario dice `'Si'`. Si el alumno no asistió a la escuela, el diccionario dice `'No'`. El programa debe imprimir el número de estudiantes que asistieron a la escuela. Por ejemplo,  utilizando el siguiente diccionariose debe imprimir `3` (Utiliza un mensaje adecuado).\n",
    "\n",
    "#### `registro = {'2023260134':'Si','2023260135': 'No', '2023260136':'Si', '2023260137': 'No', '2023260138':'Si', '2023260139':'Si', '2023260140':'Si', '2023260141':'No', '2023260142':'No'}`"
   ]
  },
  {
   "cell_type": "markdown",
   "metadata": {},
   "source": [
    "## Práctica 2.11\n",
    "\n",
    "#### Crea un programa en Python que dada una lista de nombres compuesta por nombres de letras minúsculas y mayúsculas, guarde en una  tupla todos los nombres de la lista que solo tienen letras minúsculas. La tupla debe tener los nombres ordenados alfabéticamente en orden decreciente. Por ejemplo si la lista de nombres es:\n",
    "#### `['Nayeli', 'Sarah', 'victor', 'antonio', 'karime', 'Luz', 'Estefania', 'daniel', 'Shintia', 'Yeriley']`\n",
    "#### se debe imprimir:\n",
    "#### `('antonio', 'daniel', 'karime', 'victor')`\n"
   ]
  },
  {
   "cell_type": "markdown",
   "metadata": {},
   "source": [
    "## Práctica 2.12\n",
    "\n",
    "#### Crea un programa en Python que dada una lista de cadenas, imprima el índice de la primera palabra más larga de la lista. Por ejemplo, si la lista es: \n",
    "#### `palabras1 = [\"Odio\", \"Remordimiento\", \"Venganza\"]`\n",
    "#### se debe imprimir `2`. Mientras que si la lista es:\n",
    "#### `palabras2 = [\"Amor\", \"Odio\"]`\n",
    "#### se debe imprimir `0`."
   ]
  },
  {
   "cell_type": "markdown",
   "metadata": {},
   "source": [
    "## Práctica 2.14\n",
    "\n",
    "#### El departamento de servicios escolares de la Universidad del Mar Campus Huatulco sabe que eres un excelente programador y  solicita de tu apoyo para saber cuántos estudiantes, mujeres y hombres, están matriculados en la universidad. Servicios Escolares ha guardado el sexo de cada uno de los estudiantes en una lista. Crea un programa en Python  que determine cuántos hombres y cuantas mujeres hay en la lista, almacena esta información en un diccionario. Por ejemplo si la lista es:\n",
    "\n",
    "#### `estudiantes = ['Hombre', 'Mujer', 'mujer', 'hombre', 'hombre', 'hombre', 'mujer', 'hombre', 'Mujer', 'Hombre', 'Mujer', 'Hombre' , 'mujer']`\n",
    "\n",
    "#### **Observación:** A veces se guardo `'mujer'` o `'Mujer'` o bien `'Hombre'` o `'hombre'`\n",
    "\n",
    "#### Se debe imprimir el siguiente  diccionario:\n",
    "\n",
    "#### `{'Hombres':7 'Mujeres':6}`\n"
   ]
  },
  {
   "cell_type": "markdown",
   "metadata": {},
   "source": [
    "## Práctica 2.15\n",
    "\n",
    "#### Crea un programa en Python que dada una lista de nombres  guarde en un diccionario los nombres que comienzan con \"S\" (*claves*) y la cantidad de veces que este aparece en la lista (*valores*). Por ejemplo si la lista es:\n",
    "\n",
    "##### `nombres = [\"Sofia\",\"Saul\", \"Jorge\", \"Samantha\",\"Jonathan\", \"Sofia\", \"Juan\", \"Joaquin\", \"Diana\", \"Daniela\", \"Sarah\", \"Sofia\", , \"Samantha\"]`\n",
    "\n",
    "#### se debe imprimir el siguiente diccionario: `{“Sofia”: 3, “Saul”: 1, , \"Sarah\": 1, \"Samantha\": 1}`"
   ]
  },
  {
   "cell_type": "markdown",
   "metadata": {},
   "source": [
    "## Práctica 2.16\n",
    "\n",
    "#### Crea un programa en Python dada una lista de números enteros, determina e imprima la diferencia entre el número par más grande de la lista y el número impar más pequeño de la lista. Por ejemplo, si la lista es: `[1,2,4,6]` se debe imprimir `6 -1= 5`."
   ]
  },
  {
   "cell_type": "markdown",
   "metadata": {},
   "source": [
    "## Práctica 2.17\n",
    "\n",
    "#### Crea un programa en Python que solicite al usuario un número entero positivo $n$ y determine e imprima una lista de todos los números primos menores o iguales que $n$. Por ejemplo, si el usuario ingresa `10`, se debe imprimir la lista `[2, 3, 5, 7]`."
   ]
  },
  {
   "cell_type": "markdown",
   "metadata": {},
   "source": [
    "## Práctica 2.18\n",
    "\n",
    "#### Cree un programa en Python que solicite al usuario que ingrese una cadena de números y determine e imprima el digito impar más grande de la cadena. Por ejemplo, si  el usuario ingresa `'23569'`,  la función debe imprimir `9`.\n"
   ]
  },
  {
   "cell_type": "markdown",
   "metadata": {},
   "source": [
    "## Práctica 2.19\n",
    "\n",
    "#### Crea un programa en Python que dada una lista de números. Si la lista tiene ceros (`0`), se deben `mover` estos al final de la lista y manteniendo el orden de los demás números de la lista. Si no hay ceros en la lista, ordenar la lista original en orden ascendente. En ambos casos imprimir la lista resultante. Por ejemplo, si la lista es  `[1, 4, 6, 0, 7,0,9]`  es se debe imprimir `[1,4, 6, 7, 9, 0, 0]`. Mientras que, si  la lista es `[2, 1, 4, 7, 6]` entonces se debe imprimir `[1, 2, 4, 6, 7]`.\n"
   ]
  },
  {
   "cell_type": "markdown",
   "metadata": {},
   "source": [
    "## Práctica 2.20\n",
    "\n",
    "#### Escribe un programa en Python que lea una `lista de tuplas`, y crea un diccionario en donde las claves sean los primeros elementos de las tuplas, y los valores una **lista** con los segundos. Imprime el diccionario resultante y luego para cada clave imprime los valores correspondientes.\n",
    "\n",
    "#### Por ejemplo: En la lista `lista_tutores_tutorados` se tiene almacenados en tuplas, el nombre del tutor y de su tutorado. Como cada tutor puede tener más de un tutorado, hay tuplas que tienen como primer elemento al mismo tutor:\n",
    "\n",
    "###### `lista_tutores_tutorados = [('Tutor1','Jorge'), ('Tutor2','Benito'), ('Tutor1','Mateo'), ('Tutor3','Maura'), ('Tutor1','Jesus'), ('Tutor4','Ximena')]`\n",
    "\n",
    "#### Despues de crear el diccionario e imprimirlo el resultado será algo similar a:\n",
    "\n",
    "###### `{'Tutor1': ['Jorge', 'Mateo', 'Jesus'], 'Tutor4': ['Ximena'], 'Tutor3': ['Maura'], 'Tutor2': ['Benito']}`\n",
    "\n",
    "#### El resultado de imprimir a cada tutor  y sus correspondientes tutorados se debe ver como:\n",
    "\n",
    "<center>\n",
    "<img src=\"../Imagenes/tutores_tutorados.png\" alt=\"\", width=\"25%\" height=\"auto\">\n",
    "\n",
    "</center>"
   ]
  },
  {
   "cell_type": "markdown",
   "metadata": {},
   "source": [
    "## Práctica 2.21\n",
    "\n",
    "#### 1. Crear un archivo de texto llamado *'frases.txt'* y almacenar las siguientes tres líneas de texto:\n",
    "  - No te preocupes por tus dificultades en matemáticas. Te aseguro que las mías son aún mayores.\n",
    "  \n",
    "  - Un matemático es una máquina que transforma café en teoremas.\n",
    "\n",
    "  - Si he logrado ver más allá que los demas es porque he andado sobre hombros de gigantes\n",
    "\n",
    "  - No digas no puedo ni en broma, porque el inconsciente no tiene sentido del humor, lo tomará en serio, y te lo \n",
    "  recordará cada vez que lo intentes\n",
    "\n",
    "#### 2. Leer e imprimir el contenido del archivo de texto *'frases.txt'*. Usar el método `read()` \n",
    "\n",
    "#### 3. Leer el contenido del archivo de texto *'frases.txt'* línea a línea. Usar el método `readline()`\n",
    "\n",
    "#### 4. Leer el contenido del archivo de texto *'frases.txt'* y almacenar sus líneas en una lista. Imprimir la cantidad de líneas que tiene el archivo y el contenido del archivo. Usar el método `readlines( )` \n",
    "\n",
    "#### 5. Abrir un archivo de texto con el parámetro \"a\", imprimir su contenido actual y agregar luego dos líneas al final (estas dos lineas tienen que ser frases que a ti te guste y te motiven mucho)."
   ]
  },
  {
   "cell_type": "markdown",
   "metadata": {},
   "source": [
    "## Práctica 2.22\n",
    "\n",
    "#### Crea un programa en Python  que lea las líneas del archivo *frases.txt* creado en la **Práctica 2.22** y les agregue números de línea al principio de cada línea, luego almacene las líneas numeradas en un nuevo archivo. Cada línea del archivo nuevo de salida debe comenzar con el número de línea, seguido de dos puntos y un espacio, seguido de la línea del archivo de entrada."
   ]
  },
  {
   "cell_type": "markdown",
   "metadata": {},
   "source": []
  }
 ],
 "metadata": {
  "kernelspec": {
   "display_name": "Python 3",
   "language": "python",
   "name": "python3"
  },
  "language_info": {
   "codemirror_mode": {
    "name": "ipython",
    "version": 3
   },
   "file_extension": ".py",
   "mimetype": "text/x-python",
   "name": "python",
   "nbconvert_exporter": "python",
   "pygments_lexer": "ipython3",
   "version": "3.11.1"
  },
  "orig_nbformat": 4
 },
 "nbformat": 4,
 "nbformat_minor": 2
}
