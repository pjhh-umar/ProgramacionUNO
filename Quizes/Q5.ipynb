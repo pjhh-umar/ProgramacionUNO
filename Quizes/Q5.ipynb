{
 "cells": [
  {
   "attachments": {},
   "cell_type": "markdown",
   "metadata": {},
   "source": [
    "# <center> Quiz 5 </center>\n",
    "\n",
    "## Instrucciones: \n",
    "\n",
    "* #### Para cada ejercicio debes enviar el archivo en formato `.py` o `.ipynb` con el programa correspondiente.\n",
    "\n",
    "* #### Los archivos correspondientes a cada pregunta se deben nombrar de la siguiente manera: \n",
    "  <center><font size=4><b>TuNombre_TuPrimerApellido_Q5#</b></font></center>\n",
    "  \n",
    "  #### donde en lugar de \\#  tienes que colocar el número de ejercicio. \n",
    "\n",
    "* #### Enviar los archivos al correo **pablo.jorge@aulavirtual.umar.mx**. No olvides adjuntar los archivos, de otra forma el ejercicio no será tomado en cuenta. \n",
    "\n",
    "* #### Después de las 12:00 horas por cada 5 minutos de retraso al enviar tus archivos se tendrá una penalización de 0.75 puntos menos sobre la calificación final del Quiz. \n",
    "\n"
   ]
  },
  {
   "cell_type": "markdown",
   "metadata": {},
   "source": [
    "## Pregunta 1 (5 puntos)\n",
    "\n",
    "#### El departamento de servicios escolares de la Universidad del Mar Campus Huatulco sabe que eres un excelente programador y  solicita de tu apoyo para saber cuántos estudiantes, mujeres y hombres, están matriculados en la universidad. Servicios Escolares ha guardado el sexo de cada uno de los estudiantes en una lista. Crea un programa en Python  que determine cuántos hombres y cuantas mujeres hay en la lista, almacena esta información en un diccionario. Por ejemplo si la lista es:\n",
    "\n",
    "#### `estudiantes = ['Hombre', 'Mujer', 'mujer', 'hombre', 'hombre', 'hombre', 'mujer', 'hombre', 'Mujer', 'Hombre', 'Mujer', 'Hombre' , 'mujer']`\n",
    "\n",
    "#### **Observación:** A veces se guardo `'mujer'` o `'Mujer'` o bien `'Hombre'` o `'hombre'`\n",
    "\n",
    "#### Se debe imprimir el siguiente  diccionario:\n",
    "\n",
    "#### `{'Hombres':7 'Mujeres':6}`"
   ]
  },
  {
   "attachments": {},
   "cell_type": "markdown",
   "metadata": {},
   "source": [
    "## Pregunta 2 (5 puntos)\n",
    "\n",
    "#### Dos palabras son **anagramas** si omitiendo mayusculas y acentos una de ellas se obtiene al reorganizar las letras de la otra palabra. Por ejemplo, “Sergio” y “Riesgo”, “Amor’ y “Roma”’,“Café” y “Face” son anagramas. \n",
    "\n",
    "#### Escribe un programa en Python que solicite al usuario dos cadenas de caracteres (validar que en efecto estas cadenas sean s´olo una palabra) y determine si son o no anagramas e imprima el resultado a traves de un mensaje adecuado.\n",
    "\n",
    "#### **Observación:** Por el momento no te preocupes por los acentos, sin embargo si ocupate de las mayusculas y minusculas y de que lo ingresado sea sólo una palabra."
   ]
  }
 ],
 "metadata": {
  "kernelspec": {
   "display_name": "Python 3",
   "language": "python",
   "name": "python3"
  },
  "language_info": {
   "codemirror_mode": {
    "name": "ipython",
    "version": 3
   },
   "file_extension": ".py",
   "mimetype": "text/x-python",
   "name": "python",
   "nbconvert_exporter": "python",
   "pygments_lexer": "ipython3",
   "version": "3.11.2"
  },
  "orig_nbformat": 4
 },
 "nbformat": 4,
 "nbformat_minor": 2
}
