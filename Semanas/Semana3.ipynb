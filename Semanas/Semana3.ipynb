{
 "cells": [
  {
   "cell_type": "markdown",
   "metadata": {
    "id": "Lq4rX6kaTpr5"
   },
   "source": [
    "# Escribir/ imprimir en Python"
   ]
  },
  {
   "cell_type": "markdown",
   "metadata": {
    "id": "oBv8TcSpTpr5"
   },
   "source": [
    "## Mi primer programa en Python"
   ]
  },
  {
   "cell_type": "markdown",
   "metadata": {
    "id": "hsdlhlAmTpr5"
   },
   "source": [
    "Para escribir o imprimir  un mensaje (cadena de caracteres) en Python utilizamos el comando `print( )`,  encerrando  entre comillas simples ` '... ' `  o dobles `\"...\"` el mensaje, obteniendo el mismo resultado:"
   ]
  },
  {
   "cell_type": "code",
   "execution_count": null,
   "metadata": {
    "colab": {
     "base_uri": "https://localhost:8080/"
    },
    "executionInfo": {
     "elapsed": 169,
     "status": "ok",
     "timestamp": 1696354813922,
     "user": {
      "displayName": "PABLO JORGE HERNANDEZ HERNANDEZ",
      "userId": "08090470510402532817"
     },
     "user_tz": 360
    },
    "id": "i90YWS9gTpr6",
    "outputId": "4f81a278-9d56-40f6-a423-be255202caec"
   },
   "outputs": [],
   "source": [
    "print('¡Hola mundo!') #Utilizando comillas simples"
   ]
  },
  {
   "cell_type": "code",
   "execution_count": null,
   "metadata": {
    "colab": {
     "base_uri": "https://localhost:8080/"
    },
    "executionInfo": {
     "elapsed": 209,
     "status": "ok",
     "timestamp": 1696355395038,
     "user": {
      "displayName": "PABLO JORGE HERNANDEZ HERNANDEZ",
      "userId": "08090470510402532817"
     },
     "user_tz": 360
    },
    "id": "KXtugzZ3Tpr7",
    "outputId": "77841493-3287-442f-cb40-190839a82580"
   },
   "outputs": [],
   "source": [
    "print(\"¡Hola mundo cruel!\") #Utilizando comillas dobles"
   ]
  },
  {
   "cell_type": "markdown",
   "metadata": {
    "id": "p_5-0fKuTpr8"
   },
   "source": [
    "Si necesitas imprimir comillas simples o dobles dentro del mensaje, puedes combinarlas de la siguiente manera:"
   ]
  },
  {
   "cell_type": "code",
   "execution_count": null,
   "metadata": {
    "colab": {
     "base_uri": "https://localhost:8080/"
    },
    "executionInfo": {
     "elapsed": 176,
     "status": "ok",
     "timestamp": 1696354880988,
     "user": {
      "displayName": "PABLO JORGE HERNANDEZ HERNANDEZ",
      "userId": "08090470510402532817"
     },
     "user_tz": 360
    },
    "id": "eQNxBk0STpr8",
    "outputId": "16f2e661-a948-4031-ad38-9b84b74be154"
   },
   "outputs": [],
   "source": [
    "print('Le gusta que le digan \"Beto\" ') #Imprimiendo comillas dobles dentro de un mensaje."
   ]
  },
  {
   "cell_type": "code",
   "execution_count": null,
   "metadata": {
    "colab": {
     "base_uri": "https://localhost:8080/"
    },
    "executionInfo": {
     "elapsed": 208,
     "status": "ok",
     "timestamp": 1696354903534,
     "user": {
      "displayName": "PABLO JORGE HERNANDEZ HERNANDEZ",
      "userId": "08090470510402532817"
     },
     "user_tz": 360
    },
    "id": "9FPIjV5BTpr9",
    "outputId": "3e4a3ac4-e88d-4fd1-c5c6-3e03e2004414"
   },
   "outputs": [],
   "source": [
    "print(\"Le gusta que le digan 'Beto'\")"
   ]
  },
  {
   "cell_type": "code",
   "execution_count": null,
   "metadata": {},
   "outputs": [],
   "source": []
  },
  {
   "cell_type": "markdown",
   "metadata": {
    "id": "M6F4bMwJTpr9"
   },
   "source": [
    "O bien puedes utilizar `\\` para ***escapar comillas***:"
   ]
  },
  {
   "cell_type": "code",
   "execution_count": null,
   "metadata": {
    "colab": {
     "base_uri": "https://localhost:8080/"
    },
    "executionInfo": {
     "elapsed": 177,
     "status": "ok",
     "timestamp": 1696355600505,
     "user": {
      "displayName": "PABLO JORGE HERNANDEZ HERNANDEZ",
      "userId": "08090470510402532817"
     },
     "user_tz": 360
    },
    "id": "db8CltNfTpr9",
    "outputId": "7029edf4-1545-4545-a270-9b6aacf92ca5"
   },
   "outputs": [],
   "source": [
    "print(\"Le gusta que le digan \\\"Beto\\\" \")"
   ]
  },
  {
   "cell_type": "code",
   "execution_count": null,
   "metadata": {
    "colab": {
     "base_uri": "https://localhost:8080/"
    },
    "executionInfo": {
     "elapsed": 214,
     "status": "ok",
     "timestamp": 1696439661420,
     "user": {
      "displayName": "PABLO JORGE HERNANDEZ HERNANDEZ",
      "userId": "08090470510402532817"
     },
     "user_tz": 360
    },
    "id": "tXbMPPoLrjdQ",
    "outputId": "397d4401-4cb7-488d-dff1-a0968012f974"
   },
   "outputs": [],
   "source": [
    "print(\"Hola\",\"Juan\",100)"
   ]
  },
  {
   "cell_type": "markdown",
   "metadata": {
    "id": "lm3fUrjPTpr-"
   },
   "source": [
    "La instrucción `print( )` también trabaja con enteros."
   ]
  },
  {
   "cell_type": "code",
   "execution_count": null,
   "metadata": {
    "colab": {
     "base_uri": "https://localhost:8080/"
    },
    "executionInfo": {
     "elapsed": 242,
     "status": "ok",
     "timestamp": 1696355625510,
     "user": {
      "displayName": "PABLO JORGE HERNANDEZ HERNANDEZ",
      "userId": "08090470510402532817"
     },
     "user_tz": 360
    },
    "id": "rRYayZyHTpr-",
    "outputId": "4773dd43-b8dc-44f3-9766-3c5257d20f0c"
   },
   "outputs": [],
   "source": [
    "print(100)"
   ]
  },
  {
   "cell_type": "markdown",
   "metadata": {
    "id": "q2_ouWHmTpr_"
   },
   "source": [
    "#### **Observación:**\n",
    "\n",
    "Cuando se escribe un número grande podríamos estar tentados a usar comas para separar grupos de tres dígitos, como en $1,000,000$. Esto no es un número entero válido en Python, pero sí es aceptado en una sentencia `print()` como:\n"
   ]
  },
  {
   "cell_type": "code",
   "execution_count": null,
   "metadata": {
    "colab": {
     "base_uri": "https://localhost:8080/"
    },
    "executionInfo": {
     "elapsed": 14,
     "status": "ok",
     "timestamp": 1696355688295,
     "user": {
      "displayName": "PABLO JORGE HERNANDEZ HERNANDEZ",
      "userId": "08090470510402532817"
     },
     "user_tz": 360
    },
    "id": "HV9lMBLpTpsA",
    "outputId": "e526bac5-e928-4766-9051-6935c0e75b52"
   },
   "outputs": [],
   "source": [
    "print (1,100,0001,000)"
   ]
  },
  {
   "cell_type": "markdown",
   "metadata": {
    "id": "oymDE9RLTpsB"
   },
   "source": [
    "## Saltos de línea en Python"
   ]
  },
  {
   "cell_type": "code",
   "execution_count": null,
   "metadata": {
    "colab": {
     "base_uri": "https://localhost:8080/"
    },
    "executionInfo": {
     "elapsed": 246,
     "status": "ok",
     "timestamp": 1696355769281,
     "user": {
      "displayName": "PABLO JORGE HERNANDEZ HERNANDEZ",
      "userId": "08090470510402532817"
     },
     "user_tz": 360
    },
    "id": "yo5B2w9yTpsC",
    "outputId": "3619441e-ecd5-42ea-879d-3791be327c16"
   },
   "outputs": [],
   "source": [
    "print(\"Primera linea de texto\\n\\nSegunda linea de texto\")\n"
   ]
  },
  {
   "cell_type": "markdown",
   "metadata": {
    "id": "88XCC2aGTpsC"
   },
   "source": [
    "**Observacíon:** La función `print()` produce una salida más legible, omitiendo las comillas que la encierran e imprimiendo caracteres especiales y escapados:"
   ]
  },
  {
   "cell_type": "markdown",
   "metadata": {
    "id": "wnvbrkNCTpsD"
   },
   "source": [
    "**Si no quieres que los caracteres precedidos por**  `\\` **se interpreten como caracteres especiales**, puedes usar cadenas sin formato agregando una `r` antes de la primera comilla:"
   ]
  },
  {
   "cell_type": "code",
   "execution_count": null,
   "metadata": {
    "colab": {
     "base_uri": "https://localhost:8080/"
    },
    "executionInfo": {
     "elapsed": 166,
     "status": "ok",
     "timestamp": 1696355827680,
     "user": {
      "displayName": "PABLO JORGE HERNANDEZ HERNANDEZ",
      "userId": "08090470510402532817"
     },
     "user_tz": 360
    },
    "id": "dvgdcLMWTpsD",
    "outputId": "5d2f2286-d194-4505-851d-18241f77070e"
   },
   "outputs": [],
   "source": [
    "print('C:\\name')\n",
    "print(r'C:\\name')"
   ]
  },
  {
   "cell_type": "markdown",
   "metadata": {
    "id": "uJo-ksJqTpsE"
   },
   "source": [
    "## ¿Cómo evitarlos  saltos de linea en python?"
   ]
  },
  {
   "cell_type": "markdown",
   "metadata": {
    "id": "36ZM30YFTpsE"
   },
   "source": [
    "Para **evitar los saltos de línea en Python** usando la función `print()`: La función `print()` en Python tiene un parámetro opcional llamado `end` que se utiliza para **especificar el carácter de final de línea que se debe imprimir**. El valor por defecto es `\\n`, que indica un salto de línea. Para evitar el salto de línea, simplemente se debe establecer el valor de `end` como una cadena vacía, como se muestra a continuación:"
   ]
  },
  {
   "cell_type": "code",
   "execution_count": null,
   "metadata": {
    "colab": {
     "base_uri": "https://localhost:8080/"
    },
    "executionInfo": {
     "elapsed": 191,
     "status": "ok",
     "timestamp": 1696355904352,
     "user": {
      "displayName": "PABLO JORGE HERNANDEZ HERNANDEZ",
      "userId": "08090470510402532817"
     },
     "user_tz": 360
    },
    "id": "zdqCrDKmTpsF",
    "outputId": "59573a61-65e4-4e9c-83a4-5a992374e053"
   },
   "outputs": [],
   "source": [
    "print(\"Hola\", end=\" \")\n",
    "print(\"Pablo\")"
   ]
  },
  {
   "cell_type": "code",
   "execution_count": null,
   "metadata": {
    "colab": {
     "base_uri": "https://localhost:8080/"
    },
    "executionInfo": {
     "elapsed": 176,
     "status": "ok",
     "timestamp": 1696439872092,
     "user": {
      "displayName": "PABLO JORGE HERNANDEZ HERNANDEZ",
      "userId": "08090470510402532817"
     },
     "user_tz": 360
    },
    "id": "Z_TQ7BHZr7ef",
    "outputId": "ec398c87-adae-48da-9aea-4facb85ea6d9"
   },
   "outputs": [],
   "source": [
    "print(\"Juan\", end=\"#\")\n",
    "print(\"Paco\", end=\"%\")\n",
    "print(\"Hernandez\", end=\"-\")\n",
    "print(\"Paco\", end=\".\")\n"
   ]
  },
  {
   "cell_type": "markdown",
   "metadata": {
    "id": "uBccQJsxTpsG"
   },
   "source": [
    "## Imprimir  múltiples líneas"
   ]
  },
  {
   "cell_type": "markdown",
   "metadata": {
    "id": "ZqefdYEmTpsG"
   },
   "source": [
    "**Las cadenas de texto literales pueden contener múltiples líneas**. Una forma es usar triples comillas:\n",
    "`\"\"\". . .\"\"\"` o `'''. . .'''`. Los fin de línea son incluidos automáticamente, pero es posible prevenir esto agregando una `\\` al final de la línea. Por ejemplo:"
   ]
  },
  {
   "cell_type": "code",
   "execution_count": null,
   "metadata": {
    "colab": {
     "base_uri": "https://localhost:8080/"
    },
    "executionInfo": {
     "elapsed": 200,
     "status": "ok",
     "timestamp": 1696440299978,
     "user": {
      "displayName": "PABLO JORGE HERNANDEZ HERNANDEZ",
      "userId": "08090470510402532817"
     },
     "user_tz": 360
    },
    "id": "OT4wnI4aTpsG",
    "outputId": "ba039e96-c20f-428a-872f-8fae50b15435"
   },
   "outputs": [],
   "source": [
    "print(\"\"\"\\\n",
    "Primera linea\\\n",
    "segunda linea\\\n",
    "tercera linea\\\n",
    "\"\"\")"
   ]
  },
  {
   "cell_type": "markdown",
   "metadata": {
    "id": "T03rwZyiTpsH"
   },
   "source": [
    "El comando `print( )` también funciona con variables. Puedes utilizar el comando `print( )` para imprimir el valor de una variable:"
   ]
  },
  {
   "cell_type": "code",
   "execution_count": null,
   "metadata": {
    "colab": {
     "base_uri": "https://localhost:8080/"
    },
    "executionInfo": {
     "elapsed": 187,
     "status": "ok",
     "timestamp": 1696440358956,
     "user": {
      "displayName": "PABLO JORGE HERNANDEZ HERNANDEZ",
      "userId": "08090470510402532817"
     },
     "user_tz": 360
    },
    "id": "OxdP0AnJTpsH",
    "outputId": "569a8bcd-7e02-4e89-ae24-148d1b5a9c43"
   },
   "outputs": [],
   "source": [
    "x = 50  # asignamos a la variable x el valor 50\n",
    "print(x)"
   ]
  },
  {
   "cell_type": "markdown",
   "metadata": {
    "id": "eTAGBeHiTpsH"
   },
   "source": [
    "También puedes imprimir un mensaje para acompañar el valor de la variable:"
   ]
  },
  {
   "cell_type": "code",
   "execution_count": null,
   "metadata": {
    "colab": {
     "base_uri": "https://localhost:8080/"
    },
    "executionInfo": {
     "elapsed": 207,
     "status": "ok",
     "timestamp": 1696440382112,
     "user": {
      "displayName": "PABLO JORGE HERNANDEZ HERNANDEZ",
      "userId": "08090470510402532817"
     },
     "user_tz": 360
    },
    "id": "0qx_AHjZTpsI",
    "outputId": "51632b83-6e6a-4c41-d238-89265d4fb739"
   },
   "outputs": [],
   "source": [
    "print('El valor de la variable x es: ', x)"
   ]
  },
  {
   "cell_type": "markdown",
   "metadata": {
    "id": "AtvTIOgKTpsI"
   },
   "source": [
    "# Uso del punto y coma en Python"
   ]
  },
  {
   "cell_type": "markdown",
   "metadata": {
    "id": "jbIMD9q0TpsI"
   },
   "source": [
    "El **punto y coma**  `;` permite escribir distintas instrucciones en una misma línea. Por ejemplo, puedes asignar valores a distintas variables en una sóla linea utilizando `;` para separar cada asignación:"
   ]
  },
  {
   "cell_type": "code",
   "execution_count": null,
   "metadata": {
    "colab": {
     "base_uri": "https://localhost:8080/"
    },
    "executionInfo": {
     "elapsed": 173,
     "status": "ok",
     "timestamp": 1696440529617,
     "user": {
      "displayName": "PABLO JORGE HERNANDEZ HERNANDEZ",
      "userId": "08090470510402532817"
     },
     "user_tz": 360
    },
    "id": "LVKx7_djTpsJ",
    "outputId": "2ec4e5f1-0f45-4755-c43d-977893394e8a"
   },
   "outputs": [],
   "source": [
    "x=3; y=2; z=5; print(x+y+z)"
   ]
  },
  {
   "cell_type": "code",
   "execution_count": null,
   "metadata": {
    "colab": {
     "base_uri": "https://localhost:8080/"
    },
    "executionInfo": {
     "elapsed": 212,
     "status": "ok",
     "timestamp": 1696440590628,
     "user": {
      "displayName": "PABLO JORGE HERNANDEZ HERNANDEZ",
      "userId": "08090470510402532817"
     },
     "user_tz": 360
    },
    "id": "95aPrYIZTpsJ",
    "outputId": "ec576340-165b-4bef-ba52-ddba14dee14d"
   },
   "outputs": [],
   "source": [
    "print(\"Hola\"); print(\"Mundo\");"
   ]
  },
  {
   "cell_type": "markdown",
   "metadata": {
    "id": "0W6_oKH2TpsK"
   },
   "source": [
    "**Observaciòn:** Terminar las líneas con un punto y coma, si bien no es necesario, no genera ningún error:"
   ]
  },
  {
   "cell_type": "code",
   "execution_count": null,
   "metadata": {
    "id": "nA3MkdiPTpsK"
   },
   "outputs": [],
   "source": [
    "print(\"Hola\"); # Terminar una instrucción con ; no es necesario pero tampoco produce un error."
   ]
  },
  {
   "cell_type": "markdown",
   "metadata": {},
   "source": [
    "# Variables en Python"
   ]
  },
  {
   "cell_type": "markdown",
   "metadata": {},
   "source": [
    "## Declaración (asignación) de variables en Python \n",
    "\n",
    "La declararación de  una variable es increíblemente simple en Python. Las **variables** son una forma de almacenar un dato y son una parte fundamental de Python, como lo son en cualquier lenguaje de programación. Las variables tienen dos componentes, el ***nombre*** o ***identificador*** y su ***valor***. "
   ]
  },
  {
   "cell_type": "code",
   "execution_count": null,
   "metadata": {},
   "outputs": [],
   "source": [
    "x = 1 # Declaración de la variable x \n",
    "y = \"Esto es una cadena de caracteres\" # Declaración de la variable y\n",
    "print(x)\n",
    "print(y)"
   ]
  },
  {
   "cell_type": "markdown",
   "metadata": {},
   "source": [
    "Las variables en Python se crean simplemente asignando (estableciendo) sus valores, eso es todo,  no hay más que hacer. De esta manera a diferencia de otros lenguajes de programación, **no es necesario especificar el tipo de dato de  la  variable**, ***se realiza automáticamente***, Python detecta que tipo de dato es el que se esta almacenando."
   ]
  },
  {
   "cell_type": "markdown",
   "metadata": {},
   "source": [
    "## Reglas de nomenclatura para variables en Python"
   ]
  },
  {
   "cell_type": "markdown",
   "metadata": {},
   "source": [
    "Los programadores generalmente escogemos **nombres significativos para las variables** (que especifican para qué se usa o que dato almacena la variable).\n",
    "\n",
    "Los nombres de variables pueden ser ***arbitrariamente largos***. Pueden ***contener letras y números, pero tienen que empezar con una letra***. Aunque es permitido usar letras mayúsculas, por convención no lo haremos. Si lo hacemos, recuerda que las letras mayúsculas importan, los identificadores `Variable` y `variable` denotan variables diferentes."
   ]
  },
  {
   "cell_type": "markdown",
   "metadata": {},
   "source": [
    "\n",
    "Estas son algunas **buenas reglas para nombres válidos de variables en Python** :\n",
    "\n",
    "* El nombre de la variable debe ***comenzar con una letra minuscula.***\n",
    "\n",
    "* El nombre de la variable no puede ***comenzar con un número o símbolo.***\n",
    "\n",
    "* Dentro del  nombre de la variable, sólo puede contener ***caracteres alfanuméricos***, con la única excepción de los guiones bajos que a menudo se usa en nombres con múltiples palabras, tales como: `umar_huatulco`"
   ]
  },
  {
   "cell_type": "markdown",
   "metadata": {},
   "source": [
    "Bajo estas reglas, enseguida se muestran  algunos ejemplos de **nombres de variables  válidos de Python**:"
   ]
  },
  {
   "cell_type": "code",
   "execution_count": null,
   "metadata": {},
   "outputs": [],
   "source": [
    "variable=1\n",
    "Variable='a'\n",
    "variable_1='e' \n",
    "_variable_=10"
   ]
  },
  {
   "cell_type": "markdown",
   "metadata": {},
   "source": [
    "Enseguida se muestran algunos  ejemplos de ***nombres de variables de Python no válidos***:"
   ]
  },
  {
   "cell_type": "code",
   "execution_count": null,
   "metadata": {},
   "outputs": [],
   "source": [
    "0variable=9\n",
    "&variable=0\n",
    "%variable_1=6\n",
    "$variable_ = 3"
   ]
  },
  {
   "cell_type": "markdown",
   "metadata": {},
   "source": [
    "#### **Observación** \n",
    "\n",
    "Es muy importante tener en cuenta que Python distingue mayúsculas de minúsculas, así que `Variable` es un identificador y `variable` es otro identificador."
   ]
  },
  {
   "cell_type": "markdown",
   "metadata": {},
   "source": [
    "## Palabras reservadas en Python "
   ]
  },
  {
   "cell_type": "markdown",
   "metadata": {},
   "source": [
    "Python **reserva $31$ palabras** para describir la estructura del programa, y **no permite que se usen como identificadores** (nombres de variables). Cuando en un programa nos encontramos con que un nombre no es admitido pese a que su formato es válido, seguramente se trata de una de las palabras de esta lista, a la que llamaremos de **palabras reservadas**. A continuación se presenta una  lista completa de las palabras reservadas de Python:"
   ]
  },
  {
   "cell_type": "markdown",
   "metadata": {},
   "source": [
    "<pre>\n",
    "<b>\n",
    "and             del             from            not             while\n",
    "as              elif            global          or              with\n",
    "assert          else            if              pass            yield\n",
    "break           except          import          print\n",
    "class           exec            in              raise\n",
    "continue        finally         is              return\n",
    "def             for             lambda          try\n",
    "</b>\n",
    "</pre>"
   ]
  },
  {
   "cell_type": "markdown",
   "metadata": {},
   "source": [
    "# Operadores, expresiones y sentencias en Python"
   ]
  },
  {
   "cell_type": "markdown",
   "metadata": {},
   "source": [
    "En Python es importante distinguir  entre ***operadores***, ***expresiones*** y ***sentencias***, ya que son las formas básicas que componen la estructura de cualquier programa."
   ]
  },
  {
   "cell_type": "markdown",
   "metadata": {},
   "source": [
    "## Operadores"
   ]
  },
  {
   "cell_type": "markdown",
   "metadata": {},
   "source": [
    "En Python, los ***operadores*** son **simbolos especiales que actuan sobre una, dos o más variables y/o literales para  realizar cálculos y comparaciones** en *expresiones*. Algunos de los operadores más comunes en Python son:\n",
    "\n",
    "* **Aritméticos**:   `+`,  `-`,  `*` , `/` , `%` (*módulo*), `//` (*división entera*), `**` (potencia)\n",
    "\n",
    "* **Asignación**:  `=`, `+=`, `-=`, `*=`, `/=`, `%=`, `//=`, `**=`\n",
    "\n",
    "* **Comparación**:  `==`, `!=`, `<`,` >`,` <=`,` >=`\n",
    "\n",
    "* **Lógicos**:  `and`, `or`, `not`\n",
    "\n",
    "* **Pertenencia**:  `in`, `not in`\n",
    "\n",
    "* **Identidad**:  `is`, `is not`\n",
    "\n",
    "Los operadores se utilizan para crear *expresiones* que se evalúan obteniendo valores booleanos, números, cadenas de texto, etc. \n",
    "\n",
    "Por ejemplo, `2 + 3` es una expresión que utiliza el operador de *suma* `+` para calcular el valor `5`."
   ]
  },
  {
   "cell_type": "markdown",
   "metadata": {},
   "source": [
    "## Expresiones"
   ]
  },
  {
   "cell_type": "markdown",
   "metadata": {},
   "source": [
    "En Python, una ***expresión*** es una **secuencia de *valores*, *variables* y *operadores* que produce un resultado cuando se evalúa**. Las expresiones pueden ser muy simples, como un número o una variable, o más complejas, combinando varios valores y operadores. Los siguientes son ejemplos de expresiones en Python:"
   ]
  },
  {
   "cell_type": "code",
   "execution_count": null,
   "metadata": {},
   "outputs": [],
   "source": [
    "2 + 3 #suma de dos números."
   ]
  },
  {
   "cell_type": "code",
   "execution_count": null,
   "metadata": {},
   "outputs": [],
   "source": [
    "cadena = \"hola\" + \" mundo\" # concatenación de dos cadenas de texto.\n",
    "print(cadena)"
   ]
  },
  {
   "cell_type": "code",
   "execution_count": null,
   "metadata": {},
   "outputs": [],
   "source": [
    "\n",
    "8 // 3 # división entera de dos números."
   ]
  },
  {
   "cell_type": "code",
   "execution_count": null,
   "metadata": {},
   "outputs": [],
   "source": [
    "len(\"hola  mundo\")  # invoca a una función que devuelve el número de caracteres en una cadena."
   ]
  },
  {
   "cell_type": "markdown",
   "metadata": {},
   "source": [
    "En Python, las expresiones se utilizan en muchos lugares, como en *asignaciones de variables*, en *argumentos de funciones*, en  *condicionales*, etc."
   ]
  },
  {
   "cell_type": "markdown",
   "metadata": {},
   "source": [
    "### Evaluar vs mostrar el valor de una expresión"
   ]
  },
  {
   "cell_type": "markdown",
   "metadata": {},
   "source": [
    "La **evaluación de una expresión** produce un valor, esta es la razón por la que las expresiones pueden aparecer en el lado derecho de las sentencias de asignación. Un valor, por si mismo, se considera como una expresión, lo mismo ocurre para las variables."
   ]
  },
  {
   "cell_type": "code",
   "execution_count": null,
   "metadata": {},
   "outputs": [],
   "source": [
    "32"
   ]
  },
  {
   "cell_type": "code",
   "execution_count": null,
   "metadata": {},
   "outputs": [],
   "source": [
    "x=2\n",
    "x"
   ]
  },
  {
   "cell_type": "markdown",
   "metadata": {},
   "source": [
    "Aunque es un poco confuso, **evaluar una expresión NO es lo mismo que mostrar un valor**."
   ]
  },
  {
   "cell_type": "code",
   "execution_count": null,
   "metadata": {},
   "outputs": [],
   "source": [
    "mensaje = \"Saber matemáticas es sexy ;)\"\n",
    "mensaje #Se evalua la expresión "
   ]
  },
  {
   "cell_type": "code",
   "execution_count": null,
   "metadata": {},
   "outputs": [],
   "source": [
    "print (mensaje) #Aquí mostramos el valor de la expresión"
   ]
  },
  {
   "cell_type": "markdown",
   "metadata": {},
   "source": [
    "Cuando el interprete  de Python muestra el valor de una expresión que ha evaluado, usa el mismo formato que se usaría para introducir un valor. En el caso de las cadenas, esto implicaría que se incluyen las comillas. Pero la sentencia `print` despliega el valor de la expresión que, en este caso, es el contenido de la cadena."
   ]
  },
  {
   "cell_type": "markdown",
   "metadata": {},
   "source": [
    "## Sentencias"
   ]
  },
  {
   "cell_type": "markdown",
   "metadata": {},
   "source": [
    "En Python, una **sentencia** o **declaración** es una instrucción que **representa una acción o una operación que se debe realizar**. Una sentencia puede estar **formada por una o varias *expresiones***, aunque no siempre es así. Algunos de los tipos más comunes de sentencias en Python son:\n",
    "\n",
    "* ***Asignación***: asigna un valor a una variable: `x = 10`\n",
    "\n",
    "* ***Condicionales***: ejecutan un bloque de código solo si se cumple una condición: `if x > 0: print(\"x es positivo\")`\n",
    "\n",
    "* ***Bucles***: ejecutan un bloque de código repetidas veces: `for i in range(10): print(i)`\n",
    "\n",
    "* ***Funciones***: definen un bloque de código que se puede ejecutar varias veces: `def sumar(a, b): return a + b`\n",
    "\n",
    "* ***Importaciones***: importan módulos o paquetes externos para usarlos en el código:` import math`\n",
    "\n",
    "* ***Clases***: definen un tipo de objeto que se puede crear y utilizar en el código: `class Auto: pass`\n",
    "\n",
    "Las sentencias en Python son ejecutadas secuencialmente, de arriba a abajo, en el orden en que aparecen en el código. Cada sentencia debe terminar con un ***salto de línea*** (`\\n`) o con un *punto y coma* (`;`), aunque en Python generalmente se utiliza un salto de línea para separar sentencias. "
   ]
  },
  {
   "cell_type": "markdown",
   "metadata": {},
   "source": [
    "Las sentencias son las instrucciones que componen los programas  y determinan su comportamiento."
   ]
  },
  {
   "cell_type": "markdown",
   "metadata": {},
   "source": [
    "### Sentencias de más de una línea en Python\n"
   ]
  },
  {
   "cell_type": "markdown",
   "metadata": {},
   "source": [
    "En Python usualmente, las sentencias ocupan una sola línea. Por ejemplo:"
   ]
  },
  {
   "cell_type": "code",
   "execution_count": null,
   "metadata": {},
   "outputs": [],
   "source": [
    "a=2+3"
   ]
  },
  {
   "cell_type": "markdown",
   "metadata": {},
   "source": [
    "Sin embargo, algunas  sentencias  son muy largas y pueden  ocupar más de una línea. Para **dividir una sentencia en varias líneas** se utiliza el carácter **`\\`**:"
   ]
  },
  {
   "cell_type": "code",
   "execution_count": null,
   "metadata": {},
   "outputs": [],
   "source": [
    "a = 1 + 2 + 3 + \\\n",
    "    4 + 5 + 6 + \\\n",
    "    7\n",
    "a"
   ]
  },
  {
   "cell_type": "markdown",
   "metadata": {},
   "source": [
    "Además, de la separación explícita (la que se realiza con el carácter `\\`), en Python la continuación de línea es implícita siempre y cuando la expresión vaya dentro de los caracteres `( )`, `[ ]` y `{ }`."
   ]
  },
  {
   "cell_type": "markdown",
   "metadata": {},
   "source": [
    "Por ejemplo, podemos inicializar una lista del siguiente modo:"
   ]
  },
  {
   "cell_type": "code",
   "execution_count": null,
   "metadata": {},
   "outputs": [],
   "source": [
    "a = [1, 2, 7,\n",
    "     3, 8, 4,\n",
    "     9]"
   ]
  },
  {
   "cell_type": "markdown",
   "metadata": {},
   "source": [
    "# Bloques de código (Identación)"
   ]
  },
  {
   "cell_type": "markdown",
   "metadata": {},
   "source": [
    "El **sangrado** o **indentación** consiste en mover un bloque de texto hacia la derecha insertando espacios o tabuladores al principio de la línea, dejando un margen a la izquierda. Un **bloque de código comienza con un nuevo sangrado y acaba con la primera línea cuyo sangrado sea menor**. "
   ]
  },
  {
   "cell_type": "markdown",
   "metadata": {},
   "source": [
    "En Python, un **bloque de código** es un conjunto de instrucciones que se ejecutan juntas como una unidad. Los bloques de código **se delimitan mediante indentación** y generalmente se utilizan para **agrupar instrucciones dentro de *funciones*, *bucles*, *condicionales***, entre otros. Por ejemplo:"
   ]
  },
  {
   "cell_type": "code",
   "execution_count": null,
   "metadata": {},
   "outputs": [],
   "source": [
    "x=2 \n",
    "if x > 0:\n",
    "    print(\"x es un número positivo y su valor es:\",x)\n",
    "    x = x - 1\n",
    "print('El valor de x es:',x)"
   ]
  },
  {
   "cell_type": "markdown",
   "metadata": {},
   "source": [
    "En este ejemplo, el bloque de código dentro del `if` está delimitado por la indentación de las líneas `print` y `x = x - 1`. Estas líneas se ejecutarán juntas si la condición `x > 0` se cumple. Observa que **no fue necesario indicar el fin de la instrucción `If`, ni el uso de corchetes** como en otros lenguajes de programación."
   ]
  },
  {
   "cell_type": "code",
   "execution_count": null,
   "metadata": {},
   "outputs": [],
   "source": [
    "x=-2 \n",
    "if x > 0:\n",
    "    print(\"x es un número positivo y su valor es:\",x)\n",
    "    x = x - 1\n",
    "print('El valor de x es:',x)"
   ]
  },
  {
   "cell_type": "markdown",
   "metadata": {},
   "source": [
    "Por otro lado, observemos que el código siguiente nos genera un error de sintaxis. "
   ]
  },
  {
   "cell_type": "code",
   "execution_count": null,
   "metadata": {},
   "outputs": [],
   "source": [
    "x=-1\n",
    "if x>0:\n",
    "    print(\"x es positivo\")\n",
    "elif x<0:\n",
    "    print(\"x es negativo\")\n",
    "else:\n",
    "    print('x es cero')"
   ]
  },
  {
   "cell_type": "markdown",
   "metadata": {},
   "source": [
    "Por lo tanto, el código en Python **debe estar perfectamente identado** o de lo contrario no se ejecutará o se ejecutará en una forma no deseada."
   ]
  },
  {
   "cell_type": "code",
   "execution_count": null,
   "metadata": {},
   "outputs": [],
   "source": [
    "x=-2\n",
    "if x > 0:\n",
    "    print(\"x es un número positivo\")\n",
    "    x = x - 1\n",
    "print('El valor actual de x es',x)"
   ]
  },
  {
   "cell_type": "markdown",
   "metadata": {},
   "source": [
    "#### **Observación:**\n",
    "\n",
    "De nuevo, la guía de estilo de Python **recomienda usar los espacios en lugar de las tabulaciones** para realizar el sangrado **se suelen utilizar $4$ espacios**."
   ]
  },
  {
   "cell_type": "markdown",
   "metadata": {},
   "source": [
    "# Comentarios en Python"
   ]
  },
  {
   "cell_type": "markdown",
   "metadata": {},
   "source": [
    "Los **comentarios en Python comienzan con `#`** y lo que le sigue es el comentario en sí. "
   ]
  },
  {
   "cell_type": "code",
   "execution_count": null,
   "metadata": {},
   "outputs": [],
   "source": [
    "print(\"¡Hola mundo!\") # Comentando una instrucción."
   ]
  },
  {
   "cell_type": "markdown",
   "metadata": {},
   "source": [
    " Para escribir **comentarios que ocupan varias líneas**, simplemente escribe cada una de las líneas anteponiendo el carácter `#`:"
   ]
  },
  {
   "cell_type": "code",
   "execution_count": null,
   "metadata": {},
   "outputs": [],
   "source": [
    "# Primera linea de  comentario \n",
    "# Segunda  linea de  comentario \n",
    "# Como puede ver, en Python puedes agregar comentarios  de varias lineas utilizando el simbolo: #  \n",
    "\n",
    "print(\"¡Hola mundo!\") "
   ]
  },
  {
   "cell_type": "markdown",
   "metadata": {},
   "source": [
    "También puedes **escribir un comentario en varias líneas** si lo encierras entre tres comillas simples **`'''`** o dobles **`\"\"\"`**"
   ]
  },
  {
   "cell_type": "code",
   "execution_count": null,
   "metadata": {},
   "outputs": [],
   "source": [
    "a = 2\n",
    "'''Este comentario\n",
    "también ocupa 2 líneas'''\n",
    "print(a)"
   ]
  },
  {
   "cell_type": "markdown",
   "metadata": {},
   "source": [
    "# Docstrings"
   ]
  },
  {
   "cell_type": "markdown",
   "metadata": {},
   "source": [
    "Los **docstrings** son un tipo de comentarios especiales que se usan para documentar un *módulo*, *función*, *clase* o *método*. En realidad son la primera sentencia de cada uno de ellos y se encierran entre tres comillas simples o dobles. Los docstrings son utilizados para generar la **documentación de un programa**  al programador de forma fácil e intuitiva.\n",
    "\n",
    "Veámoslo con un ejemplo:"
   ]
  },
  {
   "cell_type": "code",
   "execution_count": null,
   "metadata": {},
   "outputs": [],
   "source": [
    "def suma(a, b):\n",
    "    \"\"\"Esta función devuelve la suma de los parámetros a y b\"\"\"\n",
    "    return a + b"
   ]
  },
  {
   "cell_type": "markdown",
   "metadata": {},
   "source": [
    "#### **MUY IMPORTANTE** \n",
    "No te preocupes si no entiendes totalmente lo que  hacen cada uno de los elementos y estructuras en los  ejemplos anteriores, profundizaremos en ellos más adelante. \n",
    "<!-- Por el momento es  importante que comprendas e identifiques los conceptos de *Operador*, *Expresión*,  *Sentencia* y *bloques de código*. -->"
   ]
  },
  {
   "cell_type": "markdown",
   "metadata": {},
   "source": [
    "# Leer en Python"
   ]
  },
  {
   "cell_type": "markdown",
   "metadata": {},
   "source": [
    "## Función `input( )`"
   ]
  },
  {
   "cell_type": "markdown",
   "metadata": {},
   "source": [
    "La **función `input()`** en Python es una función integrada que se utiliza para leer una línea de entrada desde la consola o la entrada estándar del sistema. Esta función **toma una cadena como argumento**, que se utiliza para mostrar un mensaje o una indicación al usuario sobre lo que se espera que ingrese. La función `input()` espera hasta que el usuario ingrese una línea de texto y presione la tecla `Enter`. Luego, **devuelve el texto ingresado por el usuario como una cadena**.\n",
    "\n",
    "Por ejemplo, para leer el nombre del usuario y mostrar un saludo, se puede hacer lo siguiente:"
   ]
  },
  {
   "cell_type": "code",
   "execution_count": null,
   "metadata": {},
   "outputs": [],
   "source": [
    "nombre = input(\"Ingrese su nombre: \") # Solicita, lee y almacena una cadena de caracteres en la variable nombre.\n",
    "print(\"¡Hola, \" + nombre + \"!\")"
   ]
  },
  {
   "cell_type": "markdown",
   "metadata": {},
   "source": [
    "El el código anterior la función `input( )` muestra un mensaje solicitando  al usuario que ingrese su nombre. Luego, el nombre ingresado se guarda en la variable `nombre`. Finalmente, se muestra un mensaje de saludo utilizando el valor de nombre."
   ]
  },
  {
   "cell_type": "markdown",
   "metadata": {},
   "source": [
    "#### **Nota:**\n",
    "\n",
    "**En el contexto de la función input() de Python**, el prompt es el mensaje que se muestra al usuario antes de que se espere que ingrese una entrada de texto. El prompt se proporciona como un argumento a la función `input( )`, y se muestra al usuario como una indicación de lo que se espera que ingrese. Por ejemplo, el código anterior  se muestra un prompt que le pide al usuario que ingrese su nombre."
   ]
  },
  {
   "cell_type": "code",
   "execution_count": null,
   "metadata": {},
   "outputs": [],
   "source": [
    "w = input('Dame un número entero') # Solicita y lee  número entero y lo almacena en la variable  x\n",
    "w"
   ]
  },
  {
   "cell_type": "code",
   "execution_count": null,
   "metadata": {},
   "outputs": [],
   "source": [
    "print(type(w))"
   ]
  },
  {
   "cell_type": "code",
   "execution_count": null,
   "metadata": {},
   "outputs": [],
   "source": [
    "print(w)"
   ]
  },
  {
   "cell_type": "markdown",
   "metadata": {},
   "source": [
    "#### Combinación con las funciones `int( )`, `float()`"
   ]
  },
  {
   "cell_type": "markdown",
   "metadata": {},
   "source": [
    "La **función `input( )` en Python siempre devuelve una cadena** incluso si el usuario ingresó un número. Si necesita realizar operaciones numéricas con la entrada del usuario, es posible que deba **convertir la cadena en un tipo de datos numérico** utilizando la función **`int( )`** o **`float( )`**, según corresponda. Por ejemplo:"
   ]
  },
  {
   "cell_type": "code",
   "execution_count": null,
   "metadata": {},
   "outputs": [],
   "source": [
    "numero1 = float(input(\"Ingrese el primer número: \"))\n",
    "numero2 =float(input(\"Ingrese el segundo número: \"))\n",
    "resultado = numero1 + numero2\n",
    "print(\"La suma es:\", resultado)\n"
   ]
  },
  {
   "cell_type": "code",
   "execution_count": null,
   "metadata": {},
   "outputs": [],
   "source": [
    "a = float(input()) # Leer un número real y lo almacena en la variable a. "
   ]
  }
 ],
 "metadata": {
  "colab": {
   "provenance": []
  },
  "kernelspec": {
   "display_name": "Python 3",
   "language": "python",
   "name": "python3"
  },
  "language_info": {
   "codemirror_mode": {
    "name": "ipython",
    "version": 3
   },
   "file_extension": ".py",
   "mimetype": "text/x-python",
   "name": "python",
   "nbconvert_exporter": "python",
   "pygments_lexer": "ipython3",
   "version": "3.12.3"
  },
  "orig_nbformat": 4,
  "vscode": {
   "interpreter": {
    "hash": "1606ed296fe21ab67c1d4b49f3f22d72247524c93f58d404930dbd4d15d6017c"
   }
  }
 },
 "nbformat": 4,
 "nbformat_minor": 0
}
