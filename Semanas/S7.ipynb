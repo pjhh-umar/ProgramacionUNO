{
 "cells": [
  {
   "attachments": {},
   "cell_type": "markdown",
   "metadata": {},
   "source": [
    "# Funciones en Python"
   ]
  },
  {
   "attachments": {},
   "cell_type": "markdown",
   "metadata": {},
   "source": [
    "Las funciones en Python constituyen unidades lógicas de un programa y en general tienen un doble objetivo:\n",
    "\n",
    "* Dividir y organizar el código en partes más sencillas.\n",
    "\n",
    "* *Encapsular* el código que se repite a lo largo de un programa para ser reutilizado."
   ]
  },
  {
   "attachments": {},
   "cell_type": "markdown",
   "metadata": {},
   "source": [
    "Python cuenta con **funciones predefinidas**  que podemos utilizar directamente en nuestras programas. Por ejemplo, la función `len( )`, que obtiene el número de elementos de un *objeto contenedor* como una lista, una tupla, un diccionario o un conjunto. También hemos visto la función `print( )`.\n",
    "\n",
    "Sin embargo, **es posible  definir  funciones propias** para estructurar el código de manera que sea más legible y para reutilizar aquellas partes que se repiten a lo largo de una aplicación."
   ]
  },
  {
   "attachments": {},
   "cell_type": "markdown",
   "metadata": {},
   "source": [
    "Un **programa** es una secuencia ordenada de instrucciones que se ejecutan una a continuación de la otra. Sin embargo, cuando se utilizan funciones, puedes agrupar parte de esas instrucciones como una unidad más pequeña que ejecuta dichas instrucciones y suele devolver un resultado."
   ]
  },
  {
   "attachments": {},
   "cell_type": "markdown",
   "metadata": {},
   "source": [
    "## Cómo definir una función en Python"
   ]
  },
  {
   "attachments": {},
   "cell_type": "markdown",
   "metadata": {},
   "source": [
    "Una función en Python tiene la siguiente estructura:\n",
    "\n",
    "* Un **encabezado**: Empieza con la palabra reservada `def`. A continuación viene el ***nombre*** o ***identificador*** de la función que es el que se utiliza para invocarla. Después del nombre hay que colocar los paréntesis y una *lista opcional* de ***parámetros*** que  puede estar vacía o contener un sinnúmero de parámetros. En cualquier caso los paréntesis se requieren. Por último, la *cabecera* o *definición* de la función termina con dos puntos. \n",
    "\n",
    "Podemos inventarnos los nombres que deseemos para las funciones siempre y cuando no use una palabra reservada de Python. \n",
    "\n",
    "* Un **cuerpo**: Despues de los dos puntos se incluye el *cuerpo de la función* (con un  mayor identación, generalmente cuatro espacios) que consistente de una o más sentencias de Python, cada una de ellas con la misma sangría ($4$ espacios es el estándar de Python) a partir del margen izquierdo. \n",
    "\n",
    "\n",
    "* En último lugar y de manera opcional, se añade la instrucción con la palabra reservada `return` para devolver un resultado.\n",
    "\n"
   ]
  },
  {
   "attachments": {},
   "cell_type": "markdown",
   "metadata": {},
   "source": [
    "## Sintaxis"
   ]
  },
  {
   "attachments": {},
   "cell_type": "markdown",
   "metadata": {},
   "source": [
    "La sintaxis básica para definir una función en Python es la siguiente:\n",
    "\n",
    "<pre>\n",
    "            def nombre_de_la_funcion(parametro1, parametro2, ..., parametroN):\n",
    "                # cuerpo de la función\n",
    "                # aquí va el código que realiza la tarea de la función\n",
    "                # puede incluir instrucciones condicionales, bucles, etc.\n",
    "                return resultado  # opcional, si la función debe devolver un valor\n",
    "</pre>"
   ]
  },
  {
   "attachments": {},
   "cell_type": "markdown",
   "metadata": {},
   "source": [
    "**`def`**: es la palabra clave que indica que se está definiendo una función.\n",
    "\n",
    "**`nombre_de_la_funcion`**: es el nombre que se le da a la función. Este nombre debe seguir las mismas reglas que las variables, es decir, debe comenzar con una letra o un guión bajo, y puede contener letras, números y guiones bajos.\n",
    "\n",
    "**`(parametro1, parametro2, ...)`**: son los parámetros/argumentos que recibirá la función. Los parámetros son opcionales, pero si se definen, se deben separar por comas. Cada parámetro debe tener un nombre que sigue las mismas reglas que las variables. Estos nombres se pueden usar dentro del cuerpo de la función para hacer referencia a los valores que se pasan a la función.\n",
    "\n",
    "**`return resultado`**: es una instrucción opcional que indica que la función debe devolver un valor. La palabra clave return se utiliza para devolver el valor de la variable resultado.\n",
    "\n",
    "Es importante tener en cuenta que el cuerpo de la función debe estar indentado. Por convención, se utiliza una indentación de cuatro espacios para cada nivel de indentación dentro de una función."
   ]
  },
  {
   "cell_type": "code",
   "execution_count": null,
   "metadata": {},
   "outputs": [],
   "source": [
    "def nuevas_lineas():\n",
    "    \"\"\"Esta funcion imprime solamente un salto de linea\"\"\"\n",
    "    # Comentarios\n",
    "    print()\n",
    "    print() # la sentencia print sin argumentos muestra una nueva línea\n",
    "\n",
    "def nueva_linea():\n",
    "    \"\"\"Esta funcion imprime solamente un salto de linea\"\"\"\n",
    "    # Comentarios\n",
    "    print() # la sentencia print sin argumentos muestra una nueva línea"
   ]
  },
  {
   "cell_type": "code",
   "execution_count": null,
   "metadata": {},
   "outputs": [],
   "source": [
    "print('Hola mundo!')\n",
    "nuevas_lineas()\n",
    "print('Pablo')"
   ]
  },
  {
   "attachments": {},
   "cell_type": "markdown",
   "metadata": {},
   "source": [
    "#### **Observación:** \n",
    "Cuando la primera instrucción de una función es un string encerrado entre tres comillas simples `'''` o dobles `\"\"\"`, a dicha instrucción se le conoce como ***docstring***. El docstring es una cadena que se utiliza para documentar la función, es decir, indicar qué hace dicha función."
   ]
  },
  {
   "attachments": {},
   "cell_type": "markdown",
   "metadata": {},
   "source": [
    "## Llamar a una función"
   ]
  },
  {
   "attachments": {},
   "cell_type": "markdown",
   "metadata": {},
   "source": [
    "Definir una nueva función no hace que la función se ejecute. Para hacerlo se necesita una llamada a función. \n",
    "\n",
    "Para llamar a una función se escribe el nombre de la función a ejecutar seguida por la lista de **argumentos**, que son asignados a los parámetros en la definición de función. La función `nueva_linea( )` tiene una lista vacía de parámetros, por lo que la llamada a función no tiene ningún argumento. Nótese, sin embargo, que en la llamada a función es necesario incluir los paréntesis `( )`:"
   ]
  },
  {
   "cell_type": "code",
   "execution_count": null,
   "metadata": {},
   "outputs": [],
   "source": [
    "print (\"Primera línea.\")\n",
    "nueva_linea()\n",
    "print (\"Segunda línea.\")"
   ]
  },
  {
   "attachments": {},
   "cell_type": "markdown",
   "metadata": {},
   "source": [
    "Vamos a crear una función que muestra en pantalla  el resultado de multiplicar un número por cinco:"
   ]
  },
  {
   "cell_type": "code",
   "execution_count": null,
   "metadata": {},
   "outputs": [],
   "source": [
    "def multiplica_por_5(numero):\n",
    "    print(f'{numero} * 5 = {numero * 5}')\n",
    "\n",
    "print('Comienzo del programa')    \n",
    "multiplica_por_5(7)\n",
    "print('Siguiente')\n",
    "multiplica_por_5(113)\n",
    "print('Fin')"
   ]
  },
  {
   "attachments": {},
   "cell_type": "markdown",
   "metadata": {},
   "source": [
    "La función `multiplica_por_5( )` define un parámetro llamado numero que es el que se utiliza para multiplicar por 5. El resultado del programa anterior sería el siguiente:"
   ]
  },
  {
   "attachments": {},
   "cell_type": "markdown",
   "metadata": {},
   "source": [
    "#### **Observación:** Diferencia entre parámetro y argumento\n",
    " La función `multiplica_por_5( )` define un parámetro llamado *numero*. Sin embargo, cuando desde el código se invoca a la función, por ejemplo, `multiplica_por_5(7)`, se dice que se llama a *multiplica por cinco* con el argumento 7."
   ]
  },
  {
   "attachments": {},
   "cell_type": "markdown",
   "metadata": {},
   "source": [
    "#### **Observación:**\n",
    "\n",
    "Hasta este punto, puede que no parezca claro por qué hay que tomarse la molestia de crear todas estas funciones. De hecho, hay muchas razones, y el ejemplo que acabamos de ver muestra dos:\n",
    "\n",
    "* Crear una nueva función nos da la oportunidad de ***nombrar*** un grupo de sentencias. Las funciones pueden simplificar un programa ocultando un cálculo complejo, rutinario o repetivo detrás de un comando único que usa palabras en lenguaje natural, en lugar de muchas líneas de código.\n",
    "\n",
    "* Crear una nueva función puede recortar el tamaño de un programa eliminando el código repetitivo."
   ]
  },
  {
   "cell_type": "markdown",
   "metadata": {},
   "source": [
    "## Ejercicio\n",
    "\n",
    "#### Escribe una funcion en Python llamada `tabla` que reciba como argumento un número entero positivo $n$ e imprima la tabla de multiplicar de $n$. Por ejemplo si se invoca a la función con el argumento $3$, `tabla(3)` se debe imprimir lo siguiente:\n",
    "\n",
    "\n",
    "\\begin{align*}\n",
    "3 &* 1  = 3 \\\\\n",
    "3 &* 2 = 6 \\\\\n",
    "3 &* 3 = 9 \\\\\n",
    "3 &* 4 = 12\\\\\n",
    "3 &* 5 = 15\\\\\n",
    "3 &* 6 = 18\\\\\n",
    "3 &* 7 = 21\\\\\n",
    "3 &* 8 = 24\\\\\n",
    "3 &* 9 = 27\\\\\n",
    "3 &* 10 = 30\n",
    "\\end{align*}\n"
   ]
  },
  {
   "attachments": {},
   "cell_type": "markdown",
   "metadata": {},
   "source": [
    "## Sentencia `return`"
   ]
  },
  {
   "attachments": {},
   "cell_type": "markdown",
   "metadata": {},
   "source": [
    "Cuando se acaba la última instrucción de una función, el flujo del programa continúa por la instrucción que sigue a la llamada de dicha función. Sin embargo, cuando utilizamos la sentencia `return`,  hacemos que termine la ejecución de la función cuando aparece y el programa continúa por su flujo normal.\n",
    "\n",
    "Además, `return` se puede utilizar para devolver un valor.\n",
    "\n",
    "La sentencia `return` es opcional, puede devolver, o no, un valor y es posible que aparezca más de una vez dentro de una misma función.\n",
    "\n",
    "A continuación veamos varios ejemplos:"
   ]
  },
  {
   "attachments": {},
   "cell_type": "markdown",
   "metadata": {},
   "source": [
    "### `Return` que no devuelve ningún valor\n",
    "\n",
    "La siguiente función imprime el cuadrado de un número sólo si este es un número par:"
   ]
  },
  {
   "cell_type": "code",
   "execution_count": null,
   "metadata": {},
   "outputs": [],
   "source": [
    "def cuadrado_de_par(numero): \n",
    "    if numero % 2 == 0:\n",
    "        print(numero ** 2)\n",
    "    else:\n",
    "        return\n",
    "\n",
    "cuadrado_de_par(9)\n"
   ]
  },
  {
   "attachments": {},
   "cell_type": "markdown",
   "metadata": {},
   "source": [
    "### Varios `return` en una misma función"
   ]
  },
  {
   "attachments": {},
   "cell_type": "markdown",
   "metadata": {},
   "source": [
    "La función `es_par( )` devuelve `True` si un número es par y `False` en caso contrario:"
   ]
  },
  {
   "cell_type": "code",
   "execution_count": null,
   "metadata": {},
   "outputs": [],
   "source": [
    "def es_par(numero):\n",
    "    if numero % 2 == 0:\n",
    "        return True\n",
    "    else:\n",
    "        return False\n",
    "\n",
    "#es_par(2)\n",
    "es_par(5) \n"
   ]
  },
  {
   "attachments": {},
   "cell_type": "markdown",
   "metadata": {},
   "source": [
    "### `Return` devuelve más de un valor"
   ]
  },
  {
   "attachments": {},
   "cell_type": "markdown",
   "metadata": {},
   "source": [
    "En Python, es posible **devolver más de un valor con una sola sentencia `return`**. Por defecto, con `return` se puede devolver una tupla de valores."
   ]
  },
  {
   "attachments": {},
   "cell_type": "markdown",
   "metadata": {},
   "source": [
    "La función `cuadrado_y_cubo( )`  devuelve el cuadrado y el cubo de un número:"
   ]
  },
  {
   "cell_type": "code",
   "execution_count": null,
   "metadata": {},
   "outputs": [],
   "source": [
    "def cuadrado_y_cubo(numero):\n",
    "    return numero ** 2, numero ** 3\n",
    "\n",
    "cuad, cubo = cuadrado_y_cubo(4)\n",
    "\n",
    "print(cuad)\n",
    "print(cubo)\n",
    "\n"
   ]
  },
  {
   "attachments": {},
   "cell_type": "markdown",
   "metadata": {},
   "source": [
    "Sin embargo, se puede usar otra técnica devolviendo los diferentes resultados/valores en una lista."
   ]
  },
  {
   "attachments": {},
   "cell_type": "markdown",
   "metadata": {},
   "source": [
    " La función `tabla_del()` devuelve una lista:"
   ]
  },
  {
   "cell_type": "code",
   "execution_count": null,
   "metadata": {},
   "outputs": [],
   "source": [
    "def tabla_del(numero):\n",
    "    resultados = []\n",
    "    for i in range(11):\n",
    "        resultados.append(numero * i)\n",
    "    return resultados\n",
    "\n",
    "tabla_multipicar = tabla_del(7)\n",
    "print(tabla_multipicar)\n"
   ]
  },
  {
   "attachments": {},
   "cell_type": "markdown",
   "metadata": {},
   "source": [
    "#### **Observación**:\n",
    "\n",
    "En Python una función siempre devuelve un valor. Python, internamente, devuelve por defecto el valor `None` cuando en una función no aparece la sentencia `return` o esta no devuelve nada."
   ]
  },
  {
   "cell_type": "code",
   "execution_count": null,
   "metadata": {},
   "outputs": [],
   "source": [
    "def saludo(nombre):\n",
    "    print(f'Hola {nombre}')\n",
    "\n",
    "x = saludo('UMARITO')\n",
    "print(x)\n"
   ]
  },
  {
   "attachments": {},
   "cell_type": "markdown",
   "metadata": {},
   "source": [
    "Como puedes ver en el ejemplo anterior, el `print` que envuelve a la función `saludo( )` muestra `None`."
   ]
  },
  {
   "attachments": {},
   "cell_type": "markdown",
   "metadata": {},
   "source": [
    "## Parametros y argumentos de una función en Python "
   ]
  },
  {
   "attachments": {},
   "cell_type": "markdown",
   "metadata": {},
   "source": [
    "En Python, los **parámetros** y **argumentos** son conceptos importantes en la *definición* y *llamada* de funciones. Aunque a menudo se usan indistintamente, en realidad tienen significados diferentes.\n",
    "\n",
    "* Un **parámetro** es una variable que se define en la definición de la función y se utiliza para recibir un valor específico cuando se llama a la función. Los parámetros se definen en la línea de encabezado de la función y se colocan entre paréntesis, pero durante la llamada a la función los valores que se envían se denominan **argumentos**. "
   ]
  },
  {
   "attachments": {},
   "cell_type": "markdown",
   "metadata": {},
   "source": [
    "\n",
    "Por ejemplo:"
   ]
  },
  {
   "cell_type": "code",
   "execution_count": null,
   "metadata": {},
   "outputs": [],
   "source": [
    "def saludar(nombre):\n",
    "    print('Hola '+ nombre)\n",
    "\n",
    "nombre = 'Jorge'\n",
    "saludar(nombre)"
   ]
  },
  {
   "attachments": {},
   "cell_type": "markdown",
   "metadata": {},
   "source": [
    "En este ejemplo, `nombre` es un parámetro de la función `saludar`. Cuando se llama a la función, se espera que se proporcione un valor para este parámetro, este valor es un `argumento` de la función ."
   ]
  },
  {
   "cell_type": "markdown",
   "metadata": {},
   "source": [
    "## Ejercicio\n",
    "\n",
    "Escribe una función en Python llamada `check_palabra` que reciba como argumento una cadena de texto y devuelva `True` si la cadena de texto esta conformada de una única palabra y `False` en caso contrario."
   ]
  },
  {
   "cell_type": "markdown",
   "metadata": {},
   "source": [
    "## Ejercicio\n",
    "\n",
    "Escribe una función en Python llamada `pentavocalica`  que reciba como argumento una cadena de texto e implente la función `check_palabra` para validar que el argumento es una palabra, envia un mensaje adecuado si la cadena de texto no es una palabra. En caso de que la cadena de texto sea una palabra devuelve `True` si es **pentavocálica** y `False` en caso contrario. "
   ]
  },
  {
   "cell_type": "markdown",
   "metadata": {},
   "source": [
    "## Ejercicio\n",
    "\n",
    "Escribe una función en Python llamada `min_mayus` que reciba como argumento una cadena de texto y devuelva el número de letras mayusculas y letras minusculas que hay en la cadena. "
   ]
  },
  {
   "attachments": {},
   "cell_type": "markdown",
   "metadata": {},
   "source": [
    "## Parametros: Paso por valor y paso por referencia"
   ]
  },
  {
   "attachments": {},
   "cell_type": "markdown",
   "metadata": {},
   "source": [
    "Una función puede definir, **opcionalmente**, una secuencia de parámetros con los que invocarla. \n",
    "\n",
    "* ¿Cómo se asignan en Python los valores a los parámetros? \n",
    "  \n",
    "* ¿Se puede modificar el valor de una variable dentro de una función?\n",
    "\n",
    "Es importante recordar  los conceptos de **paso por valor** y **paso por referencia**.\n",
    "\n",
    "* **Paso por valor:** Un lenguaje de programación que utiliza paso por valor de los argumentos, lo que realmente hace es copiar el valor de las variables en los respectivos parámetros. **Cualquier modificación del valor del parámetro, no afecta a la variable externa correspondiente.**\n",
    "\n",
    "* **Paso por referencia:** Un lenguaje de programación que utiliza paso por referencia, lo que realmente hace es **copiar en los parámetros la dirección de memoria de las variables que se usan como argumento**. Esto implica que realmente hagan referencia al mismo objeto/elemento y **cualquier modificación del valor en el parámetro afectará a la variable externa correspondiente**."
   ]
  },
  {
   "attachments": {},
   "cell_type": "markdown",
   "metadata": {},
   "source": [
    "**En Python se usan a la vez *paso por valor* y por *referencia* en función del tipo de dato que recibe la función:**\n",
    "\n",
    "* Los **tipos simples** se pasan por valor: `Enteros`, `flotantes`, `cadenas`, `lógicos`...\n",
    "  \n",
    "* Los **tipos compuestos** se pasan por referencia: `Listas`, `diccionarios`, `conjuntos`..."
   ]
  },
  {
   "attachments": {},
   "cell_type": "markdown",
   "metadata": {},
   "source": [
    "Sin embargo, en Python todo es un objeto. Entonces, ¿cómo se pasan los argumentos en Python, por valor o por referencia? Lo que ocurre en Python realmente es que se pasa por valor la referencia del objeto  ¿Qué implicaciones tiene esto? Básicamente que si el tipo que se pasa como argumento es inmutable, cualquier modificación en el valor del parámetro no afectará a la variable externa pero, si es mutable (como una lista o diccionario), sí se verá afectado por las modificaciones. "
   ]
  },
  {
   "attachments": {},
   "cell_type": "markdown",
   "metadata": {},
   "source": [
    "### Ejemplo de paso por valor"
   ]
  },
  {
   "attachments": {},
   "cell_type": "markdown",
   "metadata": {},
   "source": [
    "Como ya sabemos los números se pasan por valor y crean una copia dentro de la función, por eso no les afecta externamente lo que hagamos con ellos:"
   ]
  },
  {
   "cell_type": "code",
   "execution_count": null,
   "metadata": {},
   "outputs": [],
   "source": [
    "def duplica_valor(numero):\n",
    "    numero *= 2\n",
    "\n",
    "n = 10\n",
    "duplica_valor(n)\n",
    "print(n)"
   ]
  },
  {
   "attachments": {},
   "cell_type": "markdown",
   "metadata": {},
   "source": [
    "### Ejemplo de paso por referencia"
   ]
  },
  {
   "attachments": {},
   "cell_type": "markdown",
   "metadata": {},
   "source": [
    "Sin embargo las `listas` u otras *colecciones*, al ser tipos compuestos se pasan por referencia, y si las modificamos dentro de la función estaremos modificándolas también fuera:"
   ]
  },
  {
   "cell_type": "code",
   "execution_count": null,
   "metadata": {},
   "outputs": [],
   "source": [
    "def duplicar_valores(numeros):\n",
    "    for i,n in enumerate(numeros):\n",
    "        numeros[i] *= 2\n",
    "\n",
    "lista_numeros = [10,50,100]\n",
    "duplicar_valores(lista_numeros)\n",
    "print(lista_numeros)"
   ]
  },
  {
   "attachments": {},
   "cell_type": "markdown",
   "metadata": {},
   "source": [
    "**Para modificar los tipos simples podemos devolverlos modificados y reasignarlos:**"
   ]
  },
  {
   "cell_type": "code",
   "execution_count": null,
   "metadata": {},
   "outputs": [],
   "source": [
    "def duplica_valor(numero):\n",
    "    return numero *2\n",
    "\n",
    "n = 10\n",
    "n = duplica_valor(n)\n",
    "print(n)"
   ]
  },
  {
   "attachments": {},
   "cell_type": "markdown",
   "metadata": {},
   "source": [
    "**Y en el caso de los tipos compuestos, podemos evitar la modificación enviando una copia:**"
   ]
  },
  {
   "cell_type": "code",
   "execution_count": null,
   "metadata": {},
   "outputs": [],
   "source": [
    "def duplicar_valores(numeros):\n",
    "    for i,n in enumerate(numeros):\n",
    "        numeros[i] *= 2\n",
    "\n",
    "lista_numeros = [10,50,100]\n",
    "duplicar_valores(lista_numeros[:]) # Con lista_numeros[:] se genera y manda una copia de lista_numeros \n",
    "print(lista_numeros)"
   ]
  },
  {
   "attachments": {},
   "cell_type": "markdown",
   "metadata": {},
   "source": [
    "En Python, una función puede tener varios tipos de parámetros:"
   ]
  },
  {
   "attachments": {},
   "cell_type": "markdown",
   "metadata": {},
   "source": [
    "### Parámetros posicionales"
   ]
  },
  {
   "attachments": {},
   "cell_type": "markdown",
   "metadata": {},
   "source": [
    "Son los parámetros más comunes en una función. Estos parámetros **son especificados en el orden en que deben ser pasados a la función y son obligatorios**. Se pueden pasar cero o más argumentos para estos parámetros."
   ]
  },
  {
   "cell_type": "code",
   "execution_count": null,
   "metadata": {},
   "outputs": [],
   "source": [
    "def sumar(a, b):\n",
    "    return a + b\n",
    "\n",
    "def restar(x,y):\n",
    "    return x-y\n",
    "    \n",
    "\n",
    "resultado_suma = sumar(3, 4)\n",
    "print(resultado_suma) \n",
    "\n",
    "resultado_resta = restar(3, 4)\n",
    "print(resultado_resta) \n",
    "\n",
    "resultado_resta = restar(4,3)\n",
    "print(resultado_resta) \n"
   ]
  },
  {
   "attachments": {},
   "cell_type": "markdown",
   "metadata": {},
   "source": [
    "En el siguiente ejemplo, la función `es_mayor` devuelve `True` si el parámetro $x$ es mayor que el parámetro $y$:"
   ]
  },
  {
   "cell_type": "code",
   "execution_count": null,
   "metadata": {},
   "outputs": [],
   "source": [
    "def es_mayor(x, y):\n",
    "    return x > y"
   ]
  },
  {
   "attachments": {},
   "cell_type": "markdown",
   "metadata": {},
   "source": [
    "Al invocar a la función, lo haremos del siguiente modo:"
   ]
  },
  {
   "cell_type": "code",
   "execution_count": null,
   "metadata": {},
   "outputs": [],
   "source": [
    "#es_mayor(5,3)\n",
    "\n",
    "es_mayor(3)"
   ]
  },
  {
   "attachments": {},
   "cell_type": "markdown",
   "metadata": {},
   "source": [
    "Sin embargo, **si al llamar a la función no pasamos todos los argumentos, el intérprete lanzará una excepción:**"
   ]
  },
  {
   "cell_type": "code",
   "execution_count": 1,
   "metadata": {},
   "outputs": [
    {
     "ename": "NameError",
     "evalue": "name 'es_mayor' is not defined",
     "output_type": "error",
     "traceback": [
      "\u001b[0;31m---------------------------------------------------------------------------\u001b[0m",
      "\u001b[0;31mNameError\u001b[0m                                 Traceback (most recent call last)",
      "Cell \u001b[0;32mIn[1], line 1\u001b[0m\n\u001b[0;32m----> 1\u001b[0m \u001b[43mes_mayor\u001b[49m(\u001b[38;5;241m5\u001b[39m)\n",
      "\u001b[0;31mNameError\u001b[0m: name 'es_mayor' is not defined"
     ]
    }
   ],
   "source": [
    "es_mayor(5)"
   ]
  },
  {
   "attachments": {},
   "cell_type": "markdown",
   "metadata": {},
   "source": [
    "Lo que nos está indicando es que el argumento posicional $y$ es obligatorio y no se ha especificado."
   ]
  },
  {
   "attachments": {},
   "cell_type": "markdown",
   "metadata": {},
   "source": [
    "#### **Observación:**\n",
    "Antes de seguir es importante que tengas en cuenta que, por defecto, **los valores de los argumentos se asignan a los parámetros en el mismo orden en el que los pasas al llamar a la función**."
   ]
  },
  {
   "attachments": {},
   "cell_type": "markdown",
   "metadata": {},
   "source": [
    "### Parámetros con valor por defecto (opcionales)"
   ]
  },
  {
   "attachments": {},
   "cell_type": "markdown",
   "metadata": {},
   "source": [
    "Una función Python se pueden indicar una serie de ***parámetros opcionales***. Son parámetros que se indican con un valor por defecto y si no se pasan al invocar a la función entonces toman este valor."
   ]
  },
  {
   "attachments": {},
   "cell_type": "markdown",
   "metadata": {},
   "source": [
    "En algunas situaciones, es posible que queramos que un parámetro tenga un valor por defecto en caso de que no se especifique al llamar la función. En este caso, podemos especificar un valor por defecto en la definición de la función."
   ]
  },
  {
   "cell_type": "code",
   "execution_count": null,
   "metadata": {},
   "outputs": [],
   "source": [
    "def saludar(nombre, saludo=\"Hola\"):\n",
    "    print(saludo + ' ' + nombre)"
   ]
  },
  {
   "cell_type": "code",
   "execution_count": null,
   "metadata": {},
   "outputs": [],
   "source": [
    "saludar(\"Juan\",'Que tal') \n",
    "saludar(\"Pedro\", \"Buenos días\") "
   ]
  },
  {
   "attachments": {},
   "cell_type": "markdown",
   "metadata": {},
   "source": [
    "En este ejemplo, el parámetro saludo tiene un valor por defecto de \"Hola\". Si no se proporciona ningún valor para saludo, se utilizará este valor por defecto."
   ]
  },
  {
   "attachments": {},
   "cell_type": "markdown",
   "metadata": {},
   "source": [
    "**Observación**: Una función puede establecer por *default*  el valor de los argumentos, en caso de que el usuario no los especifique, evitando que se genere un error por cantidad de argumentos incorrectos"
   ]
  },
  {
   "cell_type": "code",
   "execution_count": null,
   "metadata": {},
   "outputs": [],
   "source": [
    "def calculo_impuestos(valor, tasa = 0.21):\n",
    "    return valor * tasa"
   ]
  },
  {
   "cell_type": "code",
   "execution_count": null,
   "metadata": {},
   "outputs": [],
   "source": [
    "calculo_impuestos(1000,0.10)\n",
    "#calculo_impuestos(1100)"
   ]
  },
  {
   "cell_type": "code",
   "execution_count": null,
   "metadata": {},
   "outputs": [],
   "source": [
    "def calculo_impuestos(valor, tasa = 0.21):\n",
    "    return valor * tasa\n",
    "    \n",
    "calculo_impuestos(1500, 0.105)"
   ]
  },
  {
   "cell_type": "markdown",
   "metadata": {},
   "source": [
    "### Interés simple\n",
    "\n",
    "El **interés** es una cuota que se paga por usar dinero prestado o invertido. Pagamos interés sobre las hipotecas por utilizar el dinero del banco. Usamos el dinero del banco para pagar a un contratista o a una persona a quien compramos una casa. De modo similar, el banco nos paga interés sobre el dinero invertido en cuentas de ahorros porque tiene acceso temporal a nuestro dinero. \n",
    "\n",
    "La cantidad de dinero que se presta o invierte recibe el nombre de ***capital***. Por lo general, se paga el interés en proporción al capital y el tiempo que se usa el dinero. La tasa de interés especifica la tasa con que se acumula el interés. Normalmente, la tasa de interés se expresa como un porcentaje del capital por periodo; por ejemplo, $18\\%$ por año o $1.5\\%$ por mes.\n",
    "\n",
    "El interés que se paga sólo sobre la cantidad del capital se llama **interés simple**. Por lo regular, se asocia el interés simple a préstamos o inversiones que se hacen a corto plazo. El cálculo del interés simple se basa en la fórmula siguiente:\n",
    "\n",
    "$$\\mathrm{Interés\\,simple \\, = \\,  capital \\times tasa \\, de\\,  interés \\, por \\, periodo \\times número \\, de \\, periodos}$$"
   ]
  },
  {
   "cell_type": "markdown",
   "metadata": {},
   "source": [
    "### Ejercicio \n",
    "\n",
    "Escribe una función en Python llamada `final` que reciba como argumentos el capital inicial, `capital_inicial`, la  tasa interes por periodo, `tasa_interes` y el número total de periodos en los que se invirtio el capital inicial, `numero_periodos` y devuelva le capital final. "
   ]
  },
  {
   "attachments": {},
   "cell_type": "markdown",
   "metadata": {},
   "source": [
    "#### **Observación:**\n",
    "\n",
    "Los argumentos opcionales sólo pueden ir al final ya que se acomodan de izquierda a derecha."
   ]
  },
  {
   "cell_type": "markdown",
   "metadata": {},
   "source": [
    "## Ejercicio [Tarifa de taxi]"
   ]
  },
  {
   "attachments": {},
   "cell_type": "markdown",
   "metadata": {},
   "source": [
    "###  Cantidad variable de parámetros posicionales (`*args`)"
   ]
  },
  {
   "cell_type": "markdown",
   "metadata": {},
   "source": [
    "Cuando usas `*args` en la definición de una función, esta puede recibir un número arbitrario de argumentos posicionales. Los valores que se pasen se agrupan en una tupla."
   ]
  },
  {
   "attachments": {},
   "cell_type": "markdown",
   "metadata": {},
   "source": [
    "Consideremos la siguiente función que  toma dos parámetros y devuelve como resultado la suma de los mismos:"
   ]
  },
  {
   "cell_type": "code",
   "execution_count": null,
   "metadata": {},
   "outputs": [],
   "source": [
    "def sum(x, y):\n",
    "    return x + y\n",
    "\n",
    "sum(2,3)"
   ]
  },
  {
   "attachments": {},
   "cell_type": "markdown",
   "metadata": {},
   "source": [
    " Llamamos a la función con los valores $x=2$ e $y=3$, el resultado devuelto será $5$. Pero, ¿qué ocurre si posteriormente decidimos o nos damos cuenta de que necesitamos sumar un valor más?"
   ]
  },
  {
   "cell_type": "code",
   "execution_count": null,
   "metadata": {},
   "outputs": [],
   "source": [
    "sum(2, 3, 4)"
   ]
  },
  {
   "attachments": {},
   "cell_type": "markdown",
   "metadata": {},
   "source": [
    "La mejor solución, la más elegante y la más al estilo Python es hacer uso de `*args` en la definición de esta función. De este modo, **podemos pasar tantos argumentos como queramos**. Pero antes de esto, tenemos que reimplementar nuestra función `sum`:"
   ]
  },
  {
   "cell_type": "code",
   "execution_count": 1,
   "metadata": {},
   "outputs": [],
   "source": [
    "def suma(*args):\n",
    "    #print(type(args))\n",
    "    value = 0\n",
    "    for n in args:\n",
    "        value += n\n",
    "    return value"
   ]
  },
  {
   "cell_type": "code",
   "execution_count": 2,
   "metadata": {},
   "outputs": [
    {
     "data": {
      "text/plain": [
       "45"
      ]
     },
     "execution_count": 2,
     "metadata": {},
     "output_type": "execute_result"
    }
   ],
   "source": [
    "suma()\n",
    "\n",
    "#sum(2, 3)\n",
    "\n",
    "#sum(2, 3, 4)\n",
    "\n",
    "suma(2, 3, 4, 6, 9, 21)\n"
   ]
  },
  {
   "cell_type": "code",
   "execution_count": 3,
   "metadata": {},
   "outputs": [],
   "source": [
    "def suma(*args):\n",
    "    return sum(args)"
   ]
  },
  {
   "cell_type": "code",
   "execution_count": 4,
   "metadata": {},
   "outputs": [
    {
     "name": "stdout",
     "output_type": "stream",
     "text": [
      "10\n"
     ]
    }
   ],
   "source": [
    "print(suma(1,2,3,4))"
   ]
  },
  {
   "cell_type": "markdown",
   "metadata": {},
   "source": [
    "**`*args`**: permite que una función acepte un número variable de argumentos posicionales. El nombre **`*args`** es una convención, pero el asterisco es lo que indica a Python que se espera un número variable de argumentos. **Los argumentos se empaquetan en una tupla**.  Por ejemplo"
   ]
  },
  {
   "cell_type": "code",
   "execution_count": null,
   "metadata": {},
   "outputs": [],
   "source": [
    "def funcion_con_args(*args):\n",
    "    for arg in args:\n",
    "        print(arg)\n",
    "    \n",
    "funcion_con_args(1, 2, 3)"
   ]
  },
  {
   "cell_type": "code",
   "execution_count": null,
   "metadata": {},
   "outputs": [],
   "source": [
    "def imprimir_nombres(*nombres):\n",
    "    for nombre in nombres:\n",
    "        print(nombre)\n",
    "\n",
    "\n",
    "imprimir_nombres(\"Juan\", \"Pedro\", \"María\",'Tomas','Pepito') "
   ]
  },
  {
   "attachments": {},
   "cell_type": "markdown",
   "metadata": {},
   "source": [
    "**Observación**: El nombre `args` se puede cambiar, pero por convención se utiliza este nombre."
   ]
  },
  {
   "cell_type": "markdown",
   "metadata": {},
   "source": [
    "### Cantidad variable de parámetros con nombre (`**kwargs`)"
   ]
  },
  {
   "cell_type": "markdown",
   "metadata": {},
   "source": [
    "Cuando usas `**kwargs`, la función puede recibir un número arbitrario de argumentos con nombre (es decir, como pares clave=valor). Estos argumentos se agrupan en un diccionario."
   ]
  },
  {
   "attachments": {},
   "cell_type": "markdown",
   "metadata": {},
   "source": [
    "* **`**kwargs`**:  Parámetros variables `clave-valor` (**keyword arguments**) `**kwargs`  **permite que una función acepte un número variable de argumentos con nombre**. El nombre **`kwargs`** también es una convención, pero los dos asteriscos son lo que indica a Python que se espera un número variable de argumentos con nombre. **Los argumentos se empaquetan en un diccionario**. Por ejemplo:"
   ]
  },
  {
   "cell_type": "code",
   "execution_count": null,
   "metadata": {},
   "outputs": [],
   "source": [
    "def funcion_con_kwargs(**kwargs):\n",
    "    for key, value in kwargs.items():\n",
    "        print(f\"{key} = {value}\")\n",
    "    \n",
    "funcion_con_kwargs(a=1, b=2, c=3)"
   ]
  },
  {
   "cell_type": "code",
   "execution_count": null,
   "metadata": {},
   "outputs": [],
   "source": [
    "def calificacion_final(**info):\n",
    "    \n",
    "    p1,p2\n",
    "    \n",
    "    calificacion = ((info[p1] + info[p2] + info[p3])/3)*0.5 +  info[ordi]*0.5 \n",
    "    print(f'La calificación final de {info[nombre]} es: { }   ')"
   ]
  },
  {
   "cell_type": "code",
   "execution_count": null,
   "metadata": {},
   "outputs": [],
   "source": [
    "def imprimir_edades(**edades):\n",
    "    for nombre, edad in edades.items():\n",
    "        print(nombre, \"tiene\", edad, \"años\")\n",
    "\n",
    "\n",
    "imprimir_edades(Juan=30, Pedro=35, María=25)"
   ]
  },
  {
   "attachments": {},
   "cell_type": "markdown",
   "metadata": {},
   "source": [
    "Las principales diferencias con  `*args` son:\n",
    "\n",
    "* Lo que realmente indica que el parámetro es de este tipo es el símbolo `**`, el nombre `kwargs` se usa por convención. El nombre `kwargs` se puede cambiar, pero por convención se utiliza este nombre.\n",
    "\n",
    "* El parámetro recibe los argumentos como un diccionario.\n",
    "\n",
    "* Al tratarse de un diccionario, el orden de los parámetros no importa. Los parámetros se asocian en función de las claves del diccionario."
   ]
  },
  {
   "attachments": {},
   "cell_type": "markdown",
   "metadata": {},
   "source": [
    "Estos parámetros de longitud variable son muy útiles cuando se quiere crear funciones que sean flexibles en cuanto a la cantidad y tipo de argumentos que pueden aceptar."
   ]
  },
  {
   "cell_type": "markdown",
   "metadata": {},
   "source": [
    "### Combinación parámetros posicionales, posicionales con nombre, `*args` y `**kwargs`"
   ]
  },
  {
   "cell_type": "markdown",
   "metadata": {},
   "source": [
    "Una función puede aceptar tanto argumentos posicionales como con nombre simultáneamente, usando `*args` y `**kwargs`.\n",
    "\n",
    "##### **Orden de los parámetros**\n",
    "\n",
    "El orden en la definición debe ser:\n",
    "\n",
    "* `Parámetros posicionales normales`.\n",
    "  \n",
    "* `*args` (argumentos posicionales variables).\n",
    "  \n",
    "* `Parámetros con nombre normales`.\n",
    "\n",
    "* `**kwargs` (argumentos con nombre variables)."
   ]
  },
  {
   "cell_type": "code",
   "execution_count": 5,
   "metadata": {},
   "outputs": [
    {
     "name": "stdout",
     "output_type": "stream",
     "text": [
      "10\n"
     ]
    }
   ],
   "source": [
    "def calculadora(operacion, *numeros):\n",
    "    if operacion == \"suma\":\n",
    "        return sum(numeros)\n",
    "    elif operacion == \"multiplicacion\":\n",
    "        resultado = 1\n",
    "        for num in numeros:\n",
    "            resultado *= num\n",
    "        return resultado\n",
    "    else:\n",
    "        return \"Operación no válida\"\n",
    "\n",
    "print(calculadora(\"suma\", 1, 2, 3, 4)) "
   ]
  },
  {
   "attachments": {},
   "cell_type": "markdown",
   "metadata": {},
   "source": [
    "## Funciones lambda en Python"
   ]
  },
  {
   "attachments": {},
   "cell_type": "markdown",
   "metadata": {},
   "source": [
    "En Python, una ***función anónima*** es una función que no tiene un nombre explícito y se define utilizando la palabra clave `lambda`. Estas funciones se conocen comúnmente como **funciones lambda**. Son útiles para crear pequeñas funciones \"sobre la marcha\" y suelen emplearse en situaciones donde una función es necesaria temporalmente, como argumentos en otras funciones."
   ]
  },
  {
   "attachments": {},
   "cell_type": "markdown",
   "metadata": {},
   "source": [
    "Una función en Python se define con la palabra reservada `def`. Sin embargo, una función anónima se define con la palabra reservada `lambda`"
   ]
  },
  {
   "attachments": {},
   "cell_type": "markdown",
   "metadata": {},
   "source": [
    "### Sintaxis"
   ]
  },
  {
   "attachments": {},
   "cell_type": "markdown",
   "metadata": {},
   "source": [
    "La sintaxis para definir una función lambda es la siguiente:\n",
    "<center>\n",
    "<code>lambda parámetros: expresión</code>\n",
    "</center>\n",
    "\n",
    "donde \n",
    "* `argumentos`: Son los parámetros de la función (puede tener uno o más, separados por comas).\n",
    "  \n",
    "* `expresión`: Es una sola línea de código que realiza algún cálculo o acción y devuelve el resultado."
   ]
  },
  {
   "attachments": {},
   "cell_type": "markdown",
   "metadata": {},
   "source": [
    "Algunas características de una *función anónima* son:\n",
    "\n",
    "* No tienen nombre (a menos que lo asignes a una variable).\n",
    "  \n",
    "* Pueden contener solo una única expresión, no bloques de código.\n",
    "  \n",
    "* Son útiles para operaciones simples que no necesitan una función completa con `def`.\n",
    "\n",
    "* Pueden definir cualquier número de parámetros pero una única expresión. Esta expresión es evaluada y devuelta.\n",
    "\n",
    "* Se pueden usar en cualquier lugar en el que una función sea requerida.\n",
    "\n",
    "* Se suelen usar en combinación con otras funciones, generalmente como argumentos de otra función."
   ]
  },
  {
   "attachments": {},
   "cell_type": "markdown",
   "metadata": {},
   "source": [
    "En el siguiente ejemplo se aprecian las **similitudes y diferencias entre una función anónima y una función normal**:"
   ]
  },
  {
   "cell_type": "code",
   "execution_count": null,
   "metadata": {},
   "outputs": [],
   "source": [
    "def cuadrado(x):  \n",
    "   return x ** 2\n",
    "\n",
    "cuadrado_anonima = lambda x : x ** 2\n",
    "\n",
    "print(cuadrado(3))\n",
    "print(cuadrado_anonima(5))\n"
   ]
  },
  {
   "attachments": {},
   "cell_type": "markdown",
   "metadata": {},
   "source": [
    "En el ejemplo anterior en la función anonima: `cuadrado_anonima`. En el ejemplo anterior, `x` es el parámetro y `x ** 2` la expresión que se evalúa y se devuelve. Como puedes observar la función no tiene nombre y toda la definición devuelve una función que se asigna al identificador `cuadrado_anonima`."
   ]
  },
  {
   "cell_type": "code",
   "execution_count": 3,
   "metadata": {},
   "outputs": [
    {
     "name": "stdout",
     "output_type": "stream",
     "text": [
      "8\n"
     ]
    }
   ],
   "source": [
    "suma = lambda x, y: x + y\n",
    "print(suma(3, 5))  "
   ]
  },
  {
   "cell_type": "markdown",
   "metadata": {},
   "source": [
    "### Limitaciones de las funciones lambda"
   ]
  },
  {
   "cell_type": "markdown",
   "metadata": {},
   "source": [
    "* **Solo una expresión**: No pueden tener múltiples líneas o declaraciones complejas.\n",
    "  \n",
    "* **Difícil de depurar**: Si el código es complejo, puede volverse confuso sin un nombre descriptivo.\n",
    "  \n",
    "* **Sin documentación**: No puedes incluir docstrings para explicar qué hace la función.\n",
    "  \n",
    "En general, las funciones lambda son ideales para casos simples y temporales, mientras que las funciones definidas con def son más adecuadas para lógica compleja o reutilizable."
   ]
  },
  {
   "attachments": {},
   "cell_type": "markdown",
   "metadata": {},
   "source": [
    "## Funciones : `map( )` y `filter( )` "
   ]
  },
  {
   "attachments": {},
   "cell_type": "markdown",
   "metadata": {},
   "source": [
    "### Función `map()`"
   ]
  },
  {
   "attachments": {},
   "cell_type": "markdown",
   "metadata": {},
   "source": [
    "La función `map( )` en Python aplica una función a cada elemento de un iterable (como una lista o tupla) y devuelve un iterador con los resultados."
   ]
  },
  {
   "attachments": {},
   "cell_type": "markdown",
   "metadata": {},
   "source": [
    "#### Sintaxis"
   ]
  },
  {
   "attachments": {},
   "cell_type": "markdown",
   "metadata": {},
   "source": [
    "<center>\n",
    "<code>map( función , iterable )</code>\n",
    "</center>"
   ]
  },
  {
   "attachments": {},
   "cell_type": "markdown",
   "metadata": {},
   "source": [
    "Supongamos que tenemos una lista de enteros y quieres obtener una nueva lista con el cuadrado de cada uno de ellos. Seguramente, lo primero que se te ha ocurrido es algo similar a lo siguiente:"
   ]
  },
  {
   "cell_type": "code",
   "execution_count": null,
   "metadata": {},
   "outputs": [],
   "source": [
    "enteros = [1, 2, 4, 7]      \n",
    "cuadrados = []\n",
    "for e in enteros:\n",
    "    cuadrados.append(e ** 2)\n",
    "     \n",
    "print(cuadrados)\n"
   ]
  },
  {
   "attachments": {},
   "cell_type": "markdown",
   "metadata": {},
   "source": [
    "Sin embargo, podemos usar una función anónima en combinación con `map()` para obtener el mismo resultado de una manera mucho más simple:"
   ]
  },
  {
   "cell_type": "code",
   "execution_count": null,
   "metadata": {},
   "outputs": [],
   "source": [
    "enteros = [1, 2, 4, 7]\n",
    "cuadrados = list(map(lambda x : x ** 2, enteros))\n",
    "\n",
    "print(cuadrados)\n"
   ]
  },
  {
   "attachments": {},
   "cell_type": "markdown",
   "metadata": {},
   "source": [
    "La cosa se vuelve todavía más interesante cuando, en lugar de una lista de valores, pasamos como segundo parámetro una lista de funciones:"
   ]
  },
  {
   "cell_type": "code",
   "execution_count": 1,
   "metadata": {},
   "outputs": [
    {
     "name": "stdout",
     "output_type": "stream",
     "text": [
      "[1, 1]\n",
      "[4, 8]\n",
      "[16, 64]\n",
      "[49, 343]\n"
     ]
    }
   ],
   "source": [
    "enteros = [1, 2, 4, 7]\n",
    "\n",
    "def cuadrado(x):\n",
    "    return x ** 2\n",
    "\n",
    "def cubo(x):\n",
    "    return x ** 3\n",
    "\n",
    "funciones = [cuadrado, cubo]\n",
    "\n",
    "for e in enteros:\n",
    "    valores = list(map(lambda x : x(e), funciones))\n",
    "    print(valores)"
   ]
  },
  {
   "attachments": {},
   "cell_type": "markdown",
   "metadata": {},
   "source": [
    "### Función `filter( )`"
   ]
  },
  {
   "attachments": {},
   "cell_type": "markdown",
   "metadata": {},
   "source": [
    "La función `filter( )` filtra elementos de un iterable según una función que devuelve `True` o `False`. Solo los elementos que cumplen con la condición (es decir, para los cuales la función devuelve `True`) se incluyen en el resultado.\n",
    "\n"
   ]
  },
  {
   "attachments": {},
   "cell_type": "markdown",
   "metadata": {},
   "source": [
    "#### Sintaxis"
   ]
  },
  {
   "attachments": {},
   "cell_type": "markdown",
   "metadata": {},
   "source": [
    "<center><code>filter(función, iterable)</code></center>\n",
    "\n",
    "donde \n",
    "\n",
    "* **función**: Es una función que evalúa cada elemento como **True** o **False**.\n",
    "* **iterable**: Es un iterable como una lista, tupla, etc."
   ]
  },
  {
   "attachments": {},
   "cell_type": "markdown",
   "metadata": {},
   "source": [
    "Imagina que quieres filtrar una lista de números para obtener solo los valores pares. De nuevo, una primera solución podría ser la siguiente:"
   ]
  },
  {
   "cell_type": "code",
   "execution_count": null,
   "metadata": {},
   "outputs": [],
   "source": [
    "valores = [1, 2, 3, 4, 5, 6, 7, 8, 9]\n",
    "pares = []\n",
    "for valor in valores:\n",
    "    if valor % 2 == 0:\n",
    "        pares.append(valor)\n",
    "\n",
    "print(pares)\n"
   ]
  },
  {
   "attachments": {},
   "cell_type": "markdown",
   "metadata": {},
   "source": [
    "No obstante, podemos usar la función `filter( )` y una función lambda para obtener el mismo resultado con una sola línea de código:"
   ]
  },
  {
   "cell_type": "code",
   "execution_count": null,
   "metadata": {},
   "outputs": [],
   "source": [
    "valores = [1, 2, 3, 4, 5, 6, 7, 8, 9]      \n",
    "pares = list(filter(lambda x : x % 2 == 0, valores))\n",
    "\n",
    "print(pares)"
   ]
  },
  {
   "cell_type": "markdown",
   "metadata": {},
   "source": [
    "### Diferencia entre `map` y `filter`\n",
    "\n",
    "* **map**: Transforma los elementos aplicándoles una función.\n",
    "  \n",
    "* **filter**: Selecciona elementos basados en una condición.\n"
   ]
  },
  {
   "attachments": {},
   "cell_type": "markdown",
   "metadata": {},
   "source": [
    "# Aleatoriedad en Python "
   ]
  },
  {
   "attachments": {},
   "cell_type": "markdown",
   "metadata": {},
   "source": [
    "Python puede generar valores aleatorios. En realidad, **los valores no son completamente aleatorios** ya que ninguna computadora puede hacer frente a eso; en su lugar, utiliza un algoritmo increíblemente complejo que hace que sea prácticamente imposible predecir con precisión su resultado, por lo que, en efecto, actúa como una función aleatoria."
   ]
  },
  {
   "attachments": {},
   "cell_type": "markdown",
   "metadata": {},
   "source": [
    "En general se cuenta con  dos tipos de valores aleatorios:\n",
    "\n",
    "* **Números aleatorios dentro de un rango específico**;\n",
    "\n",
    "* **Una elección aleatoria de una variedad de elementos que se ingresan**.\n",
    "\n",
    "Para cualquiera de estas dos opciones, debemos importar la biblioteca `random`. Para ello, debemos escribir `import random` al comienzo del programa. La biblioteca `random` es un módulo estándar de Python que proporciona funciones/métodos para generar números aleatorios y realizar operaciones relacionadas con la aleatoriedad. En este módulo se encuentran varios métodos útiles para generar números aleatorios, elegir elementos de una lista de forma aleatoria, entre otras cosas."
   ]
  },
  {
   "cell_type": "markdown",
   "metadata": {},
   "source": [
    "## Ejercicio 1: Calculando intereses compuestos con `map`\n",
    "\n",
    "Un banco ofrece diferentes tasas de interés anual (en porcentaje) para una serie de cuentas de ahorro. \n",
    "Cada cuenta tiene un saldo inicial y se desea calcular el saldo final después de un año usando la fórmula de interés compuesto:\n",
    "\n",
    "$$\n",
    "A = P \\cdot (1 + r)^t\n",
    "$$\n",
    "\n",
    "Donde:\n",
    "- $ P $ es el saldo inicial.\n",
    "- $ r $ es la tasa de interés anual en forma decimal.\n",
    "- $ t = 1 $ es el tiempo en años.\n",
    "\n",
    "Escribe un programa en Python que implemente la función `map` para calcular los saldos finales de las cuentas de ahorro dadas. Asume que las tasas de interés están en la lista `tasas = [0.03, 0.04, 0.05, 0.025]` y los saldos iniciales en `saldos = [1000, 1500, 2000, 2500]`.\n",
    "\n"
   ]
  },
  {
   "cell_type": "markdown",
   "metadata": {},
   "source": [
    "## Ejercicio 2: Filtrando riesgos altos con `filter`\n",
    "\n",
    "Una aseguradora está evaluando un conjunto de riesgos basados en las reclamaciones históricas. \n",
    "Cada riesgo tiene un monto promedio de reclamaciones anual en una lista. Se considera \"riesgo alto\" si el monto promedio es mayor que \\$50,000.\n",
    "\n",
    "\n",
    "Escribe un programa en Python que implemente la función `filter` para identificar los riesgos altos de la lista `reclamaciones = [40000, 55000, 30000, 80000, 45000]`. Imprime una lista con los montos que califican como riesgos altos.\n"
   ]
  },
  {
   "attachments": {},
   "cell_type": "markdown",
   "metadata": {},
   "source": [
    "## Método `random( )`"
   ]
  },
  {
   "attachments": {},
   "cell_type": "markdown",
   "metadata": {},
   "source": [
    "El método `random()` **devuelve un número flotante aleatorio entre $0$ y $1$**. Si deseamos obtener un número aleatorioo de punto flotando mayor, podemos multiplicarlo porun entero mayor."
   ]
  },
  {
   "attachments": {},
   "cell_type": "markdown",
   "metadata": {},
   "source": [
    "El siguiente código selecciona un número aleatorio de punto flotante entre $0$ y $1$ y lo multiplica para obtener un un número aleatorio de punto flotante entre $0$ y $100$, lo almacena en una variable llamada `num`."
   ]
  },
  {
   "cell_type": "code",
   "execution_count": 3,
   "metadata": {},
   "outputs": [
    {
     "name": "stdout",
     "output_type": "stream",
     "text": [
      "83.07765416261533\n"
     ]
    }
   ],
   "source": [
    "import random\n",
    "\n",
    "num = random.random()*100 # Para obtener un número aleatorio de punto flotante entre 0 y 100\n",
    "print(num)"
   ]
  },
  {
   "attachments": {},
   "cell_type": "markdown",
   "metadata": {},
   "source": [
    "## Método `randint( )`"
   ]
  },
  {
   "attachments": {},
   "cell_type": "markdown",
   "metadata": {},
   "source": [
    "El método `randint(a, b)`  **devuelve un número entero aleatorio entre $a$ y $b$, ambos incluidos**."
   ]
  },
  {
   "attachments": {},
   "cell_type": "markdown",
   "metadata": {},
   "source": [
    "En el siguiente codigo se selecciona un número entero aleatorio entre $0$ y $9$ (ambos inclusive)."
   ]
  },
  {
   "cell_type": "code",
   "execution_count": 7,
   "metadata": {},
   "outputs": [
    {
     "name": "stdout",
     "output_type": "stream",
     "text": [
      "9\n"
     ]
    }
   ],
   "source": [
    "import random\n",
    "\n",
    "num = random.randint(0,10)\n",
    "print(num)"
   ]
  },
  {
   "attachments": {},
   "cell_type": "markdown",
   "metadata": {},
   "source": [
    "El siguiente código crea un número aleatorio de punto flotante creando dos enteros aleatorios dentro de dos rangos grandes (en este caso entre $0$ y $1000$) y dividiendo uno por el otro."
   ]
  },
  {
   "cell_type": "code",
   "execution_count": 8,
   "metadata": {},
   "outputs": [
    {
     "name": "stdout",
     "output_type": "stream",
     "text": [
      "6.520833333333333\n"
     ]
    }
   ],
   "source": [
    "import random\n",
    "\n",
    "num1 = random.randint(0,1000)\n",
    "num2 = random.randint(0,1000)\n",
    "newrand = num1/num2\n",
    "print(newrand)"
   ]
  },
  {
   "attachments": {},
   "cell_type": "markdown",
   "metadata": {},
   "source": [
    "## Método `choice(seq)`"
   ]
  },
  {
   "attachments": {},
   "cell_type": "markdown",
   "metadata": {},
   "source": [
    "El método `choice(seq)` **devuelve un elemento aleatorio de la secuencia `seq`, que puede ser una lista, una tupla o una cadena**."
   ]
  },
  {
   "cell_type": "code",
   "execution_count": 10,
   "metadata": {},
   "outputs": [
    {
     "name": "stdout",
     "output_type": "stream",
     "text": [
      "5\n"
     ]
    }
   ],
   "source": [
    "import random\n",
    "\n",
    "lista = [1, 2, 3, 4, 5]\n",
    "elemento = random.choice(lista)\n",
    "print(elemento)"
   ]
  },
  {
   "attachments": {},
   "cell_type": "markdown",
   "metadata": {},
   "source": [
    "En el siguiente código se elige un valor aleatorio de las opciones “*rojo*”, “*negro”* o “*verde”* y lo almacena como la variable “*color*”."
   ]
  },
  {
   "cell_type": "code",
   "execution_count": 21,
   "metadata": {},
   "outputs": [
    {
     "data": {
      "text/plain": [
       "'negro'"
      ]
     },
     "execution_count": 21,
     "metadata": {},
     "output_type": "execute_result"
    }
   ],
   "source": [
    "import random\n",
    "color = random.choice([\"rojo\",\"negro\",\"blanco\"])\n",
    "color\n"
   ]
  },
  {
   "attachments": {},
   "cell_type": "markdown",
   "metadata": {},
   "source": [
    "## Método `shuffle(seq)`"
   ]
  },
  {
   "attachments": {},
   "cell_type": "markdown",
   "metadata": {},
   "source": [
    "El método `shuffle(seq)` mezcla (barajea) los elementos de la secuencia `seq` de forma aleatoria."
   ]
  },
  {
   "cell_type": "code",
   "execution_count": 3,
   "metadata": {},
   "outputs": [
    {
     "name": "stdout",
     "output_type": "stream",
     "text": [
      "[5, 4, 1, 3, 2]\n"
     ]
    }
   ],
   "source": [
    "import random\n",
    "\n",
    "lista = [1, 2, 3, 4, 5]\n",
    "random.shuffle(lista)\n",
    "print(lista)"
   ]
  },
  {
   "attachments": {},
   "cell_type": "markdown",
   "metadata": {},
   "source": [
    "## Método `sample(population, k)`"
   ]
  },
  {
   "attachments": {},
   "cell_type": "markdown",
   "metadata": {},
   "source": [
    "El  método `sample(population, k)` devuelve una lista de $k$ elementos únicos seleccionados aleatoriamente de la población `population`, que puede ser una lista, una tupla o un conjunto."
   ]
  },
  {
   "cell_type": "code",
   "execution_count": 14,
   "metadata": {},
   "outputs": [
    {
     "name": "stdout",
     "output_type": "stream",
     "text": [
      "[2, 5, 3]\n"
     ]
    }
   ],
   "source": [
    "import random\n",
    "\n",
    "lista = [1, 2, 3, 4, 5]\n",
    "elementos = random.sample(lista, 3)\n",
    "print(elementos)"
   ]
  },
  {
   "attachments": {},
   "cell_type": "markdown",
   "metadata": {},
   "source": [
    "## Método `uniform(a, b)`"
   ]
  },
  {
   "attachments": {},
   "cell_type": "markdown",
   "metadata": {},
   "source": [
    "El método `uniform(a, b)` devuelve un número flotante aleatorio entre $a$ y $b$, ambos incluidos."
   ]
  },
  {
   "cell_type": "code",
   "execution_count": 15,
   "metadata": {},
   "outputs": [
    {
     "name": "stdout",
     "output_type": "stream",
     "text": [
      "5.25874785768983\n"
     ]
    }
   ],
   "source": [
    "import random\n",
    "\n",
    "num = random.uniform(1, 10)\n",
    "print(num)"
   ]
  },
  {
   "attachments": {},
   "cell_type": "markdown",
   "metadata": {},
   "source": [
    "## Método `randrange( )`"
   ]
  },
  {
   "attachments": {},
   "cell_type": "markdown",
   "metadata": {},
   "source": [
    "El método `randrange()`  se utiliza para generar un número entero aleatorio dentro de un rango dado. El método `randrange` puede tomar uno, dos o tres argumentos y funciona de la siguiente manera:\n",
    "\n",
    "*  Si se proporcionan sólo ***Un argumento***: `randrange` devuelve un número entero aleatorio desde cero hasta ese valor (exclusivo).\n",
    "\n",
    "*  Si se proporcionan ***dos argumentos***, `randrange` devuelve un número entero aleatorio dentro del rango especificado (exclusivo). El primer argumento es el *límite inferior* y el segundo argumento es el *límite superior*.\n",
    "\n",
    "* Si se proporcionan **tres argumentos**, `randrange` devuelve un número entero aleatorio dentro del rango especificado (exclusivo) con un paso especificado. El primer argumento es el *límite inferior*, el segundo argumento es el *límite superior* y el tercer argumento es el *paso*.\n"
   ]
  },
  {
   "attachments": {},
   "cell_type": "markdown",
   "metadata": {},
   "source": [
    "En el siguiente código se elige un número aleatorio entre los números $0$ y $100$ (inclusive) en pasos de cinco en cinco, es decir, solo elegirá entre $0, 5, 10, 15, 20, \\ldots$."
   ]
  },
  {
   "cell_type": "code",
   "execution_count": 17,
   "metadata": {},
   "outputs": [
    {
     "data": {
      "text/plain": [
       "35"
      ]
     },
     "execution_count": 17,
     "metadata": {},
     "output_type": "execute_result"
    }
   ],
   "source": [
    "num = random.randrange(0,100,5)\n",
    "num"
   ]
  },
  {
   "attachments": {},
   "cell_type": "markdown",
   "metadata": {},
   "source": [
    "**Observación:** Es importante tener en cuenta que **los números aleatorios generados por estas funciones no son verdaderamente aleatorios**, sino que se generan utilizando algoritmos deterministas que utilizan una semilla para generar una secuencia de números pseudoaleatorios"
   ]
  },
  {
   "attachments": {},
   "cell_type": "markdown",
   "metadata": {},
   "source": [
    "# Codigo ASCII"
   ]
  },
  {
   "attachments": {},
   "cell_type": "markdown",
   "metadata": {},
   "source": [
    "## Función `ord()`"
   ]
  },
  {
   "attachments": {},
   "cell_type": "markdown",
   "metadata": {},
   "source": [
    "La función incorporada `ord()` permite obtener el número ordinal que está asociado con el carácter especificado."
   ]
  },
  {
   "cell_type": "code",
   "execution_count": 1,
   "metadata": {},
   "outputs": [
    {
     "name": "stdout",
     "output_type": "stream",
     "text": [
      "65 97 48\n"
     ]
    }
   ],
   "source": [
    "amayus = ord('A')\n",
    "aminus = ord('a')\n",
    "cero = ord('0')\n",
    "print(amayus,aminus,cero)"
   ]
  },
  {
   "cell_type": "code",
   "execution_count": 26,
   "metadata": {},
   "outputs": [
    {
     "name": "stdout",
     "output_type": "stream",
     "text": [
      "65 -> A\n",
      "66 -> B\n",
      "67 -> C\n",
      "68 -> D\n",
      "69 -> E\n",
      "70 -> F\n",
      "71 -> G\n",
      "72 -> H\n",
      "73 -> I\n",
      "74 -> J\n",
      "75 -> K\n",
      "76 -> L\n",
      "77 -> M\n",
      "78 -> N\n",
      "79 -> O\n",
      "80 -> P\n",
      "81 -> Q\n",
      "82 -> R\n",
      "83 -> S\n",
      "84 -> T\n",
      "85 -> U\n",
      "86 -> V\n",
      "87 -> W\n",
      "88 -> X\n",
      "89 -> Y\n",
      "90 -> Z\n"
     ]
    }
   ],
   "source": [
    "for i in range(65,65+26):\n",
    "    print(f\"{i} -> {chr(i)}\")"
   ]
  },
  {
   "cell_type": "code",
   "execution_count": 28,
   "metadata": {},
   "outputs": [
    {
     "name": "stdout",
     "output_type": "stream",
     "text": [
      "48 -> 0\n",
      "49 -> 1\n",
      "50 -> 2\n",
      "51 -> 3\n",
      "52 -> 4\n",
      "53 -> 5\n",
      "54 -> 6\n",
      "55 -> 7\n",
      "56 -> 8\n",
      "57 -> 9\n"
     ]
    }
   ],
   "source": [
    "for i in range(cero,cero+10):\n",
    "    print(f\"{i} -> {chr(i)}\")"
   ]
  },
  {
   "cell_type": "code",
   "execution_count": 27,
   "metadata": {},
   "outputs": [
    {
     "name": "stdout",
     "output_type": "stream",
     "text": [
      "97 -> a\n",
      "98 -> b\n",
      "99 -> c\n",
      "100 -> d\n",
      "101 -> e\n",
      "102 -> f\n",
      "103 -> g\n",
      "104 -> h\n",
      "105 -> i\n",
      "106 -> j\n",
      "107 -> k\n",
      "108 -> l\n",
      "109 -> m\n",
      "110 -> n\n",
      "111 -> o\n",
      "112 -> p\n",
      "113 -> q\n",
      "114 -> r\n",
      "115 -> s\n",
      "116 -> t\n",
      "117 -> u\n",
      "118 -> v\n",
      "119 -> w\n",
      "120 -> x\n",
      "121 -> y\n",
      "122 -> z\n"
     ]
    }
   ],
   "source": [
    "for i in range(aminus,aminus+26):\n",
    "    print(f\"{i} -> {chr(i)}\")"
   ]
  },
  {
   "attachments": {},
   "cell_type": "markdown",
   "metadata": {},
   "source": [
    "## Función `chr()`"
   ]
  },
  {
   "attachments": {},
   "cell_type": "markdown",
   "metadata": {},
   "source": [
    "Para recobrar un carácter a partir de su ordinal, se emplea `chr()`"
   ]
  },
  {
   "cell_type": "code",
   "execution_count": 31,
   "metadata": {},
   "outputs": [
    {
     "data": {
      "text/plain": [
       "'\\x82'"
      ]
     },
     "execution_count": 31,
     "metadata": {},
     "output_type": "execute_result"
    }
   ],
   "source": [
    "chr(130)"
   ]
  },
  {
   "cell_type": "code",
   "execution_count": null,
   "metadata": {},
   "outputs": [],
   "source": []
  },
  {
   "cell_type": "markdown",
   "metadata": {},
   "source": [
    "### Ejercicio\n",
    "\n",
    "\n",
    "El problema de <b>Monty Hall</b> es un problema de probabilidad \n",
    "inspirado en un viejo concurso de televisión llamado \n",
    "<i>Let's   Make a Deal</i> (``Hagamos un trato'').\n",
    "\n",
    "\n",
    "El problema consiste en que un concursante tiene delante tres puertas, \n",
    "detrás de una de ellas hay un auto nuevo y en las otras dos \n",
    "hay una  cabra en cada una, el concursante debe adivinar en cuál puerta está \n",
    "el vehículo. Sin embargo, una vez que  el concursante elige una \n",
    "de las puertas y lo anuncia ante el público, <b>Monty Hall</b> (el presentador, quien además  sabe que hay \n",
    "detrás de cada puerta) abre una de las puertas donde hay \n",
    "una cabra y le da la opción al concursante de cambiar la puerta \n",
    "que eligió. Surgen entonces un par de preguntas interesantes:\n",
    "¿Debe el concursante mantener su elección  original o escoger la otra puerta? ¿Cambiar de puerta puede influir en el resultado del concurso? \n",
    " \n",
    "\n",
    "Escribe un programa en python que simule $10000$ veces  el  {\\bf concurso de \n",
    " Monty Hall} cuando el concursante decide cambiar de puerta y \n",
    "responde a las siguientes preguntas:\n",
    "\n",
    "\n",
    "* ¿Cual es la probabilidad estimada de ganar el automovil si el concursante decide \n",
    "cambiar la puerta que escogió inicialmente?\n",
    "\n",
    "* Teniendo en cuenta la estimación obtenida en la simulación previa.  Si tu  fueras el concursante  ¿Cambiarias o te quedarias con la puerta elegida inicialmente?"
   ]
  },
  {
   "cell_type": "markdown",
   "metadata": {},
   "source": []
  },
  {
   "cell_type": "markdown",
   "metadata": {},
   "source": []
  }
 ],
 "metadata": {
  "kernelspec": {
   "display_name": "Python 3",
   "language": "python",
   "name": "python3"
  },
  "language_info": {
   "codemirror_mode": {
    "name": "ipython",
    "version": 3
   },
   "file_extension": ".py",
   "mimetype": "text/x-python",
   "name": "python",
   "nbconvert_exporter": "python",
   "pygments_lexer": "ipython3",
   "version": "3.11.2"
  },
  "orig_nbformat": 4,
  "vscode": {
   "interpreter": {
    "hash": "ce4d963573401a72c80fabe1ef75418dde5088fa46d743e51eca5fefbd048d5c"
   }
  }
 },
 "nbformat": 4,
 "nbformat_minor": 2
}
