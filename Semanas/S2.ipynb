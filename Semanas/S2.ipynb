{
 "cells": [
  {
   "attachments": {},
   "cell_type": "markdown",
   "metadata": {},
   "source": [
    " # Tipos de datos en Python"
   ]
  },
  {
   "attachments": {},
   "cell_type": "markdown",
   "metadata": {},
   "source": [
    "## Tipos de datos "
   ]
  },
  {
   "attachments": {},
   "cell_type": "markdown",
   "metadata": {},
   "source": [
    "Python admite distintos tipos de datos. Aquí está la lista:\n",
    "\n",
    "* **Números**\n",
    "* **Cadenas (Strings)**:\n",
    "\n",
    "\n",
    "Python tiene cuatro tipos de datos incorporados que sirven para guardar **colecciones de datos**: *lista*, *tuplas*, *conjuntos (sets)* y *diccionario*. Estos tipos difieren en cuanto a función, desempeño y maleabilidad.\n",
    "\n",
    "* **Listas**: En Python una lista es una colección de elementos de un mismo tipo o de diferentes tipos, en las listas podemos guardar todo tipo de datos o valores, ya sean str, int, float, bool incluso otra lista. Las listas son similares a los arreglos en otros lenguajes de programación.\n",
    "* **Tuplas**: en Python es una estructura de datos similar a una lista, es ordenada pero la diferencia principal  es que es inmutable, lo que significa que una vez creada, no puedes modificar sus elementos (no se pueden agregar, eliminar o cambiar).\n",
    "* **Conjunto (Sets)**: En Python un conjunto es una colección desordenada de elementos únicos, (es decir, no contiene elementos repetidos) y mutable.\n",
    "* **Diccionarios**: En Python un diccionario es una estructura de datos para trabajar con colecciones de datos almacenados en pares de claves/valores. Los diccionarios se ordenan  y son mutables. Pueden soportar cambios después de su creación, pero son estrictos acerca de entradas duplicadas. Todas las claves/valores deben ser únicos.\n"
   ]
  },
  {
   "attachments": {},
   "cell_type": "markdown",
   "metadata": {},
   "source": [
    "## Función `type( )`"
   ]
  },
  {
   "attachments": {},
   "cell_type": "markdown",
   "metadata": {},
   "source": [
    "Es posible  obtener el tipo de dato de una variable utilizando la función `type( )`"
   ]
  },
  {
   "cell_type": "code",
   "execution_count": null,
   "metadata": {},
   "outputs": [],
   "source": [
    "x = 1\n",
    "z=0.5\n",
    "y = \"cadena_caracteres\"\n",
    "\n",
    "print('La variable x es de tipo: ', type(x))\n",
    "print('La variable y es de tipo: ',type(y))\n",
    "print('La variable z es de tipo: ',type(z))"
   ]
  },
  {
   "attachments": {},
   "cell_type": "markdown",
   "metadata": {},
   "source": [
    "Las cadenas pertenecen al tipo *`str`* y los enteros pertenecen al tipo *`int`* . Los números con un punto decimal pertenecen a un tipo llamado *`float`*, también conocidos como ***números de punto flotante*** porque éstos se representan en un formato denominado ***de punto flotante***."
   ]
  },
  {
   "attachments": {},
   "cell_type": "markdown",
   "metadata": {},
   "source": [
    "¿Que ocurre con valores como:  `\"17\"`,`\"3.2\"` y `'10.0'`? Parecen números, pero están encerrados entre comillas o comillas simples como las cadenas."
   ]
  },
  {
   "cell_type": "code",
   "execution_count": null,
   "metadata": {},
   "outputs": [],
   "source": [
    "#print(type(\"17\"))\n",
    "#print(type(\"3.2\"))\n",
    "print(type('10.0'))\n"
   ]
  },
  {
   "attachments": {},
   "cell_type": "markdown",
   "metadata": {},
   "source": [
    "# Matemáticas con Python"
   ]
  },
  {
   "attachments": {},
   "cell_type": "markdown",
   "metadata": {},
   "source": [
    "Python se usa ampliamente en *finanzas, simulación, ciencia de datos, análisis estadístico* y en muchos otros campos de trabajo matemáticos intensivos. La razón es que Python hace que trabajar con números sea muy fácil e intuitivo."
   ]
  },
  {
   "attachments": {},
   "cell_type": "markdown",
   "metadata": {},
   "source": [
    "## Operadores aritméticos"
   ]
  },
  {
   "attachments": {},
   "cell_type": "markdown",
   "metadata": {},
   "source": [
    "Enseguida presentamos los operadores aritméticos más comunes que  permiten manipular números en Python."
   ]
  },
  {
   "attachments": {},
   "cell_type": "markdown",
   "metadata": {},
   "source": [
    "| Operador aritmético | Operación        | Ejemplo   | Resultado |\n",
    "|---------------------|------------------|-----------|-----------|\n",
    "| **                  | Potencia         | 4**3      | 64        |\n",
    "| *                   | Multiplicación   | 1.25*2    | 2.5       |\n",
    "| /                   | División         | 15/4      | 3.75      |\n",
    "| +                   | Suma             | 20.5+9.2  | 29.7      |\n",
    "| -                   | Resta            | 17.9-14.6 | 3.3       |\n",
    "| %                   | Módulo (residuo) | 15 % 2    | 1         |\n",
    "| //                  | División entera  | 17 // 3   | 5         |"
   ]
  },
  {
   "attachments": {},
   "cell_type": "markdown",
   "metadata": {},
   "source": [
    "### Suma \n",
    "\n",
    "Sean $x,y \\in \\mathbb{R}$, en Python para calcular la suma $x+ y$  utilizamos el operador `+`"
   ]
  },
  {
   "cell_type": "code",
   "execution_count": null,
   "metadata": {},
   "outputs": [],
   "source": [
    "x = 2\n",
    "y = 5\n",
    "\n",
    "sum = x+y \n",
    "sum\n",
    "#print(sum)"
   ]
  },
  {
   "attachments": {},
   "cell_type": "markdown",
   "metadata": {},
   "source": [
    "### Resta\n",
    "\n",
    "Sean $x,y \\in \\mathbb{R}$, en Python para determinar la diferencia $x-y$  utilizamos el operador `-`"
   ]
  },
  {
   "cell_type": "code",
   "execution_count": null,
   "metadata": {},
   "outputs": [],
   "source": [
    "x = 2\n",
    "y = 5\n",
    "\n",
    "dif= x-y\n",
    "print(dif) "
   ]
  },
  {
   "attachments": {},
   "cell_type": "markdown",
   "metadata": {},
   "source": [
    "### Multiplicación \n",
    "\n",
    "Sean $x,y \\in \\mathbb{R}$,  en Python para calcular el producto $x\\cdot y$ utilizamos el operador `*`"
   ]
  },
  {
   "cell_type": "code",
   "execution_count": null,
   "metadata": {},
   "outputs": [],
   "source": [
    "x=5\n",
    "y=3\n",
    "\n",
    "prod=x*y\n",
    "print(prod)"
   ]
  },
  {
   "attachments": {},
   "cell_type": "markdown",
   "metadata": {},
   "source": [
    "### División\n",
    "\n",
    "Sean $x,y \\in \\mathbb{R}$ con $y\\not= 0$, en Python para calcular la división $x\\div y$   utilizamos el operador `/`"
   ]
  },
  {
   "cell_type": "code",
   "execution_count": null,
   "metadata": {},
   "outputs": [],
   "source": [
    "x = 50\n",
    "y = 3\n",
    "\n",
    "div = x / y\n",
    "print(div)"
   ]
  },
  {
   "cell_type": "code",
   "execution_count": null,
   "metadata": {},
   "outputs": [],
   "source": [
    "x = 50\n",
    "y = 2\n",
    "\n",
    "div = x / y\n",
    "print(div)"
   ]
  },
  {
   "attachments": {},
   "cell_type": "markdown",
   "metadata": {},
   "source": [
    "### División entera o cociente"
   ]
  },
  {
   "attachments": {},
   "cell_type": "markdown",
   "metadata": {},
   "source": [
    "Sean $a,b \\in \\mathbb{R}$, en Python para encontrar la división entera o cociente de la división  $b\\div a$ se utiliza el operador `%`"
   ]
  },
  {
   "cell_type": "code",
   "execution_count": null,
   "metadata": {},
   "outputs": [],
   "source": [
    "a = 2\n",
    "b = 11\n",
    "\n",
    "c = b//a\n",
    "\n",
    "print(c)\n"
   ]
  },
  {
   "attachments": {},
   "cell_type": "markdown",
   "metadata": {},
   "source": [
    "### Módulo o residuo\n",
    "\n",
    "Sean $a,b \\in \\mathbb{R}$, en Python para encontrar el resto de la división $b\\div a$ se utiliza el operador `%`"
   ]
  },
  {
   "cell_type": "code",
   "execution_count": null,
   "metadata": {},
   "outputs": [],
   "source": [
    "a=2.5\n",
    "b=6\n",
    "\n",
    "c=b%a\n",
    "print(c)"
   ]
  },
  {
   "attachments": {},
   "cell_type": "markdown",
   "metadata": {},
   "source": [
    "### Potencia \n",
    "\n",
    "Sean $a,n \\in \\mathbb{R}$, para determinar la potencia $a^{n}$ en Python utilizamos el operador: `**`"
   ]
  },
  {
   "cell_type": "code",
   "execution_count": null,
   "metadata": {},
   "outputs": [],
   "source": [
    "a=-1\n",
    "n=-2\n",
    "\n",
    "pot= a**n\n",
    "print(pot)"
   ]
  },
  {
   "attachments": {},
   "cell_type": "markdown",
   "metadata": {},
   "source": [
    "## Jerarquía de operaciones\n",
    "\n",
    "El orden de las operaciones: **PEMDAS**."
   ]
  },
  {
   "cell_type": "code",
   "execution_count": null,
   "metadata": {},
   "outputs": [],
   "source": [
    "x = (4 * 5) + (20 / (2**2))\n",
    "\n",
    "y=4 * 5 + 20 / 2**2\n",
    "\n",
    "print(x)\n",
    "print(y)"
   ]
  },
  {
   "attachments": {},
   "cell_type": "markdown",
   "metadata": {},
   "source": [
    "## Tipos de números de Python\n",
    "\n",
    "Hay tres tipos de números en Python, y son los siguientes:\n",
    "\n",
    "* ***Int*** : Enteros\n",
    "* ***Float*** : Números de punto flotante\n",
    "* ***Complex*** : Números complejos o imaginarios"
   ]
  },
  {
   "cell_type": "code",
   "execution_count": null,
   "metadata": {},
   "outputs": [],
   "source": [
    "i=2 #Entero\n",
    "f=2.5  #Float\n",
    "c=1+4j #Complex\n",
    "\n",
    "print(type(i))\n",
    "print(type(f))\n",
    "print(type(c))"
   ]
  },
  {
   "attachments": {},
   "cell_type": "markdown",
   "metadata": {},
   "source": [
    "\n",
    "### Int\n",
    "\n",
    "Tipo de dato utilizado para representar  números enteros (sin decimales) tales como:\n",
    "\n",
    "$$\\ldots, -2,-1,0,1,2,4,5,\\ldots$$"
   ]
  },
  {
   "cell_type": "code",
   "execution_count": 13,
   "metadata": {},
   "outputs": [],
   "source": [
    "a=2\n",
    "b=7\n",
    "c=-3"
   ]
  },
  {
   "attachments": {},
   "cell_type": "markdown",
   "metadata": {},
   "source": [
    "\n",
    "### Float\n",
    "\n",
    "Tipo de dato utilizado para representar números de puto flotante como:\n",
    "\n",
    "$$\\ldots, -2.5,-1.1, -1,-0.5, 0.0 , 0.5, 0.75, 1.25, \\ldots$$"
   ]
  },
  {
   "cell_type": "code",
   "execution_count": 14,
   "metadata": {},
   "outputs": [],
   "source": [
    "f1=1.25\n",
    "f2=3.141516\n",
    "f3=-.75"
   ]
  },
  {
   "attachments": {},
   "cell_type": "markdown",
   "metadata": {},
   "source": [
    "### Complex\n",
    "\n",
    "Este tipo de dato se utiliza para almacenar **números complejos** o **imaginarios** i.e. números de la forma:\n",
    "$a + bj$ donde $a,b \\in \\mathbb{R}$ y $j$ es la unidad imaginaria definida tal que  $j^{2}=-1$ "
   ]
  },
  {
   "cell_type": "code",
   "execution_count": 15,
   "metadata": {},
   "outputs": [],
   "source": [
    "z= 2+8j\n",
    "w=-1.5 + 5j\n",
    "u=4j\n"
   ]
  },
  {
   "attachments": {},
   "cell_type": "markdown",
   "metadata": {},
   "source": []
  },
  {
   "attachments": {},
   "cell_type": "markdown",
   "metadata": {},
   "source": [
    "## Conversión de tipo de número"
   ]
  },
  {
   "cell_type": "code",
   "execution_count": null,
   "metadata": {},
   "outputs": [],
   "source": [
    "a = 5   # int\n",
    "b = 7.5 # float\n",
    "c = 10j  # complex\n",
    "\n",
    "f = float(a)\n",
    "i = int(b)\n",
    "c = complex(a)\n",
    "\n",
    "print(f)\n",
    "print(type(f))\n",
    "\n",
    "print(i)\n",
    "print(type(i))\n",
    "\n",
    "print(type(c))\n",
    "print(c)\n"
   ]
  },
  {
   "attachments": {},
   "cell_type": "markdown",
   "metadata": {},
   "source": [
    "Tenga en cuenta que no puede convertir números complejos en otra cosa."
   ]
  },
  {
   "attachments": {},
   "cell_type": "markdown",
   "metadata": {},
   "source": [
    "## Funciones matemáticas en Python\n",
    "\n",
    "Mencionamos antes que Python se usa mucho en cualquier campo que utilice matemáticas. Los métodos integrados que proporciona Python son una gran razón para ello. Estos son algunos de los más comunes:"
   ]
  },
  {
   "attachments": {},
   "cell_type": "markdown",
   "metadata": {},
   "source": [
    "### Valor absoluto\n",
    "\n",
    "Sea $x \\in \\mathbb{R}$,  en Python para obtener el **valor absoluto** de $x$,  $|x|$ utilizamos el  método: `abs()`"
   ]
  },
  {
   "cell_type": "code",
   "execution_count": null,
   "metadata": {},
   "outputs": [],
   "source": [
    "number = -34\n",
    "print(abs(number))"
   ]
  },
  {
   "attachments": {},
   "cell_type": "markdown",
   "metadata": {},
   "source": [
    "### Función máximo entero (función piso o  floor )\n",
    "\n",
    "La función máximo entero $\\lfloor \\cdot \\rfloor\\colon \\mathbb{R} \\to \\mathbb{N} $ asigna  a cada número real $x$ el mayor número entero $n$ menor o igual  que $x$ i.e. \n",
    "$$\\lfloor x\\rfloor := \\max\\{k \\in \\mathbb{Z} \\colon k\\leq x\\}$$\n",
    "de esta manera:\n",
    "$$\\lfloor x\\rfloor = n \\Longleftrightarrow n\\leq x <n+1  $$   \n",
    "\n",
    "**Observación:** Para utilizar este  y otros métodos matemáticos, se debe importar el <a href=\"https://docs.python.org/es/3/library/math.html#\" title=\"\">***módulo `math`***</a>."
   ]
  },
  {
   "attachments": {},
   "cell_type": "markdown",
   "metadata": {},
   "source": [
    "Un ***módulo en Python*** es un fichero `.py` que almacena un conjunto de *funciones*, *variables* o *clases* y que puede ser usado por otros módulos. "
   ]
  },
  {
   "cell_type": "code",
   "execution_count": null,
   "metadata": {},
   "outputs": [],
   "source": [
    "import math\n",
    "\n",
    "number = 6.87\n",
    "print(math.floor(number))"
   ]
  },
  {
   "cell_type": "code",
   "execution_count": null,
   "metadata": {},
   "outputs": [],
   "source": [
    "number=-1.5\n",
    "\n",
    "print(math.floor(number))"
   ]
  },
  {
   "attachments": {},
   "cell_type": "markdown",
   "metadata": {},
   "source": [
    "### Función techo (función ceil)\n",
    "\n",
    "La función techo $\\lceil \\cdot \\rceil\\colon \\mathbb{R} \\to \\mathbb{N} $ asigna  a cada número real $x$ el menor número entero $n$ mayor o igual  que $x$ i.e. \n",
    "$$\\lceil x\\rceil := \\min\\{k \\in \\mathbb{Z} \\colon x \\leq k\\}$$\n",
    "de esta manera:\n",
    "$$\\lceil x\\rceil = n \\Longleftrightarrow n-1< x \\leq n  $$   \n",
    "\n",
    "**Observación:** Similarmente para utilizar este se debe importar el módulo `.math`"
   ]
  },
  {
   "cell_type": "code",
   "execution_count": null,
   "metadata": {},
   "outputs": [],
   "source": [
    "import math\n",
    "\n",
    "number = 6.21\n",
    "print(math.ceil(number))"
   ]
  },
  {
   "cell_type": "code",
   "execution_count": null,
   "metadata": {},
   "outputs": [],
   "source": [
    "import math\n",
    "\n",
    "number = -2.1\n",
    "print(math.ceil(number))"
   ]
  },
  {
   "attachments": {},
   "cell_type": "markdown",
   "metadata": {},
   "source": [
    "### Logaritmo natural\n",
    "\n",
    "Sea $x \\in \\mathbb{R}^{+}$, en Python para determinar el logaritmo natural de $x$, $ln(x)$"
   ]
  },
  {
   "cell_type": "code",
   "execution_count": null,
   "metadata": {},
   "outputs": [],
   "source": [
    "import math\n",
    "\n",
    "math.log(1)"
   ]
  },
  {
   "attachments": {},
   "cell_type": "markdown",
   "metadata": {},
   "source": [
    "#  Cadenas (Strings)\n",
    "\n",
    "Utilizado para almacenar una sucesión de caracteres. Las ***cadenas en Python 3 son inmutables***, i.e. una vez que definiste una cadena ya no puedes cambiarala despues. Sin embargo, cuando \"modificas\" una cadena  con comandos tales como:  `replace( )` or `join( )`, se crea una copia de la cadena y se aplica la modificación a esta, no se reescribe la original.\n",
    "\n",
    "\n",
    "<!-- El saludo \"*¡Hola mundo!*\" es una cadena en Python.   -->"
   ]
  },
  {
   "attachments": {},
   "cell_type": "markdown",
   "metadata": {},
   "source": [
    "## ¿Como crear una cadena en Python?"
   ]
  },
  {
   "attachments": {},
   "cell_type": "markdown",
   "metadata": {},
   "source": [
    "\n",
    "Para crear una  cadena puedes utilizar **comillas simples**, **dobles** o **triples**. "
   ]
  },
  {
   "cell_type": "code",
   "execution_count": 23,
   "metadata": {},
   "outputs": [],
   "source": [
    "Mi_cadena= \"¡Hoy es un buen día para aprender Python!\"\n",
    "Otra_cadena= 'Esto puede parecer difícil al principio, pero te aseguro que puedes hacerlo!' \n",
    "Cadena_larga= '''En efecto, tu puedes lograr lo que te propongas... :D\n",
    "Observa que utilizando comillas tiples podemos guargar una cadena muy large de varias lineas de texto.'''"
   ]
  },
  {
   "attachments": {},
   "cell_type": "markdown",
   "metadata": {},
   "source": [
    "Enseguida  puedes usar la función `print( )` para generar el valor de la cadena en la ventana de la consola."
   ]
  },
  {
   "cell_type": "code",
   "execution_count": null,
   "metadata": {},
   "outputs": [],
   "source": [
    "print(Mi_cadena)\n",
    "print(Otra_cadena)\n",
    "print(Cadena_larga)"
   ]
  },
  {
   "attachments": {},
   "cell_type": "markdown",
   "metadata": {},
   "source": [
    "## Método `format()`"
   ]
  },
  {
   "attachments": {},
   "cell_type": "markdown",
   "metadata": {},
   "source": [
    "El método `format()` es una función integrada en Python que se utiliza para dar **formato a las cadenas de texto**. El método `format()` se llama en una cadena de texto y toma uno o más argumentos que se utilizan para reemplazar ciertos caracteres de la cadena con los valores proporcionados. Se utiliza `{ }` como **marcadores de posición** en la cadena, y los valores que se utilizan para reemplazar los marcadores de posición se pasan como argumentos a la función `format()`."
   ]
  },
  {
   "cell_type": "code",
   "execution_count": null,
   "metadata": {},
   "outputs": [],
   "source": [
    "username = input(\"Ingrese su nombre de usuario: \")\n",
    "print(\"¡Bienvenido {}!\".format(username))"
   ]
  },
  {
   "cell_type": "code",
   "execution_count": null,
   "metadata": {},
   "outputs": [],
   "source": [
    "palabra = 'mundo'\n",
    "print('¡Hola, {}!'. format(palabra))"
   ]
  },
  {
   "attachments": {},
   "cell_type": "markdown",
   "metadata": {},
   "source": [
    "Observemos que pudimos haber concatenado la variable directamente en la cadena de texto, pero en cambio utilizo el método `format()` y le paso como argumento la variable que quiero mostrar. **Los corchetes vacíos indican donde irá el texto.**"
   ]
  },
  {
   "cell_type": "code",
   "execution_count": null,
   "metadata": {},
   "outputs": [],
   "source": [
    "x = 2\n",
    "y = 3\n",
    "print(\"La suma de {} + {} = {}\".format(x,y,x+y))"
   ]
  },
  {
   "attachments": {},
   "cell_type": "markdown",
   "metadata": {},
   "source": [
    "### Imprimir decimales"
   ]
  },
  {
   "attachments": {},
   "cell_type": "markdown",
   "metadata": {},
   "source": [
    "En el siguiente ejemplo, la cadena de texto tiene tres marcadores de posición `{ }` que se reemplazan con los valores de las variables *precio*, *cantidad* y *total*. "
   ]
  },
  {
   "cell_type": "code",
   "execution_count": null,
   "metadata": {},
   "outputs": [],
   "source": [
    "precio = 15.500000\n",
    "cantidad = 2\n",
    "total = precio * cantidad\n",
    "print(\"El precio unitario es ${:.2f} y compramos {} unidades, por lo que el total es ${:.2f}\".format(precio, cantidad, total))"
   ]
  },
  {
   "cell_type": "markdown",
   "metadata": {},
   "source": [
    "En Python, el formato `{:.2f}` dentro de una cadena significa que se está aplicando un formato para mostrar un número decimal con 2 cifras después del punto decimal. "
   ]
  },
  {
   "cell_type": "markdown",
   "metadata": {},
   "source": [
    "### Opciones de Formato en el Método `format` de Python\n",
    "\n",
    "Además de `f`, el método `format` en Python permite varias opciones de especificadores para formatear valores de diferentes tipos. Aquí tienes las principales alternativas:\n",
    "\n",
    "1. **`d` – Entero decimal**:\n",
    "   - Utilizado para representar números enteros en base 10.\n",
    "   - **Ejemplo**: `\"{:d}\".format(42)` → `42`\n",
    "\n",
    "2. **`b` – Binario**:\n",
    "   - Convierte el número en su representación binaria.\n",
    "   - **Ejemplo**: `\"{:b}\".format(5)` → `101`\n",
    "\n",
    "3. **`o` – Octal**:\n",
    "   - Convierte el número en su representación octal.\n",
    "   - **Ejemplo**: `\"{:o}\".format(8)` → `10`\n",
    "\n",
    "4. **`x` y `X` – Hexadecimal**:\n",
    "   - Convierte el número en su representación hexadecimal. `x` usa letras minúsculas, y `X` usa letras mayúsculas.\n",
    "   - **Ejemplo**: `\"{:x}\".format(255)` → `ff`, `\"{:X}\".format(255)` → `FF`\n",
    "\n",
    "5. **`e` o `E` – Notación científica**:\n",
    "   - Representa el número en notación científica (exponencial). `e` usa minúsculas para el exponente y `E` usa mayúsculas.\n",
    "   - **Ejemplo**: `\"{:.2e}\".format(1234.5678)` → `1.23e+03`\n",
    "\n",
    "6. **`%` – Porcentaje**:\n",
    "   - Convierte el número a porcentaje (multiplicándolo por 100 y añadiendo `%` al final).\n",
    "   - **Ejemplo**: `\"{:.1%}\".format(0.75)` → `75.0%`\n",
    "\n",
    "7. **`g` o `G` – General**:\n",
    "   - Selecciona automáticamente entre notación fija (`f`) y científica (`e` o `E`), según el valor y la precisión.\n",
    "   - **Ejemplo**: `\"{:g}\".format(0.0001234)` → `0.0001234` o `\"{:g}\".format(12345.6)` → `12345.6`\n",
    "\n",
    "Cada uno de estos especificadores puede usarse en combinación con otros modificadores (como el número de decimales) para formatear valores con precisión.\n"
   ]
  },
  {
   "cell_type": "markdown",
   "metadata": {},
   "source": [
    "### Alineación de texto"
   ]
  },
  {
   "cell_type": "code",
   "execution_count": 3,
   "metadata": {},
   "outputs": [
    {
     "name": "stdout",
     "output_type": "stream",
     "text": [
      "|       Alumno        |                    Calificacion                    |\n",
      "|       Jorge         |                        9.56                        |\n"
     ]
    }
   ],
   "source": [
    "print(\"|{:^20} | {:^50} |\".format(\"Alumno\", \"Calificacion\"))\n",
    "print(\"|{:^20} | {:^50.2f} |\".format(\"Jorge\", 9.564))"
   ]
  },
  {
   "cell_type": "markdown",
   "metadata": {},
   "source": [
    "La notación `{:^50}` en Python se usa en el método `format` o en f-strings para **alinear texto o números al centro dentro de un espacio de ancho fijo**. Aquí `^` indica **alineación centrada** y `50` define el **ancho total del espacio** en el que se mostrará el valor. Otras opciones de alineación son:\n",
    "\n",
    "#### Alineación a la izquierda\n",
    "print(\"{:<50}\".format(\"Python\"))  # 'Python' alineado a la izquierda en 50 caracteres\n",
    "\n",
    "#### Alineación a la derecha\n",
    "print(\"{:>50}\".format(\"Python\"))  # 'Python' alineado a la derecha en 50 caracteres\n",
    "\n",
    "#### Alineación a la derecha con el signo en la izquierda (solo para números)\n",
    "print(\"{:=10}\".format(-123))  # '-      123'\n"
   ]
  },
  {
   "attachments": {},
   "cell_type": "markdown",
   "metadata": {},
   "source": [
    "### Especificando el orden de los valores"
   ]
  },
  {
   "attachments": {},
   "cell_type": "markdown",
   "metadata": {},
   "source": [
    "Podemos indicar en los corchetes números. Igual que una lista, el método `format( )` distingue los valores contando desde $0$. Esto a veces puede ser un poco confuso. Para ello podemos asignar nombres a nuestros indices. Veamos un ejemplo:"
   ]
  },
  {
   "attachments": {},
   "cell_type": "markdown",
   "metadata": {},
   "source": [
    "<!-- El método `format()` puede recibir más de un valor. Podemos agregar múltiples valores. Veamos un ejemplo: -->"
   ]
  },
  {
   "cell_type": "code",
   "execution_count": 1,
   "metadata": {},
   "outputs": [
    {
     "name": "stdout",
     "output_type": "stream",
     "text": [
      "Mi nombre es Peter Parker. Pero mis amigos me dicen El hombre araña.\n"
     ]
    }
   ],
   "source": [
    "name = \"Peter\"\n",
    "lastname = \"Parker\"\n",
    "username = \"El hombre araña\"\n",
    "text = \"Mi nombre es {0} {1}. Pero mis amigos me dicen {2}.\"\n",
    "print(text.format(name, lastname, username))"
   ]
  },
  {
   "cell_type": "code",
   "execution_count": null,
   "metadata": {},
   "outputs": [],
   "source": [
    "text = \"Mi nombre es {name} {lastname}.\"\n",
    "print(text.format(name=\"Pablo\", lastname=\"Hernandez\"))"
   ]
  },
  {
   "attachments": {},
   "cell_type": "markdown",
   "metadata": {},
   "source": [
    "Sin duda a veces  manejar  números en cadenas de texto es dificil. Para ello podemos utilizar tambien el método  `format( )`. La sintaxis no cambia. Veamos otro ejemplo:"
   ]
  },
  {
   "cell_type": "code",
   "execution_count": null,
   "metadata": {},
   "outputs": [],
   "source": [
    "text = \"Yo tengo {age}. Yo nací en el año {year}\"\n",
    "print(text.format(age=23, year=2000))"
   ]
  },
  {
   "attachments": {},
   "cell_type": "markdown",
   "metadata": {},
   "source": [
    "<!-- Como en Python todo es un objeto, cuando queremos imprimir el valor de una variable debemos utilizar la función `format` y el placeholder `{}`. -->"
   ]
  },
  {
   "attachments": {},
   "cell_type": "markdown",
   "metadata": {},
   "source": [
    "## `f-strings `"
   ]
  },
  {
   "attachments": {},
   "cell_type": "markdown",
   "metadata": {},
   "source": [
    "\n",
    "Las **f-strings**  son una forma de **formatear cadenas de caracteres en Python 3**. Las f-strings permiten la **inclusión de expresiones de Python dentro de cadenas de caracteres**, lo que permite la creación de cadenas de caracteres dinámicas.\n",
    "\n",
    "Una f-string es una **cadena con formato**,  comienza con la letra `f`. La ventaja de utilizar f-strings es que hacen que el código sea más legible y más fácil de mantener, ya que **permiten incluir valores de variables y expresiones directamente en la cadena de texto**. \n",
    " <!-- Sin embargo, existen grandes cambios con respecto al código legacy que viene de Python 2 hacia Python 3 -->\n",
    "\n",
    "En general, una f-string contiene variables y expresiones entre llaves `{ }` que se sustituyen directamente por su valor. Las `f-strings` se reconocen porque comienzan por una letra `f` antes de las comillas de apertura.\n",
    "\n",
    "Desde Python 3.6 es posible utilizar f-strings para realizar lo mismo que la función format de la siguiente manera:"
   ]
  },
  {
   "cell_type": "code",
   "execution_count": null,
   "metadata": {},
   "outputs": [],
   "source": [
    "sumando1=int(input(\"Ingrese primer valor:\"))\n",
    "sumando2=int(input(\"Ingrese segundo valor:\"))\n",
    "suma=sumando1+sumando2\n",
    "print(f\"La suma de {sumando1} y {sumando2} es {suma}\")\n"
   ]
  },
  {
   "cell_type": "code",
   "execution_count": null,
   "metadata": {},
   "outputs": [],
   "source": [
    "nombre = \"Alicia\"\n",
    "edad = 35\n",
    "print(f\"Me llamo {nombre} y tengo {edad} años.\")"
   ]
  },
  {
   "cell_type": "code",
   "execution_count": null,
   "metadata": {},
   "outputs": [],
   "source": [
    "palabra = 'Mundo'\n",
    "print(f'Hola, {palabra}')"
   ]
  },
  {
   "attachments": {},
   "cell_type": "markdown",
   "metadata": {},
   "source": [
    "## Diferencias entre f-strings y  método format()\n"
   ]
  },
  {
   "attachments": {},
   "cell_type": "markdown",
   "metadata": {},
   "source": [
    "Tanto las f-strings como el método `format()` se utilizan para formatear cadenas de caracteres en Python, pero hay algunas diferencias importantes entre los dos métodos."
   ]
  },
  {
   "attachments": {},
   "cell_type": "markdown",
   "metadata": {},
   "source": [
    "### Sintaxis"
   ]
  },
  {
   "attachments": {},
   "cell_type": "markdown",
   "metadata": {},
   "source": [
    "La sintaxis de las f-strings es más simple y legible que la del método `format()`. Para crear una f-string, simplemente pon una \"f\" antes de la cadena de caracteres y luego coloca las expresiones de Python dentro de llaves `{ } `dentro de la cadena. \n",
    "\n",
    "Por otro lado, para utilizar el método `format()`, debemos llamar al método en una cadena de caracteres y colocar los valores que deseamos insertar en las llaves {} dentro de la cadena"
   ]
  },
  {
   "attachments": {},
   "cell_type": "markdown",
   "metadata": {},
   "source": [
    "### Evaluación en tiempo de ejecución"
   ]
  },
  {
   "attachments": {},
   "cell_type": "markdown",
   "metadata": {},
   "source": [
    "Con las f-strings, podemos **incluir expresiones de Python dentro de las llaves** `{ }` que **se evalúan en tiempo de ejecución**. Por ejemplo:"
   ]
  },
  {
   "cell_type": "code",
   "execution_count": null,
   "metadata": {},
   "outputs": [],
   "source": [
    "numero = 10\n",
    "print(f\"El doble de {numero} es {numero * 2}.\")"
   ]
  },
  {
   "attachments": {},
   "cell_type": "markdown",
   "metadata": {},
   "source": [
    "En cambio, con el método `format( )`, **no podemos incluir expresiones de Python dentro de las llaves** `{ }`. En su lugar, debemos calcular los valores antes de llamar al método format(). Por ejemplo:"
   ]
  },
  {
   "cell_type": "code",
   "execution_count": null,
   "metadata": {},
   "outputs": [],
   "source": [
    "numero = 10\n",
    "doble = numero * 2\n",
    "print(\"El doble de {} es {}.\".format(numero, doble))"
   ]
  },
  {
   "attachments": {},
   "cell_type": "markdown",
   "metadata": {},
   "source": [
    "**En general**, las `f-strings` son más legibles que el método `format( )` porque la expresión se encuentra directamente dentro de la cadena de caracteres, lo que hace que sea más fácil ver lo que está sucediendo. Además, las `f-strings` son más concisas y reducen la cantidad de código que se debe escribir."
   ]
  },
  {
   "attachments": {},
   "cell_type": "markdown",
   "metadata": {},
   "source": [
    "## Cadenas multilinea"
   ]
  },
  {
   "attachments": {},
   "cell_type": "markdown",
   "metadata": {},
   "source": [
    "Para **imprimir una cadena multilínea** puede realizarse utilizando el **caracter de escape** `\\` o la **triple comilla**.\n",
    "\n",
    "Los siguientes dos ejemplos son equivalentes."
   ]
  },
  {
   "cell_type": "code",
   "execution_count": 5,
   "metadata": {},
   "outputs": [
    {
     "name": "stdout",
     "output_type": "stream",
     "text": [
      "Hola mundo\n"
     ]
    }
   ],
   "source": [
    "x = 'Hola ' \\\n",
    "    'mundo'\n",
    "print(x)"
   ]
  },
  {
   "cell_type": "markdown",
   "metadata": {},
   "source": [
    "**Observación:** Dos o más cadenas literales (es decir, las encerradas entre comillas) una al lado de la otra **se concatenan automáticamente**."
   ]
  },
  {
   "cell_type": "code",
   "execution_count": null,
   "metadata": {},
   "outputs": [],
   "source": [
    "x = '''hello\n",
    "world'''"
   ]
  },
  {
   "attachments": {},
   "cell_type": "markdown",
   "metadata": {},
   "source": [
    "## Concatenar cadenas"
   ]
  },
  {
   "attachments": {},
   "cell_type": "markdown",
   "metadata": {},
   "source": [
    "<!-- la concatenación de cadenas se puede realizar utilizando el operador `+` o el método `join()`. -->\n",
    "\n",
    "Para concatenar dos o más cadenas usando el operador `+`, simplemente colócalas una al lado de la otra con el operador `+` entre ellas o bien utilizando  el método `join()`.:"
   ]
  },
  {
   "cell_type": "code",
   "execution_count": null,
   "metadata": {},
   "outputs": [],
   "source": [
    "cadena1 = \"Hola\"\n",
    "cadena2 = \"mundo\"\n",
    "cadena3 = cadena1 + \" \" + cadena2\n",
    "print(cadena3)"
   ]
  },
  {
   "attachments": {},
   "cell_type": "markdown",
   "metadata": {},
   "source": [
    "También puedes usar la instrucción `join()` para concatenar una lista de cadenas. Este método toma una lista de cadenas y une cada elemento con un separador especificado:"
   ]
  },
  {
   "cell_type": "code",
   "execution_count": null,
   "metadata": {},
   "outputs": [],
   "source": [
    "lista_cadenas = [\"Hola\", \"mundo\"]\n",
    "separador = \" \"\n",
    "cadena = separador.join(lista_cadenas)\n",
    "print(cadena)\n"
   ]
  },
  {
   "attachments": {},
   "cell_type": "markdown",
   "metadata": {},
   "source": [
    "**Observación:** La lista lista_cadenas se une usando el separador `\" \"`, que es un espacio en blanco."
   ]
  },
  {
   "attachments": {},
   "cell_type": "markdown",
   "metadata": {},
   "source": [
    "Las cadenas se pueden **concatenar** (pegar juntas) con el operador `+` y se pueden **repetir** con  `*`:"
   ]
  },
  {
   "cell_type": "code",
   "execution_count": null,
   "metadata": {},
   "outputs": [],
   "source": [
    "# 3 veces 'UMAR', seguido de  'Huatulco'\n",
    "3 * 'UMAR' + 'Huatulco'"
   ]
  },
  {
   "attachments": {},
   "cell_type": "markdown",
   "metadata": {},
   "source": [
    "**Observación:** Dos o más cadenas literales (es decir, las encerradas entre comillas) una al lado de la otra **se concatenan automáticamente**."
   ]
  },
  {
   "cell_type": "code",
   "execution_count": null,
   "metadata": {},
   "outputs": [],
   "source": [
    "'Py' 'thon'"
   ]
  },
  {
   "attachments": {},
   "cell_type": "markdown",
   "metadata": {},
   "source": [
    "Esta característica es particularmente útil cuando quieres dividir cadenas largas:"
   ]
  },
  {
   "cell_type": "code",
   "execution_count": null,
   "metadata": {},
   "outputs": [],
   "source": [
    "text = ('Cadena1  '\n",
    "        'Cadena2')\n",
    "\n",
    "print(text)"
   ]
  },
  {
   "attachments": {},
   "cell_type": "markdown",
   "metadata": {},
   "source": [
    "Esto sólo funciona con dos cadenas, **no con variables ni expresiones**:"
   ]
  },
  {
   "cell_type": "code",
   "execution_count": null,
   "metadata": {},
   "outputs": [],
   "source": [
    "prefix = 'Py'\n",
    "#prefix 'thon'  # No se puede concatenar con una variable y una expresión"
   ]
  },
  {
   "attachments": {},
   "cell_type": "markdown",
   "metadata": {},
   "source": [
    "Si quieres **concatenar variables o una variable y un literal**, usa `+`"
   ]
  },
  {
   "cell_type": "code",
   "execution_count": null,
   "metadata": {},
   "outputs": [],
   "source": [
    "prefix + 'thon'"
   ]
  },
  {
   "attachments": {},
   "cell_type": "markdown",
   "metadata": {},
   "source": [
    "## Indices de cadenas de texto"
   ]
  },
  {
   "attachments": {},
   "cell_type": "markdown",
   "metadata": {},
   "source": [
    "**Las cadenas de texto se pueden indexar (subíndices)**, el primer carácter de la cadena tiene el índice 0. No hay un tipo de dato diferente para los caracteres; un carácter es simplemente una cadena de longitud uno:"
   ]
  },
  {
   "cell_type": "code",
   "execution_count": null,
   "metadata": {},
   "outputs": [],
   "source": [
    "word = 'Python'\n",
    "print(word[2])  # caracter en posición 0 \n",
    "#word[5]"
   ]
  },
  {
   "attachments": {},
   "cell_type": "markdown",
   "metadata": {},
   "source": [
    "Los índices también pueden ser números negativos, para empezar a contar desde la derecha:"
   ]
  },
  {
   "cell_type": "code",
   "execution_count": null,
   "metadata": {},
   "outputs": [],
   "source": [
    "word[-1]  # Último caracter  "
   ]
  },
  {
   "cell_type": "code",
   "execution_count": null,
   "metadata": {},
   "outputs": [],
   "source": [
    "word[-2]  # Penultimo  caracter"
   ]
  },
  {
   "cell_type": "code",
   "execution_count": null,
   "metadata": {},
   "outputs": [],
   "source": [
    "word[-7]"
   ]
  },
  {
   "attachments": {},
   "cell_type": "markdown",
   "metadata": {},
   "source": [
    "**Observación**: Nótese que -0 es lo mismo que 0, **los índice negativos comienzan desde -1.**"
   ]
  },
  {
   "attachments": {},
   "cell_type": "markdown",
   "metadata": {},
   "source": [
    "## Rebanadas de cadenas"
   ]
  },
  {
   "attachments": {},
   "cell_type": "markdown",
   "metadata": {},
   "source": [
    "Además de los índices, las **rebanadas** también están soportadas. Mientras que los índices se utilizar para obtener caracteres individuales, las rebanadas te permiten obtener partes de las cadenas de texto:"
   ]
  },
  {
   "cell_type": "code",
   "execution_count": null,
   "metadata": {},
   "outputs": [],
   "source": [
    "word[0:2]  # Caracteres desde la posición 0 (incluido) a la posición 2 (excluido)"
   ]
  },
  {
   "cell_type": "code",
   "execution_count": null,
   "metadata": {},
   "outputs": [],
   "source": [
    "word[2:5] "
   ]
  },
  {
   "attachments": {},
   "cell_type": "markdown",
   "metadata": {},
   "source": [
    "Los índices de las rebanadas tienen valores por defecto útiles; el valor por defecto para el primer índice es cero, el valor por defecto para el segundo índice es la longitud de la cadena a rebanar."
   ]
  },
  {
   "cell_type": "code",
   "execution_count": null,
   "metadata": {},
   "outputs": [],
   "source": [
    "word[:2]   # Caracter desde el inicio hasta la  posición 2 (excluido) "
   ]
  },
  {
   "cell_type": "code",
   "execution_count": null,
   "metadata": {},
   "outputs": [],
   "source": [
    "word[4:]   # Caracter desde la posicion 4 (included) hasta el final "
   ]
  },
  {
   "cell_type": "code",
   "execution_count": null,
   "metadata": {},
   "outputs": [],
   "source": [
    "word[-2:]# Caracter desde la penultima posicion  (included) hasta el final "
   ]
  },
  {
   "attachments": {},
   "cell_type": "markdown",
   "metadata": {},
   "source": [
    "Nótese cómo el inicio siempre se incluye y el final siempre se excluye. Esto asegura que $s[:i] + s[i:]$ siempre sea igual a $s$:"
   ]
  },
  {
   "cell_type": "code",
   "execution_count": null,
   "metadata": {},
   "outputs": [],
   "source": [
    "word[:2] + word[2:]"
   ]
  },
  {
   "attachments": {},
   "cell_type": "markdown",
   "metadata": {},
   "source": [
    "**Observación** Intentar usar un índice que es muy grande resultará en un error:"
   ]
  },
  {
   "cell_type": "code",
   "execution_count": null,
   "metadata": {},
   "outputs": [],
   "source": [
    "word[50]"
   ]
  },
  {
   "attachments": {},
   "cell_type": "markdown",
   "metadata": {},
   "source": [
    "Sin embargo, los índices de rebanadas fuera de rango se manejan satisfactoriamente cuando se usan para rebanar:"
   ]
  },
  {
   "cell_type": "code",
   "execution_count": null,
   "metadata": {},
   "outputs": [],
   "source": [
    "word[4:42]"
   ]
  },
  {
   "cell_type": "code",
   "execution_count": null,
   "metadata": {},
   "outputs": [],
   "source": [
    "word[42:]"
   ]
  },
  {
   "attachments": {},
   "cell_type": "markdown",
   "metadata": {},
   "source": [
    "Las cadenas de Python no se pueden modificar, son **immutable**. Por eso, asignar a una posición indexada de la cadena resulta en un error:"
   ]
  },
  {
   "cell_type": "code",
   "execution_count": null,
   "metadata": {},
   "outputs": [],
   "source": [
    "word[0] = 'J'"
   ]
  },
  {
   "attachments": {},
   "cell_type": "markdown",
   "metadata": {},
   "source": [
    "Si necesitas una cadena diferente, deberías crear una nueva:"
   ]
  },
  {
   "cell_type": "code",
   "execution_count": null,
   "metadata": {},
   "outputs": [],
   "source": [
    "word[:2] + 'py'"
   ]
  },
  {
   "attachments": {},
   "cell_type": "markdown",
   "metadata": {},
   "source": [
    "La función incorporada `len()` retorna la longitud de una cadena:"
   ]
  },
  {
   "cell_type": "code",
   "execution_count": null,
   "metadata": {},
   "outputs": [],
   "source": [
    "s='Hola' #parangaricutirimicuaro'\n",
    "len(s)"
   ]
  },
  {
   "attachments": {},
   "cell_type": "markdown",
   "metadata": {},
   "source": [
    "\n",
    "**Observación:** Explora algunos de los <a href=\"https://docs.python.org/es/3/library/stdtypes.html#string-methods\" title=\"\"> ***métodos de la clase `string`***</a>.\n"
   ]
  },
  {
   "attachments": {},
   "cell_type": "markdown",
   "metadata": {},
   "source": [
    "## Métodos de cadenas en Python\n",
    "\n"
   ]
  },
  {
   "cell_type": "markdown",
   "metadata": {},
   "source": [
    "<table>\n",
    "    <thead>\n",
    "        <tr>\n",
    "            <th>Método</th>\n",
    "            <th>Descripción</th>\n",
    "            <th>Ejemplo</th>\n",
    "        </tr>\n",
    "    </thead>\n",
    "    <tbody>\n",
    "        <tr>\n",
    "            <td><strong>lower()</strong></td>\n",
    "            <td>Convierte todos los caracteres de la cadena a minúsculas.</td>\n",
    "            <td><code>\"Hola Mundo\".lower()</code> → <code>\"hola mundo\"</code></td>\n",
    "        </tr>\n",
    "        <tr>\n",
    "            <td><strong>upper()</strong></td>\n",
    "            <td>Convierte todos los caracteres de la cadena a mayúsculas.</td>\n",
    "            <td><code>\"Hola Mundo\".upper()</code> → <code>\"HOLA MUNDO\"</code></td>\n",
    "        </tr>\n",
    "        <tr>\n",
    "            <td><strong>title()</strong></td>\n",
    "            <td>Convierte la primera letra de cada palabra a mayúscula.</td>\n",
    "            <td><code>\"hola mundo\".title()</code> → <code>\"Hola Mundo\"</code></td>\n",
    "        </tr>\n",
    "        <tr>\n",
    "            <td><strong>strip()</strong></td>\n",
    "            <td>Elimina los espacios en blanco al inicio y al final de la cadena.</td>\n",
    "            <td><code>\"  hola mundo  \".strip()</code> → <code>\"hola mundo\"</code></td>\n",
    "        </tr>\n",
    "        <tr>\n",
    "            <td><strong>replace()</strong></td>\n",
    "            <td>Reemplaza todas las ocurrencias de un substring por otro.</td>\n",
    "            <td><code>\"hola mundo\".replace(\"mundo\", \"Python\")</code> → <code>\"hola Python\"</code></td>\n",
    "        </tr>\n",
    "        <tr>\n",
    "            <td><strong>split()</strong></td>\n",
    "            <td>Divide la cadena en una lista utilizando el separador especificado.</td>\n",
    "            <td><code>\"uno,dos,tres\".split(\",\")</code> → <code>[\"uno\", \"dos\", \"tres\"]</code></td>\n",
    "        </tr>\n",
    "        <tr>\n",
    "            <td><strong>join()</strong></td>\n",
    "            <td>Une los elementos de un iterable en una cadena, separados por la cadena actual.</td>\n",
    "            <td><code>\",\".join([\"uno\", \"dos\", \"tres\"])</code> → <code>\"uno,dos,tres\"</code></td>\n",
    "        </tr>\n",
    "        <tr>\n",
    "            <td><strong>find()</strong></td>\n",
    "            <td>Devuelve el índice de la primera aparición del substring, o -1 si no se encuentra.</td>\n",
    "            <td><code>\"hola mundo\".find(\"mundo\")</code> → <code>5</code></td>\n",
    "        </tr>\n",
    "        <tr>\n",
    "            <td><strong>startswith()</strong></td>\n",
    "            <td>Devuelve True si la cadena comienza con el prefijo especificado.</td>\n",
    "            <td><code>\"hola mundo\".startswith(\"hola\")</code> → <code>True</code></td>\n",
    "        </tr>\n",
    "        <tr>\n",
    "            <td><strong>endswith()</strong></td>\n",
    "            <td>Devuelve True si la cadena termina con el sufijo especificado.</td>\n",
    "            <td><code>\"hola mundo\".endswith(\"mundo\")</code> → <code>True</code></td>\n",
    "        </tr>\n",
    "        <tr>\n",
    "            <td><strong>isdigit()</strong></td>\n",
    "            <td>Devuelve True si todos los caracteres de la cadena son dígitos.</td>\n",
    "            <td><code>\"1234\".isdigit()</code> → <code>True</code></td>\n",
    "        </tr>\n",
    "        <tr>\n",
    "            <td><strong>isalpha()</strong></td>\n",
    "            <td>Devuelve True si todos los caracteres de la cadena son alfabéticos.</td>\n",
    "            <td><code>\"hola\".isalpha()</code> → <code>True</code></td>\n",
    "        </tr>\n",
    "        <tr>\n",
    "            <td><strong>isspace()</strong></td>\n",
    "            <td>Devuelve True si la cadena contiene solo espacios en blanco.</td>\n",
    "            <td><code>\"   \".isspace()</code> → <code>True</code></td>\n",
    "        </tr>\n",
    "        <tr>\n",
    "            <td><strong>zfill()</strong></td>\n",
    "            <td>Rellena la cadena con ceros a la izquierda para alcanzar el ancho especificado.</td>\n",
    "            <td><code>\"42\".zfill(5)</code> → <code>\"00042\"</code></td>\n",
    "        </tr>\n",
    "        <tr>\n",
    "            <td><strong>capitalize()</strong></td>\n",
    "            <td>Convierte el primer carácter de la cadena a mayúscula y el resto a minúsculas.</td>\n",
    "            <td><code>\"hola mundo\".capitalize()</code> → <code>\"Hola mundo\"</code></td>\n",
    "        </tr>\n",
    "        <tr>\n",
    "            <td><strong>casefold()</strong></td>\n",
    "            <td>Convierte la cadena a minúsculas de forma más agresiva para comparaciones insensibles a mayúsculas.</td>\n",
    "            <td><code>\"München\".casefold()</code> → <code>\"münchen\"</code></td>\n",
    "        </tr>\n",
    "        <tr>\n",
    "            <td><strong>count()</strong></td>\n",
    "            <td>Devuelve el número de apariciones de un substring en la cadena.</td>\n",
    "            <td><code>\"banana\".count(\"a\")</code> → <code>3</code></td>\n",
    "        </tr>\n",
    "        <tr>\n",
    "            <td><strong>center()</strong></td>\n",
    "            <td>Centra la cadena usando un ancho especificado y un carácter de relleno opcional.</td>\n",
    "            <td><code>\"hola\".center(10, \"*\")</code> → <code>\"**hola***\"</code></td>\n",
    "        </tr>\n",
    "        <tr>\n",
    "            <td><strong>lstrip()</strong></td>\n",
    "            <td>Elimina los espacios en blanco al inicio de la cadena.</td>\n",
    "            <td><code>\"  hola mundo\".lstrip()</code> → <code>\"hola mundo\"</code></td>\n",
    "        </tr>\n",
    "        <tr>\n",
    "            <td><strong>rstrip()</strong></td>\n",
    "            <td>Elimina los espacios en blanco al final de la cadena.</td>\n",
    "            <td><code>\"hola mundo  \".rstrip()</code> → <code>\"hola mundo\"</code></td>\n",
    "        </tr>\n",
    "        <tr>\n",
    "            <td><strong>expandtabs()</strong></td>\n",
    "            <td>Reemplaza los caracteres de tabulación por espacios en blanco.</td>\n",
    "            <td><code>\"hola\\tmundo\".expandtabs()</code> → <code>\"hola    mundo\"</code></td>\n",
    "        </tr>\n",
    "        <tr>\n",
    "            <td><strong>encode()</strong></td>\n",
    "            <td>Codifica la cadena en una secuencia de bytes especificada por la codificación dada.</td>\n",
    "            <td><code>\"hola mundo\".encode(\"ascii\", errors=\"replace\")</code> → <code>b'hola mundo'</code></td>\n",
    "        </tr>\n",
    "    </tbody>\n",
    "</table>\n"
   ]
  },
  {
   "cell_type": "markdown",
   "metadata": {},
   "source": []
  }
 ],
 "metadata": {
  "kernelspec": {
   "display_name": "Python 3",
   "language": "python",
   "name": "python3"
  },
  "language_info": {
   "codemirror_mode": {
    "name": "ipython",
    "version": 3
   },
   "file_extension": ".py",
   "mimetype": "text/x-python",
   "name": "python",
   "nbconvert_exporter": "python",
   "pygments_lexer": "ipython3",
   "version": "3.11.2"
  },
  "orig_nbformat": 4,
  "vscode": {
   "interpreter": {
    "hash": "1606ed296fe21ab67c1d4b49f3f22d72247524c93f58d404930dbd4d15d6017c"
   }
  }
 },
 "nbformat": 4,
 "nbformat_minor": 2
}
