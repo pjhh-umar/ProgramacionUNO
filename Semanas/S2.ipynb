{
 "cells": [
  {
   "attachments": {},
   "cell_type": "markdown",
   "metadata": {},
   "source": [
    " # Tipos de datos en Python"
   ]
  },
  {
   "attachments": {},
   "cell_type": "markdown",
   "metadata": {},
   "source": [
    "## Tipos de datos "
   ]
  },
  {
   "attachments": {},
   "cell_type": "markdown",
   "metadata": {},
   "source": [
    "Python admite distintos tipos de datos. Aquí está la lista:\n",
    "\n",
    "* **Números**\n",
    "* **Cadenas (Strings)**:\n",
    "\n",
    "\n",
    "Python tiene cuatro tipos de datos incorporados que sirven para guardar colecciones de datos: *lista*, *tuple*, *sets* y *diccionario*. Estos tipos difieren en cuanto a función, desempeño y maleabilidad.\n",
    "\n",
    "* **Listas**: En Python una lista es una colección de elementos de un mismo tipo o de diferentes tipos, en las listas podemos guardar todo tipo de datos o valores, ya sean str, int, float, bool incluso otra lista. Las listas son similares a los arreglos en otros lenguajes de programación.\n",
    "* **Tuplas**: En Python una tupla es conjunto ordenado e inmutable de elementos del mismo o diferente tipo.\n",
    "* **Sets**:\n",
    "* **Diccionarios**: En Python un diccionario es una estructura de datos para trabajar con colecciones de datos almacenados en pares de claves/valores. Los diccionarios se ordenan  y son mutables. Pueden soportar cambios después de su creación, pero son estrictos acerca de entradas duplicadas. Todas las claves/valores deben ser únicos.\n"
   ]
  },
  {
   "attachments": {},
   "cell_type": "markdown",
   "metadata": {},
   "source": [
    "## Función `type( )`"
   ]
  },
  {
   "attachments": {},
   "cell_type": "markdown",
   "metadata": {},
   "source": [
    "Es posible  obtener el tipo de dato de una variable utilizando la función `type( )`"
   ]
  },
  {
   "cell_type": "code",
   "execution_count": 1,
   "metadata": {},
   "outputs": [
    {
     "name": "stdout",
     "output_type": "stream",
     "text": [
      "La variable x es de tipo:  <class 'int'>\n",
      "La variable y es de tipo:  <class 'str'>\n",
      "La variable z es de tipo:  <class 'float'>\n"
     ]
    }
   ],
   "source": [
    "x = 1\n",
    "z=0.5\n",
    "y = \"cadena_caracteres\"\n",
    "\n",
    "print('La variable x es de tipo: ', type(x))\n",
    "print('La variable y es de tipo: ',type(y))\n",
    "print('La variable z es de tipo: ',type(z))"
   ]
  },
  {
   "attachments": {},
   "cell_type": "markdown",
   "metadata": {},
   "source": [
    "Las cadenas pertenecen al tipo *`str`* y los enteros pertenecen al tipo *`int`* . Los números con un punto decimal pertenecen a un tipo llamado *`float`*, también conocidos como ***números de punto flotante*** porque éstos se representan en un formato denominado ***de punto flotante***."
   ]
  },
  {
   "attachments": {},
   "cell_type": "markdown",
   "metadata": {},
   "source": [
    "¿Que ocurre con valores como:  `\"17\"`,`\"3.2\"` y `'10.0'`? Parecen números, pero están encerrados entre comillas o comillas simples como las cadenas."
   ]
  },
  {
   "cell_type": "code",
   "execution_count": 2,
   "metadata": {},
   "outputs": [
    {
     "data": {
      "text/plain": [
       "str"
      ]
     },
     "execution_count": 2,
     "metadata": {},
     "output_type": "execute_result"
    }
   ],
   "source": [
    "#type(\"17\")\n",
    "#type(\"3.2\")\n",
    "type('10.0')\n"
   ]
  },
  {
   "attachments": {},
   "cell_type": "markdown",
   "metadata": {},
   "source": [
    "# Matemáticas con Python"
   ]
  },
  {
   "attachments": {},
   "cell_type": "markdown",
   "metadata": {},
   "source": [
    "Python se usa ampliamente en *finanzas, simulación, ciencia de datos, análisis estadístico* y en muchos otros campos de trabajo matemáticos intensivos. La razón es que Python hace que trabajar con números sea muy fácil e intuitivo."
   ]
  },
  {
   "attachments": {},
   "cell_type": "markdown",
   "metadata": {},
   "source": [
    "## Operadores aritméticos"
   ]
  },
  {
   "attachments": {},
   "cell_type": "markdown",
   "metadata": {},
   "source": [
    "Enseguida presentamos los operadores aritméticos más comunes que  permiten manipular números en Python."
   ]
  },
  {
   "attachments": {},
   "cell_type": "markdown",
   "metadata": {},
   "source": [
    "| Operador aritmético | Operación        | Ejemplo   | Resultado |\n",
    "|---------------------|------------------|-----------|-----------|\n",
    "| **                  | Potencia         | 4**3      | 64        |\n",
    "| *                   | Multiplicación   | 1.25*2    | 2.5       |\n",
    "| /                   | División         | 15/4      | 3.75      |\n",
    "| +                   | Suma             | 20.5+9.2  | 29.7      |\n",
    "| -                   | Resta            | 17.9-14.6 | 3.3       |\n",
    "| %                   | Módulo (residuo) | 15 % 2    | 1         |\n",
    "| //                  | División entera  | 17 // 3   | 5         |"
   ]
  },
  {
   "attachments": {},
   "cell_type": "markdown",
   "metadata": {},
   "source": [
    "### Suma \n",
    "\n",
    "Sean $x,y \\in \\mathbb{R}$, en Python para calcular la suma $x+ y$  utilizamos el operador `+`"
   ]
  },
  {
   "cell_type": "code",
   "execution_count": 3,
   "metadata": {},
   "outputs": [
    {
     "data": {
      "text/plain": [
       "7"
      ]
     },
     "execution_count": 3,
     "metadata": {},
     "output_type": "execute_result"
    }
   ],
   "source": [
    "x = 2\n",
    "y = 5\n",
    "\n",
    "sum = x+y \n",
    "sum\n",
    "#print(sum)"
   ]
  },
  {
   "attachments": {},
   "cell_type": "markdown",
   "metadata": {},
   "source": [
    "### Resta\n",
    "\n",
    "Sean $x,y \\in \\mathbb{R}$, en Python para determinar la diferencia $x-y$  utilizamos el operador `-`"
   ]
  },
  {
   "cell_type": "code",
   "execution_count": 4,
   "metadata": {},
   "outputs": [
    {
     "name": "stdout",
     "output_type": "stream",
     "text": [
      "-3\n"
     ]
    }
   ],
   "source": [
    "x = 2\n",
    "y = 5\n",
    "\n",
    "dif= x-y\n",
    "print(dif) "
   ]
  },
  {
   "attachments": {},
   "cell_type": "markdown",
   "metadata": {},
   "source": [
    "### Multiplicación \n",
    "\n",
    "Sean $x,y \\in \\mathbb{R}$,  en Python para calcular el producto $x\\cdot y$ utilizamos el operador `*`"
   ]
  },
  {
   "cell_type": "code",
   "execution_count": 5,
   "metadata": {},
   "outputs": [
    {
     "name": "stdout",
     "output_type": "stream",
     "text": [
      "15\n"
     ]
    }
   ],
   "source": [
    "x=5\n",
    "y=3\n",
    "\n",
    "prod=x*y\n",
    "print(prod)"
   ]
  },
  {
   "attachments": {},
   "cell_type": "markdown",
   "metadata": {},
   "source": [
    "### División\n",
    "\n",
    "Sean $x,y \\in \\mathbb{R}$ con $y\\not= 0$, en Python para calcular la división $x\\div y$   utilizamos el operador `/`"
   ]
  },
  {
   "cell_type": "code",
   "execution_count": 6,
   "metadata": {},
   "outputs": [
    {
     "name": "stdout",
     "output_type": "stream",
     "text": [
      "16.666666666666668\n"
     ]
    }
   ],
   "source": [
    "x = 50\n",
    "y = 3\n",
    "\n",
    "div = x / y\n",
    "print(div)"
   ]
  },
  {
   "cell_type": "code",
   "execution_count": 7,
   "metadata": {},
   "outputs": [
    {
     "name": "stdout",
     "output_type": "stream",
     "text": [
      "25.0\n"
     ]
    }
   ],
   "source": [
    "x = 50\n",
    "y = 2\n",
    "\n",
    "div = x / y\n",
    "print(div)"
   ]
  },
  {
   "attachments": {},
   "cell_type": "markdown",
   "metadata": {},
   "source": [
    "### División entera o cociente"
   ]
  },
  {
   "attachments": {},
   "cell_type": "markdown",
   "metadata": {},
   "source": [
    "Sean $a,b \\in \\mathbb{R}$, en Python para encontrar la división entera o cociente de la división  $b\\div a$ se utiliza el operador `%`"
   ]
  },
  {
   "cell_type": "code",
   "execution_count": 8,
   "metadata": {},
   "outputs": [
    {
     "name": "stdout",
     "output_type": "stream",
     "text": [
      "5\n"
     ]
    }
   ],
   "source": [
    "a = 2\n",
    "b = 11\n",
    "\n",
    "c = b//a\n",
    "\n",
    "print(c)\n"
   ]
  },
  {
   "attachments": {},
   "cell_type": "markdown",
   "metadata": {},
   "source": [
    "### Módulo o residuo\n",
    "\n",
    "Sean $a,b \\in \\mathbb{R}$, en Python para encontrar el resto de la división $b\\div a$ se utiliza el operador `%`"
   ]
  },
  {
   "cell_type": "code",
   "execution_count": 9,
   "metadata": {},
   "outputs": [
    {
     "name": "stdout",
     "output_type": "stream",
     "text": [
      "1.0\n"
     ]
    }
   ],
   "source": [
    "a=2.5\n",
    "b=6\n",
    "\n",
    "c=b%a\n",
    "print(c)"
   ]
  },
  {
   "attachments": {},
   "cell_type": "markdown",
   "metadata": {},
   "source": [
    "### Potencia \n",
    "\n",
    "Sean $a,n \\in \\mathbb{R}$, para determinar la potencia $a^{n}$ en Python utilizamos el operador: `**`"
   ]
  },
  {
   "cell_type": "code",
   "execution_count": 10,
   "metadata": {},
   "outputs": [
    {
     "name": "stdout",
     "output_type": "stream",
     "text": [
      "1.0\n"
     ]
    }
   ],
   "source": [
    "a=-1\n",
    "n=-2\n",
    "\n",
    "pot= a**n\n",
    "print(pot)"
   ]
  },
  {
   "attachments": {},
   "cell_type": "markdown",
   "metadata": {},
   "source": [
    "## Jerarquía de operaciones\n",
    "\n",
    "El orden de las operaciones: **PEMDAS**."
   ]
  },
  {
   "cell_type": "code",
   "execution_count": 11,
   "metadata": {},
   "outputs": [
    {
     "name": "stdout",
     "output_type": "stream",
     "text": [
      "25.0\n",
      "25.0\n"
     ]
    }
   ],
   "source": [
    "x = (4 * 5) + (20 / (2**2))\n",
    "\n",
    "y=4 * 5 + 20 / 2**2\n",
    "\n",
    "print(x)\n",
    "print(y)"
   ]
  },
  {
   "attachments": {},
   "cell_type": "markdown",
   "metadata": {},
   "source": [
    "## Tipos de números de Python\n",
    "\n",
    "Hay tres tipos de números en Python, y son los siguientes:\n",
    "\n",
    "* ***Int*** : Enteros\n",
    "* ***Float*** : Números de punto flotante\n",
    "* ***Complex*** : Números complejos o imaginarios"
   ]
  },
  {
   "cell_type": "code",
   "execution_count": 12,
   "metadata": {},
   "outputs": [
    {
     "name": "stdout",
     "output_type": "stream",
     "text": [
      "<class 'int'>\n",
      "<class 'float'>\n",
      "<class 'complex'>\n"
     ]
    }
   ],
   "source": [
    "i=2 #Entero\n",
    "f=2.5  #Float\n",
    "c=1+4j #Complex\n",
    "\n",
    "print(type(i))\n",
    "print(type(f))\n",
    "print(type(c))"
   ]
  },
  {
   "attachments": {},
   "cell_type": "markdown",
   "metadata": {},
   "source": [
    "\n",
    "### Int\n",
    "\n",
    "Tipo de dato utilizado para representar  números enteros (sin decimales) tales como:\n",
    "\n",
    "$$\\ldots, -2,-1,0,1,2,4,5,\\ldots$$"
   ]
  },
  {
   "cell_type": "code",
   "execution_count": 13,
   "metadata": {},
   "outputs": [],
   "source": [
    "a=2\n",
    "b=7\n",
    "c=-3"
   ]
  },
  {
   "attachments": {},
   "cell_type": "markdown",
   "metadata": {},
   "source": [
    "\n",
    "### Float\n",
    "\n",
    "Tipo de dato utilizado para representar números de puto flotante como:\n",
    "\n",
    "$$\\ldots, -2.5,-1.1, -1,-0.5, 0.0 , 0.5, 0.75, 1.25, \\ldots$$"
   ]
  },
  {
   "cell_type": "code",
   "execution_count": 14,
   "metadata": {},
   "outputs": [],
   "source": [
    "f1=1.25\n",
    "f2=3.141516\n",
    "f3=-.75"
   ]
  },
  {
   "attachments": {},
   "cell_type": "markdown",
   "metadata": {},
   "source": [
    "### Complex\n",
    "\n",
    "Este tipo de dato se utiliza para almacenar **números complejos** o **imaginarios** i.e. números de la forma:\n",
    "$a + bj$ donde $a,b \\in \\mathbb{R}$ y $j$ es la unidad imaginaria definida tal que  $j^{2}=-1$ "
   ]
  },
  {
   "cell_type": "code",
   "execution_count": 15,
   "metadata": {},
   "outputs": [],
   "source": [
    "z= 2+8j\n",
    "w=-1.5 + 5j\n",
    "u=4j\n"
   ]
  },
  {
   "attachments": {},
   "cell_type": "markdown",
   "metadata": {},
   "source": []
  },
  {
   "attachments": {},
   "cell_type": "markdown",
   "metadata": {},
   "source": [
    "## Conversión de tipo de número"
   ]
  },
  {
   "cell_type": "code",
   "execution_count": 16,
   "metadata": {},
   "outputs": [
    {
     "name": "stdout",
     "output_type": "stream",
     "text": [
      "5.0\n",
      "<class 'float'>\n",
      "7\n",
      "<class 'int'>\n",
      "<class 'complex'>\n",
      "(5+0j)\n"
     ]
    }
   ],
   "source": [
    "a = 5   # int\n",
    "b = 7.5 # float\n",
    "c = 10j  # complex\n",
    "\n",
    "f = float(a)\n",
    "i = int(b)\n",
    "c = complex(a)\n",
    "\n",
    "print(f)\n",
    "print(type(f))\n",
    "\n",
    "print(i)\n",
    "print(type(i))\n",
    "\n",
    "print(type(c))\n",
    "print(c)\n"
   ]
  },
  {
   "attachments": {},
   "cell_type": "markdown",
   "metadata": {},
   "source": [
    "Tenga en cuenta que no puede convertir números complejos en otra cosa."
   ]
  },
  {
   "attachments": {},
   "cell_type": "markdown",
   "metadata": {},
   "source": [
    "## Funciones matemáticas en Python\n",
    "\n",
    "Mencionamos antes que Python se usa mucho en cualquier campo que utilice matemáticas. Los métodos integrados que proporciona Python son una gran razón para ello. Estos son algunos de los más comunes:"
   ]
  },
  {
   "attachments": {},
   "cell_type": "markdown",
   "metadata": {},
   "source": [
    "### Valor absoluto\n",
    "\n",
    "Sea $x \\in \\mathbb{R}$,  en Python para obtener el **valor absoluto** de $x$,  $|x|$ utilizamos el  método: `abs()`"
   ]
  },
  {
   "cell_type": "code",
   "execution_count": 17,
   "metadata": {},
   "outputs": [
    {
     "name": "stdout",
     "output_type": "stream",
     "text": [
      "34\n"
     ]
    }
   ],
   "source": [
    "number = -34\n",
    "print(abs(number))"
   ]
  },
  {
   "attachments": {},
   "cell_type": "markdown",
   "metadata": {},
   "source": [
    "### Función máximo entero (función piso o  floor )\n",
    "\n",
    "La función máximo entero $\\lfloor \\cdot \\rfloor\\colon \\mathbb{R} \\to \\mathbb{N} $ asigna  a cada número real $x$ el mayor número entero $n$ menor o igual  que $x$ i.e. \n",
    "$$\\lfloor x\\rfloor := \\max\\{k \\in \\mathbb{Z} \\colon k\\leq x\\}$$\n",
    "de esta manera:\n",
    "$$\\lfloor x\\rfloor = n \\Longleftrightarrow n\\leq x <n+1  $$   \n",
    "\n",
    "**Observación:** Para utilizar este  y otros métodos matemáticos, se debe importar el <a href=\"https://docs.python.org/es/3/library/math.html#\" title=\"\">***módulo `.math`***</a>."
   ]
  },
  {
   "attachments": {},
   "cell_type": "markdown",
   "metadata": {},
   "source": [
    "Un ***módulo en Python*** es un fichero `.py` que almacena un conjunto de *funciones*, *variables* o *clases* y que puede ser usado por otros módulos. "
   ]
  },
  {
   "cell_type": "code",
   "execution_count": 18,
   "metadata": {},
   "outputs": [
    {
     "name": "stdout",
     "output_type": "stream",
     "text": [
      "6\n"
     ]
    }
   ],
   "source": [
    "import math\n",
    "\n",
    "number = 6.87\n",
    "print(math.floor(number))"
   ]
  },
  {
   "cell_type": "code",
   "execution_count": 19,
   "metadata": {},
   "outputs": [
    {
     "name": "stdout",
     "output_type": "stream",
     "text": [
      "-2\n"
     ]
    }
   ],
   "source": [
    "number=-1.5\n",
    "\n",
    "print(math.floor(number))"
   ]
  },
  {
   "attachments": {},
   "cell_type": "markdown",
   "metadata": {},
   "source": [
    "### Función techo (función ceil)\n",
    "\n",
    "La función techo $\\lceil \\cdot \\rceil\\colon \\mathbb{R} \\to \\mathbb{N} $ asigna  a cada número real $x$ el menor número entero $n$ mayor o igual  que $x$ i.e. \n",
    "$$\\lceil x\\rceil := \\min\\{k \\in \\mathbb{Z} \\colon x \\leq k\\}$$\n",
    "de esta manera:\n",
    "$$\\lceil x\\rceil = n \\Longleftrightarrow n-1< x \\leq n  $$   \n",
    "\n",
    "**Observación:** Similarmente para utilizar este se debe importar el módulo `.math`"
   ]
  },
  {
   "cell_type": "code",
   "execution_count": 20,
   "metadata": {},
   "outputs": [
    {
     "name": "stdout",
     "output_type": "stream",
     "text": [
      "7\n"
     ]
    }
   ],
   "source": [
    "import math\n",
    "\n",
    "number = 6.21\n",
    "print(math.ceil(number))"
   ]
  },
  {
   "cell_type": "code",
   "execution_count": 21,
   "metadata": {},
   "outputs": [
    {
     "name": "stdout",
     "output_type": "stream",
     "text": [
      "-2\n"
     ]
    }
   ],
   "source": [
    "import math\n",
    "\n",
    "number = -2.1\n",
    "print(math.ceil(number))"
   ]
  },
  {
   "attachments": {},
   "cell_type": "markdown",
   "metadata": {},
   "source": [
    "### Logaritmo natural\n",
    "\n",
    "Sea $x \\in \\mathbb{R}^{+}$, en Python para determinar el logaritmo natural de $x$, $ln(x)$"
   ]
  },
  {
   "cell_type": "code",
   "execution_count": 22,
   "metadata": {},
   "outputs": [
    {
     "data": {
      "text/plain": [
       "0.0"
      ]
     },
     "execution_count": 22,
     "metadata": {},
     "output_type": "execute_result"
    }
   ],
   "source": [
    "import math\n",
    "\n",
    "math.log(1)"
   ]
  },
  {
   "attachments": {},
   "cell_type": "markdown",
   "metadata": {},
   "source": [
    "#  Cadenas (Strings)\n",
    "\n",
    "Utilizado para almacenar una sucesión de caracteres. Las ***cadenas en Python 3 son inmutables***, i.e. una vez que definiste una cadena ya no puedes cambiarala despues. Sin embargo, cuando \"modificas\" una cadena  con comandos tales como:  `replace( )` or `join( )`, se crea una copia de la cadena y se aplica la modificación a esta, no se reescribe la original.\n",
    "\n",
    "\n",
    "<!-- El saludo \"*¡Hola mundo!*\" es una cadena en Python.   -->"
   ]
  },
  {
   "attachments": {},
   "cell_type": "markdown",
   "metadata": {},
   "source": [
    "## ¿Como crear una cadena en Python?"
   ]
  },
  {
   "attachments": {},
   "cell_type": "markdown",
   "metadata": {},
   "source": [
    "\n",
    "Para crear una  cadena puedes utilizar **comillas simples**, **dobles** o **triples**. "
   ]
  },
  {
   "cell_type": "code",
   "execution_count": 23,
   "metadata": {},
   "outputs": [],
   "source": [
    "Mi_cadena= \"¡Hoy es un buen día para aprender Python!\"\n",
    "Otra_cadena= 'Esto puede parecer difícil al principio, pero te aseguro que puedes hacerlo!' \n",
    "Cadena_larga= '''En efecto, tu puedes lograr lo que te propongas... :D\n",
    "Observa que utilizando comillas tiples podemos guargar una cadena muy large de varias lineas de texto.'''"
   ]
  },
  {
   "attachments": {},
   "cell_type": "markdown",
   "metadata": {},
   "source": [
    "Enseguida  puedes usar la función `print( )` para generar el valor de la cadena en la ventana de la consola."
   ]
  },
  {
   "cell_type": "code",
   "execution_count": 24,
   "metadata": {},
   "outputs": [
    {
     "name": "stdout",
     "output_type": "stream",
     "text": [
      "¡Hoy es un buen día para aprender Python!\n",
      "Esto puede parecer difícil al principio, pero te aseguro que puedes hacerlo!\n",
      "En efecto, tu puedes lograr lo que te propongas... :D\n",
      "Observa que utilizando comillas tiples podemos guargar una cadena muy large de varias lineas de texto.\n"
     ]
    }
   ],
   "source": [
    "print(Mi_cadena)\n",
    "print(Otra_cadena)\n",
    "print(Cadena_larga)"
   ]
  },
  {
   "attachments": {},
   "cell_type": "markdown",
   "metadata": {},
   "source": [
    "## Método `format()`"
   ]
  },
  {
   "attachments": {},
   "cell_type": "markdown",
   "metadata": {},
   "source": [
    "El método `format()` es una función integrada en Python que se utiliza para dar **formato a las cadenas de texto**. El método `format()` se llama en una cadena de texto y toma uno o más argumentos que se utilizan para reemplazar ciertos caracteres de la cadena con los valores proporcionados. Se utiliza `{ }` como **marcadores de posición** en la cadena, y los valores que se utilizan para reemplazar los marcadores de posición se pasan como argumentos a la función `format()`."
   ]
  },
  {
   "cell_type": "code",
   "execution_count": 25,
   "metadata": {},
   "outputs": [
    {
     "ename": "KeyboardInterrupt",
     "evalue": "Interrupted by user",
     "output_type": "error",
     "traceback": [
      "\u001b[1;31m---------------------------------------------------------------------------\u001b[0m",
      "\u001b[1;31mKeyboardInterrupt\u001b[0m                         Traceback (most recent call last)",
      "Cell \u001b[1;32mIn[25], line 1\u001b[0m\n\u001b[1;32m----> 1\u001b[0m username \u001b[39m=\u001b[39m \u001b[39minput\u001b[39;49m(\u001b[39m\"\u001b[39;49m\u001b[39mIngrese su nombre de usuario: \u001b[39;49m\u001b[39m\"\u001b[39;49m)\n\u001b[0;32m      2\u001b[0m \u001b[39mprint\u001b[39m(\u001b[39m\"\u001b[39m\u001b[39m¡Bienvenido \u001b[39m\u001b[39m{}\u001b[39;00m\u001b[39m!\u001b[39m\u001b[39m\"\u001b[39m\u001b[39m.\u001b[39mformat(username))\n",
      "File \u001b[1;32m~\\AppData\\Roaming\\Python\\Python311\\site-packages\\ipykernel\\kernelbase.py:1187\u001b[0m, in \u001b[0;36mKernel.raw_input\u001b[1;34m(self, prompt)\u001b[0m\n\u001b[0;32m   1185\u001b[0m     msg \u001b[39m=\u001b[39m \u001b[39m\"\u001b[39m\u001b[39mraw_input was called, but this frontend does not support input requests.\u001b[39m\u001b[39m\"\u001b[39m\n\u001b[0;32m   1186\u001b[0m     \u001b[39mraise\u001b[39;00m StdinNotImplementedError(msg)\n\u001b[1;32m-> 1187\u001b[0m \u001b[39mreturn\u001b[39;00m \u001b[39mself\u001b[39;49m\u001b[39m.\u001b[39;49m_input_request(\n\u001b[0;32m   1188\u001b[0m     \u001b[39mstr\u001b[39;49m(prompt),\n\u001b[0;32m   1189\u001b[0m     \u001b[39mself\u001b[39;49m\u001b[39m.\u001b[39;49m_parent_ident[\u001b[39m\"\u001b[39;49m\u001b[39mshell\u001b[39;49m\u001b[39m\"\u001b[39;49m],\n\u001b[0;32m   1190\u001b[0m     \u001b[39mself\u001b[39;49m\u001b[39m.\u001b[39;49mget_parent(\u001b[39m\"\u001b[39;49m\u001b[39mshell\u001b[39;49m\u001b[39m\"\u001b[39;49m),\n\u001b[0;32m   1191\u001b[0m     password\u001b[39m=\u001b[39;49m\u001b[39mFalse\u001b[39;49;00m,\n\u001b[0;32m   1192\u001b[0m )\n",
      "File \u001b[1;32m~\\AppData\\Roaming\\Python\\Python311\\site-packages\\ipykernel\\kernelbase.py:1230\u001b[0m, in \u001b[0;36mKernel._input_request\u001b[1;34m(self, prompt, ident, parent, password)\u001b[0m\n\u001b[0;32m   1227\u001b[0m \u001b[39mexcept\u001b[39;00m \u001b[39mKeyboardInterrupt\u001b[39;00m:\n\u001b[0;32m   1228\u001b[0m     \u001b[39m# re-raise KeyboardInterrupt, to truncate traceback\u001b[39;00m\n\u001b[0;32m   1229\u001b[0m     msg \u001b[39m=\u001b[39m \u001b[39m\"\u001b[39m\u001b[39mInterrupted by user\u001b[39m\u001b[39m\"\u001b[39m\n\u001b[1;32m-> 1230\u001b[0m     \u001b[39mraise\u001b[39;00m \u001b[39mKeyboardInterrupt\u001b[39;00m(msg) \u001b[39mfrom\u001b[39;00m \u001b[39mNone\u001b[39m\n\u001b[0;32m   1231\u001b[0m \u001b[39mexcept\u001b[39;00m \u001b[39mException\u001b[39;00m:\n\u001b[0;32m   1232\u001b[0m     \u001b[39mself\u001b[39m\u001b[39m.\u001b[39mlog\u001b[39m.\u001b[39mwarning(\u001b[39m\"\u001b[39m\u001b[39mInvalid Message:\u001b[39m\u001b[39m\"\u001b[39m, exc_info\u001b[39m=\u001b[39m\u001b[39mTrue\u001b[39;00m)\n",
      "\u001b[1;31mKeyboardInterrupt\u001b[0m: Interrupted by user"
     ]
    }
   ],
   "source": [
    "username = input(\"Ingrese su nombre de usuario: \")\n",
    "print(\"¡Bienvenido {}!\".format(username))"
   ]
  },
  {
   "cell_type": "code",
   "execution_count": null,
   "metadata": {},
   "outputs": [],
   "source": [
    "palabra = 'mundo'\n",
    "print('¡Hola, {}!'. format(palabra))"
   ]
  },
  {
   "attachments": {},
   "cell_type": "markdown",
   "metadata": {},
   "source": [
    "Observemos que pudimos haber concatenado la variable directamente en la cadena de texto, pero en cambio utilizo el método `format()` y le paso como argumento la variable que quiero mostrar. **Los corchetes vacíos indican donde irá el texto.**"
   ]
  },
  {
   "cell_type": "code",
   "execution_count": null,
   "metadata": {},
   "outputs": [
    {
     "name": "stdout",
     "output_type": "stream",
     "text": [
      "La suma de 2 + 3 = 5\n"
     ]
    }
   ],
   "source": [
    "x = 2\n",
    "y = 3\n",
    "print(\"La suma de {} + {} = {}\".format(x,y,x+y))"
   ]
  },
  {
   "attachments": {},
   "cell_type": "markdown",
   "metadata": {},
   "source": [
    "### Imprimir decimales"
   ]
  },
  {
   "attachments": {},
   "cell_type": "markdown",
   "metadata": {},
   "source": [
    "En el siguiente ejemplo, la cadena de texto tiene tres marcadores de posición `{ }` que se reemplazan con los valores de las variables *precio*, *cantidad* y *total*. El segundo y tercer argumento utilizan la sintaxis `{:.2f}` para especificar que los números deben formatearse con dos decimales."
   ]
  },
  {
   "cell_type": "code",
   "execution_count": null,
   "metadata": {},
   "outputs": [],
   "source": [
    "precio = 15.500000\n",
    "cantidad = 2\n",
    "total = precio * cantidad\n",
    "print(\"El precio unitario es ${:.2f} y compramos {} unidades, por lo que el total es ${:.2f}\".format(precio, cantidad, total))"
   ]
  },
  {
   "cell_type": "code",
   "execution_count": null,
   "metadata": {},
   "outputs": [
    {
     "name": "stdout",
     "output_type": "stream",
     "text": [
      "|       Alumno        |                    Calificacion                    |\n",
      "|       Jorge         |              9.56              |\n"
     ]
    }
   ],
   "source": [
    "print(\"|{:^20} | {:^50} |\".format(\"Alumno\", \"Calificacion\"))\n",
    "print(\"|{:^20} | {:^30.2f} |\".format(\"Jorge\", 9.564))"
   ]
  },
  {
   "attachments": {},
   "cell_type": "markdown",
   "metadata": {},
   "source": [
    "### Especificando el orden de los valores"
   ]
  },
  {
   "attachments": {},
   "cell_type": "markdown",
   "metadata": {},
   "source": [
    "Podemos indicar en los corchetes números. Igual que una lista, el método `format( )` distingue los valores contando desde $0$. Esto a veces puede ser un poco confuso. Para ello podemos asignar nombres a nuestros indices. Veamos un ejemplo:"
   ]
  },
  {
   "attachments": {},
   "cell_type": "markdown",
   "metadata": {},
   "source": [
    "<!-- El método `format()` puede recibir más de un valor. Podemos agregar múltiples valores. Veamos un ejemplo: -->"
   ]
  },
  {
   "cell_type": "code",
   "execution_count": null,
   "metadata": {},
   "outputs": [],
   "source": [
    "name = \"Peter\"\n",
    "lastname = \"Parker\"\n",
    "username = \"El hombre araña\"\n",
    "text = \"Mi nombre es {0} {1}. Pero mis amigos me dicen {2}.\"\n",
    "print(text.format(name, lastname, username))"
   ]
  },
  {
   "cell_type": "code",
   "execution_count": null,
   "metadata": {},
   "outputs": [],
   "source": [
    "text = \"Mi nombre es {name} {lastname}.\"\n",
    "print(text.format(name=\"Pablo\", lastname=\"Hernandez\"))"
   ]
  },
  {
   "attachments": {},
   "cell_type": "markdown",
   "metadata": {},
   "source": [
    "Sin duda a veces  manejar  números en cadenas de texto es dificil. Para ello podemos utilizar tambien el método  `format( )`. La sintaxis no cambia. Veamos otro ejemplo:"
   ]
  },
  {
   "cell_type": "code",
   "execution_count": null,
   "metadata": {},
   "outputs": [],
   "source": [
    "text = \"Yo tengo {age}. Yo nací en el año {year}\"\n",
    "print(text.format(age=23, year=2000))"
   ]
  },
  {
   "attachments": {},
   "cell_type": "markdown",
   "metadata": {},
   "source": [
    "<!-- Como en Python todo es un objeto, cuando queremos imprimir el valor de una variable debemos utilizar la función `format` y el placeholder `{}`. -->"
   ]
  },
  {
   "attachments": {},
   "cell_type": "markdown",
   "metadata": {},
   "source": [
    "## `f-strings `"
   ]
  },
  {
   "attachments": {},
   "cell_type": "markdown",
   "metadata": {},
   "source": [
    "\n",
    "Las **f-strings**  son una forma de **formatear cadenas de caracteres en Python 3**. Las f-strings permiten la **inclusión de expresiones de Python dentro de cadenas de caracteres**, lo que permite la creación de cadenas de caracteres dinámicas.\n",
    "\n",
    "Una f-string es una **cadena con formato**,  comienza con la letra `f`. La ventaja de utilizar f-strings es que hacen que el código sea más legible y más fácil de mantener, ya que **permiten incluir valores de variables y expresiones directamente en la cadena de texto**. \n",
    " <!-- Sin embargo, existen grandes cambios con respecto al código legacy que viene de Python 2 hacia Python 3 -->\n",
    "\n",
    "En general, una f-string contiene variables y expresiones entre llaves `{ }` que se sustituyen directamente por su valor. Las `f-strings` se reconocen porque comienzan por una letra `f` antes de las comillas de apertura.\n",
    "\n",
    "Desde Python 3.6 es posible utilizar f-strings para realizar lo mismo que la función format de la siguiente manera:"
   ]
  },
  {
   "cell_type": "code",
   "execution_count": null,
   "metadata": {},
   "outputs": [
    {
     "name": "stdout",
     "output_type": "stream",
     "text": [
      "La suma de 7 y 8 es 15\n"
     ]
    }
   ],
   "source": [
    "sumando1=int(input(\"Ingrese primer valor:\"))\n",
    "sumando2=int(input(\"Ingrese segundo valor:\"))\n",
    "suma=sumando1+sumando2\n",
    "print(f\"La suma de {sumando1} y {sumando2} es {suma}\")\n"
   ]
  },
  {
   "cell_type": "code",
   "execution_count": null,
   "metadata": {},
   "outputs": [],
   "source": [
    "nombre = \"Alicia\"\n",
    "edad = 35\n",
    "print(f\"Me llamo {nombre} y tengo {edad} años.\")"
   ]
  },
  {
   "cell_type": "code",
   "execution_count": null,
   "metadata": {},
   "outputs": [],
   "source": [
    "palabra = 'Mundo'\n",
    "print(f'Hola, {palabra}')"
   ]
  },
  {
   "attachments": {},
   "cell_type": "markdown",
   "metadata": {},
   "source": [
    "## Diferencias entre f-strings y  método format()\n"
   ]
  },
  {
   "attachments": {},
   "cell_type": "markdown",
   "metadata": {},
   "source": [
    "Tanto las f-strings como el método format() se utilizan para formatear cadenas de caracteres en Python, pero hay algunas diferencias importantes entre los dos métodos."
   ]
  },
  {
   "attachments": {},
   "cell_type": "markdown",
   "metadata": {},
   "source": [
    "### Sintaxis"
   ]
  },
  {
   "attachments": {},
   "cell_type": "markdown",
   "metadata": {},
   "source": [
    "La sintaxis de las f-strings es más simple y legible que la del método `format()`. Para crear una f-string, simplemente pon una \"f\" antes de la cadena de caracteres y luego coloca las expresiones de Python dentro de llaves `{ } `dentro de la cadena. \n",
    "\n",
    "Por otro lado, para utilizar el método `format()`, debemos llamar al método en una cadena de caracteres y colocar los valores que deseamos insertar en las llaves {} dentro de la cadena"
   ]
  },
  {
   "attachments": {},
   "cell_type": "markdown",
   "metadata": {},
   "source": [
    "### Evaluación en tiempo de ejecución"
   ]
  },
  {
   "attachments": {},
   "cell_type": "markdown",
   "metadata": {},
   "source": [
    "Con las f-strings, podemos **incluir expresiones de Python dentro de las llaves** `{ }` que **se evalúan en tiempo de ejecución**. Por ejemplo:"
   ]
  },
  {
   "cell_type": "code",
   "execution_count": null,
   "metadata": {},
   "outputs": [],
   "source": [
    "numero = 10\n",
    "print(f\"El doble de {numero} es {numero * 2}.\")"
   ]
  },
  {
   "attachments": {},
   "cell_type": "markdown",
   "metadata": {},
   "source": [
    "En cambio, con el método `format( )`, **no podemos incluir expresiones de Python dentro de las llaves** `{ }`. En su lugar, debemos calcular los valores antes de llamar al método format(). Por ejemplo:"
   ]
  },
  {
   "cell_type": "code",
   "execution_count": null,
   "metadata": {},
   "outputs": [],
   "source": [
    "numero = 10\n",
    "doble = numero * 2\n",
    "print(\"El doble de {} es {}.\".format(numero, doble))"
   ]
  },
  {
   "attachments": {},
   "cell_type": "markdown",
   "metadata": {},
   "source": [
    "**En general**, las `f-strings` son más legibles que el método `format( )` porque la expresión se encuentra directamente dentro de la cadena de caracteres, lo que hace que sea más fácil ver lo que está sucediendo. Además, las `f-strings` son más concisas y reducen la cantidad de código que se debe escribir."
   ]
  },
  {
   "attachments": {},
   "cell_type": "markdown",
   "metadata": {},
   "source": [
    "## Cadenas multilinea"
   ]
  },
  {
   "attachments": {},
   "cell_type": "markdown",
   "metadata": {},
   "source": [
    "Para **imprimir una cadena multilínea** puede realizarse utilizando el **caracter de escape** `\\` o la **triple comilla**.\n",
    "\n",
    "Los siguientes dos ejemplos son equivalentes."
   ]
  },
  {
   "cell_type": "code",
   "execution_count": null,
   "metadata": {},
   "outputs": [],
   "source": [
    "x = 'Hola ' \\\n",
    "    'mundo'\n",
    "x"
   ]
  },
  {
   "cell_type": "code",
   "execution_count": null,
   "metadata": {},
   "outputs": [],
   "source": [
    "x = '''hello\n",
    "world'''"
   ]
  },
  {
   "attachments": {},
   "cell_type": "markdown",
   "metadata": {},
   "source": [
    "## Concatenar cadenas"
   ]
  },
  {
   "attachments": {},
   "cell_type": "markdown",
   "metadata": {},
   "source": [
    "<!-- la concatenación de cadenas se puede realizar utilizando el operador `+` o el método `join()`. -->\n",
    "\n",
    "Para concatenar dos o más cadenas usando el operador `+`, simplemente colócalas una al lado de la otra con el operador `+` entre ellas o bien utilizando  el método `join()`.:"
   ]
  },
  {
   "cell_type": "code",
   "execution_count": null,
   "metadata": {},
   "outputs": [],
   "source": [
    "cadena1 = \"Hola\"\n",
    "cadena2 = \"mundo\"\n",
    "cadena3 = cadena1 + \" \" + cadena2\n",
    "print(cadena3)"
   ]
  },
  {
   "attachments": {},
   "cell_type": "markdown",
   "metadata": {},
   "source": [
    "También puedes usar la instrucción `join()` para concatenar una lista de cadenas. Este método toma una lista de cadenas y une cada elemento con un separador especificado:"
   ]
  },
  {
   "cell_type": "code",
   "execution_count": null,
   "metadata": {},
   "outputs": [],
   "source": [
    "lista_cadenas = [\"Hola\", \"mundo\"]\n",
    "separador = \" \"\n",
    "cadena = separador.join(lista_cadenas)\n",
    "print(cadena)\n"
   ]
  },
  {
   "attachments": {},
   "cell_type": "markdown",
   "metadata": {},
   "source": [
    "**Observación:** La lista lista_cadenas se une usando el separador `\" \"`, que es un espacio en blanco."
   ]
  },
  {
   "attachments": {},
   "cell_type": "markdown",
   "metadata": {},
   "source": [
    "Las cadenas se pueden **concatenar** (pegar juntas) con el operador `+` y se pueden **repetir** con  `*`:"
   ]
  },
  {
   "cell_type": "code",
   "execution_count": null,
   "metadata": {},
   "outputs": [
    {
     "data": {
      "text/plain": [
       "'UMARUMARUMARHuatulco'"
      ]
     },
     "execution_count": 2,
     "metadata": {},
     "output_type": "execute_result"
    }
   ],
   "source": [
    "# 3 veces 'UMAR', seguido de  'Huatulco'\n",
    "3 * 'UMAR' + 'Huatulco'"
   ]
  },
  {
   "attachments": {},
   "cell_type": "markdown",
   "metadata": {},
   "source": [
    "**Observación:** Dos o más cadenas literales (es decir, las encerradas entre comillas) una al lado de la otra **se concatenan automáticamente**."
   ]
  },
  {
   "cell_type": "code",
   "execution_count": null,
   "metadata": {},
   "outputs": [
    {
     "data": {
      "text/plain": [
       "'Python'"
      ]
     },
     "execution_count": 3,
     "metadata": {},
     "output_type": "execute_result"
    }
   ],
   "source": [
    "'Py' 'thon'"
   ]
  },
  {
   "attachments": {},
   "cell_type": "markdown",
   "metadata": {},
   "source": [
    "Esta característica es particularmente útil cuando quieres dividir cadenas largas:"
   ]
  },
  {
   "cell_type": "code",
   "execution_count": null,
   "metadata": {},
   "outputs": [
    {
     "name": "stdout",
     "output_type": "stream",
     "text": [
      "Cadena1  Cadena2\n"
     ]
    }
   ],
   "source": [
    "text = ('Cadena1  '\n",
    "        'Cadena2')\n",
    "\n",
    "print(text)"
   ]
  },
  {
   "attachments": {},
   "cell_type": "markdown",
   "metadata": {},
   "source": [
    "Esto sólo funciona con dos cadenas, **no con variables ni expresiones**:"
   ]
  },
  {
   "cell_type": "code",
   "execution_count": null,
   "metadata": {},
   "outputs": [],
   "source": [
    "prefix = 'Py'\n",
    "#prefix 'thon'  # No se puede concatenar con una variable y una expresión"
   ]
  },
  {
   "attachments": {},
   "cell_type": "markdown",
   "metadata": {},
   "source": [
    "Si quieres **concatenar variables o una variable y un literal**, usa `+`"
   ]
  },
  {
   "cell_type": "code",
   "execution_count": null,
   "metadata": {},
   "outputs": [
    {
     "data": {
      "text/plain": [
       "'Python'"
      ]
     },
     "execution_count": 8,
     "metadata": {},
     "output_type": "execute_result"
    }
   ],
   "source": [
    "prefix + 'thon'"
   ]
  },
  {
   "attachments": {},
   "cell_type": "markdown",
   "metadata": {},
   "source": [
    "## Indices de cadenas de texto"
   ]
  },
  {
   "attachments": {},
   "cell_type": "markdown",
   "metadata": {},
   "source": [
    "**Las cadenas de texto se pueden indexar (subíndices)**, el primer carácter de la cadena tiene el índice 0. No hay un tipo de dato diferente para los caracteres; un carácter es simplemente una cadena de longitud uno:"
   ]
  },
  {
   "cell_type": "code",
   "execution_count": null,
   "metadata": {},
   "outputs": [
    {
     "name": "stdout",
     "output_type": "stream",
     "text": [
      "t\n"
     ]
    }
   ],
   "source": [
    "word = 'Python'\n",
    "print(word[2])  # caracter en posición 0 \n",
    "#word[5]"
   ]
  },
  {
   "attachments": {},
   "cell_type": "markdown",
   "metadata": {},
   "source": [
    "Los índices también pueden ser números negativos, para empezar a contar desde la derecha:"
   ]
  },
  {
   "cell_type": "code",
   "execution_count": null,
   "metadata": {},
   "outputs": [
    {
     "data": {
      "text/plain": [
       "'n'"
      ]
     },
     "execution_count": 11,
     "metadata": {},
     "output_type": "execute_result"
    }
   ],
   "source": [
    "word[-1]  # Último caracter  "
   ]
  },
  {
   "cell_type": "code",
   "execution_count": null,
   "metadata": {},
   "outputs": [
    {
     "data": {
      "text/plain": [
       "'o'"
      ]
     },
     "execution_count": 12,
     "metadata": {},
     "output_type": "execute_result"
    }
   ],
   "source": [
    "word[-2]  # Penultimo  caracter"
   ]
  },
  {
   "cell_type": "code",
   "execution_count": null,
   "metadata": {},
   "outputs": [
    {
     "ename": "IndexError",
     "evalue": "string index out of range",
     "output_type": "error",
     "traceback": [
      "\u001b[0;31m---------------------------------------------------------------------------\u001b[0m",
      "\u001b[0;31mIndexError\u001b[0m                                Traceback (most recent call last)",
      "Cell \u001b[0;32mIn[14], line 1\u001b[0m\n\u001b[0;32m----> 1\u001b[0m word[\u001b[39m-\u001b[39;49m\u001b[39m7\u001b[39;49m]\n",
      "\u001b[0;31mIndexError\u001b[0m: string index out of range"
     ]
    }
   ],
   "source": [
    "word[-7]"
   ]
  },
  {
   "attachments": {},
   "cell_type": "markdown",
   "metadata": {},
   "source": [
    "**Observación**: Nótese que -0 es lo mismo que 0, **los índice negativos comienzan desde -1.**"
   ]
  },
  {
   "attachments": {},
   "cell_type": "markdown",
   "metadata": {},
   "source": [
    "## Rebanadas de cadenas"
   ]
  },
  {
   "attachments": {},
   "cell_type": "markdown",
   "metadata": {},
   "source": [
    "Además de los índices, las **rebanadas** también están soportadas. Mientras que los índices se utilizar para obtener caracteres individuales, las rebanadas te permiten obtener partes de las cadenas de texto:"
   ]
  },
  {
   "cell_type": "code",
   "execution_count": null,
   "metadata": {},
   "outputs": [
    {
     "data": {
      "text/plain": [
       "'Py'"
      ]
     },
     "execution_count": 15,
     "metadata": {},
     "output_type": "execute_result"
    }
   ],
   "source": [
    "word[0:2]  # Caracteres desde la posición 0 (incluido) a la posición 2 (excluido)"
   ]
  },
  {
   "cell_type": "code",
   "execution_count": null,
   "metadata": {},
   "outputs": [
    {
     "data": {
      "text/plain": [
       "'tho'"
      ]
     },
     "execution_count": 16,
     "metadata": {},
     "output_type": "execute_result"
    }
   ],
   "source": [
    "word[2:5] "
   ]
  },
  {
   "attachments": {},
   "cell_type": "markdown",
   "metadata": {},
   "source": [
    "Los índices de las rebanadas tienen valores por defecto útiles; el valor por defecto para el primer índice es cero, el valor por defecto para el segundo índice es la longitud de la cadena a rebanar."
   ]
  },
  {
   "cell_type": "code",
   "execution_count": null,
   "metadata": {},
   "outputs": [
    {
     "data": {
      "text/plain": [
       "'Py'"
      ]
     },
     "execution_count": 17,
     "metadata": {},
     "output_type": "execute_result"
    }
   ],
   "source": [
    "word[:2]   # Caracter desde el inicio hasta la  posición 2 (excluido) "
   ]
  },
  {
   "cell_type": "code",
   "execution_count": null,
   "metadata": {},
   "outputs": [
    {
     "data": {
      "text/plain": [
       "'on'"
      ]
     },
     "execution_count": 18,
     "metadata": {},
     "output_type": "execute_result"
    }
   ],
   "source": [
    "word[4:]   # Caracter desde la posicion 4 (included) hasta el final "
   ]
  },
  {
   "cell_type": "code",
   "execution_count": null,
   "metadata": {},
   "outputs": [
    {
     "data": {
      "text/plain": [
       "'on'"
      ]
     },
     "execution_count": 19,
     "metadata": {},
     "output_type": "execute_result"
    }
   ],
   "source": [
    "word[-2:]# Caracter desde la penultima posicion  (included) hasta el final "
   ]
  },
  {
   "attachments": {},
   "cell_type": "markdown",
   "metadata": {},
   "source": [
    "Nótese cómo el inicio siempre se incluye y el final siempre se excluye. Esto asegura que $s[:i] + s[i:]$ siempre sea igual a $s$:"
   ]
  },
  {
   "cell_type": "code",
   "execution_count": null,
   "metadata": {},
   "outputs": [
    {
     "data": {
      "text/plain": [
       "'Python'"
      ]
     },
     "execution_count": 20,
     "metadata": {},
     "output_type": "execute_result"
    }
   ],
   "source": [
    "word[:2] + word[2:]"
   ]
  },
  {
   "attachments": {},
   "cell_type": "markdown",
   "metadata": {},
   "source": [
    "**Observación** Intentar usar un índice que es muy grande resultará en un error:"
   ]
  },
  {
   "cell_type": "code",
   "execution_count": null,
   "metadata": {},
   "outputs": [
    {
     "ename": "IndexError",
     "evalue": "string index out of range",
     "output_type": "error",
     "traceback": [
      "\u001b[0;31m---------------------------------------------------------------------------\u001b[0m",
      "\u001b[0;31mIndexError\u001b[0m                                Traceback (most recent call last)",
      "Cell \u001b[0;32mIn[21], line 1\u001b[0m\n\u001b[0;32m----> 1\u001b[0m word[\u001b[39m50\u001b[39;49m]\n",
      "\u001b[0;31mIndexError\u001b[0m: string index out of range"
     ]
    }
   ],
   "source": [
    "word[50]"
   ]
  },
  {
   "attachments": {},
   "cell_type": "markdown",
   "metadata": {},
   "source": [
    "Sin embargo, los índices de rebanadas fuera de rango se manejan satisfactoriamente cuando se usan para rebanar:"
   ]
  },
  {
   "cell_type": "code",
   "execution_count": null,
   "metadata": {},
   "outputs": [
    {
     "data": {
      "text/plain": [
       "'on'"
      ]
     },
     "execution_count": 22,
     "metadata": {},
     "output_type": "execute_result"
    }
   ],
   "source": [
    "word[4:42]"
   ]
  },
  {
   "cell_type": "code",
   "execution_count": null,
   "metadata": {},
   "outputs": [
    {
     "data": {
      "text/plain": [
       "''"
      ]
     },
     "execution_count": 23,
     "metadata": {},
     "output_type": "execute_result"
    }
   ],
   "source": [
    "word[42:]"
   ]
  },
  {
   "attachments": {},
   "cell_type": "markdown",
   "metadata": {},
   "source": [
    "Las cadenas de Python no se pueden modificar, son **immutable**. Por eso, asignar a una posición indexada de la cadena resulta en un error:"
   ]
  },
  {
   "cell_type": "code",
   "execution_count": null,
   "metadata": {},
   "outputs": [
    {
     "ename": "TypeError",
     "evalue": "'str' object does not support item assignment",
     "output_type": "error",
     "traceback": [
      "\u001b[0;31m---------------------------------------------------------------------------\u001b[0m",
      "\u001b[0;31mTypeError\u001b[0m                                 Traceback (most recent call last)",
      "Cell \u001b[0;32mIn[24], line 1\u001b[0m\n\u001b[0;32m----> 1\u001b[0m word[\u001b[39m0\u001b[39;49m] \u001b[39m=\u001b[39m \u001b[39m'\u001b[39m\u001b[39mJ\u001b[39m\u001b[39m'\u001b[39m\n",
      "\u001b[0;31mTypeError\u001b[0m: 'str' object does not support item assignment"
     ]
    }
   ],
   "source": [
    "word[0] = 'J'"
   ]
  },
  {
   "attachments": {},
   "cell_type": "markdown",
   "metadata": {},
   "source": [
    "Si necesitas una cadena diferente, deberías crear una nueva:"
   ]
  },
  {
   "cell_type": "code",
   "execution_count": null,
   "metadata": {},
   "outputs": [
    {
     "data": {
      "text/plain": [
       "'Pypy'"
      ]
     },
     "execution_count": 25,
     "metadata": {},
     "output_type": "execute_result"
    }
   ],
   "source": [
    "word[:2] + 'py'"
   ]
  },
  {
   "attachments": {},
   "cell_type": "markdown",
   "metadata": {},
   "source": [
    "La función incorporada `len()` retorna la longitud de una cadena:"
   ]
  },
  {
   "cell_type": "code",
   "execution_count": null,
   "metadata": {},
   "outputs": [
    {
     "data": {
      "text/plain": [
       "4"
      ]
     },
     "execution_count": 27,
     "metadata": {},
     "output_type": "execute_result"
    }
   ],
   "source": [
    "s='Hola' #parangaricutirimicuaro'\n",
    "len(s)"
   ]
  },
  {
   "attachments": {},
   "cell_type": "markdown",
   "metadata": {},
   "source": [
    "\n",
    "**Observación:** Explora algunos de los <a href=\"https://docs.python.org/es/3/library/stdtypes.html#string-methods\" title=\"\"> ***métodos de la clase `string`***</a>.\n"
   ]
  },
  {
   "attachments": {},
   "cell_type": "markdown",
   "metadata": {},
   "source": [
    "## Métodos de cadenas en Python\n",
    "\n"
   ]
  },
  {
   "attachments": {},
   "cell_type": "markdown",
   "metadata": {},
   "source": [
    "<table>\n",
    "  <tr>\n",
    "    <th>Método</th>\n",
    "    <th>Descripción</th>\n",
    "    <th>Ejemplo</th>\n",
    "  </tr>\n",
    "  <tr>\n",
    "    <td><strong>capitalize()</strong></td>\n",
    "    <td>Convierte la primera letra de la cadena en mayúscula</td>\n",
    "    <td>\"hola mundo\".capitalize() devuelve \"Hola mundo\"</td>\n",
    "  </tr>\n",
    "  <tr>\n",
    "    <td><strong>casefold()</strong></td>\n",
    "    <td>Devuelve una versión en minúsculas de la cadena</td>\n",
    "    <td>\"Hola Mundo\".casefold() devuelve \"hola mundo\"</td>\n",
    "  </tr>\n",
    "  <tr>\n",
    "    <td><strong>center(width, [fillchar])</strong></td>\n",
    "    <td>Devuelve una cadena centrada dentro de un ancho especificado con un carácter de relleno opcional</td>\n",
    "    <td>\"hola\".center(10, '-') devuelve \"--hola----\"</td>\n",
    "  </tr>\n",
    "  <tr>\n",
    "    <td><strong>count(substring, start, end)</strong></td>\n",
    "    <td>Devuelve el número de veces que se encuentra una subcadena en la cadena</td>\n",
    "    <td>\"hola mundo\".count(\"o\") devuelve 2</td>\n",
    "  </tr>\n",
    "  <tr>\n",
    "    <td><strong>encode(encoding='utf-8', errors='strict')</strong></td>\n",
    "    <td>Codifica la cadena en una secuencia de bytes especificada por la codificación dada</td>\n",
    "    <td>\"hola mundo\".encode(encoding=\"ascii\", errors=\"replace\") devuelve b'hola mundo'</td>\n",
    "  </tr>\n",
    "  <tr>\n",
    "    <td><strong>endswith(suffix, start, end)</strong></td>\n",
    "    <td>Devuelve True si la cadena termina con la subcadena especificada, False en caso contrario</td>\n",
    "    <td>\"hola mundo\".endswith(\"mundo\") devuelve True</td>\n",
    "  </tr>\n",
    "  <tr>\n",
    "    <td><strong>expandtabs(tabsize=8)</strong></td>\n",
    "    <td>Reemplaza los caracteres de tabulación por espacios en blanco</td>\n",
    "    <td>\"hola\\tmundo\".expandtabs() devuelve \"hola    mundo\"</td>\n",
    "  </tr>\n",
    "  <tr>\n",
    "    <td><strong>find(substring, start, end)</strong></td>\n",
    "    <td>Devuelve el índice de la primera ocurrencia de la subcadena en la cadena, o -1 si no se encuentra</td>\n",
    "    <td>\"hola mundo\".find(\"mundo\") devuelve 5</td>\n",
    "  </tr>\n",
    "  <tr>\n",
    "    <td><strong>format(*args, **kwargs)</strong></td>\n",
    "    <td>Formatea la cadena usando argumentos posicionales o palabras clave</td>\n",
    "    <td>\"Hola {0} {1}\".format(\"Mundo\", \"!\") devuelve \"Hola Mundo !\"</td>\n",
    "  </tr>\n",
    "  </tbody>\n",
    "</table>\n"
   ]
  }
 ],
 "metadata": {
  "kernelspec": {
   "display_name": "Python 3",
   "language": "python",
   "name": "python3"
  },
  "language_info": {
   "codemirror_mode": {
    "name": "ipython",
    "version": 3
   },
   "file_extension": ".py",
   "mimetype": "text/x-python",
   "name": "python",
   "nbconvert_exporter": "python",
   "pygments_lexer": "ipython3",
   "version": "3.8.2"
  },
  "orig_nbformat": 4,
  "vscode": {
   "interpreter": {
    "hash": "1606ed296fe21ab67c1d4b49f3f22d72247524c93f58d404930dbd4d15d6017c"
   }
  }
 },
 "nbformat": 4,
 "nbformat_minor": 2
}
