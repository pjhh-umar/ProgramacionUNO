{
 "cells": [
  {
   "cell_type": "code",
   "execution_count": null,
   "metadata": {},
   "outputs": [],
   "source": [
    "class Punto:\n",
    "    \n",
    "    def __init__(self,x=0,y=0):\n",
    "        self.x = x\n",
    "        self.y = y\n",
    "    \n",
    "    def norma(self):\n",
    "        return (self.x**2 + self.y**2)**(1/2)\n",
    "    \n",
    "    def diferencia(self, otro_punto):\n",
    "        return Punto(self.x - otro_punto.x, self.y - otro_punto.y) \n",
    "    \n",
    "    def distancia(self,otro_punto):\n",
    "        \n",
    "        return self.diferencia(otro_punto).norma()\n",
    "    \n",
    "    def punto_medio(self,otro_punto):\n",
    "        \n",
    "        return Punto((self.x + otro_punto.x)/2, (self.y + otro_punto.y)/2)\n",
    "    \n",
    "    "
   ]
  },
  {
   "cell_type": "code",
   "execution_count": null,
   "metadata": {},
   "outputs": [],
   "source": [
    "a = Punto(1,2)\n",
    "a.x = 'y'\n",
    "\n",
    "print('x = ',a.x)\n",
    "print('y = ',a.y)\n",
    "\n",
    "\n",
    "#b = Punto(2,3)\n",
    "\n",
    "# print('x = ',b.x)\n",
    "# print('y = ',b.y)\n",
    "\n",
    "# c = Punto(3,4)\n",
    "\n",
    "#d = Punto()\n",
    "# print(d.x,d.y)\n",
    "\n",
    "\n",
    "\n",
    " "
   ]
  },
  {
   "cell_type": "code",
   "execution_count": null,
   "metadata": {},
   "outputs": [],
   "source": [
    "c.norma()\n"
   ]
  },
  {
   "cell_type": "code",
   "execution_count": null,
   "metadata": {},
   "outputs": [],
   "source": [
    "p1 = Punto(1,2)\n",
    "p2 = Punto(1,6)\n",
    "#p1.diferencia(p2)\n",
    "#p1.distancia(p2)\n",
    "print(p1.punto_medio(p2).x, p1.punto_medio(p2).y)"
   ]
  },
  {
   "attachments": {},
   "cell_type": "markdown",
   "metadata": {},
   "source": [
    "## `dir`"
   ]
  },
  {
   "cell_type": "code",
   "execution_count": null,
   "metadata": {},
   "outputs": [],
   "source": [
    "x = 1.3\n",
    "type(x)\n",
    "dir(x)"
   ]
  },
  {
   "cell_type": "code",
   "execution_count": null,
   "metadata": {},
   "outputs": [],
   "source": [
    "import math\n",
    "help(math)"
   ]
  },
  {
   "attachments": {},
   "cell_type": "markdown",
   "metadata": {},
   "source": [
    "## `Property`"
   ]
  },
  {
   "attachments": {},
   "cell_type": "markdown",
   "metadata": {},
   "source": [
    "Los atributos de instancia, definen una serie de características que poseen los objetos. Como hemos visto anteriormente, se declaran haciendo uso de la referencia a la instancia a través de `self`. Sin embargo, Python nos ofrece la posibilidad de utilizar un método alternativo que resulta especialmente útil ***cuando estos atributos requieren de un procesamiento inicial en el momento de ser accedidos***. Para implementar este mecanismo, Python emplea un ***decorador*** llamado `property`."
   ]
  },
  {
   "attachments": {},
   "cell_type": "markdown",
   "metadata": {},
   "source": [
    "\n",
    "En Python, una **propiedad** (property) es una **forma de controlar el acceso y la manipulación de atributos de una clase**. Permite definir métodos especiales, conocidos como ***métodos de acceso*** (`getter`) y **métodos de asignación** (`setter`), que se utilizan para obtener y establecer valores en un atributo específico.\n",
    "\n",
    "La idea detrás de las propiedades es que, en lugar de acceder directamente a los atributos de una clase, se utilicen métodos para interactuar con ellos. Esto proporciona un mayor control sobre cómo se obtienen y establecen los valores, lo que puede ser útil para realizar validaciones, cálculos adicionales u otras operaciones."
   ]
  },
  {
   "attachments": {},
   "cell_type": "markdown",
   "metadata": {},
   "source": [
    "### Definir una propiedad"
   ]
  },
  {
   "attachments": {},
   "cell_type": "markdown",
   "metadata": {},
   "source": [
    "Para definir una propiedad en Python, se utilizan los ***decoradores*** `@property` y `@<nombre_atributo.setter`. Aquí hay un ejemplo que ilustra cómo se utiliza:"
   ]
  },
  {
   "cell_type": "code",
   "execution_count": null,
   "metadata": {},
   "outputs": [],
   "source": [
    "class Punto:\n",
    "    \n",
    "    def __init__(self,x=0,y=0):\n",
    "        self.x = x\n",
    "        self.y = y\n",
    "    \n",
    "    @property\n",
    "    def x(self):\n",
    "        return self._x\n",
    "    \n",
    "    @x.setter\n",
    "    def x(self,nueva_cordenada):\n",
    "        self._x = nueva_cordenada\n",
    "        \n",
    "    @property\n",
    "    def y(self):\n",
    "        return self._y\n",
    "    \n",
    "    @y.setter\n",
    "    def y(self,nueva_cordenada):\n",
    "        if isinstance(nueva_cordenada,(int,float)):\n",
    "            self._y = nueva_cordenada\n",
    "        else:\n",
    "            raise ValueError('El valor ingresado debe ser un numero')\n",
    "    \n",
    "    def norma(self):\n",
    "        return (self.x**2 + self.y**2)**(1/2)\n",
    "    \n",
    "    def diferencia(self, otro_punto):\n",
    "        return Punto(self.x - otro_punto.x, self.y - otro_punto.y) \n",
    "    \n",
    "    def distancia(self,otro_punto):\n",
    "        \n",
    "        return self.diferencia(otro_punto).norma()\n",
    "    \n",
    "    def punto_medio(self,otro_punto):\n",
    "        \n",
    "        return Punto((self.x + otro_punto.x)/2, (self.y + otro_punto.y)/2)"
   ]
  },
  {
   "cell_type": "code",
   "execution_count": null,
   "metadata": {},
   "outputs": [],
   "source": [
    "a = Punto(5,'j')\n"
   ]
  },
  {
   "attachments": {},
   "cell_type": "markdown",
   "metadata": {},
   "source": [
    "# Métodos especiales"
   ]
  },
  {
   "attachments": {},
   "cell_type": "markdown",
   "metadata": {},
   "source": [
    "Así como el constructor, `__init__`, existen diversos métodos especiales que, si están definidos en nuestra clase, Python los llamará por nosotros cuando se utilice una instancia en situaciones particulares.\n",
    "\n"
   ]
  },
  {
   "attachments": {},
   "cell_type": "markdown",
   "metadata": {},
   "source": [
    "## Un método para mostrar objetos"
   ]
  },
  {
   "attachments": {},
   "cell_type": "markdown",
   "metadata": {},
   "source": [
    "Para mostrar objetos, Python indica que hay que agregarle a la clase un método especial, llamado `__str__` que debe devolver una cadena de caracteres con lo que queremos mostrar. Ese método se invoca cada vez que se llama a la función `str`\n",
    "\n"
   ]
  },
  {
   "attachments": {},
   "cell_type": "markdown",
   "metadata": {},
   "source": [
    "El método `__str__` tiene un solo parámetro, self."
   ]
  },
  {
   "attachments": {},
   "cell_type": "markdown",
   "metadata": {},
   "source": [
    "En nuestro caso decidimos mostrar el punto como un par ordenado, por lo que escribimos el siguiente método dentro de la clase Punto:"
   ]
  },
  {
   "cell_type": "code",
   "execution_count": null,
   "metadata": {},
   "outputs": [],
   "source": [
    "class Punto:\n",
    "    \n",
    "    def __init__(self,x=0,y=0):\n",
    "        self.x = x\n",
    "        self.y = y\n",
    "    \n",
    "    @property\n",
    "    def x(self):\n",
    "        return self._x\n",
    "    \n",
    "    @x.setter\n",
    "    def x(self,nueva_cordenada):\n",
    "        if isinstance(nueva_cordenada,(int,float)):\n",
    "            self._x = nueva_cordenada\n",
    "        else:\n",
    "            raise ValueError('El valor ingresado debe ser un numero')\n",
    "        \n",
    "    @property\n",
    "    def y(self):\n",
    "        return self._y\n",
    "    \n",
    "    @y.setter\n",
    "    def y(self,nueva_cordenada):\n",
    "        if isinstance(nueva_cordenada,(int,float)):\n",
    "            self._y = nueva_cordenada\n",
    "        else:\n",
    "            raise ValueError('El valor ingresado debe ser un numero')\n",
    "    \n",
    "    def __str__(self):\n",
    "        \"\"\" Muestra el punto como un par ordenado. \"\"\"\n",
    "        return \"(\" + str(self.x) + \", \" + str(self.y) + \")\"\n",
    "    \n",
    "    def norma(self):\n",
    "        return (self.x**2 + self.y**2)**(1/2)\n",
    "    \n",
    "    def diferencia(self, otro_punto):\n",
    "        return Punto(self.x - otro_punto.x, self.y - otro_punto.y) \n",
    "    \n",
    "    def distancia(self,otro_punto):\n",
    "        \n",
    "        return self.diferencia(otro_punto).norma()\n",
    "    \n",
    "    def punto_medio(self,otro_punto):\n",
    "        \n",
    "        return Punto((self.x + otro_punto.x)/2, (self.y + otro_punto.y)/2)\n",
    "    "
   ]
  },
  {
   "attachments": {},
   "cell_type": "markdown",
   "metadata": {},
   "source": [
    "Una vez definido este método, nuestro punto se mostrará como un par ordenado cuando se necesite una representación de cadenas."
   ]
  },
  {
   "cell_type": "code",
   "execution_count": null,
   "metadata": {},
   "outputs": [],
   "source": [
    "p = Punto(-6,18)\n",
    "#str(p)\n",
    "print(p)\n"
   ]
  },
  {
   "attachments": {},
   "cell_type": "markdown",
   "metadata": {},
   "source": [
    "Vemos que con `str(p)` se obtiene la cadena construida dentro de `__str__`, y que internamente Python llama a `__str__` cuando se le pide que imprima una variable de la clase Punto."
   ]
  },
  {
   "attachments": {},
   "cell_type": "markdown",
   "metadata": {},
   "source": [
    "## Métodos para operar matemáticamente"
   ]
  },
  {
   "cell_type": "code",
   "execution_count": null,
   "metadata": {},
   "outputs": [],
   "source": [
    "x = 'p'\n",
    "y = 'j' \n",
    "\n",
    "print(x+y)"
   ]
  },
  {
   "attachments": {},
   "cell_type": "markdown",
   "metadata": {},
   "source": [
    "Ya hemos visto un método que permitía restar dos puntos. Si bien esta implementación es perfectamente válida, no es posible usar esa función para realizar una resta con el operador `-`."
   ]
  },
  {
   "cell_type": "code",
   "execution_count": null,
   "metadata": {},
   "outputs": [],
   "source": [
    "p = Punto(1,3)\n",
    "q = Punto(1,10)\n",
    "\n",
    "print(p-q)"
   ]
  },
  {
   "attachments": {},
   "cell_type": "markdown",
   "metadata": {},
   "source": [
    "Si queremos que este operador (o el equivalente para la suma) funcione, será necesario implementar algunos métodos especiales."
   ]
  },
  {
   "cell_type": "code",
   "execution_count": null,
   "metadata": {},
   "outputs": [],
   "source": [
    "class Punto:\n",
    "    \n",
    "    def __init__(self,x=0,y=0):\n",
    "        self.x = x\n",
    "        self.y = y\n",
    "    \n",
    "    @property\n",
    "    def x(self):\n",
    "        return self._x\n",
    "    \n",
    "    @x.setter\n",
    "    def x(self,nueva_cordenada):\n",
    "        self._x = nueva_cordenada\n",
    "        \n",
    "    @property\n",
    "    def y(self):\n",
    "        return self._y\n",
    "    \n",
    "    @y.setter\n",
    "    def y(self,nueva_cordenada):\n",
    "        if isinstance(nueva_cordenada,(int,float)):\n",
    "            self._y = nueva_cordenada\n",
    "        else:\n",
    "            raise ValueError('El valor ingresado debe ser un numero')\n",
    "    \n",
    "    def __str__(self):\n",
    "        \"\"\" Muestra el punto como un par ordenado. \"\"\"\n",
    "        return \"(\" + str(self.x) + \", \" + str(self.y) + \")\"\n",
    "    \n",
    "    def norma(self):\n",
    "        return (self.x**2 + self.y**2)**(1/2)\n",
    "    \n",
    "    def diferencia(self, otro_punto):\n",
    "        return Punto(self.x - otro_punto.x, self.y - otro_punto.y) \n",
    "    \n",
    "    def distancia(self,otro_punto):\n",
    "        return self.diferencia(otro_punto).norma()\n",
    "    \n",
    "    def punto_medio(self,otro_punto):\n",
    "        return Punto((self.x + otro_punto.x)/2, (self.y + otro_punto.y)/2)\n",
    "    \n",
    "    def __add__(self, otro_punto):\n",
    "        \"\"\" Devuelve la suma de ambos puntos. \"\"\"\n",
    "        return Punto(self.x + otro_punto.x, self.y + otro_punto.y)\n",
    "\n",
    "    def __sub__(self, otro_punto):\n",
    "        \"\"\" Devuelve la diferencia de ambos puntos. \"\"\"\n",
    "        return Punto(self.x - otro_punto.x, self.y - otro_punto.y)"
   ]
  },
  {
   "attachments": {},
   "cell_type": "markdown",
   "metadata": {},
   "source": [
    "El método `__add__` es el que se utiliza para el operador `+`, el primer parámetro es el primer operando de la suma, y el segundo parámetro el segundo operando. De la misma forma, el método `__sub__` es el utilizado por el operador `-`."
   ]
  },
  {
   "attachments": {},
   "cell_type": "markdown",
   "metadata": {},
   "source": [
    "Ahora es posible operar con los puntos directamente mediante los operadores, en lugar de llamar a métodos:"
   ]
  },
  {
   "cell_type": "code",
   "execution_count": null,
   "metadata": {},
   "outputs": [],
   "source": [
    "p = Punto(0,3)\n",
    "q = Punto(2,4)\n",
    "\n",
    "print(p-q)"
   ]
  },
  {
   "attachments": {},
   "cell_type": "markdown",
   "metadata": {},
   "source": [
    "De la misma forma, si se quiere poder utilizar cualquier otro operador matemático, será necesario definir el método apropiado."
   ]
  },
  {
   "attachments": {},
   "cell_type": "markdown",
   "metadata": {},
   "source": []
  },
  {
   "attachments": {},
   "cell_type": "markdown",
   "metadata": {},
   "source": [
    "**Observación:** La posibilidad de definir cuál será el comportamiento de los operadores básicos (como `+`, `-`, `*`, `/`), se llama ***sobrecarga de operadores***."
   ]
  },
  {
   "attachments": {},
   "cell_type": "markdown",
   "metadata": {},
   "source": [
    "# Métodos mágicos o métodos de operador"
   ]
  },
  {
   "attachments": {},
   "cell_type": "markdown",
   "metadata": {},
   "source": [
    "En Python, el ***sobrecargo de operadores*** se logra mediante la implementación de métodos especiales en las clases, conocidos como **métodos de operador** o **métodos mágicos**. Estos métodos tienen nombres especiales que comienzan y terminan con doble guion bajo (por ejemplo, `__add__` para el operador de suma)."
   ]
  },
  {
   "attachments": {},
   "cell_type": "markdown",
   "metadata": {},
   "source": [
    "Enseguida algunos ejemplos de métodos mágicos utilizados para sobrecargar operadores en Python:\n",
    "\n",
    "* `__add__(self, other):` Define el comportamiento para el operador de suma (`+`).\n",
    "  \n",
    "* `__sub__(self, other):` Define el comportamiento para el operador de resta (`-`).\n",
    "  \n",
    "* `__mul__(self, other):` Define el comportamiento para el operador de multiplicación `(*`).\n",
    "  \n",
    "* `__truediv__(self, other):` Define el comportamiento para el operador de división (`/`).\n",
    "  \n",
    "* `__eq__(self, other):` Define el comportamiento para el operador de igualdad (`==`)."
   ]
  },
  {
   "attachments": {},
   "cell_type": "markdown",
   "metadata": {},
   "source": [
    "La sobrecarga de operadores proporciona flexibilidad y permite que tus clases personalizadas se comporten de manera más intuitiva cuando se utilizan con operadores estándar. Sin embargo, se recomienda utilizarla con moderación y siguiendo buenas prácticas de diseño de código, ya que un uso excesivo o incorrecto puede dificultar la comprensión  del código."
   ]
  },
  {
   "attachments": {},
   "cell_type": "markdown",
   "metadata": {},
   "source": [
    "## Métodos en Python: instancia, clase y estáticos"
   ]
  },
  {
   "attachments": {},
   "cell_type": "markdown",
   "metadata": {},
   "source": [
    "En Python, hay diferentes tipos de métodos que se utilizan en las clases. Estos métodos tienen propósitos y características específicas"
   ]
  },
  {
   "attachments": {},
   "cell_type": "markdown",
   "metadata": {},
   "source": [
    "Pues bien, haciendo uso de los `decoradores`, es posible crear diferentes tipos de métodos:\n",
    "\n",
    "* **Métodos de instancia**: los que ya hemos visto.\n",
    "  \n",
    "* **Métodos de clase**: usando el decorador `@classmethod`\n",
    "  \n",
    "* **métodos estáticos**: usando el decorador `@staticmethod`"
   ]
  },
  {
   "attachments": {},
   "cell_type": "markdown",
   "metadata": {},
   "source": [
    "En la siguiente clase tenemos un ejemplo donde definimos los tres tipos de métodos."
   ]
  },
  {
   "cell_type": "code",
   "execution_count": null,
   "metadata": {},
   "outputs": [],
   "source": [
    "class Clase:\n",
    "    def metodo_normal(self):\n",
    "        return 'Método normal'\n",
    "\n",
    "    @classmethod\n",
    "    def metododeclase(cls):\n",
    "        return 'Método de clase'\n",
    "\n",
    "    @staticmethod\n",
    "    def metodoestatico():\n",
    "        return \"Método estático\""
   ]
  },
  {
   "attachments": {},
   "cell_type": "markdown",
   "metadata": {},
   "source": [
    "## Métodos de instancia"
   ]
  },
  {
   "attachments": {},
   "cell_type": "markdown",
   "metadata": {},
   "source": [
    "Los **métodos de instancia** son los métodos más comunes en Python y se definen dentro de una clase. Estos métodos reciben automáticamente el parámetro `self`, que hace referencia a la instancia del objeto  que llama al método. También pueden recibir otros argumentos como entrada."
   ]
  },
  {
   "attachments": {},
   "cell_type": "markdown",
   "metadata": {},
   "source": [
    "Los métodos de instancia:\n",
    "\n",
    "* Pueden **acceder y modificar los atributos del objeto**.\n",
    "  \n",
    "* Pueden **acceder a otros métodos**.\n",
    "<!--   \n",
    "* Dado que desde el objeto self se puede acceder a la clase con ` self.class`, también pueden modificar el estado de la clase -->"
   ]
  },
  {
   "attachments": {},
   "cell_type": "markdown",
   "metadata": {},
   "source": [
    " Los métodos de instancia se llaman utilizando la sintaxis `objeto.metodo()`."
   ]
  },
  {
   "cell_type": "code",
   "execution_count": null,
   "metadata": {},
   "outputs": [],
   "source": [
    "class Clase:\n",
    "    \n",
    "    x = 'atributo de clase'\n",
    "    \n",
    "    \n",
    "    def metodo(self):\n",
    "        return \"Método normal\""
   ]
  },
  {
   "cell_type": "code",
   "execution_count": null,
   "metadata": {},
   "outputs": [],
   "source": [
    "mi_clase = Clase()\n",
    "mi_clase.metodo()"
   ]
  },
  {
   "attachments": {},
   "cell_type": "markdown",
   "metadata": {},
   "source": [
    "**Observación:** El uso de `self` es totalmente arbitrario. Se trata de una convención acordada por los usuarios de Python, usada para referirse a la instancia que llama al método, pero podría ser cualquier otro nombre."
   ]
  },
  {
   "attachments": {},
   "cell_type": "markdown",
   "metadata": {},
   "source": [
    "## Métodos de clase (classmethod)"
   ]
  },
  {
   "attachments": {},
   "cell_type": "markdown",
   "metadata": {},
   "source": [
    "Los **métodos de clase** son métodos que se definen dentro de una clase y reciben automáticamente el parámetro `cls`, que hace referencia a la clase en sí misma en lugar de una instancia específica. Pueden acceder y modificar los atributos de la clase. En general, pueden acceder a la clase pero no a la instancia. Se definen utilizando el decorador @`classmethod` antes de la definición del método. "
   ]
  },
  {
   "cell_type": "code",
   "execution_count": null,
   "metadata": {},
   "outputs": [],
   "source": [
    "class Clase:\n",
    "    \n",
    "    @classmethod\n",
    "    def metododeclase(cls):\n",
    "        return 'Método de clase'"
   ]
  },
  {
   "attachments": {},
   "cell_type": "markdown",
   "metadata": {},
   "source": [
    "Los métodos de clase:\n",
    "\n",
    "* **No pueden acceder a los atributos de la instancia**.\n",
    "  \n",
    "* Pero **si pueden modificar los atributos de la clase**."
   ]
  },
  {
   "attachments": {},
   "cell_type": "markdown",
   "metadata": {},
   "source": [
    "Los métodos de clase se llaman utilizando la sintaxis `Clase.metodo()` o `objeto.metodo()`."
   ]
  },
  {
   "attachments": {},
   "cell_type": "markdown",
   "metadata": {},
   "source": [
    "Se pueden llamar sobre la clase:"
   ]
  },
  {
   "cell_type": "code",
   "execution_count": null,
   "metadata": {},
   "outputs": [],
   "source": [
    "Clase.metododeclase()\n"
   ]
  },
  {
   "attachments": {},
   "cell_type": "markdown",
   "metadata": {},
   "source": [
    "Pero también se pueden llamar sobre el objeto."
   ]
  },
  {
   "cell_type": "code",
   "execution_count": null,
   "metadata": {},
   "outputs": [],
   "source": [
    "mi_clase.metododeclase()"
   ]
  },
  {
   "attachments": {},
   "cell_type": "markdown",
   "metadata": {},
   "source": [
    "Veamos otro ejemplo:"
   ]
  },
  {
   "cell_type": "code",
   "execution_count": null,
   "metadata": {},
   "outputs": [],
   "source": [
    "class Matematicas:\n",
    "    @classmethod\n",
    "    def suma(cls, a, b):\n",
    "        return a + b\n",
    "    \n",
    "    @classmethod\n",
    "    def resta(cls, a, b):\n",
    "        return a - b"
   ]
  },
  {
   "cell_type": "code",
   "execution_count": null,
   "metadata": {},
   "outputs": [],
   "source": [
    "resultado_suma = Matematicas.suma(5, 3)\n",
    "print(resultado_suma)  \n",
    "\n",
    "resultado_resta = Matematicas.resta(7, 2)\n",
    "print(resultado_resta)  "
   ]
  },
  {
   "attachments": {},
   "cell_type": "markdown",
   "metadata": {},
   "source": [
    "Veamos un ejemplo mas:"
   ]
  },
  {
   "cell_type": "code",
   "execution_count": null,
   "metadata": {},
   "outputs": [],
   "source": [
    "class Circulo:\n",
    "    PI = 3.14159\n",
    "\n",
    "    def __init__(self, radio):\n",
    "        self.radio = radio\n",
    "\n",
    "    @classmethod\n",
    "    def calcular_area(cls, radio):\n",
    "        return cls.PI * radio**2\n",
    "\n",
    "    @classmethod\n",
    "    def calcular_perimetro(cls, radio):\n",
    "        return 2 * cls.PI * radio"
   ]
  },
  {
   "cell_type": "code",
   "execution_count": null,
   "metadata": {},
   "outputs": [],
   "source": [
    "c1 = Circulo(2)\n",
    "print(c1.radio)"
   ]
  },
  {
   "cell_type": "code",
   "execution_count": null,
   "metadata": {},
   "outputs": [],
   "source": [
    "area = Circulo.calcular_area(5)\n",
    "print(area)\n"
   ]
  },
  {
   "attachments": {},
   "cell_type": "markdown",
   "metadata": {},
   "source": []
  },
  {
   "attachments": {},
   "cell_type": "markdown",
   "metadata": {},
   "source": [
    "## Métodos estáticos (staticmethod)"
   ]
  },
  {
   "attachments": {},
   "cell_type": "markdown",
   "metadata": {},
   "source": [
    "Los  **métodos de estaticos** son métodos que se definen dentro de una clase, pero no reciben automáticamente el parámetro `self` o `cls`. Esto significa que no tienen acceso a los atributos de instancia ni a los atributos de clase. Los métodos estáticos son independientes de las instancias y no pueden modificar el estado de la clase. \n",
    "Pero por supuesto pueden aceptar parámetros de entrada. Se utilizan generalmente para agrupar funciones relacionadas a la clase, pero que no requieren acceder a los atributos de instancia o de clase."
   ]
  },
  {
   "attachments": {},
   "cell_type": "markdown",
   "metadata": {},
   "source": [
    "Se definen utilizando el decorador `@staticmethod` antes de la definición del método. "
   ]
  },
  {
   "attachments": {},
   "cell_type": "markdown",
   "metadata": {},
   "source": [
    "Los métodos estáticos se llaman utilizando la sintaxis `Clase.metodo()` o `objeto.metodo()`."
   ]
  },
  {
   "cell_type": "code",
   "execution_count": null,
   "metadata": {},
   "outputs": [],
   "source": [
    "class Clase:\n",
    "    @staticmethod\n",
    "    def metodoestatico():\n",
    "        return \"Método estático\""
   ]
  },
  {
   "cell_type": "code",
   "execution_count": null,
   "metadata": {},
   "outputs": [],
   "source": [
    "Clase.metodoestatico()"
   ]
  },
  {
   "cell_type": "code",
   "execution_count": null,
   "metadata": {},
   "outputs": [],
   "source": [
    "class Calculadora:\n",
    "    @staticmethod\n",
    "    def sumar(a, b):\n",
    "        return a + b\n",
    "\n",
    "    @staticmethod\n",
    "    def restar(a, b):\n",
    "        return a - b"
   ]
  },
  {
   "cell_type": "code",
   "execution_count": null,
   "metadata": {},
   "outputs": [],
   "source": [
    "resultado_suma = Calculadora.sumar(5, 3)\n",
    "print(resultado_suma)  \n",
    "\n",
    "resultado_resta = Calculadora.restar(7, 2)\n",
    "print(resultado_resta) "
   ]
  },
  {
   "attachments": {},
   "cell_type": "markdown",
   "metadata": {},
   "source": [
    "**Observación:** La principal diferencia entre los métodos estáticos y los métodos de clase en Python es cómo acceden a los atributos y comportamientos de la clase."
   ]
  },
  {
   "attachments": {},
   "cell_type": "markdown",
   "metadata": {},
   "source": [
    "El siguiente  ejemplo  muestra la diferencia entre los métodos estáticos y los métodos de clase:"
   ]
  },
  {
   "cell_type": "code",
   "execution_count": null,
   "metadata": {},
   "outputs": [],
   "source": [
    "class Calculadora:\n",
    "    @staticmethod\n",
    "    def sumar(num1, num2):\n",
    "        return num1 + num2\n",
    "\n",
    "    @staticmethod\n",
    "    def restar(num1, num2):\n",
    "        return num1 - num2\n",
    "\n",
    "    @staticmethod\n",
    "    def multiplicar(num1, num2):\n",
    "        return num1 * num2"
   ]
  },
  {
   "cell_type": "code",
   "execution_count": null,
   "metadata": {},
   "outputs": [],
   "source": [
    "Ejemplo.metodo_estatico()  "
   ]
  },
  {
   "cell_type": "code",
   "execution_count": null,
   "metadata": {},
   "outputs": [],
   "source": [
    "Ejemplo.metodo_de_clase()  "
   ]
  },
  {
   "attachments": {},
   "cell_type": "markdown",
   "metadata": {},
   "source": [
    "# Herencia"
   ]
  },
  {
   "attachments": {},
   "cell_type": "markdown",
   "metadata": {},
   "source": [
    "La ***herencia*** es un concepto fundamental de la programación orientada a objetos (POO). La *herencia* **permite que una clase herede los atributos y métodos de otra clase**, lo que permite la reutilización de código y la creación de una jerarquía de clases.\n",
    "\n",
    "La clase que se hereda se conoce como **clase base**, **superclase** o **clase padre**, y la clase que hereda se llama **clase derivada**, **subclase** o **clase hija**. \n",
    "\n",
    "La **clase hija** puede acceder a los atributos y métodos de la clase base, y además puede agregar nuevos atributos y métodos, o modificar los existentes."
   ]
  },
  {
   "attachments": {},
   "cell_type": "markdown",
   "metadata": {},
   "source": [
    "Para crear una clase derivada en Python, se utiliza la siguiente sintaxis:"
   ]
  },
  {
   "cell_type": "code",
   "execution_count": null,
   "metadata": {},
   "outputs": [],
   "source": [
    "class ClasePadre:\n",
    "    pass\n",
    "\n",
    "class ClaseHija(ClasePadre):\n",
    "    pass"
   ]
  },
  {
   "attachments": {},
   "cell_type": "markdown",
   "metadata": {},
   "source": [
    "Cuando se crea una instancia de la clase hija, esta hereda los atributos y métodos de la clase padre. Si un atributo o método se encuentra tanto en la clase hija como en la clase padre, se utilizará el de la clase hija."
   ]
  },
  {
   "cell_type": "code",
   "execution_count": 21,
   "metadata": {},
   "outputs": [],
   "source": [
    "class Carro:\n",
    "    def __init__(self, modelo,color):\n",
    "        self.modelo = modelo\n",
    "        self.color = color\n",
    "    \n",
    "    def informacion(self):\n",
    "        print('Modelo: ' + self.modelo)\n",
    "        print('Color: ' + self.color)\n",
    "        \n",
    "\n",
    "\n",
    "class Ford(Carro):\n",
    "   \n",
    "    def __init__(self, modelo,color,propiedadf):\n",
    "        super().__init__(modelo,color)\n",
    "        self.propiedadf = propiedadf\n",
    "        \n",
    "    def informacion(self):\n",
    "        super().informacion()\n",
    "        print('Propiedad: ' + self.propiedadf)        \n"
   ]
  },
  {
   "cell_type": "code",
   "execution_count": 22,
   "metadata": {},
   "outputs": [],
   "source": [
    "mi_carro_ford = Ford('focus','plateado','Propiedad de un ford')\n",
    "otro_carro_ford = Ford('focusx','Negro','Propiedad x de un ford')"
   ]
  },
  {
   "cell_type": "code",
   "execution_count": 23,
   "metadata": {},
   "outputs": [
    {
     "name": "stdout",
     "output_type": "stream",
     "text": [
      "Modelo: focus\n",
      "Color: plateado\n",
      "Propiedad: Propiedad de un ford\n"
     ]
    }
   ],
   "source": [
    "mi_carro_ford.informacion()"
   ]
  },
  {
   "cell_type": "code",
   "execution_count": 6,
   "metadata": {},
   "outputs": [
    {
     "name": "stdout",
     "output_type": "stream",
     "text": [
      "focus\n",
      "plateado\n",
      "Propiedad de un ford\n"
     ]
    }
   ],
   "source": [
    "print(mi_carro_ford.modelo) \n",
    "print(mi_carro_ford.color) \n",
    "print(mi_carro_ford.propiedadf) \n",
    "\n",
    "\n"
   ]
  },
  {
   "cell_type": "code",
   "execution_count": 8,
   "metadata": {},
   "outputs": [
    {
     "name": "stdout",
     "output_type": "stream",
     "text": [
      "focusx\n",
      "Negro\n",
      "Propiedad x de un ford\n"
     ]
    }
   ],
   "source": [
    "print(otro_carro_ford.modelo) \n",
    "print(otro_carro_ford.color) \n",
    "print(otro_carro_ford.propiedadf) \n",
    "\n"
   ]
  },
  {
   "attachments": {},
   "cell_type": "markdown",
   "metadata": {},
   "source": []
  }
 ],
 "metadata": {
  "kernelspec": {
   "display_name": "Python 3",
   "language": "python",
   "name": "python3"
  },
  "language_info": {
   "codemirror_mode": {
    "name": "ipython",
    "version": 3
   },
   "file_extension": ".py",
   "mimetype": "text/x-python",
   "name": "python",
   "nbconvert_exporter": "python",
   "pygments_lexer": "ipython3",
   "version": "3.9.13"
  },
  "orig_nbformat": 4
 },
 "nbformat": 4,
 "nbformat_minor": 2
}
