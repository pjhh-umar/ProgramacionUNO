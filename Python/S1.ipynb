{
 "cells": [
  {
   "attachments": {},
   "cell_type": "markdown",
   "metadata": {},
   "source": [
    "# Introducción al lenguaje de programación Python "
   ]
  },
  {
   "attachments": {},
   "cell_type": "markdown",
   "metadata": {},
   "source": [
    "**Python** es un lenguaje de programación **potente** y **fácil de aprender**. Tiene *estructuras de datos de alto nivel eficientes* y un simple pero efectivo sistema de programación **orientado a objetos**. La elegante **sintaxis** de Python y su **tipado dinámico**, junto a su naturaleza **interpretada** lo convierten en un lenguaje ideal para desarrollo rápido de aplicaciones en muchas áreas, para la mayoría de sistemas operativos."
   ]
  },
  {
   "attachments": {},
   "cell_type": "markdown",
   "metadata": {},
   "source": [
    "Python es un **lenguaje de programación de alto nivel** cuya máxima es la *legibilidad del código*. Las principales características de Python son las siguientes:\n",
    "\n",
    "* Es **multiparadigma**: soporta la *programación estructurada* y la *programación orientada a objetos* entre otros. <!-- y la *programación funcional*. -->\n",
    "\n",
    "* Es **multiplataforma**: Se puede encontrar un ***intérprete de Python*** para los principales sistemas operativos: *Windows*, *Linux* y *Mac OS*. Además, se puede reutilizar el mismo código en cada una de las plataformas.\n",
    "\n",
    "* Es de **tipado dinámico**: El tipo de las variables se decide en tiempo de ejecución, no es necesario definir el tipo de dato de las  variables que utilizaremos.\n",
    "\n",
    "* Es **fuertemente tipado**: No se puede usar una variable en un contexto fuera de su tipo. Si se quisiera, habría que hacer una *conversión de tipos*.\n",
    "\n",
    "* Es **interpretado**: El código no se compila a lenguaje máquina."
   ]
  },
  {
   "attachments": {},
   "cell_type": "markdown",
   "metadata": {},
   "source": [
    "#### **Recuerda:** \n",
    "\n",
    "Un **lenguaje de programación interpretado** es un lenguaje en el que las instrucciones escritas en el código fuente son ejecutadas directamente por un **intérprete**, en lugar de ser compiladas previamente a un código binario. En un lenguaje interpretado, *el intérprete lee el código fuente línea por línea y ejecuta inmediatamente cada instrucción*. Esto significa que el código se puede ejecutar y probar sin tener que compilarlo antes, lo que puede ser útil para el desarrollo y la depuración.\n",
    "\n",
    "Sin embargo, a diferencia de los lenguajes compilados, los lenguajes interpretados pueden ser **más lentos** al ejecutarse y pueden requerir más memoria. Algunos ejemplos de lenguajes de programación interpretados incluyen ***Python***, ***Ruby***, ***JavaScript*** y ***PHP***.\n",
    "\n",
    " El hecho de que Python sea interpretado quiere decir que es necesario un intérprete que permita ejecutar un programa o **script** escrito en Python sin necesidad de compilarlo."
   ]
  },
  {
   "attachments": {},
   "cell_type": "markdown",
   "metadata": {},
   "source": [
    "# Programación Orientada a Objetos (POO)"
   ]
  },
  {
   "attachments": {},
   "cell_type": "markdown",
   "metadata": {},
   "source": [
    "El paradigma de **Programación Orientada a Objetos** es un paradigma que se centra en la definición de **clases** y **objetos** que interactúan entre sí para realizar tareas específicas. Cada objeto puede mantener sus propios datos (tambien conocido como **estado**)  así bien se definen los **comportamientos** que describen lo que el objeto puede realizar.\n",
    "\n",
    "<!-- Bajo este paradigma de programación un programa esta formado de un conjunto de estos objetos cooperando entre si.  -->"
   ]
  },
  {
   "attachments": {},
   "cell_type": "markdown",
   "metadata": {},
   "source": [
    "# ¿Qué necesitas para escribir programas en Python"
   ]
  },
  {
   "attachments": {},
   "cell_type": "markdown",
   "metadata": {},
   "source": [
    "* Como mínimo es necesario  instalar el <a href=\"https://www.python.org/downloads/\" title=\"\">***interprete de  Python***</a> en tu computadora. En el caso de Windows tener cuidado con lo siguiente \n",
    "\n",
    "<center>\n",
    "<img src=\"../Imagenes/Python.jpg\" alt=\"path\", width=\"35%\" height=\"auto\">\n",
    "</center>\n",
    "\n",
    "*  También vas a necesitar algún **editor de textos** en el cual escribir tus programas. Por ejemplo en Windows el ***bloc de notas***\n",
    "\n",
    "* Sin embargo, usar un **Entorno de Desarrollo Integrado** (**IDE** por sus siglas en Ingles) tales como ***Visual Studio Code***, ***Spider*** o  ***Pycharm*** (por mencionar algunos), hara mucho más facil escribir y correr tus programas."
   ]
  },
  {
   "attachments": {},
   "cell_type": "markdown",
   "metadata": {},
   "source": [
    "## Interprete "
   ]
  },
  {
   "attachments": {},
   "cell_type": "markdown",
   "metadata": {},
   "source": [
    "Python es un **lenguaje de programación interpretado**, lo que significa que los programas escritos en Python no se compilan a un código binario antes de ejecutarse, sino que se interpretan en tiempo real por un *intérprete*. Un **intérprete de Python** es un programa que lee y ejecuta el código escrito en el *lenguaje de programación Python*. \n",
    "\n",
    "El intérprete de Python está disponible en varias plataformas, incluyendo Windows, macOS y Linux. El intérprete de Python es un componente fundamental para el desarrollo en Python, ya que permite a los desarrolladores escribir y ejecutar código en tiempo real, lo que les permite ver los resultados de sus programas de inmediato.\n",
    "\n",
    "Hay varios intérpretes de Python disponibles, incluyendo el intérprete **CPython**, que es el intérprete oficial y más utilizado para Python, así como intérpretes alternativos como **Jython**, **IronPython** y **PyPy**. Además, muchos sistemas operativos vienen con una versión de Python preinstalada, por lo que puede ejecutar scripts de Python en su ordenador sin tener que instalar nada adicional."
   ]
  },
  {
   "attachments": {},
   "cell_type": "markdown",
   "metadata": {},
   "source": [
    "# ¿Cómo ejecutar programas \"escritos\" en lenguaje de programación Python?"
   ]
  },
  {
   "attachments": {},
   "cell_type": "markdown",
   "metadata": {},
   "source": [
    "Existen muchas maneras en las cuales puedes ejecutar un programa en Python:\n",
    "\n",
    "* Usando el **interprete de Python** via el  ***REPL  de Python***.\n",
    "\n",
    "* **Almacenar en un archivo** y **ejecutarlo desde la consola** o simbolo de  usando el comando Python.\n",
    "\n",
    "* Utilizando un  **Entorno de Desarrollo Integrado**  como ***VSCode***, ***Spider***, ***Pycharm***  etc. \n"
   ]
  },
  {
   "attachments": {},
   "cell_type": "markdown",
   "metadata": {},
   "source": [
    "## Interactuando con el interprete de Python:  **REPL de Python**"
   ]
  },
  {
   "attachments": {},
   "cell_type": "markdown",
   "metadata": {},
   "source": [
    "Un aspecto interesante del uso de Python es que se puede usar (y se usa con mucha frecuencia) de manera interactiva a través del **REPL de Python**, con comandos individuales que se ingresan y se ejecutan uno a la vez. \n",
    "\n",
    "**REPL** es un acrónimo que significa: \"**R**ead-**E**val-**P**rint-**L**oop\" (bucle de lectura-evaluación-impresión) lo que significa que el *REPL de  Python lee la entrada del usuario, la  evalua como una expresion de Python, imprime la salida de lo que fue evaluado y  esta listo para la siguiente entrada*."
   ]
  },
  {
   "attachments": {},
   "cell_type": "markdown",
   "metadata": {},
   "source": [
    "El **REPL de Python** es una herramienta útil para **aprender Python**, **probar pequeños fragmentos de código** y **hacer calculos simples** (como por ejemplo usar Python como una calculadora básica). Es una forma rápida y sencilla de interactuar con el interprete de Python.\n",
    "\n",
    "Para **acceder al REPL de Python**,  tienes que  abrir  un ***terminal***  o un ***símbolo del sistema*** y escribir \"*`python`*\" (sin comillas) y enseguida presionar *`Enter`*. Inmediatamente estaras dentro del ***REPL de Python*** y podras ingresar cualquier instrucción valida  de Python."
   ]
  },
  {
   "attachments": {},
   "cell_type": "markdown",
   "metadata": {},
   "source": [
    "**Para salir de la consola interactiva (REPL)**  y **regresar a la consola del sistema**, presione *`Ctrl+Z`* y presione *`Enter`* en Windows o *`Ctrl+D`* en Mac OS o Linux. Alternativamente puedes tambien ejecutar el comando Python *`exit( )`* o *`quit( )`* ."
   ]
  },
  {
   "attachments": {},
   "cell_type": "markdown",
   "metadata": {},
   "source": [
    "#### **Nota:**\n",
    "***Prompt*** es un término que se refiere a un mensaje o indicación que se muestra al usuario para pedirle que realice alguna acción o proporcione alguna información. En informática, el término \"prompt\" se utiliza comúnmente en referencia a la línea de comandos, donde se muestra un mensaje para indicar al usuario que está listo para recibir una entrada de texto.\n",
    "\n",
    "Por ejemplo, **en el intérprete de la línea de comandos de Python, el prompt predeterminado es el símbolo de `>>>`**, que indica que está listo para recibir instrucciones en Python. El usuario puede escribir código o comandos en la línea de comandos después del prompt y luego presionar Enter para ejecutarlos.\n"
   ]
  },
  {
   "attachments": {},
   "cell_type": "markdown",
   "metadata": {},
   "source": [
    "## Ejecutando un archivo Python"
   ]
  },
  {
   "attachments": {},
   "cell_type": "markdown",
   "metadata": {},
   "source": [
    "Es posible por supuesto almacenar los comando Python en un archivo. Se crea entonces un archivo de programa que puede ser ejecutado como un argumento de el comando `python` .\n",
    "\n",
    "De esta manera, resulta muy sencillo crear programas en el lenguaje  Python que puedan ser almacenados en un archivo y  entonces ejecutarlo cuando se requiera en cualquier plataforma como se requiera (Windows, Linux o Mac). Esto ilustra la naturaleza multiplataforma de Python y esta es justamente una de las razones por las que Python es muy popular."
   ]
  },
  {
   "attachments": {},
   "cell_type": "markdown",
   "metadata": {},
   "source": [
    "#### **Nota:** \n",
    "\n",
    "El **símbolo del sistema** es una característica de Microsoft Windows que permite a los usuarios acceder a las herramientas y recursos del sistema operativo. Es también conocido como ***cmd***  o ***interfaz de línea de comandos***.\n",
    "\n",
    "Puedes acceder al símbolo del sistema en Windows  haciendo clic en \"*inicio*\",  escribiendo *cmd* en el cuadro de busqueda y presionando Enter. Una vez en el símbolo del sistema, puedes ejecutar comandos y scipts para realizar diversas tareas, como administrar archivos. Es importante tener precaución  al usar el símbolo del sistema ya que los comandos y scripts pueden tener un impacto significativo en el sistema operativo y los datos del usuario si se utilizan incorrectamente.  "
   ]
  },
  {
   "attachments": {},
   "cell_type": "markdown",
   "metadata": {},
   "source": [
    "# Escribir/ imprimir en Python"
   ]
  },
  {
   "attachments": {},
   "cell_type": "markdown",
   "metadata": {},
   "source": [
    "## Mi primer programa en Python"
   ]
  },
  {
   "attachments": {},
   "cell_type": "markdown",
   "metadata": {},
   "source": [
    "Para escribir o imprimir  un mensaje (cadena de caracteres) en Python utilizamos el comando `print( )`,  encerrando  entre comillas simples ` '... ' `  o dobles `\"...\"` el mensaje obteniendo el mismo resultado: "
   ]
  },
  {
   "cell_type": "code",
   "execution_count": null,
   "metadata": {},
   "outputs": [],
   "source": [
    "print('¡Hola mundo!') #Utilizando comillas simples"
   ]
  },
  {
   "cell_type": "code",
   "execution_count": null,
   "metadata": {},
   "outputs": [],
   "source": [
    "print(\"¡Hola mundo!\") #Utilizando comillas dobles"
   ]
  },
  {
   "attachments": {},
   "cell_type": "markdown",
   "metadata": {},
   "source": [
    "Si necesitas imprimir comillas simples o dobles dentro del mensaje, puedes combinarlas de la siguiente manera:"
   ]
  },
  {
   "cell_type": "code",
   "execution_count": 1,
   "metadata": {},
   "outputs": [
    {
     "name": "stdout",
     "output_type": "stream",
     "text": [
      "Le gusta que le digan \"Beto\" \n"
     ]
    }
   ],
   "source": [
    "print('Le gusta que le digan \"Beto\" ') #Imprimiendo comillas dobles dentro de un mensaje."
   ]
  },
  {
   "cell_type": "code",
   "execution_count": null,
   "metadata": {},
   "outputs": [],
   "source": [
    "print(\"Le gusta que le digan 'Beto'\")"
   ]
  },
  {
   "attachments": {},
   "cell_type": "markdown",
   "metadata": {},
   "source": [
    "O bien puedes utilizar `\\` para ***escapar comillas***:"
   ]
  },
  {
   "cell_type": "code",
   "execution_count": null,
   "metadata": {},
   "outputs": [],
   "source": [
    "print(\"Le gusta que le digan \\\"Beto\\\" \")"
   ]
  },
  {
   "attachments": {},
   "cell_type": "markdown",
   "metadata": {},
   "source": [
    "La instrucción `print( )` también trabaja con enteros."
   ]
  },
  {
   "cell_type": "code",
   "execution_count": 3,
   "metadata": {},
   "outputs": [
    {
     "name": "stdout",
     "output_type": "stream",
     "text": [
      "100\n"
     ]
    }
   ],
   "source": [
    "print(100)"
   ]
  },
  {
   "attachments": {},
   "cell_type": "markdown",
   "metadata": {},
   "source": [
    "#### **Observación:**\n",
    "\n",
    "Cuando se escribe un número grande podríamos estar tentados a usar comas para separar grupos de tres dígitos, como en $1,000,000$. Esto no es un número entero válido en Python, pero sí es aceptado en una sentencia como:\n"
   ]
  },
  {
   "cell_type": "code",
   "execution_count": 2,
   "metadata": {},
   "outputs": [
    {
     "name": "stdout",
     "output_type": "stream",
     "text": [
      "1 0 0\n"
     ]
    }
   ],
   "source": [
    "print (1,000,000)"
   ]
  },
  {
   "attachments": {},
   "cell_type": "markdown",
   "metadata": {},
   "source": [
    "## Saltos de línea en Python"
   ]
  },
  {
   "cell_type": "code",
   "execution_count": 4,
   "metadata": {},
   "outputs": [
    {
     "data": {
      "text/plain": [
       "'Primera linea de texto \\n Segunda linea de texto'"
      ]
     },
     "execution_count": 4,
     "metadata": {},
     "output_type": "execute_result"
    }
   ],
   "source": [
    "texto=\"Primera linea de texto \\n Segunda linea de texto\"\n",
    "texto\n",
    "#print(texto)\n"
   ]
  },
  {
   "attachments": {},
   "cell_type": "markdown",
   "metadata": {},
   "source": [
    "**Observacíon:** La función `print()` produce una salida más legible, omitiendo las comillas que la encierran e imprimiendo caracteres especiales y escapados:"
   ]
  },
  {
   "attachments": {},
   "cell_type": "markdown",
   "metadata": {},
   "source": [
    "**Si no quieres que los caracteres precedidos por**  `\\` **se interpreten como caracteres especiales**, puedes usar cadenas sin formato agregando una `r` antes de la primera comilla:"
   ]
  },
  {
   "cell_type": "code",
   "execution_count": 5,
   "metadata": {},
   "outputs": [
    {
     "name": "stdout",
     "output_type": "stream",
     "text": [
      "C:\n",
      "ame\n",
      "C:\\name\n"
     ]
    }
   ],
   "source": [
    "print('C:\\name')\n",
    "print(r'C:\\name')"
   ]
  },
  {
   "attachments": {},
   "cell_type": "markdown",
   "metadata": {},
   "source": [
    "## ¿Cómo evitarlos  saltos de linea en python?"
   ]
  },
  {
   "attachments": {},
   "cell_type": "markdown",
   "metadata": {},
   "source": [
    "Para **evitar los saltos de línea en Python** usando la función `print()`: La función `print()` en Python tiene un parámetro opcional llamado `end` que se utiliza para **especificar el carácter de final de línea que se debe imprimir**. El valor por defecto es `\\n`, que indica un salto de línea. Para evitar el salto de línea, simplemente se debe establecer el valor de `end` como una cadena vacía, como se muestra a continuación:"
   ]
  },
  {
   "cell_type": "code",
   "execution_count": 7,
   "metadata": {},
   "outputs": [
    {
     "name": "stdout",
     "output_type": "stream",
     "text": [
      "Hola Pablo\n"
     ]
    }
   ],
   "source": [
    "print(\"Hola\", end=\" \")\n",
    "print(\"Pablo\")"
   ]
  },
  {
   "attachments": {},
   "cell_type": "markdown",
   "metadata": {},
   "source": [
    "## Imprimir  múltiples líneas"
   ]
  },
  {
   "attachments": {},
   "cell_type": "markdown",
   "metadata": {},
   "source": [
    "**Las cadenas de texto literales pueden contener múltiples líneas**. Una forma es usar triples comillas: \n",
    "`\"\"\". . .\"\"\"` o `'''. . .'''`. Los fin de línea son incluidos automáticamente, pero es posible prevenir esto agregando una `\\` al final de la línea. Por ejemplo:"
   ]
  },
  {
   "cell_type": "code",
   "execution_count": 12,
   "metadata": {},
   "outputs": [
    {
     "name": "stdout",
     "output_type": "stream",
     "text": [
      "Primera linea\n",
      "      \n",
      "     segunda linea \n",
      "           tercera linea\n",
      "\n"
     ]
    }
   ],
   "source": [
    "print(\"\"\"\\\n",
    "Primera linea\n",
    "\\\n",
    "      \n",
    "     segunda linea \n",
    "           tercera linea\n",
    "\"\"\")"
   ]
  },
  {
   "attachments": {},
   "cell_type": "markdown",
   "metadata": {},
   "source": [
    "El comando `print( )` también funciona con variables. Puedes utilizar el comando `print( )` para imprimir el valor de una variable: "
   ]
  },
  {
   "cell_type": "code",
   "execution_count": 13,
   "metadata": {},
   "outputs": [
    {
     "name": "stdout",
     "output_type": "stream",
     "text": [
      "50\n"
     ]
    }
   ],
   "source": [
    "x = 50  # asignamos a la variable x el valor 50\n",
    "print(x)"
   ]
  },
  {
   "attachments": {},
   "cell_type": "markdown",
   "metadata": {},
   "source": [
    "También puedes imprimir un mensaje para acompañar el valor de la variable:"
   ]
  },
  {
   "cell_type": "code",
   "execution_count": 14,
   "metadata": {},
   "outputs": [
    {
     "name": "stdout",
     "output_type": "stream",
     "text": [
      "El valor de la variable x es:  50\n"
     ]
    }
   ],
   "source": [
    "print('El valor de la variable x es: ', x)"
   ]
  },
  {
   "attachments": {},
   "cell_type": "markdown",
   "metadata": {},
   "source": [
    "# Uso del punto y coma en Python"
   ]
  },
  {
   "attachments": {},
   "cell_type": "markdown",
   "metadata": {},
   "source": [
    "El **punto y coma**  `;` permite escribir distintas instrucciones en una misma línea. Por ejemplo, puedes asignar valores a distintas variables en una sóla linea utilizando `;` para separar cada asignación: "
   ]
  },
  {
   "cell_type": "code",
   "execution_count": null,
   "metadata": {},
   "outputs": [],
   "source": [
    "x=3; y=2; z=5; x+y+z"
   ]
  },
  {
   "cell_type": "code",
   "execution_count": null,
   "metadata": {},
   "outputs": [],
   "source": [
    "x=1; y=2; z=3\n",
    "print(x,y,z)"
   ]
  },
  {
   "cell_type": "code",
   "execution_count": null,
   "metadata": {},
   "outputs": [],
   "source": [
    "print(\"Hola\"); print(\"Mundo\")"
   ]
  },
  {
   "attachments": {},
   "cell_type": "markdown",
   "metadata": {},
   "source": [
    "**Observaciòn:** Terminar las líneas con un punto y coma, si bien no es necesario, no genera ningún error:"
   ]
  },
  {
   "cell_type": "code",
   "execution_count": 15,
   "metadata": {},
   "outputs": [
    {
     "name": "stdout",
     "output_type": "stream",
     "text": [
      "Hola\n"
     ]
    }
   ],
   "source": [
    "print(\"Hola\"); # Terminar una instrucción con ; no es necesario pero tampoco produce un error."
   ]
  },
  {
   "attachments": {},
   "cell_type": "markdown",
   "metadata": {},
   "source": [
    "# Variables en Python"
   ]
  },
  {
   "attachments": {},
   "cell_type": "markdown",
   "metadata": {},
   "source": [
    "## Declaración (asignación) de variables en Python \n",
    "\n",
    "La declararación de  una variable es increíblemente simple en Python. Las **variables** son una forma de almacenar un dato y son una parte fundamental de Python, como lo son en cualquier lenguaje de programación. Las variables tienen dos componentes, el ***nombre*** o ***identificador*** y su ***valor***. "
   ]
  },
  {
   "cell_type": "code",
   "execution_count": null,
   "metadata": {},
   "outputs": [],
   "source": [
    "x = 1 # Declaración de la variable x \n",
    "y = \"Esto es una cadena de caracteres\" # Declaración de la variable y\n",
    "print(x)\n",
    "print(y)"
   ]
  },
  {
   "attachments": {},
   "cell_type": "markdown",
   "metadata": {},
   "source": [
    "Las variables en Python se crean simplemente asignando (estableciendo) sus valores, eso es todo,  no hay más que hacer. De esta manera a diferencia de otros lenguajes de programación, **no es necesario especificar el tipo de dato de  la  variable**, ***se realiza automáticamente***, Python detecta que tipo de dato es el que se esta almacenando."
   ]
  },
  {
   "attachments": {},
   "cell_type": "markdown",
   "metadata": {},
   "source": [
    "## Reglas de nomenclatura para variables en Python"
   ]
  },
  {
   "attachments": {},
   "cell_type": "markdown",
   "metadata": {},
   "source": [
    "Los programadores generalmente escogemos **nombres significativos para las variables** (que especifican para qué se usa o que dato almacena la variable).\n",
    "\n",
    "Los nombres de variables pueden ser ***arbitrariamente largos***. Pueden ***contener letras y números, pero tienen que empezar con una letra***. Aunque es permitido usar letras mayúsculas, por convención no lo haremos. Si lo hacemos, recuerda que las letras mayúsculas importan, los identificadores `Variable` y `variable` denotan variables diferentes."
   ]
  },
  {
   "attachments": {},
   "cell_type": "markdown",
   "metadata": {},
   "source": [
    "\n",
    "Estas son algunas **buenas reglas para nombres válidos de variables en Python** :\n",
    "\n",
    "* El nombre de la variable debe ***comenzar con una letra minuscula.***\n",
    "\n",
    "* El nombre de la variable no puede ***comenzar con un número o símbolo.***\n",
    "\n",
    "* Dentro del  nombre de la variable, sólo puede contener ***caracteres alfanuméricos***, con la única excepción de los guiones bajos que a menudo se usa en nombres con múltiples palabras, tales como: `umar_huatulco`"
   ]
  },
  {
   "attachments": {},
   "cell_type": "markdown",
   "metadata": {},
   "source": [
    "Bajo estas reglas, enseguida se muestran  algunos ejemplos de **nombres de variables  válidos de Python**:"
   ]
  },
  {
   "cell_type": "code",
   "execution_count": 16,
   "metadata": {},
   "outputs": [],
   "source": [
    "variable=1\n",
    "Variable='a'\n",
    "variable_1='e' \n",
    "_variable_=10"
   ]
  },
  {
   "attachments": {},
   "cell_type": "markdown",
   "metadata": {},
   "source": [
    "Enseguida se muestran algunos  ejemplos de ***nombres de variables de Python no válidos***:"
   ]
  },
  {
   "cell_type": "code",
   "execution_count": null,
   "metadata": {},
   "outputs": [],
   "source": [
    "0variable=9\n",
    "&variable=0\n",
    "%variable_1=6\n",
    "$variable_ = 3"
   ]
  },
  {
   "attachments": {},
   "cell_type": "markdown",
   "metadata": {},
   "source": [
    "#### **Observación** \n",
    "\n",
    "Es muy importante tener en cuenta que Python distingue mayúsculas de minúsculas, así que `Variable` es un identificador y `variable` es otro identificador."
   ]
  },
  {
   "attachments": {},
   "cell_type": "markdown",
   "metadata": {},
   "source": [
    "## Palabras reservadas en Python "
   ]
  },
  {
   "attachments": {},
   "cell_type": "markdown",
   "metadata": {},
   "source": [
    "Python **reserva $31$ palabras** para describir la estructura del programa, y **no permite que se usen como identificadores** (nombres de variables). Cuando en un programa nos encontramos con que un nombre no es admitido pese a que su formato es válido, seguramente se trata de una de las palabras de esta lista, a la que llamaremos de **palabras reservadas**. A continuación se presenta una  lista completa de las palabras reservadas de Python:"
   ]
  },
  {
   "attachments": {},
   "cell_type": "markdown",
   "metadata": {},
   "source": [
    "<pre>\n",
    "<b>\n",
    "and             del             from            not             while\n",
    "as              elif            global          or              with\n",
    "assert          else            if              pass            yield\n",
    "break           except          import          print\n",
    "class           exec            in              raise\n",
    "continue        finally         is              return\n",
    "def             for             lambda          try\n",
    "</b>\n",
    "</pre>"
   ]
  },
  {
   "attachments": {},
   "cell_type": "markdown",
   "metadata": {},
   "source": [
    "# Operadores, expresiones y sentencias en Python"
   ]
  },
  {
   "attachments": {},
   "cell_type": "markdown",
   "metadata": {},
   "source": [
    "En Python es importante distinguir  entre ***operadores***, ***expresiones*** y ***sentencias***, ya que son las formas básicas que componen la estructura de cualquier programa."
   ]
  },
  {
   "attachments": {},
   "cell_type": "markdown",
   "metadata": {},
   "source": [
    "## Operadores"
   ]
  },
  {
   "attachments": {},
   "cell_type": "markdown",
   "metadata": {},
   "source": [
    "En Python, los ***operadores*** son **simbolos especiales que actuan sobre una, dos o más variables y/o literales para  realizar cálculos y comparaciones** en *expresiones*. Algunos de los operadores más comunes en Python son:\n",
    "\n",
    "* **Aritméticos**:   `+`,  `-`,  `*` , `/` , `%` (*módulo*), `//` (*división entera*), `**` (potencia)\n",
    "\n",
    "* **Asignación**:  `=`, `+=`, `-=`, `*=`, `/=`, `%=`, `//=`, `**=`\n",
    "\n",
    "* **Comparación**:  `==`, `!=`, `<`,` >`,` <=`,` >=`\n",
    "\n",
    "* **Lógicos**:  `and`, `or`, `not`\n",
    "\n",
    "* **Pertenencia**:  `in`, `not in`\n",
    "\n",
    "* **Identidad**:  `is`, `is not`\n",
    "\n",
    "Los operadores se utilizan para crear *expresiones* que se evalúan obteniendo valores booleanos, números, cadenas de texto, etc. \n",
    "\n",
    "Por ejemplo, `2 + 3` es una expresión que utiliza el operador de *suma* `+` para calcular el valor `5`."
   ]
  },
  {
   "attachments": {},
   "cell_type": "markdown",
   "metadata": {},
   "source": [
    "## Expresiones"
   ]
  },
  {
   "attachments": {},
   "cell_type": "markdown",
   "metadata": {},
   "source": [
    "En Python, una ***expresión*** es una **secuencia de *valores*, *variables* y *operadores* que produce un resultado cuando se evalúa**. Las expresiones pueden ser muy simples, como un número o una variable, o más complejas, combinando varios valores y operadores. Los siguientes son ejemplos de expresiones en Python:"
   ]
  },
  {
   "cell_type": "code",
   "execution_count": null,
   "metadata": {},
   "outputs": [],
   "source": [
    "2 + 3 #suma de dos números."
   ]
  },
  {
   "cell_type": "code",
   "execution_count": null,
   "metadata": {},
   "outputs": [],
   "source": [
    "cadena = \"hola\" + \" mundo\" # concatenación de dos cadenas de texto.\n",
    "print(cadena)"
   ]
  },
  {
   "cell_type": "code",
   "execution_count": null,
   "metadata": {},
   "outputs": [],
   "source": [
    "\n",
    "8 // 3 # división entera de dos números."
   ]
  },
  {
   "cell_type": "code",
   "execution_count": null,
   "metadata": {},
   "outputs": [],
   "source": [
    "len(\"hola  mundo\")  # invoca a una función que devuelve el número de caracteres en una cadena."
   ]
  },
  {
   "attachments": {},
   "cell_type": "markdown",
   "metadata": {},
   "source": [
    "En Python, las expresiones se utilizan en muchos lugares, como en *asignaciones de variables*, en *argumentos de funciones*, en  *condicionales*, etc."
   ]
  },
  {
   "attachments": {},
   "cell_type": "markdown",
   "metadata": {},
   "source": [
    "### Evaluar vs mostrar el valor de una expresión"
   ]
  },
  {
   "attachments": {},
   "cell_type": "markdown",
   "metadata": {},
   "source": [
    "La **evaluación de una expresión** produce un valor, esta es la razón por la que las expresiones pueden aparecer en el lado derecho de las sentencias de asignación. Un valor, por si mismo, se considera como una expresión, lo mismo ocurre para las variables."
   ]
  },
  {
   "cell_type": "code",
   "execution_count": null,
   "metadata": {},
   "outputs": [],
   "source": [
    "32"
   ]
  },
  {
   "cell_type": "code",
   "execution_count": null,
   "metadata": {},
   "outputs": [],
   "source": [
    "x=2\n",
    "x"
   ]
  },
  {
   "attachments": {},
   "cell_type": "markdown",
   "metadata": {},
   "source": [
    "Aunque es un poco confuso, **evaluar una expresión NO es lo mismo que mostrar un valor**."
   ]
  },
  {
   "cell_type": "code",
   "execution_count": null,
   "metadata": {},
   "outputs": [],
   "source": [
    "mensaje = \"Saber matemáticas es sexy ;)\"\n",
    "mensaje #Se evalua la expresión "
   ]
  },
  {
   "cell_type": "code",
   "execution_count": null,
   "metadata": {},
   "outputs": [],
   "source": [
    "print (mensaje) #Aquí mostramos el valor de la expresión"
   ]
  },
  {
   "attachments": {},
   "cell_type": "markdown",
   "metadata": {},
   "source": [
    "Cuando el interprete  de Python muestra el valor de una expresión que ha evaluado, usa el mismo formato que se usaría para introducir un valor. En el caso de las cadenas, esto implicaría que se incluyen las comillas. Pero la sentencia `print` despliega el valor de la expresión que, en este caso, es el contenido de la cadena."
   ]
  },
  {
   "attachments": {},
   "cell_type": "markdown",
   "metadata": {},
   "source": [
    "## Sentencias"
   ]
  },
  {
   "attachments": {},
   "cell_type": "markdown",
   "metadata": {},
   "source": [
    "En Python, una **sentencia** o **declaración** es una instrucción que **representa una acción o una operación que se debe realizar**. Una sentencia puede estar **formada por una o varias *expresiones***, aunque no siempre es así. Algunos de los tipos más comunes de sentencias en Python son:\n",
    "\n",
    "* ***Asignación***: asigna un valor a una variable: `x = 10`\n",
    "\n",
    "* ***Condicionales***: ejecutan un bloque de código solo si se cumple una condición: `if x > 0: print(\"x es positivo\")`\n",
    "\n",
    "* ***Bucles***: ejecutan un bloque de código repetidas veces: `for i in range(10): print(i)`\n",
    "\n",
    "* ***Funciones***: definen un bloque de código que se puede ejecutar varias veces: `def sumar(a, b): return a + b`\n",
    "\n",
    "* ***Importaciones***: importan módulos o paquetes externos para usarlos en el código:` import math`\n",
    "\n",
    "* ***Clases***: definen un tipo de objeto que se puede crear y utilizar en el código: `class Auto: pass`\n",
    "\n",
    "Las sentencias en Python son ejecutadas secuencialmente, de arriba a abajo, en el orden en que aparecen en el código. Cada sentencia debe terminar con un ***salto de línea*** (`\\n`) o con un *punto y coma* (`;`), aunque en Python generalmente se utiliza un salto de línea para separar sentencias. "
   ]
  },
  {
   "attachments": {},
   "cell_type": "markdown",
   "metadata": {},
   "source": [
    "Las sentencias son las instrucciones que componen los programas  y determinan su comportamiento."
   ]
  },
  {
   "attachments": {},
   "cell_type": "markdown",
   "metadata": {},
   "source": [
    "### Sentencias de más de una línea en Python\n"
   ]
  },
  {
   "attachments": {},
   "cell_type": "markdown",
   "metadata": {},
   "source": [
    "En Python usualmente, las sentencias ocupan una sola línea. Por ejemplo:"
   ]
  },
  {
   "cell_type": "code",
   "execution_count": null,
   "metadata": {},
   "outputs": [],
   "source": [
    "a=2+3"
   ]
  },
  {
   "attachments": {},
   "cell_type": "markdown",
   "metadata": {},
   "source": [
    "Sin embargo, algunas  sentencias  son muy largas y pueden  ocupar más de una línea. Para **dividir una sentencia en varias líneas** se utiliza el carácter **`\\`**:"
   ]
  },
  {
   "cell_type": "code",
   "execution_count": null,
   "metadata": {},
   "outputs": [],
   "source": [
    "a = 1 + 2 + 3 + \\\n",
    "    4 + 5 + 6 + \\\n",
    "    7\n",
    "a"
   ]
  },
  {
   "attachments": {},
   "cell_type": "markdown",
   "metadata": {},
   "source": [
    "Además, de la separación explícita (la que se realiza con el carácter `\\`), en Python la continuación de línea es implícita siempre y cuando la expresión vaya dentro de los caracteres `( )`, `[ ]` y `{ }`."
   ]
  },
  {
   "attachments": {},
   "cell_type": "markdown",
   "metadata": {},
   "source": [
    "Por ejemplo, podemos inicializar una lista del siguiente modo:"
   ]
  },
  {
   "cell_type": "code",
   "execution_count": null,
   "metadata": {},
   "outputs": [],
   "source": [
    "a = [1, 2, 7,\n",
    "     3, 8, 4,\n",
    "     9]"
   ]
  },
  {
   "attachments": {},
   "cell_type": "markdown",
   "metadata": {},
   "source": [
    "# Bloques de código (Identación)"
   ]
  },
  {
   "attachments": {},
   "cell_type": "markdown",
   "metadata": {},
   "source": [
    "El **sangrado** o **indentación** consiste en mover un bloque de texto hacia la derecha insertando espacios o tabuladores al principio de la línea, dejando un margen a la izquierda. Un **bloque de código comienza con un nuevo sangrado y acaba con la primera línea cuyo sangrado sea menor**. "
   ]
  },
  {
   "attachments": {},
   "cell_type": "markdown",
   "metadata": {},
   "source": [
    "En Python, un **bloque de código** es un conjunto de instrucciones que se ejecutan juntas como una unidad. Los bloques de código **se delimitan mediante indentación** y generalmente se utilizan para **agrupar instrucciones dentro de *funciones*, *bucles*, *condicionales***, entre otros. Por ejemplo:"
   ]
  },
  {
   "cell_type": "code",
   "execution_count": null,
   "metadata": {},
   "outputs": [],
   "source": [
    "x=2 \n",
    "if x > 0:\n",
    "    print(\"x es un número positivo y su valor es:\",x)\n",
    "    x = x - 1\n",
    "print('El valor de x es:',x)"
   ]
  },
  {
   "attachments": {},
   "cell_type": "markdown",
   "metadata": {},
   "source": [
    "En este ejemplo, el bloque de código dentro del `if` está delimitado por la indentación de las líneas `print` y `x = x - 1`. Estas líneas se ejecutarán juntas si la condición `x > 0` se cumple. Observa que **no fue necesario indicar el fin de la instrucción `If`, ni el uso de corchetes** como en otros lenguajes de programación."
   ]
  },
  {
   "cell_type": "code",
   "execution_count": null,
   "metadata": {},
   "outputs": [],
   "source": [
    "x=-2 \n",
    "if x > 0:\n",
    "    print(\"x es un número positivo y su valor es:\",x)\n",
    "    x = x - 1\n",
    "print('El valor de x es:',x)"
   ]
  },
  {
   "attachments": {},
   "cell_type": "markdown",
   "metadata": {},
   "source": [
    "Por otro lado, observemos que el código siguiente nos genera un error de sintaxis. "
   ]
  },
  {
   "cell_type": "code",
   "execution_count": null,
   "metadata": {},
   "outputs": [],
   "source": [
    "x=-1\n",
    "if x>0:\n",
    "    print(\"x es positivo\")\n",
    "elif x<0:\n",
    "    print(\"x es negativo\")\n",
    "else:\n",
    "    print('x es cero')"
   ]
  },
  {
   "attachments": {},
   "cell_type": "markdown",
   "metadata": {},
   "source": [
    "Por lo tanto, el código en Python **debe estar perfectamente identado** o de lo contrario no se ejecutará o se ejecutará en una forma no deseada."
   ]
  },
  {
   "cell_type": "code",
   "execution_count": null,
   "metadata": {},
   "outputs": [],
   "source": [
    "x=-2\n",
    "if x > 0:\n",
    "    print(\"x es un número positivo\")\n",
    "    x = x - 1\n",
    "print('El valor actual de x es',x)"
   ]
  },
  {
   "attachments": {},
   "cell_type": "markdown",
   "metadata": {},
   "source": [
    "#### **Observación:**\n",
    "\n",
    "De nuevo, la guía de estilo de Python **recomienda usar los espacios en lugar de las tabulaciones** para realizar el sangrado **se suelen utilizar $4$ espacios**."
   ]
  },
  {
   "attachments": {},
   "cell_type": "markdown",
   "metadata": {},
   "source": [
    "# Comentarios en Python"
   ]
  },
  {
   "attachments": {},
   "cell_type": "markdown",
   "metadata": {},
   "source": [
    "Los **comentarios en Python comienzan con `#`** y lo que le sigue es el comentario en sí. "
   ]
  },
  {
   "cell_type": "code",
   "execution_count": null,
   "metadata": {},
   "outputs": [],
   "source": [
    "print(\"¡Hola mundo!\") # Comentando una instrucción."
   ]
  },
  {
   "attachments": {},
   "cell_type": "markdown",
   "metadata": {},
   "source": [
    " Para escribir **comentarios que ocupan varias líneas**, simplemente escribe cada una de las líneas anteponiendo el carácter `#`:"
   ]
  },
  {
   "cell_type": "code",
   "execution_count": null,
   "metadata": {},
   "outputs": [],
   "source": [
    "# Primera linea de  comentario \n",
    "# Segunda  linea de  comentario \n",
    "# Como puede ver, en Python puedes agregar comentarios  de varias lineas utilizando el simbolo: #  \n",
    "\n",
    "print(\"¡Hola mundo!\") "
   ]
  },
  {
   "attachments": {},
   "cell_type": "markdown",
   "metadata": {},
   "source": [
    "También puedes **escribir un comentario en varias líneas** si lo encierras entre tres comillas simples **`'''`** o dobles **`\"\"\"`**"
   ]
  },
  {
   "cell_type": "code",
   "execution_count": null,
   "metadata": {},
   "outputs": [],
   "source": [
    "a = 2\n",
    "'''Este comentario\n",
    "también ocupa 2 líneas'''\n",
    "print(a)"
   ]
  },
  {
   "attachments": {},
   "cell_type": "markdown",
   "metadata": {},
   "source": [
    "# Docstrings"
   ]
  },
  {
   "attachments": {},
   "cell_type": "markdown",
   "metadata": {},
   "source": [
    "Los **docstrings** son un tipo de comentarios especiales que se usan para documentar un *módulo*, *función*, *clase* o *método*. En realidad son la primera sentencia de cada uno de ellos y se encierran entre tres comillas simples o dobles. Los docstrings son utilizados para generar la **documentación de un programa**  al programador de forma fácil e intuitiva.\n",
    "\n",
    "Veámoslo con un ejemplo:"
   ]
  },
  {
   "cell_type": "code",
   "execution_count": null,
   "metadata": {},
   "outputs": [],
   "source": [
    "def suma(a, b):\n",
    "    \"\"\"Esta función devuelve la suma de los parámetros a y b\"\"\"\n",
    "    return a + b"
   ]
  },
  {
   "attachments": {},
   "cell_type": "markdown",
   "metadata": {},
   "source": [
    "#### **MUY IMPORTANTE** \n",
    "No te preocupes si no entiendes totalmente lo que  hacen cada uno de los elementos y estructuras en los  ejemplos anteriores, profundizaremos en ellos más adelante. \n",
    "<!-- Por el momento es  importante que comprendas e identifiques los conceptos de *Operador*, *Expresión*,  *Sentencia* y *bloques de código*. -->"
   ]
  },
  {
   "attachments": {},
   "cell_type": "markdown",
   "metadata": {},
   "source": [
    "# Leer en Python"
   ]
  },
  {
   "attachments": {},
   "cell_type": "markdown",
   "metadata": {},
   "source": [
    "## Función `input( )`"
   ]
  },
  {
   "attachments": {},
   "cell_type": "markdown",
   "metadata": {},
   "source": [
    "La **función `input()`** en Python es una función integrada que se utiliza para leer una línea de entrada desde la consola o la entrada estándar del sistema. Esta función **toma una cadena como argumento**, que se utiliza para mostrar un mensaje o una indicación al usuario sobre lo que se espera que ingrese. La función `input()` espera hasta que el usuario ingrese una línea de texto y presione la tecla `Enter`. Luego, **devuelve el texto ingresado por el usuario como una cadena**.\n",
    "\n",
    "Por ejemplo, para leer el nombre del usuario y mostrar un saludo, se puede hacer lo siguiente:"
   ]
  },
  {
   "cell_type": "code",
   "execution_count": null,
   "metadata": {},
   "outputs": [],
   "source": [
    "nombre = input(\"Ingrese su nombre: \") # Solicita, lee y almacena una cadena de caracteres en la variable nombre.\n",
    "print(\"¡Hola, \" + nombre + \"!\")"
   ]
  },
  {
   "attachments": {},
   "cell_type": "markdown",
   "metadata": {},
   "source": [
    "El el código anterior la función `input( )` muestra un mensaje solicitando  al usuario que ingrese su nombre. Luego, el nombre ingresado se guarda en la variable `nombre`. Finalmente, se muestra un mensaje de saludo utilizando el valor de nombre."
   ]
  },
  {
   "attachments": {},
   "cell_type": "markdown",
   "metadata": {},
   "source": [
    "#### **Nota:**\n",
    "\n",
    "**En el contexto de la función input() de Python**, el prompt es el mensaje que se muestra al usuario antes de que se espere que ingrese una entrada de texto. El prompt se proporciona como un argumento a la función `input( )`, y se muestra al usuario como una indicación de lo que se espera que ingrese. Por ejemplo, el código anterior  se muestra un prompt que le pide al usuario que ingrese su nombre."
   ]
  },
  {
   "cell_type": "code",
   "execution_count": null,
   "metadata": {},
   "outputs": [],
   "source": [
    "w = input('Dame un número entero') # Solicita y lee  número entero y lo almacena en la variable  x\n",
    "w"
   ]
  },
  {
   "cell_type": "code",
   "execution_count": null,
   "metadata": {},
   "outputs": [],
   "source": [
    "type(w)"
   ]
  },
  {
   "cell_type": "code",
   "execution_count": null,
   "metadata": {},
   "outputs": [],
   "source": [
    "print(w)"
   ]
  },
  {
   "attachments": {},
   "cell_type": "markdown",
   "metadata": {},
   "source": [
    "#### Combinación con la función `int( )` "
   ]
  },
  {
   "attachments": {},
   "cell_type": "markdown",
   "metadata": {},
   "source": [
    "La **función `input( )` en Python siempre devuelve una cadena** incluso si el usuario ingresó un número. Si necesita realizar operaciones numéricas con la entrada del usuario, es posible que deba **convertir la cadena en un tipo de datos numérico** utilizando la función **`int( )`** o **`float( )`**, según corresponda. Por ejemplo:"
   ]
  },
  {
   "cell_type": "code",
   "execution_count": null,
   "metadata": {},
   "outputs": [],
   "source": [
    "numero1 = float(input(\"Ingrese el primer número: \"))\n",
    "numero2 =float(input(\"Ingrese el segundo número: \"))\n",
    "resultado = numero1 + numero2\n",
    "print(\"La suma es:\", resultado)\n"
   ]
  },
  {
   "cell_type": "code",
   "execution_count": null,
   "metadata": {},
   "outputs": [],
   "source": [
    "a = float(input()) # Leer un número real y lo almacena en la variable a. "
   ]
  },
  {
   "attachments": {},
   "cell_type": "markdown",
   "metadata": {},
   "source": [
    "### Practica\n",
    "\n",
    "Escribe un programa en Python que solicite al usuario su nombre  a imprima  el mensaje de salida:\n",
    "<center>\n",
    "<code>Hola [Nombre].</code>\n",
    "</center>"
   ]
  },
  {
   "attachments": {},
   "cell_type": "markdown",
   "metadata": {},
   "source": [
    "### Practica\n",
    "\n",
    "Escribe un programa en Python que solicite el nombre del usuario,  luego solicite su apellido y muestre el mensaje de salida\n",
    "<center>\n",
    "<code>\n",
    "Hola [Nombre] [Apellido].\n",
    "</code>\n",
    "</center>"
   ]
  },
  {
   "attachments": {},
   "cell_type": "markdown",
   "metadata": {},
   "source": []
  },
  {
   "attachments": {},
   "cell_type": "markdown",
   "metadata": {},
   "source": [
    "### Practica\n",
    "\n",
    "Escribe un programa en Python que solicite al usuario dos números, determine sus suma y muestra la respuesta como:\n",
    "<center>\n",
    "<code>\n",
    "El total es [respuesta].\n",
    "</code>\n",
    "</center>\n"
   ]
  },
  {
   "attachments": {},
   "cell_type": "markdown",
   "metadata": {},
   "source": [
    "### Practica\n",
    "\n",
    "Escribe un programa en Python que solicite al usuario tres números,  determine la  suma de los dos primeros y luego calcula el producto de la suma por el tercer. Mostrar el resultado como:\n",
    "<center>\n",
    "<code>\n",
    "La respuesta es [respuesta].\n",
    "</code>\n",
    "</center>\n"
   ]
  },
  {
   "attachments": {},
   "cell_type": "markdown",
   "metadata": {},
   "source": []
  },
  {
   "attachments": {},
   "cell_type": "markdown",
   "metadata": {},
   "source": []
  },
  {
   "attachments": {},
   "cell_type": "markdown",
   "metadata": {},
   "source": [
    "<!-- Pregunta cuantas rebanadas\n",
    "de pizza el usuario\n",
    "empezó con y pregunta\n",
    "cuantas rebanadas\n",
    "ellos han comido.\n",
    "calcula cuantos\n",
    "rebanadas que les quedan\n",
    "y mostrar el\n",
    "responder de una manera fácil de usar\n",
    "formato. -->"
   ]
  },
  {
   "attachments": {},
   "cell_type": "markdown",
   "metadata": {},
   "source": [
    "<!-- Pregunta por el precio total de la cuenta, luego pregunta cuántos comensales hay. Divide la cuenta total por el número de comensales y muestra cuánto cada uno\n",
    "persona debe pagar -->"
   ]
  }
 ],
 "metadata": {
  "kernelspec": {
   "display_name": "Python 3",
   "language": "python",
   "name": "python3"
  },
  "language_info": {
   "codemirror_mode": {
    "name": "ipython",
    "version": 3
   },
   "file_extension": ".py",
   "mimetype": "text/x-python",
   "name": "python",
   "nbconvert_exporter": "python",
   "pygments_lexer": "ipython3",
   "version": "3.9.13"
  },
  "orig_nbformat": 4,
  "vscode": {
   "interpreter": {
    "hash": "1606ed296fe21ab67c1d4b49f3f22d72247524c93f58d404930dbd4d15d6017c"
   }
  }
 },
 "nbformat": 4,
 "nbformat_minor": 2
}
