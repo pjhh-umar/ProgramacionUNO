{
 "cells": [
  {
   "attachments": {},
   "cell_type": "markdown",
   "metadata": {},
   "source": [
    "# Módulos"
   ]
  },
  {
   "attachments": {},
   "cell_type": "markdown",
   "metadata": {},
   "source": [
    "Los módulos en Python son archivos que puede importar para usar en el archivo en el que está trabajando actualmente. Cada módulo es un archivo diferente y puede importar tantos como desee y usar el código que está disponible para usted."
   ]
  },
  {
   "attachments": {},
   "cell_type": "markdown",
   "metadata": {},
   "source": [
    "## Módulos integrados"
   ]
  },
  {
   "attachments": {},
   "cell_type": "markdown",
   "metadata": {},
   "source": [
    "Aquí hay algunos otros módulos incorporados útiles populares que pueden resultarle familiares:\n",
    "\n",
    "* array\n",
    "* copy\n",
    "* email\n",
    "* fileinput\n",
    "* gc\n",
    "* gzip\n",
    "* html\n",
    "* http\n",
    "* io\n",
    "* ipaddress\n",
    "* json\n",
    "* keyword\n",
    "* numbers\n",
    "* pip\n",
    "* pipes\n",
    "* random\n",
    "* ssl\n",
    "* statistics\n",
    "* string\n",
    "* symbol\n",
    "* sys\n",
    "* threading\n",
    "* time\n",
    "* token"
   ]
  },
  {
   "attachments": {},
   "cell_type": "markdown",
   "metadata": {},
   "source": [
    "## Creación de módulos en Python"
   ]
  },
  {
   "attachments": {},
   "cell_type": "markdown",
   "metadata": {},
   "source": [
    "Para demostrar los módulos, creemos uno simple e importémoslo en otro archivo. Nuevamente, los módulos son solo archivos normales de Python. Cree un archivo llamado circles.pyy agregue este código:"
   ]
  },
  {
   "cell_type": "code",
   "execution_count": 2,
   "metadata": {},
   "outputs": [],
   "source": [
    "import math\n",
    "\n",
    "def get_area_of_circle(radius):\n",
    "    return radius * radius * math.pi"
   ]
  },
  {
   "attachments": {},
   "cell_type": "markdown",
   "metadata": {},
   "source": [
    "Ahora, en un archivo completamente diferente, podemos hacer algo como esto:"
   ]
  },
  {
   "cell_type": "code",
   "execution_count": 3,
   "metadata": {},
   "outputs": [
    {
     "name": "stdout",
     "output_type": "stream",
     "text": [
      "78.53981633974483\n"
     ]
    }
   ],
   "source": [
    "import circles\n",
    "\n",
    "area = circles.get_area_of_circle(5)\n",
    "print(area)"
   ]
  },
  {
   "attachments": {},
   "cell_type": "markdown",
   "metadata": {},
   "source": [
    "Es realmente así de simple. Cuando importa un módulo, ahora puede usar las variables y funciones dentro de ese archivo."
   ]
  },
  {
   "attachments": {},
   "cell_type": "markdown",
   "metadata": {},
   "source": [
    "## Importación de objetos del módulo"
   ]
  },
  {
   "attachments": {},
   "cell_type": "markdown",
   "metadata": {},
   "source": [
    "No necesariamente necesita importar todo. Digamos que solo quería una función específica dentro del módulo. Puede importar solo esa función, así:"
   ]
  },
  {
   "cell_type": "code",
   "execution_count": 5,
   "metadata": {},
   "outputs": [],
   "source": [
    "x=2"
   ]
  },
  {
   "cell_type": "code",
   "execution_count": 6,
   "metadata": {},
   "outputs": [
    {
     "ename": "TypeError",
     "evalue": "can only concatenate str (not \"int\") to str",
     "output_type": "error",
     "traceback": [
      "\u001b[1;31m---------------------------------------------------------------------------\u001b[0m",
      "\u001b[1;31mTypeError\u001b[0m                                 Traceback (most recent call last)",
      "Cell \u001b[1;32mIn [6], line 1\u001b[0m\n\u001b[1;32m----> 1\u001b[0m _\u001b[39m+\u001b[39;49m\u001b[39m3\u001b[39;49m\n",
      "\u001b[1;31mTypeError\u001b[0m: can only concatenate str (not \"int\") to str"
     ]
    }
   ],
   "source": [
    "_+3"
   ]
  },
  {
   "cell_type": "code",
   "execution_count": null,
   "metadata": {},
   "outputs": [],
   "source": []
  },
  {
   "attachments": {},
   "cell_type": "markdown",
   "metadata": {},
   "source": [
    "# Módulo random"
   ]
  },
  {
   "attachments": {},
   "cell_type": "markdown",
   "metadata": {},
   "source": [
    "El módulo  Random es un módulo integrado de Python que se utiliza para generar números aleatorios. Estos son números pseudoaleatorios, lo que significa que no son realmente aleatorios. Este módulo se puede usar para realizar acciones aleatorias, como generar números aleatorios, imprimir un valor aleatorio para una lista o cadena, etc."
   ]
  },
  {
   "cell_type": "code",
   "execution_count": null,
   "metadata": {},
   "outputs": [],
   "source": [
    "import random"
   ]
  },
  {
   "attachments": {},
   "cell_type": "markdown",
   "metadata": {},
   "source": [
    "## random.choice"
   ]
  },
  {
   "attachments": {},
   "cell_type": "markdown",
   "metadata": {},
   "source": [
    "Se usa para devolver un elemento aleatorio de una lista, tupla o cadena. Por ejemplo para imprimir un valor aleatorio de una lista"
   ]
  },
  {
   "attachments": {},
   "cell_type": "markdown",
   "metadata": {},
   "source": [
    "**Sintaxis**\n",
    "\n",
    "*`random.choice(secuencia)`*"
   ]
  },
  {
   "cell_type": "code",
   "execution_count": null,
   "metadata": {},
   "outputs": [
    {
     "name": "stdout",
     "output_type": "stream",
     "text": [
      "2\n"
     ]
    }
   ],
   "source": [
    "import random\n",
    "lista1 = [1, 2, 3, 4, 5, 6] ## imprime un valor aleatorio de la lista\n",
    "print(random.choice(list1))"
   ]
  },
  {
   "cell_type": "code",
   "execution_count": null,
   "metadata": {},
   "outputs": [
    {
     "name": "stdout",
     "output_type": "stream",
     "text": [
      "1\n",
      "e\n",
      "4\n"
     ]
    }
   ],
   "source": [
    "# Python3 program to demonstrate the use of\n",
    "# choice() method\n",
    "\n",
    "# import random\n",
    "import random\n",
    "\n",
    "# prints a random value from the list\n",
    "list1 = [1, 2, 3, 4, 5, 6]\n",
    "print(random.choice(list1))\n",
    "\n",
    "# prints a random item from the string\n",
    "string = \"geeks\"\n",
    "print(random.choice(string))\n",
    "\n",
    "# prints a random item from the tuple\n",
    "tuple1 = (1, 2, 3, 4, 5)\n",
    "print(random.choice(tuple1))\n"
   ]
  },
  {
   "attachments": {},
   "cell_type": "markdown",
   "metadata": {},
   "source": [
    "## random.seed"
   ]
  },
  {
   "attachments": {},
   "cell_type": "markdown",
   "metadata": {},
   "source": [
    "Hay que destacar que el módulo random crea números pseudoaleatorios. Los números aleatorios dependen \n",
    "del valor de la semilla (*seed*). Por ejemplo, si el valor de la semilla es $5$, la salida del siguiente programa siempre será la misma."
   ]
  },
  {
   "cell_type": "code",
   "execution_count": null,
   "metadata": {},
   "outputs": [
    {
     "name": "stdout",
     "output_type": "stream",
     "text": [
      "0.6229016948897019\n"
     ]
    }
   ],
   "source": [
    "import random\n",
    "\n",
    "random.seed(5)\n",
    "\n",
    "print(random.random())\n",
    "#print(random.random())\n"
   ]
  },
  {
   "attachments": {},
   "cell_type": "markdown",
   "metadata": {},
   "source": [
    "La salida del código anterior siempre será la misma."
   ]
  },
  {
   "attachments": {},
   "cell_type": "markdown",
   "metadata": {},
   "source": [
    "## random.randint"
   ]
  },
  {
   "attachments": {},
   "cell_type": "markdown",
   "metadata": {},
   "source": [
    "Se utiliza  para generar números enteros aleatorios entre el rango dado. Sintaxis:\n",
    "\n",
    "*`random.randint(inicio, final)`*"
   ]
  },
  {
   "cell_type": "code",
   "execution_count": null,
   "metadata": {},
   "outputs": [
    {
     "name": "stdout",
     "output_type": "stream",
     "text": [
      "Un número aleatorio ente  5 y  15 is 8\n",
      "Random number between -10 and -2 is -10\n"
     ]
    }
   ],
   "source": [
    "# import random module\n",
    "import random\n",
    "\n",
    "# Generates a random number between a given positive range\n",
    "r1 = random.randint(5, 15)\n",
    "print(\"Un número aleatorio ente  5 y  15 is %s\" % (r1))\n",
    "\n",
    "# Generates a random number between two given negative range\n",
    "r2 = random.randint(-10, -2)\n",
    "print(\"Random number between -10 and -2 is % d\" % (r2))\n"
   ]
  },
  {
   "attachments": {},
   "cell_type": "markdown",
   "metadata": {},
   "source": [
    "## random.random"
   ]
  },
  {
   "attachments": {},
   "cell_type": "markdown",
   "metadata": {},
   "source": [
    " se utiliza para generar valores flotantes aleatorios entre 0,0 y 1."
   ]
  },
  {
   "attachments": {},
   "cell_type": "markdown",
   "metadata": {},
   "source": [
    "**Sintaxis**\n",
    "\n",
    "`*random.random*`"
   ]
  },
  {
   "cell_type": "code",
   "execution_count": null,
   "metadata": {},
   "outputs": [
    {
     "name": "stdout",
     "output_type": "stream",
     "text": [
      "0.9009004917506227\n"
     ]
    }
   ],
   "source": [
    "# Python3 program to demonstrate\n",
    "# the use of random() function .\n",
    "\t\n",
    "# import random\n",
    "from random import random\n",
    "\t\n",
    "# Prints random item\n",
    "print(random())\n"
   ]
  },
  {
   "attachments": {},
   "cell_type": "markdown",
   "metadata": {},
   "source": [
    "## random.sample"
   ]
  },
  {
   "attachments": {},
   "cell_type": "markdown",
   "metadata": {},
   "source": [
    " El resultado es una Lista de Python que contiene los números aleatorios:\n",
    "\n",
    " *`random.sample(population_sequence,total_count_of_random_numbers)`*"
   ]
  },
  {
   "cell_type": "code",
   "execution_count": null,
   "metadata": {},
   "outputs": [
    {
     "data": {
      "text/plain": [
       "[8, 1, 6, 2, 7, 4, 9, 5, 0, 3]"
      ]
     },
     "metadata": {},
     "output_type": "display_data"
    }
   ],
   "source": [
    "import random\n",
    "\n",
    "numeros_aleatorios=random.sample(range(10),10)\n",
    "numeros_aleatorios"
   ]
  },
  {
   "cell_type": "code",
   "execution_count": null,
   "metadata": {},
   "outputs": [],
   "source": []
  },
  {
   "cell_type": "code",
   "execution_count": null,
   "metadata": {},
   "outputs": [],
   "source": [
    "import math\n",
    "def f(x,e):\n",
    "    y=math.sin(2*math.pi *(1-x)**2) + .5*e\n",
    "    return y"
   ]
  },
  {
   "attachments": {},
   "cell_type": "markdown",
   "metadata": {},
   "source": []
  },
  {
   "cell_type": "code",
   "execution_count": null,
   "metadata": {},
   "outputs": [
    {
     "data": {
      "text/plain": [
       "[2, 3, 4]"
      ]
     },
     "metadata": {},
     "output_type": "display_data"
    }
   ],
   "source": [
    "import random\n"
   ]
  },
  {
   "cell_type": "code",
   "execution_count": 1,
   "metadata": {},
   "outputs": [
    {
     "ename": "NameError",
     "evalue": "name 'y' is not defined",
     "output_type": "error",
     "traceback": [
      "\u001b[1;31m---------------------------------------------------------------------------\u001b[0m",
      "\u001b[1;31mNameError\u001b[0m                                 Traceback (most recent call last)",
      "Cell \u001b[1;32mIn[1], line 7\u001b[0m\n\u001b[0;32m      4\u001b[0m lista_ \u001b[39m=\u001b[39m lista\u001b[39m.\u001b[39mcopy()\n\u001b[0;32m      5\u001b[0m \u001b[39mfor\u001b[39;00m x \u001b[39min\u001b[39;00m lista:\n\u001b[0;32m      6\u001b[0m     \u001b[39m#y = {n}\u001b[39;00m\n\u001b[1;32m----> 7\u001b[0m     lista_\u001b[39m.\u001b[39mappend(x\u001b[39m.\u001b[39munion({y}))\n\u001b[0;32m      9\u001b[0m \u001b[39mprint\u001b[39m(lista_)\n",
      "\u001b[1;31mNameError\u001b[0m: name 'y' is not defined"
     ]
    }
   ],
   "source": [
    "lista =  [{1},{2},{1,2}]\n",
    "n = 3\n",
    "#print(lista)\n",
    "lista_ = lista.copy()\n",
    "for x in lista:\n",
    "    #y = {n}\n",
    "    lista_.append(x.union({y}))\n",
    "\n",
    "print(lista_)"
   ]
  },
  {
   "cell_type": "code",
   "execution_count": 6,
   "metadata": {},
   "outputs": [
    {
     "name": "stdout",
     "output_type": "stream",
     "text": [
      "[{1}, {2}, {3}]\n",
      "Los subconjuntos del conjunto {1, 2, 3} son:\n",
      "{1}\n",
      "{2}\n",
      "{3}\n",
      "{1, 2}\n",
      "{1, 3}\n",
      "{2, 3}\n",
      "{1, 2, 3}\n"
     ]
    }
   ],
   "source": [
    "def agrega_elemento(n,lista):\n",
    "    copia_lista = lista.copy()\n",
    "    for x in lista:\n",
    "        #print(copia_lista)\n",
    "        #print('x=',x)\n",
    "        #print('union=',{n}.union(x))\n",
    "        if {n}.union(x) not in copia_lista:\n",
    "            #print(copia_lista)\n",
    "            copia_lista.append({n}.union(x))\n",
    "    return copia_lista\n",
    "\n",
    "n=3\n",
    "lista = [{i} for i in range(1,n+1)]\n",
    "print(lista)\n",
    "\n",
    "\n",
    "for i in range(1,n+1):\n",
    "    #print(agrega_elemento(i,lista))\n",
    "    lista = agrega_elemento(i,lista)\n",
    "\n",
    "#print(lista)\n",
    "#print(len(lista))\n",
    "\n",
    "print('Los subconjuntos del conjunto {} son:'.format(set(range(1,n+1))))\n",
    "\n",
    "\n",
    "for i in range(1,n+1):\n",
    "    for x in lista:    \n",
    "        if len(x)== i:\n",
    "            print(x)    \n",
    "\n"
   ]
  },
  {
   "cell_type": "code",
   "execution_count": null,
   "metadata": {},
   "outputs": [],
   "source": []
  },
  {
   "cell_type": "code",
   "execution_count": null,
   "metadata": {},
   "outputs": [],
   "source": []
  }
 ],
 "metadata": {
  "kernelspec": {
   "display_name": "Python 3",
   "language": "python",
   "name": "python3"
  },
  "language_info": {
   "codemirror_mode": {
    "name": "ipython",
    "version": 3
   },
   "file_extension": ".py",
   "mimetype": "text/x-python",
   "name": "python",
   "nbconvert_exporter": "python",
   "pygments_lexer": "ipython3",
   "version": "3.11.1"
  },
  "orig_nbformat": 4,
  "vscode": {
   "interpreter": {
    "hash": "ce4d963573401a72c80fabe1ef75418dde5088fa46d743e51eca5fefbd048d5c"
   }
  }
 },
 "nbformat": 4,
 "nbformat_minor": 2
}
