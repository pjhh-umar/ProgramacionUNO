{
 "cells": [
  {
   "attachments": {},
   "cell_type": "markdown",
   "metadata": {},
   "source": [
    "# Módulos en Python"
   ]
  },
  {
   "attachments": {},
   "cell_type": "markdown",
   "metadata": {},
   "source": [
    "Un **módulo** o **librería** en Python es un fichero `.py` que contiene un codigo python que puede ser reutilizado.\n",
    "\n",
    "Los módulos suelen contener *funciones* reutilizables, pero también en el se pueden definir *variables* con datos simples o compuestos (*listas*, *diccionarios*, etc), incluso hasta *clases* o cualquier otro código válido en Python."
   ]
  },
  {
   "attachments": {},
   "cell_type": "markdown",
   "metadata": {},
   "source": [
    "Enseguida definimos un módulo `mimodulo.py` con dos funciones `suma()` y `resta()`."
   ]
  },
  {
   "cell_type": "code",
   "execution_count": null,
   "metadata": {},
   "outputs": [],
   "source": [
    "#mimodulo.py\n",
    "def suma(a, b):\n",
    "    return a + b\n",
    "\n",
    "def resta(a, b):\n",
    "    return a - b"
   ]
  },
  {
   "attachments": {},
   "cell_type": "markdown",
   "metadata": {},
   "source": [
    "Una vez definido, dicho módulo puede ser usado o importado en otro fichero, como mostramos a continuación. Usando import podemos importar todo el contenido."
   ]
  },
  {
   "cell_type": "code",
   "execution_count": null,
   "metadata": {},
   "outputs": [],
   "source": [
    "import mimodulo"
   ]
  },
  {
   "cell_type": "code",
   "execution_count": null,
   "metadata": {},
   "outputs": [],
   "source": [
    "#print(mimodulo.suma(4, 3))   \n",
    "#print(mimodulo.resta(10, 9)) \n",
    "#print(mimodulo.multiplicacion(2,-1))\n",
    "\n",
    "print(mimodulo.CONSTANTE)\n",
    "\n",
    "print(mimodulo.OTRA_CONSTANTE)\n",
    "\n"
   ]
  },
  {
   "attachments": {},
   "cell_type": "markdown",
   "metadata": {},
   "source": [
    "También podemos importar únicamente los componentes que nos interesen de nuestro modulo como se muestra a continuación:"
   ]
  },
  {
   "cell_type": "code",
   "execution_count": null,
   "metadata": {},
   "outputs": [],
   "source": [
    "from mimodulo import suma, resta, CONSTANTE\n",
    "\n",
    "print(suma(4, 3))   \n",
    "print(resta(10, 9))  \n",
    "print(CONSTANTE)"
   ]
  },
  {
   "attachments": {},
   "cell_type": "markdown",
   "metadata": {},
   "source": [
    "Por último, podemos importar todo el módulo haciendo uso de `*`, sin necesidad de usar `mimodulo.*.`"
   ]
  },
  {
   "cell_type": "code",
   "execution_count": null,
   "metadata": {},
   "outputs": [],
   "source": [
    "from mimodulo import *\n",
    "\n",
    "\n",
    "\n",
    "print(suma(2,0))\n",
    "print(multiplicacion(2,-7))\n",
    "\n",
    "\n"
   ]
  },
  {
   "attachments": {},
   "cell_type": "markdown",
   "metadata": {},
   "source": [
    "## Rutas y Uso de sys.path"
   ]
  },
  {
   "attachments": {},
   "cell_type": "markdown",
   "metadata": {},
   "source": [
    "Normalmente los módulos que importamos están en la misma carpeta, pero es posible acceder también a módulos ubicados en una subcarpeta. "
   ]
  },
  {
   "attachments": {},
   "cell_type": "markdown",
   "metadata": {},
   "source": [
    "Podemos importar el módulo `miotromodulo.py` de la siguiente manera:"
   ]
  },
  {
   "cell_type": "code",
   "execution_count": null,
   "metadata": {},
   "outputs": [],
   "source": [
    "from Mis_modulos.miotromodulo import *\n",
    "\n",
    "saludo()"
   ]
  },
  {
   "attachments": {},
   "cell_type": "markdown",
   "metadata": {},
   "source": [
    "Es importante notar que Python busca los módulos en las rutas indicadas por el `sys.path`. Es decir, cuando se importa un módulo, lo intenta buscar en dichas carpetas. Puedes ver tu `sys.path` de la siguiente manera:"
   ]
  },
  {
   "cell_type": "code",
   "execution_count": null,
   "metadata": {},
   "outputs": [],
   "source": [
    "import sys\n",
    "print(sys.path)"
   ]
  },
  {
   "attachments": {},
   "cell_type": "markdown",
   "metadata": {},
   "source": [
    "Como puedes observar la carpeta de tu proyecta está incluida, pero ¿y si queremos importar un módulo que se encuentre en una ubicación distinta? Pues bien, podemos añadir al `sys.path` la ruta en la que queremos que Python busque."
   ]
  },
  {
   "cell_type": "code",
   "execution_count": null,
   "metadata": {},
   "outputs": [],
   "source": [
    "import sys\n",
    "sys.path.append(r'/ruta/de/tu/modulo')"
   ]
  },
  {
   "attachments": {},
   "cell_type": "markdown",
   "metadata": {},
   "source": [
    "Una vez realizado esto, los módulos contenidos en dicha carpeta podrán ser importados sin problema como hemos visto anteriormente."
   ]
  },
  {
   "attachments": {},
   "cell_type": "markdown",
   "metadata": {},
   "source": [
    "## Importando módulos"
   ]
  },
  {
   "attachments": {},
   "cell_type": "markdown",
   "metadata": {},
   "source": [
    "Python permite importar un módulo completo o sólo algunas partes de él. Cuando se importa un módulo completo, el intérprete de Python ejecuta todo el código que contiene el módulo, mientras que si solo se importan algunas partes del módulo, solo se ejecutarán esas partes."
   ]
  },
  {
   "attachments": {},
   "cell_type": "markdown",
   "metadata": {},
   "source": [
    "### Importación completa de módulos (`import`)"
   ]
  },
  {
   "attachments": {},
   "cell_type": "markdown",
   "metadata": {},
   "source": [
    "* `import mi_modulo`: Ejecuta el código que contiene `mi_modulo` y crea una referencia a él, de manera que pueden invocarse un objeto o función `f` definida en él mediante la sintaxis `mi_modulo.f`."
   ]
  },
  {
   "attachments": {},
   "cell_type": "markdown",
   "metadata": {},
   "source": [
    "#### El uso de `as`"
   ]
  },
  {
   "attachments": {},
   "cell_type": "markdown",
   "metadata": {},
   "source": [
    "\n",
    "* `import mi_modulo as modulo` : Ejecuta el código que contiene `mi_modulo` y crea una referencia a él con el nombre `m`, de manera que pueden invocarse un objeto o función `f` definida en él mediante la sintaxis `modulo.f`. Esta forma es similar a la anterior, pero se suele usar cuando el nombre del módulo es muy largo para utilizar un alias más corto. "
   ]
  },
  {
   "attachments": {},
   "cell_type": "markdown",
   "metadata": {},
   "source": [
    "De esta manera, es posible cambiar el nombre del módulo usando `as`. Imaginemos que tenemos un módulo cuyo nombre es: `nombre_modulo_muylargo.py`"
   ]
  },
  {
   "cell_type": "code",
   "execution_count": null,
   "metadata": {},
   "outputs": [],
   "source": [
    "import Mis_modulos.nombre_modulo_muylargo  as m\n",
    "\n",
    "print(m.CONSTANTE)"
   ]
  },
  {
   "attachments": {},
   "cell_type": "markdown",
   "metadata": {},
   "source": [
    "## Importación parcial de módulos (`from import`)"
   ]
  },
  {
   "attachments": {},
   "cell_type": "markdown",
   "metadata": {},
   "source": [
    "* `from mi_modulo import f, g, ... `: Ejecuta el código que contiene `mi_modulo` y crea referencias a los objetos `f, g, ...`, de manera que pueden ser invocados por su nombre. De esta manera para invocar cualquiera de estos objetos no hace falta precederlos por el nombre del módulo, basta con escribir su nombre.\n",
    "\n",
    "* `from mi_modulo import *`: Ejecuta el código que contiene `mi_modulo`  y crea referencias a todos los objetos públicos (aquellos que no empiezan por el carácter _) definidos en el módulo, de manera que pueden ser invocados por su nombre."
   ]
  },
  {
   "attachments": {},
   "cell_type": "markdown",
   "metadata": {},
   "source": [
    "**Observación:** Cuando se importen módulos de esta manera hay que tener cuidado de que no haya coincidencias en los nombres de funciones, variables u otros objetos."
   ]
  },
  {
   "attachments": {},
   "cell_type": "markdown",
   "metadata": {},
   "source": [
    "## Módulos de la librería estándar más importantes"
   ]
  },
  {
   "attachments": {},
   "cell_type": "markdown",
   "metadata": {},
   "source": [
    "Python viene con una biblioteca de módulos predefinidos que no necesitan instalarse. Algunos de los más utilizados son:\n",
    "\n",
    "* `sys`: Funciones y parámetros específicos del sistema operativo.\n",
    "  \n",
    "* `os`: Interfaz con el sistema operativo.\n",
    "\n",
    "* `os.path`: Funciones de acceso a las rutas del sistema.\n",
    "io: Funciones para manejo de flujos de datos y ficheros.\n",
    "\n",
    "* `string`: Funciones con cadenas de caracteres.\n",
    " \n",
    "* `datetime`: Funciones para fechas y tiempos.\n",
    " \n",
    "* `math`: Funciones y constantes matemáticas.\n",
    "\n",
    "* `statistics`: Funciones estadísticas.\n",
    " \n",
    "* `random`: Generación de números pseudo-aleatorios.\n"
   ]
  },
  {
   "attachments": {},
   "cell_type": "markdown",
   "metadata": {},
   "source": [
    "## Otras librerías imprescindibles"
   ]
  },
  {
   "attachments": {},
   "cell_type": "markdown",
   "metadata": {},
   "source": [
    "Estas librerías no vienen en la distribución estándar de Python y necesitan instalarse. \n",
    "\n",
    "* `matplotlib`: Análisis y representación gráfica de datos.\n",
    " \n",
    "* `NumPy`: Funciones matemáticas avanzadas y arrays.\n",
    "\n",
    "* `Pandas`: Funciones para el manejo y análisis de estructuras de datos.\n",
    "\n",
    "* `SciPy`: Más funciones matemáticas para aplicaciones científicas.\n",
    "\n",
    "* `Request`: Acceso a internet por http."
   ]
  },
  {
   "attachments": {},
   "cell_type": "markdown",
   "metadata": {},
   "source": [
    "# Librería `Matplotlib`\n",
    "\n"
   ]
  },
  {
   "attachments": {},
   "cell_type": "markdown",
   "metadata": {},
   "source": [
    "**Matplotlib** es una librería de Python especializada en la creación de gráficos en dos dimensiones."
   ]
  },
  {
   "attachments": {},
   "cell_type": "markdown",
   "metadata": {},
   "source": [
    "Se trata de un paquete grande y relativamente complejo que entre otros contiene dos módulos principales: `pyplot` y `pylab`"
   ]
  },
  {
   "attachments": {},
   "cell_type": "markdown",
   "metadata": {},
   "source": [
    "`Pyplot` ofrece una interfaz fácil para crear gráficos fácilmente, automatizando la creación de figuras y ejes automáticamente cuando hace un gráfico. Por otra parte, `pylab` combina la funcionalida de pyplot para hacer gráficos con funcionalidad de numpy para hacer cálculos con arrays usando un único espacio de nombres muy parecido a Matlab."
   ]
  },
  {
   "cell_type": "code",
   "execution_count": 24,
   "metadata": {},
   "outputs": [
    {
     "data": {
      "image/png": "[encoded data removed]",
      "text/plain": [
       "<Figure size 640x480 with 1 Axes>"
      ]
     },
     "metadata": {},
     "output_type": "display_data"
    }
   ],
   "source": [
    "import matplotlib.pyplot as plt\n",
    "\n",
    "ahorros = [50, 100, 30, 65, 120,0]\n",
    "\n",
    "plt.plot(ahorros)\n",
    "\n",
    "plt.show()"
   ]
  },
  {
   "cell_type": "code",
   "execution_count": 25,
   "metadata": {},
   "outputs": [
    {
     "data": {
      "image/png": "[encoded data removed]",
      "text/plain": [
       "<Figure size 640x480 with 1 Axes>"
      ]
     },
     "metadata": {},
     "output_type": "display_data"
    }
   ],
   "source": [
    "a = [5, 1, 7, 2]\n",
    "b = [11, 22, 33, 44]\n",
    "plt.plot(a, b,color='red', linewidth=0.5, label='linea')\n",
    "plt.legend()\n",
    "plt.title('Mi gráfica')\n",
    "plt.ylabel('Eje Y')\n",
    "plt.xlabel('Eje X')\n",
    "plt.grid()\n",
    "plt.show()\n",
    "\n"
   ]
  },
  {
   "cell_type": "code",
   "execution_count": 22,
   "metadata": {},
   "outputs": [
    {
     "data": {
      "image/png": "[encoded data removed]",
      "text/plain": [
       "<Figure size 640x480 with 1 Axes>"
      ]
     },
     "metadata": {},
     "output_type": "display_data"
    }
   ],
   "source": [
    "from matplotlib import pyplot\n",
    "\n",
    "# Función cuadrática.\n",
    "def f1(x):\n",
    "    return 2*(x**2) + 5*x - 2\n",
    "\n",
    "# Función lineal.\n",
    "def f2(x):\n",
    "    return 4*x + 1\n",
    "\n",
    "# Valores del eje X que toma el gráfico.\n",
    "x = range(-10, 10)\n",
    "\n",
    "# Graficar ambas funciones.\n",
    "pyplot.plot(x, [f1(i) for i in x])\n",
    "pyplot.plot(x, [f2(i) for i in x])\n",
    "\n",
    "# Establecer el color de los ejes.\n",
    "pyplot.axhline(0, color=\"black\")\n",
    "pyplot.axvline(0, color=\"black\")\n",
    "\n",
    "# Limitar los valores de los ejes.\n",
    "pyplot.xlim(-10, 10)\n",
    "pyplot.ylim(-10, 10)\n",
    "\n",
    "# Guardar gráfico como imágen PNG.\n",
    "pyplot.savefig(\"mi_grafica.jpg\")\n",
    "pyplot.show()"
   ]
  },
  {
   "attachments": {},
   "cell_type": "markdown",
   "metadata": {},
   "source": [
    "## Diagrama de línea"
   ]
  },
  {
   "cell_type": "code",
   "execution_count": null,
   "metadata": {},
   "outputs": [],
   "source": [
    "import matplotlib.pyplot as plt\n",
    "\n",
    "#Definir los datos\n",
    "x1 = [3, 4, 5, 6]\n",
    "y1 = [5, 6, 3, 4]\n",
    "x2 = [2, 5, 8]\n",
    "y2 = [3, 4, 3]\n",
    "\n",
    "#Configurar las características del gráfico\n",
    "plt.plot(x1, y1, label = 'Línea 1', linewidth = 1, color = 'blue')\n",
    "plt.plot(x2, y2, label = 'Línea 2', linewidth = 1, color = 'green')\n",
    "\n",
    "#Definir título y nombres de ejes\n",
    "plt.title('Diagrama de Líneas')\n",
    "plt.ylabel('Eje Y')\n",
    "plt.xlabel('Eje X')\n",
    "\n",
    "#Mostrar leyenda, cuadrícula y figura\n",
    "plt.legend()\n",
    "plt.grid()\n",
    "plt.show()"
   ]
  },
  {
   "attachments": {},
   "cell_type": "markdown",
   "metadata": {},
   "source": [
    "<table>\n",
    "  <thead>\n",
    "    <tr>\n",
    "      <th>Argumento</th>\n",
    "      <th>Descripción</th>\n",
    "    </tr>\n",
    "  </thead>\n",
    "  <tbody>\n",
    "    <tr>\n",
    "      <td>x</td>\n",
    "      <td>Los datos de las coordenadas x de los puntos que se van a trazar. Puede ser una secuencia de valores numéricos.</td>\n",
    "    </tr>\n",
    "    <tr>\n",
    "      <td>y</td>\n",
    "      <td>Los datos de las coordenadas y de los puntos que se van a trazar. Puede ser una secuencia de valores numéricos.</td>\n",
    "    </tr>\n",
    "    <tr>\n",
    "      <td>color</td>\n",
    "      <td>El color de la línea. Puede ser un color específico (como \"red\" o \"#FF0000\") o un código de color hexadecimal.</td>\n",
    "    </tr>\n",
    "    <tr>\n",
    "      <td>linestyle</td>\n",
    "      <td>El estilo de línea. Puede ser \"-\" (línea sólida), \"--\" (línea punteada), \"-.\" (línea guion-punto), \":\" (línea punteada fina) u otros estilos disponibles.</td>\n",
    "    </tr>\n",
    "    <tr>\n",
    "      <td>linewidth</td>\n",
    "      <td>El ancho de línea. Puede ser un número para especificar el grosor en puntos, o también puede ser una cadena como \"thin\", \"medium\" o \"thick\".</td>\n",
    "    </tr>\n",
    "    <tr>\n",
    "      <td>marker</td>\n",
    "      <td>El marcador colocado en cada punto de datos. Puede ser un símbolo como \"o\" (círculo), \"s\" (cuadrado), \"D\" (diamante), \"+\" (más) u otros marcadores disponibles.</td>\n",
    "    </tr>\n",
    "    <tr>\n",
    "      <td>markersize</td>\n",
    "      <td>El tamaño de los marcadores. Puede ser un número para especificar el tamaño en puntos.</td>\n",
    "    </tr>\n",
    "    <tr>\n",
    "      <td>label</td>\n",
    "      <td>La etiqueta asignada a la línea trazada. Las etiquetas se utilizan para crear una leyenda que describe cada línea.</td>\n",
    "    </tr>\n",
    "    <tr>\n",
    "      <td>alpha</td>\n",
    "      <td>La transparencia de la línea. Puede ser un valor numérico entre 0 y 1, donde 0 significa completamente transparente y 1 significa completamente opaco.</td>\n",
    "    </tr>\n",
    "  </tbody>\n",
    "</table>\n"
   ]
  },
  {
   "attachments": {},
   "cell_type": "markdown",
   "metadata": {},
   "source": [
    "## Gráfica de barras"
   ]
  },
  {
   "cell_type": "code",
   "execution_count": null,
   "metadata": {},
   "outputs": [],
   "source": [
    "#Definir los datos\n",
    "x1 = ['A','B','C', 'D', 'E']\n",
    "y1 = [10, 55, 80, 32, 40]\n",
    "x2 = ['a', 'b', 'c', 'd', 'e']\n",
    "y2 = [42, 26, 10, 29, 66]\n",
    "\n",
    "#Configurar las características del gráfico\n",
    "plt.bar(x1, y1, label = 'Datos 1', width = 0.75, color = 'lightblue')\n",
    "plt.bar(x2, y2, label = 'Datos 2', width = 0.75, color = 'orange')\n",
    "\n",
    "#Definir título y nombres de ejes\n",
    "plt.title('Gráfico de barras')\n",
    "plt.ylabel('Valores')\n",
    "plt.xlabel('Categorias')\n",
    "\n",
    "#Mostrar leyenda y figura\n",
    "plt.legend()\n",
    "plt.show()"
   ]
  },
  {
   "cell_type": "code",
   "execution_count": null,
   "metadata": {},
   "outputs": [],
   "source": [
    "#Definir los datos\n",
    "x1 = [0.25, 1.25, 2.25, 3.25, 4.25]\n",
    "y1 = [10, 55, 80, 32, 40]\n",
    "x2 = [0.75, 1.75, 2.75, 3.75, 4.75]\n",
    "y2 = [42, 26, 10, 29, 66]\n",
    "\n",
    "#Configurar las características del gráfico\n",
    "plt.bar(x1, y1, label = 'Datos 1', width = 0.25, color = 'lightblue')\n",
    "plt.bar(x2, y2, label = 'Datos 2', width = 0.75, color = 'orange')\n",
    "\n",
    "#Definir título y nombres de ejes\n",
    "plt.title('Gráfico de barras')\n",
    "plt.ylabel('Categorias')\n",
    "plt.xlabel('Valores')\n",
    "\n",
    "#Mostrar leyenda y figura\n",
    "plt.legend()\n",
    "plt.show()"
   ]
  },
  {
   "cell_type": "code",
   "execution_count": null,
   "metadata": {},
   "outputs": [],
   "source": [
    "import matplotlib.pyplot as plt\n",
    "\n",
    "# Datos de ejemplo\n",
    "categorias = ['A', 'B', 'C', 'D']\n",
    "valores = [10, 20, 15, 25]\n",
    "\n",
    "# Cambiar el color y el ancho de las barras\n",
    "colores = ['red', 'green', 'blue', 'orange'] #Lista de colores, para asignar un color diferente a cada barra.\n",
    "anchos = [0.5, 0.8, 0.6, 0.7] #Se establece el ancho de cada barra\n",
    "\n",
    "# Crear el gráfico de barras con ajustes\n",
    "plt.bar(categorias, valores, color=colores, width=anchos)\n",
    "\n",
    "# Personalizar el gráfico\n",
    "plt.xlabel('Categorías')\n",
    "plt.ylabel('Valores')\n",
    "plt.title('Gráfica de barras')\n",
    "\n",
    "# Mostrar el gráfico\n",
    "plt.show()\n"
   ]
  },
  {
   "attachments": {},
   "cell_type": "markdown",
   "metadata": {},
   "source": [
    "<table>\n",
    "  <thead>\n",
    "    <tr>\n",
    "      <th>Argumento</th>\n",
    "      <th>Descripción</th>\n",
    "    </tr>\n",
    "  </thead>\n",
    "  <tbody>\n",
    "    <tr>\n",
    "      <td>x</td>\n",
    "      <td>Los valores de la posición x de las barras. Puede ser una secuencia de valores numéricos o una secuencia de etiquetas para etiquetar cada barra en el eje x.</td>\n",
    "    </tr>\n",
    "    <tr>\n",
    "      <td>height</td>\n",
    "      <td>La altura de las barras. Puede ser una secuencia de valores numéricos que representen la altura de cada barra o un solo número para establecer una altura fija para todas las barras.</td>\n",
    "    </tr>\n",
    "    <tr>\n",
    "      <td>width</td>\n",
    "      <td>El ancho de las barras. Es opcional y su valor predeterminado es 0.8. Puede ser un número entre 0 y 1 para especificar un ancho relativo a la separación entre barras.</td>\n",
    "    </tr>\n",
    "    <tr>\n",
    "      <td>align</td>\n",
    "      <td>La alineación de las barras con respecto a las posiciones x. Puede ser \"center\" (centro), \"edge\" (borde) o \"align\" (alineado), y su valor predeterminado es \"center\".</td>\n",
    "    </tr>\n",
    "    <tr>\n",
    "      <td>color</td>\n",
    "      <td>El color de las barras. Puede ser un solo color para todas las barras o una secuencia de colores del mismo tamaño que los valores x o las alturas de las barras para especificar colores diferentes para cada barra.</td>\n",
    "    </tr>\n",
    "    <tr>\n",
    "      <td>edgecolor</td>\n",
    "      <td>El color del borde de las barras. Es opcional y su valor predeterminado es \"None\". Puede ser un color específico o \"None\" para no dibujar bordes.</td>\n",
    "    </tr>\n",
    "    <tr>\n",
    "      <td>linewidth</td>\n",
    "      <td>El ancho del borde de las barras. Es opcional y su valor predeterminado es \"None\". Puede ser un número que representa el ancho del borde en puntos.</td>\n",
    "    </tr>\n",
    "    <tr>\n",
    "      <td>tick_label</td>\n",
    "      <td>Las etiquetas de los ticks en el eje x. Es opcional y se utiliza para etiquetar cada barra en el eje x. Debe ser una secuencia de etiquetas del mismo tamaño que los valores x.</td>\n",
    "    </tr>\n",
    "  </tbody>\n",
    "</table>\n"
   ]
  },
  {
   "attachments": {},
   "cell_type": "markdown",
   "metadata": {},
   "source": [
    "## Histogramas"
   ]
  },
  {
   "cell_type": "code",
   "execution_count": null,
   "metadata": {},
   "outputs": [],
   "source": [
    "#Definir los datos\n",
    "a = [22,55,62,45,21,22,34,42,42,4,2,102,95,85,55,110,120,70,65,55,111,115,80,75,65,54,44,43,42,48]\n",
    "bins = [0,18,20,30,40,50,60,70,80,90,100]\n",
    "\n",
    "#Configurar las características del gráfico\n",
    "plt.hist(a, bins, histtype = 'bar', rwidth = 0.8, color = 'blue')\n",
    "\n",
    "#Definir título y nombres de ejes\n",
    "plt.title('Histograma')\n",
    "plt.ylabel('Eje Y')\n",
    "plt.xlabel('Eje X')\n",
    "\n",
    "#Mostrar figura\n",
    "plt.show()"
   ]
  },
  {
   "attachments": {},
   "cell_type": "markdown",
   "metadata": {},
   "source": [
    "<table>\n",
    "  <thead>\n",
    "    <tr>\n",
    "      <th>Argumento</th>\n",
    "      <th>Descripción</th>\n",
    "    </tr>\n",
    "  </thead>\n",
    "  <tbody>\n",
    "    <tr>\n",
    "      <td>x</td>\n",
    "      <td>El conjunto de datos que se utilizará para crear el histograma. Puede ser un arreglo NumPy, una lista u otra estructura de datos similar.</td>\n",
    "    </tr>\n",
    "    <tr>\n",
    "      <td>bins</td>\n",
    "      <td>El número de contenedores (bins) en los que se divide el rango de valores. Puede ser un número entero que representa el número de contenedores o una secuencia que especifica los bordes de los contenedores.</td>\n",
    "    </tr>\n",
    "    <tr>\n",
    "      <td>range</td>\n",
    "      <td>El rango de valores que se tendrá en cuenta al construir el histograma. Puede ser una tupla de dos valores numéricos que representan el límite inferior y el límite superior del rango.</td>\n",
    "    </tr>\n",
    "    <tr>\n",
    "      <td>density</td>\n",
    "      <td>Si se establece en `True`, el histograma se normaliza de modo que el área total sea igual a 1, lo que representa una densidad de probabilidad estimada. Si se establece en `False` (valor predeterminado), el histograma muestra el número de muestras en cada contenedor.</td>\n",
    "    </tr>\n",
    "    <tr>\n",
    "      <td>cumulative</td>\n",
    "      <td>Si se establece en `True`, se muestra un histograma acumulativo en lugar de un histograma normal. Esto representa la acumulación de la frecuencia en cada contenedor en lugar de la frecuencia instantánea.</td>\n",
    "    </tr>\n",
    "    <tr>\n",
    "      <td>color</td>\n",
    "      <td>El color de las barras del histograma. Puede ser una cadena de color reconocible por `matplotlib`, como \"red\" o \"#FF0000\". También se pueden utilizar abreviaciones de colores como \"r\" para rojo, \"b\" para azul, \"g\" para verde, entre otros.</td>\n",
    "    </tr>\n",
    "    <tr>\n",
    "      <td>alpha</td>\n",
    "      <td>La transparencia de las barras del histograma. Puede ser un valor numérico entre 0 y 1, donde 0 significa completamente transparente y 1 significa completamente opaco.</td>\n",
    "    </tr>\n",
    "    <tr>\n",
    "      <td>label</td>\n",
    "      <td>La etiqueta asignada al histograma. Las etiquetas se utilizan para crear una leyenda que describe cada conjunto de datos en el gráfico.</td>\n",
    "    </tr>\n",
    "  </tbody>\n",
    "</table>\n"
   ]
  },
  {
   "attachments": {},
   "cell_type": "markdown",
   "metadata": {},
   "source": [
    "## Grafica de dispersión"
   ]
  },
  {
   "cell_type": "code",
   "execution_count": null,
   "metadata": {},
   "outputs": [],
   "source": [
    "#Definir los datos\n",
    "x1 = [0.25, 1.25, 2.25, 3.25, 4.25]\n",
    "y1 = [10, 55, 80, 32, 40]\n",
    "x2 = [0.75, 1.75, 2.75, 3.75, 4.75]\n",
    "y2 = [42, 26, 10, 29, 66]\n",
    "\n",
    "\n",
    "#Configurar las características del gráfico\n",
    "plt.scatter(x1, y1, label = 'Datos 1',color = 'red')\n",
    "plt.scatter(x2, y2,label = 'Datos 2', color = 'purple')\n",
    "\n",
    "\n",
    "#Definir título y nombres de ejes\n",
    "plt.title('Gráfico de dispersión')\n",
    "plt.ylabel('Eje Y')\n",
    "plt.xlabel('Eje X')\n",
    "\n",
    "\n",
    "#Mostrar leyenda y figura\n",
    "plt.legend()\n",
    "plt.show()"
   ]
  },
  {
   "attachments": {},
   "cell_type": "markdown",
   "metadata": {},
   "source": [
    "### Argumentos más comunes en la función `plt.scatter()`."
   ]
  },
  {
   "attachments": {},
   "cell_type": "markdown",
   "metadata": {},
   "source": [
    "<table>\n",
    "  <thead>\n",
    "    <tr>\n",
    "      <th>Argumento</th>\n",
    "      <th>Descripción</th>\n",
    "    </tr>\n",
    "  </thead>\n",
    "  <tbody>\n",
    "    <tr>\n",
    "      <td>x</td>\n",
    "      <td>Los datos de las coordenadas x de los puntos que se van a trazar. Puede ser una secuencia de valores numéricos.</td>\n",
    "    </tr>\n",
    "    <tr>\n",
    "      <td>y</td>\n",
    "      <td>Los datos de las coordenadas y de los puntos que se van a trazar. Puede ser una secuencia de valores numéricos.</td>\n",
    "    </tr>\n",
    "    <tr>\n",
    "      <td>s</td>\n",
    "      <td>El tamaño de los puntos en el gráfico de dispersión. Puede ser un número único para establecer un tamaño fijo para todos los puntos, o una secuencia del mismo tamaño que `x` e `y` para especificar un tamaño diferente para cada punto.</td>\n",
    "    </tr>\n",
    "    <tr>\n",
    "      <td>c</td>\n",
    "      <td>El color de los puntos en el gráfico de dispersión. Puede ser un color específico (como \"red\" o \"#FF0000\"), una secuencia de colores del mismo tamaño que `x` e `y` para especificar un color diferente para cada punto, o una secuencia de valores numéricos para crear una gráfica de color en función de los valores.</td>\n",
    "    </tr>\n",
    "    <tr>\n",
    "      <td>marker</td>\n",
    "      <td>El tipo de marcador utilizado para representar los puntos en el gráfico de dispersión. Algunos ejemplos de marcadores son \"o\" (círculo), \"s\" (cuadrado), \"D\" (diamante), \"+\" (más), entre otros.</td>\n",
    "    </tr>\n",
    "    <tr>\n",
    "      <td>alpha</td>\n",
    "      <td>La transparencia de los puntos en el gráfico de dispersión. Puede ser un valor numérico entre 0 y 1, donde 0 significa completamente transparente y 1 significa completamente opaco.</td>\n",
    "    </tr>\n",
    "    <tr>\n",
    "      <td>label</td>\n",
    "      <td>La etiqueta asignada a los puntos en el gráfico de dispersión. Las etiquetas se utilizan para crear una leyenda que describe cada conjunto de puntos.</td>\n",
    "    </tr>\n",
    "  </tbody>\n",
    "</table>\n"
   ]
  },
  {
   "attachments": {},
   "cell_type": "markdown",
   "metadata": {},
   "source": [
    "## Gráfico circular"
   ]
  },
  {
   "cell_type": "code",
   "execution_count": null,
   "metadata": {},
   "outputs": [],
   "source": [
    "#Definir los datos\n",
    "dormir =[7,8,6,11,7]\n",
    "comer = [2,3,4,3,2]\n",
    "trabajar =[7,8,7,2,2]\n",
    "recreación = [8,5,7,8,13]\n",
    "\n",
    "divisiones = [7,2,2,13]\n",
    "actividades = ['Dormir','Comer','Trabajar','Recreación']\n",
    "colores = ['red','purple','blue','orange']\n",
    "\n",
    "#Configurar las características del gráfico\n",
    "plt.pie(divisiones, labels=actividades, colors=colores, startangle=45, shadow=True, explode=(0.1,0,0,.25), autopct='%1.2f%%')\n",
    "\n",
    "#Definir título\n",
    "plt.title('Gráfico circular')\n",
    "\n",
    "#Mostrar figura\n",
    "plt.show()"
   ]
  },
  {
   "attachments": {},
   "cell_type": "markdown",
   "metadata": {},
   "source": [
    "### Argumentos más comunes en la función `plt.pie()`."
   ]
  },
  {
   "attachments": {},
   "cell_type": "markdown",
   "metadata": {},
   "source": [
    "<table>\n",
    "  <thead>\n",
    "    <tr>\n",
    "      <th>Argumento</th>\n",
    "      <th>Descripción</th>\n",
    "    </tr>\n",
    "  </thead>\n",
    "  <tbody>\n",
    "    <tr>\n",
    "      <td>x</td>\n",
    "      <td>Los tamaños de los segmentos de la gráfica de pastel. Puede ser una lista de valores numéricos que representan los tamaños relativos de los segmentos.</td>\n",
    "    </tr>\n",
    "    <tr>\n",
    "      <td>labels</td>\n",
    "      <td>Las etiquetas de los segmentos. Puede ser una lista de strings que representan las etiquetas de cada segmento. La longitud de esta lista debe ser igual a la longitud de la lista de tamaños.</td>\n",
    "    </tr>\n",
    "    <tr>\n",
    "      <td>colors</td>\n",
    "      <td>Los colores de los segmentos. Puede ser una lista de colores en formato hexadecimal ('#RRGGBB'), nombres de colores reconocidos por `matplotlib` o valores numéricos que representan colores en una escala de colores.</td>\n",
    "    </tr>\n",
    "    <tr>\n",
    "      <td>explode</td>\n",
    "      <td>El desplazamiento de los segmentos. Puede ser una lista de valores numéricos que representan el desplazamiento de cada segmento de la gráfica de pastel respecto al centro. Un valor mayor que cero separará el segmento correspondiente del resto de la gráfica.</td>\n",
    "    </tr>\n",
    "    <tr>\n",
    "      <td>autopct</td>\n",
    "      <td>El formato de los porcentajes. Puede ser una cadena de formato que determina cómo se muestran los porcentajes de cada segmento. Por ejemplo, \"%1.1f%%\" muestra un decimal y el símbolo de porcentaje.</td>\n",
    "    </tr>\n",
    "    <tr>\n",
    "      <td>startangle</td>\n",
    "      <td>El ángulo de inicio de la gráfica de pastel. Puede ser un valor numérico que representa el ángulo en grados desde donde comienza la primera cuña de la gráfica.</td>\n",
    "    </tr>\n",
    "    <tr>\n",
    "      <td>shadow</td>\n",
    "      <td>Si se muestra una sombra debajo de la gráfica de pastel. Puede ser `True` para mostrar una sombra o `False` para no mostrarla.</td>\n",
    "    </tr>\n",
    "    <tr>\n",
    "      <td>pctdistance</td>\n",
    "      <td>La distancia de los porcentajes respecto al centro de la gráfica de pastel. Puede ser un valor numérico entre 0 y 1 que indica la distancia proporcional al radio de la gráfica.</td>\n",
    "    </tr>\n",
    "  </tbody>\n",
    "</table>\n",
    "\n"
   ]
  },
  {
   "attachments": {},
   "cell_type": "markdown",
   "metadata": {},
   "source": [
    "<a href=\"https://matplotlib.org/stable/index.html\" > Matplotlib</a>"
   ]
  },
  {
   "attachments": {},
   "cell_type": "markdown",
   "metadata": {},
   "source": [
    "# Librería `Numpy`"
   ]
  },
  {
   "attachments": {},
   "cell_type": "markdown",
   "metadata": {},
   "source": [
    "La **visualización gráfica** se basa en la idea de manipular información almacenada en unas estructuras conocidas como *vectores* y *matrices*. En Python la única forma de simular estas estructuras es usando listas, pero resulta que  son estas son muy limitadas respecto a las funciones matemáticas que permiten. `Numpy` viene a solucionar esa carencia Proporciona un poderoso objeto de matriz multidimensional llamado `ndarray`, junto con funciones para operar en estas matrices."
   ]
  },
  {
   "attachments": {},
   "cell_type": "markdown",
   "metadata": {},
   "source": [
    "**NumPy** es una de las bibliotecas fundamentales en Python para **computación científica** y **análisis numérico**. "
   ]
  },
  {
   "attachments": {},
   "cell_type": "markdown",
   "metadata": {},
   "source": [
    "Enseguida se enlistan algunas  características importantes de `NumPy`:"
   ]
  },
  {
   "attachments": {},
   "cell_type": "markdown",
   "metadata": {},
   "source": [
    "* **Arrays multidimensionales:** El objeto `ndarray` permite almacenar y manipular datos de manera eficiente. Estas arreglos pueden tener cualquier número de dimensiones y contener elementos del mismo tipo. Los `arrays` en `NumPy` son más eficientes en términos de memoria y tiempo de ejecución en comparación con las listas de Python.\n",
    "\n",
    "* **Rápida ejecución de operaciones matemáticas:**  `NumPy` permite realizar operaciones matemáticas con matrices de manera eficiente. Esto es especialmente beneficioso cuando se trabaja con conjuntos de datos grandes o algoritmos numéricamente intensivos.\n",
    "\n",
    "* **Funciones de álgebra lineal:**  `NumPy` proporciona una amplia gama de funciones para realizar operaciones de ***Álgebra lineal***, como *multiplicación de matrices*, *descomposición de valores singulares*, *descomposición LU*, *inversión de matrices* y mucho más.\n",
    "\n",
    "* **Generación de números aleatorios:** `NumPy` incluye un módulo llamado `random` que permite generar números aleatorios de diversas **distribuciones estadísticas**. Esto es útil para simular datos o realizar experimentos numéricos.\n",
    "\n",
    "* **Integración con otras bibliotecas:** `NumPy` se utiliza ampliamente como base para otras bibliotecas científicas en Python, como `SciPy` (biblioteca de cálculo científico), `pandas` (biblioteca de manipulación de datos) y `scikit-learn` (biblioteca de aprendizaje automático)."
   ]
  },
  {
   "attachments": {},
   "cell_type": "markdown",
   "metadata": {},
   "source": [
    "## Importando `Numpy`"
   ]
  },
  {
   "cell_type": "code",
   "execution_count": 3,
   "metadata": {},
   "outputs": [],
   "source": [
    "import numpy as np"
   ]
  },
  {
   "attachments": {},
   "cell_type": "markdown",
   "metadata": {},
   "source": [
    "## Crear un arreglo a partir  de una lista "
   ]
  },
  {
   "cell_type": "code",
   "execution_count": 102,
   "metadata": {},
   "outputs": [
    {
     "name": "stdout",
     "output_type": "stream",
     "text": [
      "[1 2 3 4 5]\n"
     ]
    }
   ],
   "source": [
    "arreglo = np.array([1, 2, 3, 4, 5])\n",
    "print(arreglo)"
   ]
  },
  {
   "attachments": {},
   "cell_type": "markdown",
   "metadata": {},
   "source": [
    "**Observación:** Al imprimir un array a diferencia de las listas sus elementos no están separados por comas."
   ]
  },
  {
   "cell_type": "code",
   "execution_count": 103,
   "metadata": {},
   "outputs": [
    {
     "name": "stdout",
     "output_type": "stream",
     "text": [
      "<class 'numpy.ndarray'>\n"
     ]
    }
   ],
   "source": [
    "print(type(arreglo))"
   ]
  },
  {
   "attachments": {},
   "cell_type": "markdown",
   "metadata": {},
   "source": [
    "## Creando un array"
   ]
  },
  {
   "cell_type": "code",
   "execution_count": 5,
   "metadata": {},
   "outputs": [
    {
     "name": "stdout",
     "output_type": "stream",
     "text": [
      "[1 2 3 4 5]\n",
      "[[1 2 3]\n",
      " [4 5 6]\n",
      " [7 8 9]]\n"
     ]
    }
   ],
   "source": [
    "import numpy as np\n",
    "\n",
    "arreglo = np.array([1, 2, 3, 4, 5]) \n",
    "print(arreglo)\n",
    "\n",
    "arreglo2d = np.array([list(range(1,4)), list(range(4,7)), list(range(7,10))])\n",
    "print(arreglo2d)"
   ]
  },
  {
   "attachments": {},
   "cell_type": "markdown",
   "metadata": {},
   "source": [
    "## Atributos de un ndarray"
   ]
  },
  {
   "attachments": {},
   "cell_type": "markdown",
   "metadata": {},
   "source": [
    "Existen varios atributos y funciones que describen las características de un array.\n",
    "\n",
    "* `a.ndim`: Devuelve el número de dimensiones del array a.\n",
    "\n",
    "* `a.shape`: Devuelve una tupla con las dimensiones del array a.\n",
    "\n",
    "* `a.size`: Devuelve el número de elementos del array a.\n",
    "\n",
    "* `a.dtype`: Devuelve el tipo de datos de los elementos del array a."
   ]
  },
  {
   "attachments": {},
   "cell_type": "markdown",
   "metadata": {},
   "source": [
    "Podemos consultar la **dimensión** y **forma** de un array con sus propiedades `ndim` y `shape`"
   ]
  },
  {
   "cell_type": "code",
   "execution_count": 104,
   "metadata": {},
   "outputs": [
    {
     "name": "stdout",
     "output_type": "stream",
     "text": [
      "(5,)\n",
      "1\n",
      "5\n"
     ]
    }
   ],
   "source": [
    "print(arreglo.shape)   # Muestra las dimensiones del ndarray\n",
    "print(arreglo.ndim)    # Muestra el número de dimensiones del ndarray\n",
    "print(arreglo.size)    # Muestra el número total de elementos en el ndarray"
   ]
  },
  {
   "attachments": {},
   "cell_type": "markdown",
   "metadata": {},
   "source": [
    "Ahora bien, **podemos definir un array a partir de una lista anidada formada por dos sublistas**:"
   ]
  },
  {
   "cell_type": "code",
   "execution_count": 110,
   "metadata": {},
   "outputs": [
    {
     "name": "stdout",
     "output_type": "stream",
     "text": [
      "[[ 1  2  3  4  5]\n",
      " [ 6  7  8  9 10]]\n",
      "2\n",
      "(2, 5)\n",
      "10\n"
     ]
    }
   ],
   "source": [
    "array = np.array([[1, 2, 3, 4, 5],[6, 7, 8, 9, 10]])\n",
    "print(array)\n",
    "print(array.ndim)\n",
    "print(array.shape)\n",
    "print(array.size)"
   ]
  },
  {
   "attachments": {},
   "cell_type": "markdown",
   "metadata": {},
   "source": [
    "El array se muestra como una tabla de 2 filas con 5 columnas, números que precisamente concuerdan con la forma (2, 5)."
   ]
  },
  {
   "attachments": {},
   "cell_type": "markdown",
   "metadata": {},
   "source": [
    "Estas estructuras formadas por filas y columnas parecidas a una tabla tienen dos dimensiones, anchura y altura (por eso nos dice que tiene 2 dimensiones). También se conocen como **vectores multidimensionales** o **matrices**."
   ]
  },
  {
   "attachments": {},
   "cell_type": "markdown",
   "metadata": {},
   "source": [
    "## Tipos de array"
   ]
  },
  {
   "attachments": {},
   "cell_type": "markdown",
   "metadata": {},
   "source": [
    "También podemos consultar el tipo de los arrays."
   ]
  },
  {
   "cell_type": "code",
   "execution_count": 111,
   "metadata": {},
   "outputs": [
    {
     "name": "stdout",
     "output_type": "stream",
     "text": [
      "int64\n"
     ]
    }
   ],
   "source": [
    "array = np.array([1, 2, 3, 4, 5])\n",
    "print(array.dtype)"
   ]
  },
  {
   "cell_type": "code",
   "execution_count": 112,
   "metadata": {},
   "outputs": [
    {
     "name": "stdout",
     "output_type": "stream",
     "text": [
      "float64\n"
     ]
    }
   ],
   "source": [
    "array = np.array([1, 2, 3, 4, 5, 6.1234])\n",
    "print(array.dtype)"
   ]
  },
  {
   "cell_type": "code",
   "execution_count": 116,
   "metadata": {},
   "outputs": [
    {
     "name": "stdout",
     "output_type": "stream",
     "text": [
      "<U6\n"
     ]
    }
   ],
   "source": [
    "array = np.array([\"Hola_5\", \"que\", \"tal\"])\n",
    "print(array.dtype)"
   ]
  },
  {
   "cell_type": "code",
   "execution_count": 114,
   "metadata": {},
   "outputs": [
    {
     "name": "stdout",
     "output_type": "stream",
     "text": [
      "<U32\n"
     ]
    }
   ],
   "source": [
    "array = np.array([\"Hola\", 1234, 3.1415])\n",
    "print(array.dtype)\n",
    "#print(array)"
   ]
  },
  {
   "attachments": {},
   "cell_type": "markdown",
   "metadata": {},
   "source": [
    "## Acceso a los elementos de un array"
   ]
  },
  {
   "attachments": {},
   "cell_type": "markdown",
   "metadata": {},
   "source": [
    "Para acceder a los elementos contenidos en un array se usan índices al igual que para acceder a los elementos de una lista, pero indicando los índices de cada dimensión separados por comas."
   ]
  },
  {
   "attachments": {},
   "cell_type": "markdown",
   "metadata": {},
   "source": [
    "Al igual que para listas, los índices de cada dimensión comienzan en 0."
   ]
  },
  {
   "cell_type": "code",
   "execution_count": 118,
   "metadata": {},
   "outputs": [
    {
     "name": "stdout",
     "output_type": "stream",
     "text": [
      "1\n",
      "[2 3 4]\n"
     ]
    }
   ],
   "source": [
    "arreglo = np.array([1, 2, 3, 4, 5])\n",
    "print(arreglo[0]) "
   ]
  },
  {
   "cell_type": "code",
   "execution_count": 10,
   "metadata": {},
   "outputs": [
    {
     "name": "stdout",
     "output_type": "stream",
     "text": [
      "[[1 2 3]\n",
      " [4 5 6]\n",
      " [7 8 9]]\n",
      "[1 2 3]\n",
      "9\n",
      "3\n"
     ]
    }
   ],
   "source": [
    "arreglo2d = np.array([list(range(1,4)), list(range(4,7)), list(range(7,10))])\n",
    "print(arreglo2d)\n",
    "\n",
    "print(arreglo2d[0])\n",
    "print(arreglo2d[-1,-1])"
   ]
  },
  {
   "cell_type": "code",
   "execution_count": 11,
   "metadata": {},
   "outputs": [
    {
     "name": "stdout",
     "output_type": "stream",
     "text": [
      "3\n"
     ]
    }
   ],
   "source": [
    "print(arreglo2d[0][2])"
   ]
  },
  {
   "cell_type": "code",
   "execution_count": 12,
   "metadata": {},
   "outputs": [
    {
     "name": "stdout",
     "output_type": "stream",
     "text": [
      "[[11 11 11]\n",
      " [ 4  5  6]\n",
      " [ 7  8  9]]\n"
     ]
    }
   ],
   "source": [
    "arreglo2d[0] = 11\n",
    "print(arreglo2d)"
   ]
  },
  {
   "attachments": {},
   "cell_type": "markdown",
   "metadata": {},
   "source": [
    "### Slicing. "
   ]
  },
  {
   "attachments": {},
   "cell_type": "markdown",
   "metadata": {},
   "source": [
    "\n",
    "\n",
    "También es posible obtener subarrays con el operador dos puntos `:` Se basa en dos índices, uno de inicio y otro de fin separados por dos puntos para cada dimensión. Si dejamos los índices vacíos se toman por defecto el principio y el final."
   ]
  },
  {
   "cell_type": "code",
   "execution_count": 2,
   "metadata": {},
   "outputs": [
    {
     "ename": "NameError",
     "evalue": "name 'np' is not defined",
     "output_type": "error",
     "traceback": [
      "\u001b[0;31m---------------------------------------------------------------------------\u001b[0m",
      "\u001b[0;31mNameError\u001b[0m                                 Traceback (most recent call last)",
      "\u001b[0;32m/var/folders/cv/9b0z6xrs33j_klsdlq5l4_2c0000gn/T/ipykernel_45663/1991479321.py\u001b[0m in \u001b[0;36m<module>\u001b[0;34m\u001b[0m\n\u001b[0;32m----> 1\u001b[0;31m \u001b[0marreglo\u001b[0m \u001b[0;34m=\u001b[0m \u001b[0mnp\u001b[0m\u001b[0;34m.\u001b[0m\u001b[0marray\u001b[0m\u001b[0;34m(\u001b[0m\u001b[0;34m[\u001b[0m\u001b[0;36m1\u001b[0m\u001b[0;34m,\u001b[0m \u001b[0;36m2\u001b[0m\u001b[0;34m,\u001b[0m \u001b[0;36m3\u001b[0m\u001b[0;34m,\u001b[0m \u001b[0;36m4\u001b[0m\u001b[0;34m,\u001b[0m \u001b[0;36m5\u001b[0m\u001b[0;34m]\u001b[0m\u001b[0;34m)\u001b[0m\u001b[0;34m\u001b[0m\u001b[0;34m\u001b[0m\u001b[0m\n\u001b[0m\u001b[1;32m      2\u001b[0m \u001b[0mprint\u001b[0m\u001b[0;34m(\u001b[0m\u001b[0marreglo\u001b[0m\u001b[0;34m[\u001b[0m\u001b[0;36m1\u001b[0m\u001b[0;34m:\u001b[0m\u001b[0;36m4\u001b[0m\u001b[0;34m]\u001b[0m\u001b[0;34m)\u001b[0m\u001b[0;34m\u001b[0m\u001b[0;34m\u001b[0m\u001b[0m\n\u001b[1;32m      3\u001b[0m \u001b[0mprint\u001b[0m\u001b[0;34m(\u001b[0m\u001b[0marreglo\u001b[0m\u001b[0;34m[\u001b[0m\u001b[0;34m:\u001b[0m\u001b[0;34m]\u001b[0m\u001b[0;34m)\u001b[0m\u001b[0;34m\u001b[0m\u001b[0;34m\u001b[0m\u001b[0m\n\u001b[1;32m      4\u001b[0m \u001b[0mprint\u001b[0m\u001b[0;34m(\u001b[0m\u001b[0marreglo\u001b[0m\u001b[0;34m[\u001b[0m\u001b[0;36m0\u001b[0m\u001b[0;34m:\u001b[0m\u001b[0;34m-\u001b[0m\u001b[0;36m1\u001b[0m\u001b[0;34m]\u001b[0m\u001b[0;34m)\u001b[0m\u001b[0;34m\u001b[0m\u001b[0;34m\u001b[0m\u001b[0m\n",
      "\u001b[0;31mNameError\u001b[0m: name 'np' is not defined"
     ]
    }
   ],
   "source": [
    "arreglo = np.array([1, 2, 3, 4, 5]) \n",
    "print(arreglo[1:4])   \n",
    "print(arreglo[:])\n",
    "print(arreglo[0:-1])"
   ]
  },
  {
   "cell_type": "code",
   "execution_count": 122,
   "metadata": {},
   "outputs": [
    {
     "name": "stdout",
     "output_type": "stream",
     "text": [
      "[1 0 0 0 5]\n"
     ]
    }
   ],
   "source": [
    "arreglo[1:-1]=0\n",
    "print(arreglo[:])"
   ]
  },
  {
   "cell_type": "code",
   "execution_count": 14,
   "metadata": {},
   "outputs": [
    {
     "name": "stdout",
     "output_type": "stream",
     "text": [
      "[[1 2 3]\n",
      " [4 5 6]\n",
      " [7 8 9]]\n"
     ]
    }
   ],
   "source": [
    "arreglo2d = np.array([list(range(1,4)), list(range(4,7)), list(range(7,10))])\n",
    "print(arreglo2d)\n"
   ]
  },
  {
   "cell_type": "code",
   "execution_count": 15,
   "metadata": {},
   "outputs": [
    {
     "name": "stdout",
     "output_type": "stream",
     "text": [
      "[[1 2 3]\n",
      " [4 5 6]\n",
      " [7 8 9]]\n",
      "[[1 2 3]\n",
      " [4 5 6]]\n",
      "[[1 2 3]]\n"
     ]
    }
   ],
   "source": [
    "print(arreglo2d[:][:])\n",
    "print(arreglo2d[:2][:])\n",
    "print(arreglo2d[:][:1])"
   ]
  },
  {
   "cell_type": "code",
   "execution_count": 16,
   "metadata": {},
   "outputs": [
    {
     "name": "stdout",
     "output_type": "stream",
     "text": [
      "[[0 0 0]\n",
      " [0 0 0]\n",
      " [7 8 9]]\n"
     ]
    }
   ],
   "source": [
    "arreglo2d[:2][:2] = 0\n",
    "print(arreglo2d[:][:])"
   ]
  },
  {
   "attachments": {},
   "cell_type": "markdown",
   "metadata": {},
   "source": [
    "## Copia de un arreglo"
   ]
  },
  {
   "attachments": {},
   "cell_type": "markdown",
   "metadata": {},
   "source": [
    "Los arrays de dos dimensiones también están referenciados en memoria, por lo que todos los cambios realizados en un subarray se verán reflejados en el original."
   ]
  },
  {
   "attachments": {},
   "cell_type": "markdown",
   "metadata": {},
   "source": [
    "## Filtrado de elementos de un array"
   ]
  },
  {
   "attachments": {},
   "cell_type": "markdown",
   "metadata": {},
   "source": [
    "Una característica muy útil de los arrays es que es muy fácil obtener otro array con los elementos que cumplen una condición"
   ]
  },
  {
   "attachments": {},
   "cell_type": "markdown",
   "metadata": {},
   "source": [
    "`a[condicion]`: Devuelve una lista con los elementos del array `a` que cumplen la condición `condicion`."
   ]
  },
  {
   "cell_type": "code",
   "execution_count": 18,
   "metadata": {},
   "outputs": [
    {
     "name": "stdout",
     "output_type": "stream",
     "text": [
      "[2 4 6]\n",
      "[4 6]\n"
     ]
    }
   ],
   "source": [
    "a = np.array([[1, 2, 3], [4, 5, 6]])\n",
    "print(a[(a % 2 == 0)])\n",
    "print(a[(a % 2 == 0) &  (a > 2)])"
   ]
  },
  {
   "attachments": {},
   "cell_type": "markdown",
   "metadata": {},
   "source": [
    "## Operaciones matemáticas entre arreglos"
   ]
  },
  {
   "attachments": {},
   "cell_type": "markdown",
   "metadata": {},
   "source": [
    "Existen dos formas de realizar operaciones matemáticas con arrays: a nivel de elemento y a nivel de array.\n",
    "\n",
    "Las operaciones a nivel de elemento operan los elementos que ocupan la misma posición en dos arrays. Se necesitan, por tanto, dos arrays con las mismas dimensiones y el resultado es una array de la misma dimensión.\n",
    "\n",
    "Los operadores mamemáticos `+, -, *, /, %, **` se utilizan para la realizar suma, resta, producto, cociente, resto y potencia a nivel de elemento."
   ]
  },
  {
   "attachments": {},
   "cell_type": "markdown",
   "metadata": {},
   "source": [
    "### Suma"
   ]
  },
  {
   "cell_type": "code",
   "execution_count": 124,
   "metadata": {},
   "outputs": [
    {
     "name": "stdout",
     "output_type": "stream",
     "text": [
      "[5 7 9]\n"
     ]
    }
   ],
   "source": [
    "a = np.array([1, 2, 3])\n",
    "b = np.array([4, 5, 6])\n",
    "\n",
    "# Suma\n",
    "#print(np.add(a, b))        \n",
    "print(a+b)\n"
   ]
  },
  {
   "cell_type": "code",
   "execution_count": 19,
   "metadata": {},
   "outputs": [
    {
     "data": {
      "text/plain": [
       "array([[ 6,  8],\n",
       "       [10, 12]])"
      ]
     },
     "execution_count": 19,
     "metadata": {},
     "output_type": "execute_result"
    }
   ],
   "source": [
    "arr_5 = np.array([[1,2],[3,4]])\n",
    "arr_6 = np.array([[5,6],[7,8]])\n",
    "\n",
    "arr_5 + arr_6"
   ]
  },
  {
   "attachments": {},
   "cell_type": "markdown",
   "metadata": {},
   "source": [
    "### Resta"
   ]
  },
  {
   "cell_type": "code",
   "execution_count": 126,
   "metadata": {},
   "outputs": [
    {
     "name": "stdout",
     "output_type": "stream",
     "text": [
      "[-3 -3 -3]\n",
      "[-3 -3 -3]\n"
     ]
    }
   ],
   "source": [
    "\n",
    "# Resta\n",
    "print(np.subtract(a, b))   \n",
    "print(a-b)\n",
    "\n",
    "\n"
   ]
  },
  {
   "attachments": {},
   "cell_type": "markdown",
   "metadata": {},
   "source": [
    "### Multiplicación"
   ]
  },
  {
   "cell_type": "code",
   "execution_count": 127,
   "metadata": {},
   "outputs": [
    {
     "name": "stdout",
     "output_type": "stream",
     "text": [
      "[ 4 10 18]\n",
      "[ 4 10 18]\n",
      "[ 5 10 15]\n"
     ]
    }
   ],
   "source": [
    "# Multiplicación\n",
    "print(np.multiply(a, b))   \n",
    "print(a*b)\n",
    "\n",
    "# Multiplicación por escalar\n",
    "print(5*a)\n"
   ]
  },
  {
   "attachments": {},
   "cell_type": "markdown",
   "metadata": {},
   "source": [
    "### División"
   ]
  },
  {
   "cell_type": "code",
   "execution_count": 128,
   "metadata": {},
   "outputs": [
    {
     "name": "stdout",
     "output_type": "stream",
     "text": [
      "[0.25 0.4  0.5 ]\n",
      "[1.         0.5        0.33333333]\n"
     ]
    }
   ],
   "source": [
    "\n",
    "#Division\n",
    "#print(np.divide(a, b))     \n",
    "print(a/b)\n",
    "\n",
    "#Divisiones interesantes\n",
    "print(1/a)\n"
   ]
  },
  {
   "attachments": {},
   "cell_type": "markdown",
   "metadata": {},
   "source": [
    "### Potencia"
   ]
  },
  {
   "cell_type": "code",
   "execution_count": 132,
   "metadata": {},
   "outputs": [
    {
     "name": "stdout",
     "output_type": "stream",
     "text": [
      "[1 4 9]\n",
      "[1.         0.5        0.33333333]\n"
     ]
    }
   ],
   "source": [
    "#Potencias\n",
    "print(a**2)\n",
    "\n",
    "#Potencias interesantes\n",
    "\n",
    "print(a**-1.)"
   ]
  },
  {
   "attachments": {},
   "cell_type": "markdown",
   "metadata": {},
   "source": [
    "## Álgebra Matricial"
   ]
  },
  {
   "attachments": {},
   "cell_type": "markdown",
   "metadata": {},
   "source": [
    "`Numpy` incorpora funciones para realizar las principales operaciones algebraicas con vectores y matrices. La mayoría de los métodos algebráicos se agrupan en el submódulo `linalg`."
   ]
  },
  {
   "attachments": {},
   "cell_type": "markdown",
   "metadata": {},
   "source": [
    "### Producto escalar de dos vectores"
   ]
  },
  {
   "attachments": {},
   "cell_type": "markdown",
   "metadata": {},
   "source": [
    "Para realizar el producto escalar de dos vectores se utiliza el operador `@` o el siguiente método:\n",
    "\n",
    "`u.dot(v)`: Devuelve el producto escalar de los vectores u y v."
   ]
  },
  {
   "cell_type": "code",
   "execution_count": 20,
   "metadata": {},
   "outputs": [
    {
     "name": "stdout",
     "output_type": "stream",
     "text": [
      "4\n"
     ]
    }
   ],
   "source": [
    "a = np.array([1, 2, 3])\n",
    "b = np.array([1, 0, 1])\n",
    "print(a @ b)"
   ]
  },
  {
   "attachments": {},
   "cell_type": "markdown",
   "metadata": {},
   "source": [
    "### Módulo de un vector"
   ]
  },
  {
   "attachments": {},
   "cell_type": "markdown",
   "metadata": {},
   "source": [
    "Para calcular el módulo de un vector se utiliza el siguiente método:\n",
    "\n",
    "`norm(v)`: Devuelve el módulo del vector `v`."
   ]
  },
  {
   "cell_type": "code",
   "execution_count": 21,
   "metadata": {},
   "outputs": [
    {
     "name": "stdout",
     "output_type": "stream",
     "text": [
      "5.0\n"
     ]
    }
   ],
   "source": [
    "import numpy as np\n",
    "a = np.array([3, 4])\n",
    "print(np.linalg.norm(a))"
   ]
  },
  {
   "attachments": {},
   "cell_type": "markdown",
   "metadata": {},
   "source": [
    "### Producto de dos matrices"
   ]
  },
  {
   "attachments": {},
   "cell_type": "markdown",
   "metadata": {},
   "source": [
    "Para realizar el producto matricial se utiliza el mismo operador `@` y método que para el producto escalar de vectores:"
   ]
  },
  {
   "attachments": {},
   "cell_type": "markdown",
   "metadata": {},
   "source": [
    "`a.dot(b)`: Devuelve el producto matricial de las matrices `a` y `b` siempre y cuando sus dimensiones sean compatibles."
   ]
  },
  {
   "cell_type": "code",
   "execution_count": 23,
   "metadata": {},
   "outputs": [
    {
     "name": "stdout",
     "output_type": "stream",
     "text": [
      "[[14 14]\n",
      " [32 32]]\n",
      "[[14 14]\n",
      " [32 32]]\n"
     ]
    }
   ],
   "source": [
    "import numpy as np\n",
    "a = np.array([[1, 2, 3], [4, 5, 6]])\n",
    "b = np.array([[1, 1], [2, 2], [3, 3]])\n",
    "print(a @ b)\n",
    "print(a.dot(b))"
   ]
  },
  {
   "attachments": {},
   "cell_type": "markdown",
   "metadata": {},
   "source": [
    "### Matriz Transpuesta"
   ]
  },
  {
   "attachments": {},
   "cell_type": "markdown",
   "metadata": {},
   "source": [
    "Para trasponer una matriz se utiliza el método\n",
    "\n",
    "`a.T` : Devuelve la matriz traspuesta de la matriz `a`."
   ]
  },
  {
   "cell_type": "code",
   "execution_count": 24,
   "metadata": {},
   "outputs": [
    {
     "name": "stdout",
     "output_type": "stream",
     "text": [
      "[[1 4]\n",
      " [2 5]\n",
      " [3 6]]\n"
     ]
    }
   ],
   "source": [
    "import numpy as np\n",
    "a = np.array([[1, 2, 3], [4, 5, 6]])\n",
    "print(a.T)"
   ]
  },
  {
   "attachments": {},
   "cell_type": "markdown",
   "metadata": {},
   "source": [
    "### Traza de una matriz"
   ]
  },
  {
   "attachments": {},
   "cell_type": "markdown",
   "metadata": {},
   "source": [
    "La traza de una matriz cuadrada se calcula con el siguiente método:\n",
    "\n",
    "`a.trace()`: Devuelve la traza (suma de la diagonal principal) de la matriz cuadrada `a`."
   ]
  },
  {
   "cell_type": "code",
   "execution_count": 26,
   "metadata": {},
   "outputs": [
    {
     "name": "stdout",
     "output_type": "stream",
     "text": [
      "15\n"
     ]
    }
   ],
   "source": [
    "import numpy as np\n",
    "a = np.array([[1, 2, 3], [4, 5, 6], [7, 8, 9]])\n",
    "print(a.trace())"
   ]
  },
  {
   "attachments": {},
   "cell_type": "markdown",
   "metadata": {},
   "source": [
    "### Determinante de una matriz"
   ]
  },
  {
   "attachments": {},
   "cell_type": "markdown",
   "metadata": {},
   "source": [
    "El determinante de una matriz cuadrada se calcula con la siguiente función:\n",
    "\n",
    "`det(a)`: Devuelve el determinante de la matriz cuadrada `a`."
   ]
  },
  {
   "cell_type": "code",
   "execution_count": 27,
   "metadata": {},
   "outputs": [
    {
     "name": "stdout",
     "output_type": "stream",
     "text": [
      "-2.0000000000000004\n"
     ]
    }
   ],
   "source": [
    "import numpy as np\n",
    "a = np.array([[1, 2], [3, 4]])\n",
    "print(np.linalg.det(a))"
   ]
  },
  {
   "attachments": {},
   "cell_type": "markdown",
   "metadata": {},
   "source": [
    "### La inversa de una matriz "
   ]
  },
  {
   "attachments": {},
   "cell_type": "markdown",
   "metadata": {},
   "source": [
    "La inversa de una matriz se calcula con la siguiente función:\n",
    "\n",
    "`inv(a)`: Devuelve la matriz inversa de la matriz cuadrada `a`."
   ]
  },
  {
   "attachments": {},
   "cell_type": "markdown",
   "metadata": {},
   "source": [
    "### Matriz inversa"
   ]
  },
  {
   "attachments": {},
   "cell_type": "markdown",
   "metadata": {},
   "source": [
    "La inversa de una matriz se calcula con la siguiente función:\n",
    "\n",
    "`inv(a)` : Devuelve la matriz inversa de la matriz cuadrada `a`."
   ]
  },
  {
   "cell_type": "code",
   "execution_count": 28,
   "metadata": {},
   "outputs": [
    {
     "name": "stdout",
     "output_type": "stream",
     "text": [
      "[[-2.   1. ]\n",
      " [ 1.5 -0.5]]\n"
     ]
    }
   ],
   "source": [
    "import numpy as np\n",
    "a = np.array([[1, 2], [3, 4]])\n",
    "print(np.linalg.inv(a))"
   ]
  },
  {
   "attachments": {},
   "cell_type": "markdown",
   "metadata": {},
   "source": [
    "### Autovalores de una matriz"
   ]
  },
  {
   "attachments": {},
   "cell_type": "markdown",
   "metadata": {},
   "source": [
    "Los autovalores de una matriz cuadrada se calculan con la siguiente función:\n",
    "\n",
    "`eigvals(a)`: Devuelve los autovalores de la matriz cuadrada `a`."
   ]
  },
  {
   "cell_type": "code",
   "execution_count": 29,
   "metadata": {},
   "outputs": [
    {
     "name": "stdout",
     "output_type": "stream",
     "text": [
      "[ 3.00000000e+00  1.00000000e+00 -5.13860489e-17]\n"
     ]
    }
   ],
   "source": [
    "import numpy as np\n",
    "a = np.array([[1, 1, 0], [1, 2, 1], [0, 1, 1]])\n",
    "print(np.linalg.eigvals(a))"
   ]
  },
  {
   "attachments": {},
   "cell_type": "markdown",
   "metadata": {},
   "source": [
    "### Autovectores de una matriz"
   ]
  },
  {
   "attachments": {},
   "cell_type": "markdown",
   "metadata": {},
   "source": [
    "Los autovectores de una matriz cuadrada se calculan con la siguiente función:\n",
    "\n",
    "`eig(a)`: Devuelve los autovalores y los autovectores asociados de la matriz cuadrada `a`."
   ]
  },
  {
   "attachments": {},
   "cell_type": "markdown",
   "metadata": {},
   "source": [
    "## Funciones estadísticas"
   ]
  },
  {
   "cell_type": "code",
   "execution_count": 133,
   "metadata": {},
   "outputs": [
    {
     "name": "stdout",
     "output_type": "stream",
     "text": [
      "3.0\n",
      "3.0\n",
      "1.4142135623730951\n",
      "1\n",
      "5\n"
     ]
    }
   ],
   "source": [
    "arreglo = np.array([1, 2, 3, 4, 5])\n",
    "\n",
    "print(np.mean(arreglo))       # Calcula la media del ndarray\n",
    "print(np.median(arreglo))     # Calcula la mediana del ndarray\n",
    "print(np.std(arreglo))        # Calcula la desviación estándar del ndarray\n",
    "print(np.min(arreglo))        # Encuentra el valor mínimo del ndarray\n",
    "print(np.max(arreglo))        # Encuentra el valor máximo del ndarray"
   ]
  },
  {
   "attachments": {},
   "cell_type": "markdown",
   "metadata": {},
   "source": [
    "### Solución de un sistema de ecuaciones"
   ]
  },
  {
   "attachments": {},
   "cell_type": "markdown",
   "metadata": {},
   "source": [
    "Para resolver un sistema de ecuaciones lineales se utiliza la función siguiente:\n",
    "\n",
    "`solve(a, b)`: Devuelve la solución del sistema de ecuaciones lineales con los coeficientes de la matriz `a` y los términos independientes de la matriz `b`."
   ]
  },
  {
   "attachments": {},
   "cell_type": "markdown",
   "metadata": {},
   "source": [
    "## Arrays pregenerados"
   ]
  },
  {
   "attachments": {},
   "cell_type": "markdown",
   "metadata": {},
   "source": [
    "rear arrays a partir de listas puede ser muy tedioso, por eso numpy integra varias funciones muy útiles para generar arrays de uso común en el álgebra de matrices"
   ]
  },
  {
   "cell_type": "code",
   "execution_count": 30,
   "metadata": {},
   "outputs": [
    {
     "name": "stdout",
     "output_type": "stream",
     "text": [
      "[-1.  1.]\n"
     ]
    }
   ],
   "source": [
    "import numpy as np\n",
    "# Sistema de dos ecuaciones y dos incógnitas\n",
    "# x + 2y = 1\n",
    "# 3x + 5y = 2 \n",
    "a = np.array([[1, 2], [3, 5]])\n",
    "b = np.array([1, 2])\n",
    "print(np.linalg.solve(a, b))"
   ]
  },
  {
   "attachments": {},
   "cell_type": "markdown",
   "metadata": {},
   "source": [
    "### Array de ceros"
   ]
  },
  {
   "attachments": {},
   "cell_type": "markdown",
   "metadata": {},
   "source": [
    "Un array de ceros es cuando todos sus elementos son ceros. Podemos generarlos con el método zeros de Numpy:"
   ]
  },
  {
   "cell_type": "code",
   "execution_count": 139,
   "metadata": {},
   "outputs": [
    {
     "name": "stdout",
     "output_type": "stream",
     "text": [
      "[0. 0. 0.]\n"
     ]
    }
   ],
   "source": [
    "import numpy as np\n",
    "print(np.zeros(3))\n"
   ]
  },
  {
   "attachments": {},
   "cell_type": "markdown",
   "metadata": {},
   "source": [
    "Evidentemente podemos generar arrays multidimensionales, pero para ello tenemos que pasarle al método una lista o tupla con la longitud de sus dimensiones:"
   ]
  },
  {
   "cell_type": "code",
   "execution_count": 136,
   "metadata": {},
   "outputs": [
    {
     "data": {
      "text/plain": [
       "array([[0., 0., 0.],\n",
       "       [0., 0., 0.],\n",
       "       [0., 0., 0.]])"
      ]
     },
     "execution_count": 136,
     "metadata": {},
     "output_type": "execute_result"
    }
   ],
   "source": [
    "np.zeros([3,3])"
   ]
  },
  {
   "cell_type": "code",
   "execution_count": 146,
   "metadata": {},
   "outputs": [
    {
     "ename": "ValueError",
     "evalue": "setting an array element with a sequence.",
     "output_type": "error",
     "traceback": [
      "\u001b[0;31m---------------------------------------------------------------------------\u001b[0m",
      "\u001b[0;31mTypeError\u001b[0m                                 Traceback (most recent call last)",
      "\u001b[0;31mTypeError\u001b[0m: only size-1 arrays can be converted to Python scalars",
      "\nThe above exception was the direct cause of the following exception:\n",
      "\u001b[0;31mValueError\u001b[0m                                Traceback (most recent call last)",
      "\u001b[0;32m/var/folders/cv/9b0z6xrs33j_klsdlq5l4_2c0000gn/T/ipykernel_44618/2430731696.py\u001b[0m in \u001b[0;36m<module>\u001b[0;34m\u001b[0m\n\u001b[1;32m      1\u001b[0m \u001b[0mm\u001b[0m \u001b[0;34m=\u001b[0m \u001b[0mnp\u001b[0m\u001b[0;34m.\u001b[0m\u001b[0mzeros\u001b[0m\u001b[0;34m(\u001b[0m\u001b[0;34m[\u001b[0m\u001b[0;36m2\u001b[0m\u001b[0;34m,\u001b[0m\u001b[0;36m2\u001b[0m\u001b[0;34m]\u001b[0m\u001b[0;34m)\u001b[0m\u001b[0;34m\u001b[0m\u001b[0;34m\u001b[0m\u001b[0m\n\u001b[0;32m----> 2\u001b[0;31m \u001b[0mm\u001b[0m\u001b[0;34m[\u001b[0m\u001b[0;36m0\u001b[0m\u001b[0;34m]\u001b[0m\u001b[0;34m[\u001b[0m\u001b[0;36m0\u001b[0m\u001b[0;34m]\u001b[0m \u001b[0;34m=\u001b[0m \u001b[0mnp\u001b[0m\u001b[0;34m.\u001b[0m\u001b[0mzeros\u001b[0m\u001b[0;34m(\u001b[0m\u001b[0;36m2\u001b[0m\u001b[0;34m)\u001b[0m\u001b[0;34m\u001b[0m\u001b[0;34m\u001b[0m\u001b[0m\n\u001b[0m",
      "\u001b[0;31mValueError\u001b[0m: setting an array element with a sequence."
     ]
    }
   ],
   "source": [
    "m = np.zeros([2,2])\n",
    "m[0][0] = np.zeros(2)"
   ]
  },
  {
   "attachments": {},
   "cell_type": "markdown",
   "metadata": {},
   "source": [
    "### Array de unos"
   ]
  },
  {
   "attachments": {},
   "cell_type": "markdown",
   "metadata": {},
   "source": [
    "Lo mismo podemos hacer pero utilizando el método ones:"
   ]
  },
  {
   "cell_type": "code",
   "execution_count": 140,
   "metadata": {},
   "outputs": [
    {
     "name": "stdout",
     "output_type": "stream",
     "text": [
      "[[1. 1. 1.]\n",
      " [1. 1. 1.]\n",
      " [1. 1. 1.]]\n"
     ]
    }
   ],
   "source": [
    "print(np.ones([3,3]))"
   ]
  },
  {
   "attachments": {},
   "cell_type": "markdown",
   "metadata": {},
   "source": [
    "### Array  identidad"
   ]
  },
  {
   "attachments": {},
   "cell_type": "markdown",
   "metadata": {},
   "source": [
    "Los arrays de identidad son matrices cuadradas (con el mismo número de filas que de columnas) donde todos los valores son ceros a excepción de la diagonal donde son unos. Podemos generarlos con el método eye:"
   ]
  },
  {
   "cell_type": "code",
   "execution_count": 141,
   "metadata": {},
   "outputs": [
    {
     "data": {
      "text/plain": [
       "array([[1., 0.],\n",
       "       [0., 1.]])"
      ]
     },
     "execution_count": 141,
     "metadata": {},
     "output_type": "execute_result"
    }
   ],
   "source": [
    "np.eye(2)"
   ]
  },
  {
   "attachments": {},
   "cell_type": "markdown",
   "metadata": {},
   "source": [
    "### Array de rangos"
   ]
  },
  {
   "attachments": {},
   "cell_type": "markdown",
   "metadata": {},
   "source": [
    " también es posible generar arrays a partir de un rango de valores. Para hacerlo utilizaríamos el método arange:"
   ]
  },
  {
   "cell_type": "code",
   "execution_count": 23,
   "metadata": {},
   "outputs": [
    {
     "data": {
      "text/plain": [
       "array([0, 1, 2, 3])"
      ]
     },
     "execution_count": 23,
     "metadata": {},
     "output_type": "execute_result"
    }
   ],
   "source": [
    "# Rango de 0 a 3\n",
    "np.arange(4)\n",
    "\n"
   ]
  },
  {
   "cell_type": "code",
   "execution_count": 148,
   "metadata": {},
   "outputs": [
    {
     "data": {
      "text/plain": [
       "array([0., 1., 2., 3.])"
      ]
     },
     "execution_count": 148,
     "metadata": {},
     "output_type": "execute_result"
    }
   ],
   "source": [
    "# Rango 0 a 4 decimal\n",
    "np.arange(4.)\n"
   ]
  },
  {
   "cell_type": "code",
   "execution_count": 149,
   "metadata": {},
   "outputs": [
    {
     "data": {
      "text/plain": [
       "array([-3, -2, -1,  0,  1,  2])"
      ]
     },
     "execution_count": 149,
     "metadata": {},
     "output_type": "execute_result"
    }
   ],
   "source": [
    "\n",
    "# Rango de -3 a 4\n",
    "np.arange(-3, 3)\n"
   ]
  },
  {
   "cell_type": "code",
   "execution_count": 150,
   "metadata": {},
   "outputs": [
    {
     "data": {
      "text/plain": [
       "array([ 0,  5, 10, 15])"
      ]
     },
     "execution_count": 150,
     "metadata": {},
     "output_type": "execute_result"
    }
   ],
   "source": [
    "\n",
    "# Rango de 0 a 20 cada 5 números\n",
    "np.arange(0, 20, 5)"
   ]
  },
  {
   "attachments": {},
   "cell_type": "markdown",
   "metadata": {},
   "source": [
    "## Consideraciones importantes"
   ]
  },
  {
   "attachments": {},
   "cell_type": "markdown",
   "metadata": {},
   "source": [
    "Los `arrays` tienen una característica muy especial y es que **se encuentran referenciados en la memoria**.\n",
    "Esto significa que a la hora de trabajar con subarrays todos los cambios que hagamos se verán reflejados en el array original. "
   ]
  },
  {
   "cell_type": "code",
   "execution_count": 152,
   "metadata": {},
   "outputs": [
    {
     "name": "stdout",
     "output_type": "stream",
     "text": [
      "[ 0  5 10 15 20 25 30 35 40 45]\n",
      "[ 0  5 10 15]\n"
     ]
    }
   ],
   "source": [
    "arreglo = np.arange(0, 50, 5)\n",
    "\n",
    "print(arreglo)\n",
    "\n",
    "\n",
    "sub_arreglo = arreglo[0:4]\n",
    "\n",
    "print(sub_arreglo)"
   ]
  },
  {
   "attachments": {},
   "cell_type": "markdown",
   "metadata": {},
   "source": [
    "Modifiquemos el subarray:"
   ]
  },
  {
   "cell_type": "code",
   "execution_count": 153,
   "metadata": {},
   "outputs": [
    {
     "data": {
      "text/plain": [
       "array([ 0,  0,  0,  0, 20, 25, 30, 35, 40, 45])"
      ]
     },
     "execution_count": 153,
     "metadata": {},
     "output_type": "execute_result"
    }
   ],
   "source": [
    "sub_arreglo[:] = 0\n",
    "sub_arreglo\n",
    "arreglo"
   ]
  },
  {
   "attachments": {},
   "cell_type": "markdown",
   "metadata": {},
   "source": [
    "Esto ocurre porque numpy hace una gestión óptima de la memoria y no va a malgastarla creando copias por valor. Para **crear una copia** real de un array y no modificar el original, tendremos que utilizar el método `copy`:"
   ]
  },
  {
   "cell_type": "code",
   "execution_count": 157,
   "metadata": {},
   "outputs": [
    {
     "data": {
      "text/plain": [
       "array([ 0,  5, 10, 15, 20, 25, 30, 35, 40, 45, 50])"
      ]
     },
     "execution_count": 157,
     "metadata": {},
     "output_type": "execute_result"
    }
   ],
   "source": [
    "arreglo = np.arange(0, 51, 5)\n",
    "sub_arreglo = arreglo.copy()\n",
    "sub_arreglo"
   ]
  },
  {
   "cell_type": "code",
   "execution_count": 158,
   "metadata": {},
   "outputs": [
    {
     "data": {
      "text/plain": [
       "array([ 0,  5, 10, 15, 20, 25, 30, 35, 40, 45, 50])"
      ]
     },
     "execution_count": 158,
     "metadata": {},
     "output_type": "execute_result"
    }
   ],
   "source": [
    "sub_arreglo[:] = 0\n",
    "sub_arreglo\n",
    "arreglo"
   ]
  },
  {
   "attachments": {},
   "cell_type": "markdown",
   "metadata": {},
   "source": [
    "## Fancy index"
   ]
  },
  {
   "attachments": {},
   "cell_type": "markdown",
   "metadata": {},
   "source": [
    " Esta propiedad de los arrays nos permite trabajar muy cómodamente con las filas de estos arrays"
   ]
  },
  {
   "attachments": {},
   "cell_type": "markdown",
   "metadata": {},
   "source": [
    "Vamos a crear una matriz 5x10 llena de ceros:"
   ]
  },
  {
   "cell_type": "code",
   "execution_count": null,
   "metadata": {},
   "outputs": [],
   "source": [
    "matrixceros = np.zeros((5,10))\n"
   ]
  },
  {
   "attachments": {},
   "cell_type": "markdown",
   "metadata": {},
   "source": [
    "Con `fancy index`, podemos pasarle una lista al array haciendo referencia a las filas donde queremos acceder.\n",
    "\n",
    "Por ejemplo podemos modificar al vuelo la primera, tercera y última fila:"
   ]
  },
  {
   "cell_type": "code",
   "execution_count": null,
   "metadata": {},
   "outputs": [],
   "source": [
    "matrixceros[[0,2,-1]] = 1\n",
    "matrixceros"
   ]
  },
  {
   "attachments": {},
   "cell_type": "markdown",
   "metadata": {},
   "source": [
    "**Observacion:**  La idea es  que realmente las filas simulan sublistas. De hecho podríamos recorrer este 2-array  con un `for` y cada vez que entramos al bucle estamos en una fila:"
   ]
  },
  {
   "cell_type": "code",
   "execution_count": null,
   "metadata": {},
   "outputs": [],
   "source": [
    "for row in matrixceros:\n",
    "    print(row)"
   ]
  },
  {
   "attachments": {},
   "cell_type": "markdown",
   "metadata": {},
   "source": [
    "De manera que si quisiéramos darle el mismo valor a cada fila no costaría mucho, sólo deberíamos acceder a través de nuestro índice mágico, que podemos sacarlo por ejemplo con un enumerador:"
   ]
  },
  {
   "cell_type": "code",
   "execution_count": null,
   "metadata": {},
   "outputs": [],
   "source": [
    "for i,row in enumerate(matrixceros):\n",
    "    matrixceros[i]=11\n",
    "\n",
    "matrixceros"
   ]
  },
  {
   "attachments": {},
   "cell_type": "markdown",
   "metadata": {},
   "source": [
    "## Arrays de 3 y más dimensiones"
   ]
  },
  {
   "attachments": {},
   "cell_type": "markdown",
   "metadata": {},
   "source": [
    "De la misma forma que un array de 2 dimensiones, el truco para crear uno de 3 consiste en anidar listas a 3 niveles de profundidad."
   ]
  },
  {
   "cell_type": "code",
   "execution_count": 164,
   "metadata": {},
   "outputs": [
    {
     "data": {
      "text/plain": [
       "array([1, 2])"
      ]
     },
     "execution_count": 164,
     "metadata": {},
     "output_type": "execute_result"
    }
   ],
   "source": [
    "import numpy as np\n",
    "\n",
    "# Primer nivel, 2 elementos en ancho\n",
    "arreglo_1d = np.array(\n",
    "    [1, 2]\n",
    ")\n",
    "arreglo_1d"
   ]
  },
  {
   "cell_type": "code",
   "execution_count": 165,
   "metadata": {},
   "outputs": [
    {
     "data": {
      "text/plain": [
       "array([[1, 2],\n",
       "       [3, 4]])"
      ]
     },
     "execution_count": 165,
     "metadata": {},
     "output_type": "execute_result"
    }
   ],
   "source": [
    "\n",
    "# Segundo nivel, 2 elementos en ancho por 2 de alto,\n",
    "# 4 elementos en total\n",
    "arreglo_2d = np.array([\n",
    "    [1, 2],\n",
    "    [3, 4]\n",
    "])\n",
    "arreglo_2d"
   ]
  },
  {
   "cell_type": "code",
   "execution_count": 166,
   "metadata": {},
   "outputs": [
    {
     "data": {
      "text/plain": [
       "array([[[1, 2],\n",
       "        [3, 4]],\n",
       "\n",
       "       [[5, 6],\n",
       "        [7, 8]]])"
      ]
     },
     "execution_count": 166,
     "metadata": {},
     "output_type": "execute_result"
    }
   ],
   "source": [
    "\n",
    "# Tercer nivel, 2 elementos en ancho por 2 de alto\n",
    "# por 2 de profundidad, 8 elementos en total\n",
    "arreglo_3d = np.array([\n",
    "    [\n",
    "        [1, 2],\n",
    "        [3, 4]\n",
    "    ],\n",
    "    [\n",
    "        [5, 6],\n",
    "        [7, 8]\n",
    "    ]\n",
    "])\n",
    "arreglo_3d"
   ]
  }
 ],
 "metadata": {
  "kernelspec": {
   "display_name": "Python 3",
   "language": "python",
   "name": "python3"
  },
  "language_info": {
   "codemirror_mode": {
    "name": "ipython",
    "version": 3
   },
   "file_extension": ".py",
   "mimetype": "text/x-python",
   "name": "python",
   "nbconvert_exporter": "python",
   "pygments_lexer": "ipython3",
   "version": "3.9.13"
  },
  "orig_nbformat": 4
 },
 "nbformat": 4,
 "nbformat_minor": 2
}
