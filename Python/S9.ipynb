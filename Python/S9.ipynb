{
 "cells": [
  {
   "attachments": {},
   "cell_type": "markdown",
   "metadata": {},
   "source": [
    "# Programación Orientada a Objetos en Python"
   ]
  },
  {
   "attachments": {},
   "cell_type": "markdown",
   "metadata": {},
   "source": [
    "Empecemos con una introducción básica a la **Programación Orientada a Objetos** **POO** (**OOP** en inglés). Se trata de un paradigma de programación introducido en los años 1970s, pero que no se hizo popular hasta años más tarde."
   ]
  },
  {
   "attachments": {},
   "cell_type": "markdown",
   "metadata": {},
   "source": [
    "Este paradigma de programación nos permite organizar el código de una manera que se asemeja bastante a como pensamos en la vida real, utilizando ***clases***. Estas nos permiten agrupar un conjunto de variables y funciones."
   ]
  },
  {
   "attachments": {},
   "cell_type": "markdown",
   "metadata": {},
   "source": [
    "Cosas de lo más cotidianas como un perro o un coche pueden ser representadas con *clases*. Estas *clases* tienen diferentes características, que en el caso del perro podrían ser la *edad*, el *nombre* o la *raza*. Llamaremos a estas características, ***atributos***.\n",
    "\n",
    "Por otro lado, las clases tienen un conjunto de funcionalidades o cosas que pueden hacer. En el caso del perro podría ser andar o ladrar. Llamaremos a estas funcionalidades ***métodos***.\n",
    "\n",
    "Por último, pueden existir diferentes tipos de perro. Podemos tener uno que se llama Rocky o el del vecino que se llama Bobby. Llamaremos a estos diferentes tipos de perro ***objetos***. \n",
    "\n",
    "Es decir, el concepto abstracto de perro es la clase, pero Toby o cualquier otro perro particular será el objeto."
   ]
  },
  {
   "attachments": {},
   "cell_type": "markdown",
   "metadata": {},
   "source": [
    "La programación orientada a objetos está basada en 6 principios básicos:\n",
    "\n",
    "* **Herencia**\n",
    "\n",
    "* **Cohesión**\n",
    "\n",
    "* **Abstracción**\n",
    "\n",
    "* **Polimorfismo**\n",
    "\n",
    "* **Acoplamiento**\n",
    "\n",
    "* **Encapsulamiento**"
   ]
  },
  {
   "attachments": {},
   "cell_type": "markdown",
   "metadata": {},
   "source": [
    "**Python es un lenguaje de programación orientado a objetos** lo que esto significa es que casi todo es un ***objeto*** en Python.  Cuando creas una variable y le asignas un valor entero, ese valor es un objeto; una *función* es un objeto; las *listas, tuplas, diccionarios, conjuntos*,... son objetos; una cadena de caracteres es un objeto. Y así podríamos continuar dando muchos ejemplos."
   ]
  },
  {
   "attachments": {},
   "cell_type": "markdown",
   "metadata": {},
   "source": [
    "## Clase"
   ]
  },
  {
   "attachments": {},
   "cell_type": "markdown",
   "metadata": {},
   "source": [
    "Una **clase** en Python es una *plantilla* para crear *objetos*, que tienen *atributos* y *métodos* (características y comportamientos). Cada objeto creado a partir de una clase se conoce como una ***instancia de la clase***. Las clases proporcionan una forma de agrupar datos y funcionalidad relacionados juntos, lo que facilita el mantenimiento y reutilización del código."
   ]
  },
  {
   "attachments": {},
   "cell_type": "markdown",
   "metadata": {},
   "source": [
    "En oras palabras, una clase es una plantilla o molde para crear objetos. Las propiedades y métodos de una clase se definen dentro de la clase usando la sintaxis de Python."
   ]
  },
  {
   "attachments": {},
   "cell_type": "markdown",
   "metadata": {},
   "source": [
    "Básicamente, una ***clase*** es una entidad que define una serie de elementos que determinan un estado (datos) y un comportamiento (operaciones sobre los datos que modifican su estado)."
   ]
  },
  {
   "attachments": {},
   "cell_type": "markdown",
   "metadata": {},
   "source": [
    "### Crear una clase vacia"
   ]
  },
  {
   "attachments": {},
   "cell_type": "markdown",
   "metadata": {},
   "source": [
    "Para crear un objeto, primero debemos definir una **clase**. Crear una clase es simplemente definir la *plantilla*  que será utilizado por todos los objetos subsiguientes. Para definir una clase, use la palabra clave `class`:"
   ]
  },
  {
   "cell_type": "code",
   "execution_count": 3,
   "metadata": {},
   "outputs": [
    {
     "name": "stdout",
     "output_type": "stream",
     "text": [
      "<class 'type'>\n"
     ]
    }
   ],
   "source": [
    "class Perro:\n",
    "    pass\n",
    "\n",
    "print(type(Perro))"
   ]
  },
  {
   "attachments": {},
   "cell_type": "markdown",
   "metadata": {},
   "source": [
    "Se trata de una ***clase vacía*** y sin mucha utilidad práctica, pero es la mínima clase que podemos crear. Nótese el uso del `pass` que no hace realmente nada, pero daría un error si después de los **`:`** no tenemos contenido."
   ]
  },
  {
   "attachments": {},
   "cell_type": "markdown",
   "metadata": {},
   "source": [
    "**Nota:** Una convención importante respecto a la  notación para los nombres de las clases es la siguiente: **la primera letra de cada palabra del nombre debe estar en mayúsculas** y **el resto de letras  en minúsculas**."
   ]
  },
  {
   "attachments": {},
   "cell_type": "markdown",
   "metadata": {},
   "source": [
    "## Objetos"
   ]
  },
  {
   "attachments": {},
   "cell_type": "markdown",
   "metadata": {},
   "source": [
    " Un ***objeto*** en Python es una colección de atributos que describen colectivamente una \"cosa\". Esa \"*cosa*\" puede ser lo que quieras: un *libro*, un *animal*, una *película*."
   ]
  },
  {
   "attachments": {},
   "cell_type": "markdown",
   "metadata": {},
   "source": [
    "### Crear un objeto de una clase determinada"
   ]
  },
  {
   "attachments": {},
   "cell_type": "markdown",
   "metadata": {},
   "source": [
    "Una vez que ya tenemos la clase, podemos crear un objeto de la misma (**instanciar una clase**). Podemos hacerlo como si de una variable normal se tratase:\n",
    "\n",
    "`objeto = Nombre_clase() `\n",
    "\n",
    "Dentro de los paréntesis irían los parámetros de entrada si los hubiera."
   ]
  },
  {
   "attachments": {},
   "cell_type": "markdown",
   "metadata": {},
   "source": [
    "Utilizaremos primero la clase *Perro* construida previamente:"
   ]
  },
  {
   "cell_type": "code",
   "execution_count": 5,
   "metadata": {},
   "outputs": [
    {
     "name": "stdout",
     "output_type": "stream",
     "text": [
      "<class '__main__.Perro'>\n"
     ]
    }
   ],
   "source": [
    "mi_perro = Perro()\n",
    "print(type(mi_perro))"
   ]
  },
  {
   "attachments": {},
   "cell_type": "markdown",
   "metadata": {},
   "source": [
    "Ahora usaremos nuestra clase *Alumno*  previamente definida y accederemos a su atributo *nombre*: "
   ]
  },
  {
   "cell_type": "code",
   "execution_count": 11,
   "metadata": {},
   "outputs": [
    {
     "name": "stdout",
     "output_type": "stream",
     "text": [
      "UTM\n",
      "UMAR\n"
     ]
    }
   ],
   "source": [
    "class Alumno:\n",
    "    universidad = 'UMAR'\n",
    "    \n",
    "\n",
    "alumno1 = Alumno()\n",
    "alumno1.universidad = 'UTM'\n",
    "print(alumno1.universidad)\n",
    "\n",
    "alumno2 = Alumno()\n",
    "print(alumno2.universidad)\n",
    "\n",
    "    "
   ]
  },
  {
   "attachments": {},
   "cell_type": "markdown",
   "metadata": {},
   "source": [
    "**¡Impresionante!**, hemos creamos un nuevo alumno e imprimimos el nombre accediendo directamente a la propiedad. Esto es genial y todo eso, pero ahora hagamos que nuestras clases sean útiles."
   ]
  },
  {
   "attachments": {},
   "cell_type": "markdown",
   "metadata": {},
   "source": [
    "## Constructor de clase"
   ]
  },
  {
   "attachments": {},
   "cell_type": "markdown",
   "metadata": {},
   "source": [
    "<!-- El código anterior crea una nueva instancia de la clase `Nombre_clase` y asigna dicho objeto a la variable `objeto`. Esto crea un objeto vacío, sin estado. -->\n",
    "Sin embargo, a veces es necesario definir  clases (como nuestra clase Alumno) que deben o necesitan crear instancias de objetos con un *estado inicial*. Esto se consigue implementando el método especial `__init__()`. Este método es conocido como el **constructor de la clase** y se invoca cada vez que se instancia un nuevo objeto.\n",
    "De esta manera,  un constructor para tu clase  inicializa tu nuevo objeto usando los parámetros que le pasas.\n",
    "\n",
    "El **método `__init__( )`** establece un primer parámetro especial que se suele llamar `self` (veremos qué significa este nombre más adelante). Pero puede especificar otros parámetros siguiendo las mismas reglas que cualquier otra función.\n",
    "\n",
    "La  palabra clave `self` se utiliza para referirse al objeto actual que se está creando. Por lo tanto, cuando se llama al constructor (lo que ocurre automáticamente), está configurando las propiedades del nuevo objeto utilizando los parámetros que pasó."
   ]
  },
  {
   "attachments": {},
   "cell_type": "markdown",
   "metadata": {},
   "source": [
    "## Atributos "
   ]
  },
  {
   "attachments": {},
   "cell_type": "markdown",
   "metadata": {},
   "source": [
    "A continuación vamos a añadir algunos atributos a nuestra clase. Es importante distinguir que **existen dos tipos de atributos**:\n",
    "\n",
    "* ***Atributos de instancia***: Pertenecen a la instancia de la clase o al objeto. Son atributos particulares de cada instancia, en nuestro caso de cada Alumno.\n",
    "\n",
    "* ***Atributos de clase***: Se trata de atributos que pertenecen a la clase, por lo tanto serán comunes para todos los objetos."
   ]
  },
  {
   "attachments": {},
   "cell_type": "markdown",
   "metadata": {},
   "source": [
    "### Definiendo atributos de instancia"
   ]
  },
  {
   "attachments": {},
   "cell_type": "markdown",
   "metadata": {},
   "source": [
    "Empecemos creando un par de *atributos de instancia* para nuestro *Alumno*, el nombre (hagamos que el nombre del alumno sea personalizable ). Para ello creamos un método `__init__` que será llamado automáticamente cuando creemos un objeto."
   ]
  },
  {
   "cell_type": "code",
   "execution_count": 22,
   "metadata": {},
   "outputs": [],
   "source": [
    "class Alumno: # class es la palabra reservada para definir una clase\n",
    "    \"\"\"Esta clase define las propiedades y el comportamiento de un estudiante \"\"\" #Docsstring\n",
    "    universidad = 'UMAR'\n",
    "    \n",
    "\n",
    "    # Constructor de la clase. El método __init__ es llamado al crear el objeto\n",
    "    def __init__(self,nombre,apellido_paterno):\n",
    "        print(f'Creando alumno {nombre}...')\n",
    "\n",
    "        # Atributos de la instacia\n",
    "        self.nombre = nombre\n",
    "        self.apellido1 = apellido_paterno"
   ]
  },
  {
   "attachments": {},
   "cell_type": "markdown",
   "metadata": {},
   "source": [
    "En nuestro caso, el **constructor de la clase** Alumno es:\n",
    "\n",
    "<pre>\n",
    "    def __init__(self,nombre):\n",
    "        self.nombre=nombre\n",
    "        <!-- self.campus=campus\n",
    "        self.carrera=carrera -->\n",
    "</pre>"
   ]
  },
  {
   "attachments": {},
   "cell_type": "markdown",
   "metadata": {},
   "source": [
    "Ahora que hemos definido el método `init` con un parámetro de entrada, podemos crear el objeto pasando el valor del atributo.  El `self` que se pasa como parámetro de entrada del método. Es una variable que representa la instancia de la clase, y deberá estar siempre ahí.\n",
    "\n",
    "El uso de `__init__` y el doble `__` no es una coincidencia. Cuando veas un método con esa forma, significa que está reservado para un uso especial del lenguaje. En este caso sería lo que se conoce como **constructor**. Hay gente que llama a estos ***métodos mágicos***."
   ]
  },
  {
   "attachments": {},
   "cell_type": "markdown",
   "metadata": {},
   "source": [
    "De esta manera, para **instanciar un objeto** de tipo `Alumno`, debemos pasar como argumentos el *nombre*. Una vez relizado esto podemos acceder a los atributos usando el  objeto creado."
   ]
  },
  {
   "cell_type": "code",
   "execution_count": 23,
   "metadata": {},
   "outputs": [
    {
     "name": "stdout",
     "output_type": "stream",
     "text": [
      "Creando alumno Angel Mateo...\n",
      "Angel Mateo\n",
      "UMAR\n",
      "Hernandez\n"
     ]
    }
   ],
   "source": [
    "alumno1 = Alumno(\"Angel Mateo\",'Hernandez')\n",
    "print(alumno1.nombre)\n",
    "\n",
    "print(alumno1.universidad)\n",
    "\n",
    "#alumno1.apellido1 = 'Hernandez' \n",
    "\n",
    "print(alumno1.apellido1)\n",
    "\n",
    "\n",
    "\n"
   ]
  },
  {
   "attachments": {},
   "cell_type": "markdown",
   "metadata": {},
   "source": [
    "Usando `type()` podemos ver como efectivamente el objeto es de la clase *Alumno*."
   ]
  },
  {
   "cell_type": "code",
   "execution_count": 24,
   "metadata": {},
   "outputs": [
    {
     "name": "stdout",
     "output_type": "stream",
     "text": [
      "<class '__main__.Alumno'>\n"
     ]
    }
   ],
   "source": [
    "print(type(alumno1))"
   ]
  },
  {
   "attachments": {},
   "cell_type": "markdown",
   "metadata": {},
   "source": [
    "Dado que las clases son solo plantillas de objetos, también **puedes crear varios objetos utilizando la misma clase**:"
   ]
  },
  {
   "cell_type": "code",
   "execution_count": 25,
   "metadata": {},
   "outputs": [
    {
     "name": "stdout",
     "output_type": "stream",
     "text": [
      "Creando alumno Angel Mateo...\n",
      "Creando alumno Mauricio Jesus...\n",
      "Angel Mateo\n",
      "Mauricio Jesus\n"
     ]
    }
   ],
   "source": [
    "alumno1 = Alumno(\"Angel Mateo\",'Hernandez')\n",
    "\n",
    "alumno2 = Alumno(\"Mauricio Jesus\",'Mendez')\n",
    "\n",
    "print(alumno1.nombre)\n",
    "print(alumno2.nombre)"
   ]
  },
  {
   "attachments": {},
   "cell_type": "markdown",
   "metadata": {},
   "source": [
    "También puedes **cambiar la propiedad de un objeto** directamente:"
   ]
  },
  {
   "cell_type": "code",
   "execution_count": 26,
   "metadata": {},
   "outputs": [],
   "source": [
    "alumno1.nombre = 'Ángel Mateo'  "
   ]
  },
  {
   "cell_type": "code",
   "execution_count": 27,
   "metadata": {},
   "outputs": [
    {
     "name": "stdout",
     "output_type": "stream",
     "text": [
      "Ángel Mateo\n"
     ]
    }
   ],
   "source": [
    "\n",
    "print(alumno1.nombre)"
   ]
  },
  {
   "attachments": {},
   "cell_type": "markdown",
   "metadata": {},
   "source": [
    "#### **Observación:**\n",
    "\n",
    "A diferencia de otros lenguajes, en los que está permitido implementar más de un constructor, en Python solo se puede definir un método `__init__()`."
   ]
  },
  {
   "attachments": {},
   "cell_type": "markdown",
   "metadata": {},
   "source": [
    "En resumen, el método __init__ es un constructor en Python que se invoca automáticamente al crear una instancia de una clase y se utiliza para inicializar los atributos de un objeto recién creado."
   ]
  },
  {
   "attachments": {},
   "cell_type": "markdown",
   "metadata": {},
   "source": [
    "**Ejemplo:** Cuando pensamos en un alumno, seguramente nos preguntamos por su nombre, número de matricula, su edad,  la carrera que estudia, el campus de la UMAR en el que se encuentra inscrito, etc. \n",
    "<!-- \n",
    "Pues todo lo que acabo de describir viene a ser una clase y cada uno de los de coches que has imaginado, serían objetos de dicha clase. -->"
   ]
  },
  {
   "cell_type": "code",
   "execution_count": 28,
   "metadata": {},
   "outputs": [],
   "source": [
    "class Alumno: # class es la palabra reservada para definir una clase\n",
    "    \"\"\"Esta clase define las propiedades y el comportamiento de un estudiante \"\"\" #Docsstring\n",
    "    \n",
    "    # Constructor de la clase.  El método __init__ es llamado al crear el objeto\n",
    "    def __init__(self,nombre, carrera):\n",
    "\n",
    "        print(f'Creando alumno {nombre} de la carrera {carrera}')\n",
    "        \n",
    "        # Atributos de la instacia\n",
    "        self.nombre=nombre          \n",
    "        self.carrera=carrera"
   ]
  },
  {
   "cell_type": "code",
   "execution_count": 29,
   "metadata": {},
   "outputs": [
    {
     "name": "stdout",
     "output_type": "stream",
     "text": [
      "Creando alumno Pablo Jorge de la carrera Matematicas Aplicadas\n",
      "Pablo Jorge\n",
      "Matematicas Aplicadas\n"
     ]
    }
   ],
   "source": [
    "alumno1 = Alumno('Pablo Jorge','Matematicas Aplicadas')\n",
    "print(alumno1.nombre)\n",
    "print(alumno1.carrera)"
   ]
  },
  {
   "attachments": {},
   "cell_type": "markdown",
   "metadata": {},
   "source": [
    "En la  línea 2 del código anterior, el objeto `alumno1` está referenciando al *atributo de instancia* `nombre` y en la  línea 3  al atributo `carrera`."
   ]
  },
  {
   "attachments": {},
   "cell_type": "markdown",
   "metadata": {},
   "source": [
    "**Observacón:** Todos los objetos de tipo `Alumno()` pueden referenciar a los atributos de instancia  `nombre` o `carrera` por ejemplo. Son inicializados para cada objeto en el método `__init__()`."
   ]
  },
  {
   "attachments": {},
   "cell_type": "markdown",
   "metadata": {},
   "source": [
    "### Definiendo atributos de clase"
   ]
  },
  {
   "attachments": {},
   "cell_type": "markdown",
   "metadata": {},
   "source": [
    " Ahora vamos a **definir un atributo de clase**, que será común para todos los Alumnos. Por ejemplo, todos nuestros estudiantes estudian en la UMAR, es algo común para todos los objetos `Alumno`."
   ]
  },
  {
   "cell_type": "code",
   "execution_count": null,
   "metadata": {},
   "outputs": [],
   "source": [
    "class Alumno: # class es la palabra reservada para definir una clase\n",
    "    \"\"\"Esta clase define las propiedades y el comportamiento de un estudiante \"\"\" #Docsstring\n",
    "\n",
    "    # Atributo de clase\n",
    "    universidad = \"UMAR\"\n",
    "\n",
    "    # Constructor de la clase.  El método __init__ es llamado al crear el objeto\n",
    "    def __init__(self,nombre, carrera):\n",
    "\n",
    "        print(f'Creando alumno {nombre} de la carrera {carrera}')\n",
    "        \n",
    "        # Atributos de la instacia\n",
    "        self.nombre=nombre          \n",
    "        self.carrera=carrera"
   ]
  },
  {
   "attachments": {},
   "cell_type": "markdown",
   "metadata": {},
   "source": [
    "Así de facil, hemos definido una clase, llamada `Alumno`  que contiene un ***atributo de clase*** llamada `universidad` que tiene como valor predeterminado la cadena:  `'UMAR'`.\n",
    "\n",
    "Dado que es un atributo de clase, no es necesario crear un objeto para acceder al atributos. Podemos hacer lo siguiente."
   ]
  },
  {
   "cell_type": "code",
   "execution_count": null,
   "metadata": {},
   "outputs": [],
   "source": [
    "print(Alumno.universidad)"
   ]
  },
  {
   "attachments": {},
   "cell_type": "markdown",
   "metadata": {},
   "source": [
    "Se puede acceder también al atributo de clase desde el objeto."
   ]
  },
  {
   "cell_type": "code",
   "execution_count": null,
   "metadata": {},
   "outputs": [],
   "source": [
    "alumno1 = Alumno(\"Angel Mateo\",'Actuaría')\n",
    "\n",
    "alumno2 = Alumno(\"Mauricio Jesus\", 'Computación')\n",
    "\n",
    "print(alumno1.nombre)\n",
    "print(alumno1.universidad)\n",
    "print(alumno2.nombre)\n",
    "print(alumno2.universidad)\n"
   ]
  },
  {
   "attachments": {},
   "cell_type": "markdown",
   "metadata": {},
   "source": [
    "De esta manera, todos los objetos que se creen de la clase *Alumno* compartirán ese atributo de clase, ya que pertenecen a la misma. "
   ]
  },
  {
   "attachments": {},
   "cell_type": "markdown",
   "metadata": {},
   "source": [
    "## Métodos"
   ]
  },
  {
   "attachments": {},
   "cell_type": "markdown",
   "metadata": {},
   "source": [
    "### Definiendo métodos "
   ]
  },
  {
   "attachments": {},
   "cell_type": "markdown",
   "metadata": {},
   "source": [
    "En realidad cuando usamos `__init__` anteriormente ya estábamos definiendo un método, solo que uno especial. A continuación vamos a ver como definir métodos que le den alguna funcionalidad interesante a nuestra clase, siguiendo con el ejemplo de *Alumno*.\n",
    "\n",
    "Los **métodos** son las funciones que se definen dentro de una clase y que, por consiguiente, pueden ser referenciadas por los objetos de dicha clase. Sin embargo, realmente los métodos son algo más. Por ejemplo, en nuestra clase `alumno` definiremos las funciones `saludo( )` y `cambiar_carrera()`."
   ]
  },
  {
   "cell_type": "code",
   "execution_count": 45,
   "metadata": {},
   "outputs": [],
   "source": [
    "class Alumno: # class es la palabra reservada para definir una clase\n",
    "    \"\"\"Esta clase define las propiedades y el comportamiento de un estudiante \"\"\" #Docsstring\n",
    "    \n",
    "    # Constructor de la clase\n",
    "    def __init__(self,nombre,carrera):\n",
    "        self.nombre = nombre        \n",
    "        self.carrera = carrera\n",
    "    \n",
    "    #Métodos\n",
    "    def saludo(self):\n",
    "        print('Hola ' + self.nombre)\n",
    "\n",
    "    def cambiar_carrera(self,nueva_carrera):\n",
    "        self.carrera = nueva_carrera"
   ]
  },
  {
   "attachments": {},
   "cell_type": "markdown",
   "metadata": {},
   "source": [
    "Observemos que cuando se usa la función `saludo( )` no se introduce ningún argumento. Sin embargo, en la definición  de la función `saludo` se tiene un argumento: `self` ¿Qué está pasando entonces? resulta  que `saludo( )` está al estar siendo utilizada como un método por los objetos de la clase `Alumno`, es necesario que cuando un objeto referencia a dicha función,  pase su propia referencia como primer parámetro de la función."
   ]
  },
  {
   "attachments": {},
   "cell_type": "markdown",
   "metadata": {},
   "source": [
    "Similarmente si se llama al método `actualizar_carrera()`, se observa que se ingresa sólo un argumento `carrera` y a diferencia de la función `saludo` esta función si modifica las propiedades del objeto, dado que cambia la `carrera`. Este hecho lo puedes apreciar cuando se vuelve a referenciar al atributo `carrera`."
   ]
  },
  {
   "attachments": {},
   "cell_type": "markdown",
   "metadata": {},
   "source": [
    "El siguiente código muestra **dos formas diferentes y equivalentes de llamar al método** `saludo()`:"
   ]
  },
  {
   "cell_type": "code",
   "execution_count": null,
   "metadata": {},
   "outputs": [],
   "source": [
    "alumno1.saludo()\n",
    "\n",
    "Alumno.saludo(alumno2)"
   ]
  },
  {
   "cell_type": "code",
   "execution_count": 48,
   "metadata": {},
   "outputs": [
    {
     "name": "stdout",
     "output_type": "stream",
     "text": [
      "Hola Angel Mateo\n",
      "Actuaría\n",
      "Matemáticas Aplicadas\n"
     ]
    }
   ],
   "source": [
    "alumno1 = Alumno(\"Angel Mateo\",'Actuaría')\n",
    "alumno2 = Alumno(\"Mauricio Jesus\", 'Computación') \n",
    "\n",
    "alumno1.saludo()\n",
    "print(alumno1.carrera)\n",
    "#alumno2.saludo()\n",
    "\n",
    "alumno1.cambiar_carrera('Matemáticas Aplicadas')\n",
    "print(alumno1.carrera)\n",
    "\n",
    "\n"
   ]
  },
  {
   "attachments": {},
   "cell_type": "markdown",
   "metadata": {},
   "source": [
    "**Observación:** Para la clase `Alumno`, `saludo()` es una función. Sin embargo, para los objetos de la clase `Alumno`, `saludo( )` es un método."
   ]
  },
  {
   "cell_type": "code",
   "execution_count": 49,
   "metadata": {},
   "outputs": [
    {
     "name": "stdout",
     "output_type": "stream",
     "text": [
      "<class 'function'>\n",
      "<class 'method'>\n"
     ]
    }
   ],
   "source": [
    "print(type(Alumno.saludo))\n",
    "\n",
    "print(type(alumno1.saludo))"
   ]
  }
 ],
 "metadata": {
  "kernelspec": {
   "display_name": "Python 3",
   "language": "python",
   "name": "python3"
  },
  "language_info": {
   "codemirror_mode": {
    "name": "ipython",
    "version": 3
   },
   "file_extension": ".py",
   "mimetype": "text/x-python",
   "name": "python",
   "nbconvert_exporter": "python",
   "pygments_lexer": "ipython3",
   "version": "3.11.2"
  },
  "orig_nbformat": 4
 },
 "nbformat": 4,
 "nbformat_minor": 2
}
