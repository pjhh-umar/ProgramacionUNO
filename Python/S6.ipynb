{
 "cells": [
  {
   "attachments": {},
   "cell_type": "markdown",
   "metadata": {},
   "source": [
    "# Diccionarios en Python"
   ]
  },
  {
   "attachments": {},
   "cell_type": "markdown",
   "metadata": {},
   "source": [
    "Los diccionarios en Python son una estructura de datos que permite almacenar contenido en forma de **llave** y **valor**."
   ]
  },
  {
   "attachments": {},
   "cell_type": "markdown",
   "metadata": {},
   "source": [
    "Un diccionario en Python es una colección de elementos, donde cada elemento  tiene una **llave** `key` y un **valor** `value`. Los diccionarios se pueden crear con paréntesis {} separando con una coma cada par key: value. "
   ]
  },
  {
   "attachments": {},
   "cell_type": "markdown",
   "metadata": {},
   "source": [
    "## Propiedades de los diccionario en Python son las siguientes:"
   ]
  },
  {
   "attachments": {},
   "cell_type": "markdown",
   "metadata": {},
   "source": [
    "\n",
    "* Son **dinámicos**, se pueden añadir o eliminar elementos.\n",
    "\n",
    "* Son **indexados**, los elementos del diccionario son accesibles a través del `key`.\n",
    "\n",
    "* Son **anidados**, un diccionario puede contener a otro diccionario en su campo `value`."
   ]
  },
  {
   "attachments": {},
   "cell_type": "markdown",
   "metadata": {},
   "source": [
    "## Crear diccionario Python"
   ]
  },
  {
   "attachments": {},
   "cell_type": "markdown",
   "metadata": {},
   "source": [
    "### Método 1"
   ]
  },
  {
   "cell_type": "code",
   "execution_count": 1,
   "metadata": {},
   "outputs": [
    {
     "name": "stdout",
     "output_type": "stream",
     "text": [
      "<class 'dict'>\n",
      "{'Nombre': 'Sara', 'Edad': 27}\n"
     ]
    }
   ],
   "source": [
    "diccionario1 = {\"Nombre\": \"Sara\", \"Edad\": 27}\n",
    "print(type(diccionario1))\n",
    "print(diccionario1)"
   ]
  },
  {
   "attachments": {},
   "cell_type": "markdown",
   "metadata": {},
   "source": [
    "### Método 2"
   ]
  },
  {
   "attachments": {},
   "cell_type": "markdown",
   "metadata": {},
   "source": [
    "Otra forma equivalente de crear un diccionario en Python es usando el constructor `dict( )` e introduciendo los pares *key:value* entre paréntesis."
   ]
  },
  {
   "attachments": {},
   "cell_type": "markdown",
   "metadata": {},
   "source": [
    "Las pares *key-value* pueden ser tuplas:"
   ]
  },
  {
   "cell_type": "code",
   "execution_count": 2,
   "metadata": {},
   "outputs": [
    {
     "name": "stdout",
     "output_type": "stream",
     "text": [
      "{'Nombre': 'Sara', 'Edad': 27}\n"
     ]
    }
   ],
   "source": [
    "#diccionario2 = dict([(\"Nombre\",\"Sara\"),(\"Edad\", 27)])\n",
    "diccionario2 = dict(((\"Nombre\",\"Sara\"),(\"Edad\", 27)))\n",
    "print(diccionario2)"
   ]
  },
  {
   "attachments": {},
   "cell_type": "markdown",
   "metadata": {},
   "source": [
    "Las pares *key-value* pueden ser listas:"
   ]
  },
  {
   "cell_type": "code",
   "execution_count": 3,
   "metadata": {},
   "outputs": [
    {
     "name": "stdout",
     "output_type": "stream",
     "text": [
      "{'Nombre': 'Sara', 'Edad': 27}\n"
     ]
    }
   ],
   "source": [
    "#diccionario3 = dict(([\"Nombre\",\"Sara\"],[\"Edad\", 27]))\n",
    "diccionario3 = dict([[\"Nombre\",\"Sara\"],[\"Edad\", 27]])\n",
    "print(diccionario3)"
   ]
  },
  {
   "attachments": {},
   "cell_type": "markdown",
   "metadata": {},
   "source": []
  },
  {
   "attachments": {},
   "cell_type": "markdown",
   "metadata": {},
   "source": [
    "### Método 3"
   ]
  },
  {
   "attachments": {},
   "cell_type": "markdown",
   "metadata": {},
   "source": [
    "Otra forma de utilizar el constructor `dict` para crear un diccionario es el siguiente: "
   ]
  },
  {
   "cell_type": "code",
   "execution_count": 4,
   "metadata": {},
   "outputs": [
    {
     "name": "stdout",
     "output_type": "stream",
     "text": [
      "{'Nombre': 'Sara', 'Edad': 27}\n"
     ]
    }
   ],
   "source": [
    "diccionario3 = dict(Nombre='Sara', Edad=27)\n",
    "print(diccionario3)"
   ]
  },
  {
   "attachments": {},
   "cell_type": "markdown",
   "metadata": {},
   "source": [
    "**Observación:** En este último método los *keys* no son cadenas. "
   ]
  },
  {
   "attachments": {},
   "cell_type": "markdown",
   "metadata": {},
   "source": [
    "## Acceder, modificar y agregar nuevos elementos"
   ]
  },
  {
   "attachments": {},
   "cell_type": "markdown",
   "metadata": {},
   "source": [
    "Se puede **acceder a los elementos** de un diccionario  utilizando el key asociado `[key]` o también con la función `get()`"
   ]
  },
  {
   "cell_type": "code",
   "execution_count": 5,
   "metadata": {},
   "outputs": [
    {
     "name": "stdout",
     "output_type": "stream",
     "text": [
      "Sara\n"
     ]
    }
   ],
   "source": [
    "diccionario1 = {\"Nombre\": \"Sara\", \"Edad\": 27}\n",
    "#print(diccionario1['Nombre'])\n",
    "#print(diccionario1['Edad'])\n",
    "\n",
    "print(diccionario1.get('Nombre')) "
   ]
  },
  {
   "attachments": {},
   "cell_type": "markdown",
   "metadata": {},
   "source": [
    "Para **modificar un elemento** basta con usar `[ ]` con el nombre del `key` y asignar el `valor` que queremos."
   ]
  },
  {
   "cell_type": "code",
   "execution_count": 6,
   "metadata": {},
   "outputs": [
    {
     "name": "stdout",
     "output_type": "stream",
     "text": [
      "{'Nombre': 'Laura', 'Edad': 27}\n"
     ]
    }
   ],
   "source": [
    "nombre='Laura'\n",
    "diccionario1['Nombre'] = nombre\n",
    "print(diccionario1)"
   ]
  },
  {
   "attachments": {},
   "cell_type": "markdown",
   "metadata": {},
   "source": [
    "**Si el `key` al que accedemos no existe, se añade automáticamente.**"
   ]
  },
  {
   "cell_type": "code",
   "execution_count": 7,
   "metadata": {},
   "outputs": [
    {
     "ename": "KeyError",
     "evalue": "'Direccion'",
     "output_type": "error",
     "traceback": [
      "\u001b[0;31m---------------------------------------------------------------------------\u001b[0m",
      "\u001b[0;31mKeyError\u001b[0m                                  Traceback (most recent call last)",
      "Cell \u001b[0;32mIn[7], line 1\u001b[0m\n\u001b[0;32m----> 1\u001b[0m diccionario1[\u001b[39m'\u001b[39;49m\u001b[39mDireccion\u001b[39;49m\u001b[39m'\u001b[39;49m]\u001b[39m.\u001b[39mappend(\u001b[39m\"\u001b[39m\u001b[39mCalle 16\u001b[39m\u001b[39m\"\u001b[39m)\n\u001b[1;32m      2\u001b[0m \u001b[39mprint\u001b[39m(diccionario1)\n",
      "\u001b[0;31mKeyError\u001b[0m: 'Direccion'"
     ]
    }
   ],
   "source": [
    "diccionario1['Direccion'].append(\"Calle 16\")\n",
    "print(diccionario1)"
   ]
  },
  {
   "attachments": {},
   "cell_type": "markdown",
   "metadata": {},
   "source": [
    "## Eliminar una entrada"
   ]
  },
  {
   "attachments": {},
   "cell_type": "markdown",
   "metadata": {},
   "source": [
    "Una entrada en el diccionario puede ser removida usando uno de los siguientes métodos:"
   ]
  },
  {
   "attachments": {},
   "cell_type": "markdown",
   "metadata": {},
   "source": [
    "### Método 1:"
   ]
  },
  {
   "attachments": {},
   "cell_type": "markdown",
   "metadata": {},
   "source": [
    "El método **pop(`key`)** elimina la entrada con la clave especificada. Este método devuelve el valor de la clave que se está eliminando. Si la clave no está presente, se devolverá un valor predeterminado (si se ha establecido mediante `setdefault()`). Si no se ha establecido un valor predeterminado, se generará un error."
   ]
  },
  {
   "cell_type": "code",
   "execution_count": null,
   "metadata": {},
   "outputs": [],
   "source": [
    "diccionario =  {'nombre': 'Antonio', 'apellido': 'López', 'edad': 45}\n",
    "print(diccionario)\n",
    "\n",
    "\n",
    "print(diccionario.pop('edad'))\n",
    "print(diccionario)\n",
    "\n"
   ]
  },
  {
   "attachments": {},
   "cell_type": "markdown",
   "metadata": {},
   "source": [
    "### Método 2"
   ]
  },
  {
   "attachments": {},
   "cell_type": "markdown",
   "metadata": {},
   "source": [
    "El método **popitem()** elimina el último elemento insertado en el diccionario (¡aunque antes de Python 3.7 se eliminó un elemento aleatorio en el diccionario!). El par `key-value` que se elimina se devuelve desde el método."
   ]
  },
  {
   "cell_type": "code",
   "execution_count": null,
   "metadata": {},
   "outputs": [],
   "source": [
    "diccionario =  {'nombre': 'Antonio', 'apellido': 'López', 'edad': 45}\n",
    "print(diccionario)\n",
    "\n",
    "print(diccionario.popitem())\n",
    "print(diccionario)"
   ]
  },
  {
   "attachments": {},
   "cell_type": "markdown",
   "metadata": {},
   "source": [
    "### Método 3"
   ]
  },
  {
   "attachments": {},
   "cell_type": "markdown",
   "metadata": {},
   "source": [
    "La palabra clave `del` elimina la entrada con la `key` especificada del diccionario. Esta palabra clave simplemente elimina el elemento; no devuelve el valor asociado. Es potencialmente más eficiente que **pop(`key`)**."
   ]
  },
  {
   "cell_type": "code",
   "execution_count": null,
   "metadata": {},
   "outputs": [],
   "source": [
    "diccionario =  {'nombre': 'Antonio', 'apellido': 'López', 'edad': 45}\n",
    "print(diccionario)\n",
    "\n",
    "del diccionario['edad']\n",
    "print(diccionario)"
   ]
  },
  {
   "attachments": {},
   "cell_type": "markdown",
   "metadata": {},
   "source": [
    "## Iterar diccionario"
   ]
  },
  {
   "attachments": {},
   "cell_type": "markdown",
   "metadata": {},
   "source": [
    "Los diccionarios se pueden iterar de manera muy similar a las listas u otras estructuras de datos. Para imprimir los key. En el siguiente código imprime los *key* del diccionario:"
   ]
  },
  {
   "cell_type": "code",
   "execution_count": null,
   "metadata": {},
   "outputs": [],
   "source": [
    "diccionario1 = {\"Nombre\": \"Sara\", \"Edad\": 27}\n",
    "for x in diccionario1:\n",
    "    print(x)"
   ]
  },
  {
   "attachments": {},
   "cell_type": "markdown",
   "metadata": {},
   "source": [
    "Se puede imprimir también sólo el *value*."
   ]
  },
  {
   "cell_type": "code",
   "execution_count": null,
   "metadata": {},
   "outputs": [],
   "source": [
    "for x in diccionario1:\n",
    "    print(diccionario1[x])"
   ]
  },
  {
   "attachments": {},
   "cell_type": "markdown",
   "metadata": {},
   "source": [
    "O si queremos imprimir el *key* y el *value* a la vez."
   ]
  },
  {
   "cell_type": "code",
   "execution_count": null,
   "metadata": {},
   "outputs": [],
   "source": [
    "for x, y in diccionario1.items():\n",
    "    print(x, y)"
   ]
  },
  {
   "attachments": {},
   "cell_type": "markdown",
   "metadata": {},
   "source": [
    "## Diccionarios anidados"
   ]
  },
  {
   "attachments": {},
   "cell_type": "markdown",
   "metadata": {},
   "source": [
    "Los diccionarios en Python pueden contener uno dentro de otro. Podemos ver como los valores anidado uno y dos del diccionario d contienen a su vez otro diccionario."
   ]
  },
  {
   "cell_type": "code",
   "execution_count": null,
   "metadata": {},
   "outputs": [],
   "source": [
    "d1 = {\"a\": 1, \"b\": 2}\n",
    "\n",
    "d2 = {\"c\": 3, \"d\": 4}\n",
    "\n",
    "diccionario = {\"diccionario1\" : d1, \"diccionario2\" : d2}\n",
    "\n",
    "print(diccionario)"
   ]
  },
  {
   "attachments": {},
   "cell_type": "markdown",
   "metadata": {},
   "source": [
    "## Crear un diccionario vacio\n",
    "\n",
    "Para crear un conjunto vacío, simplemente llama al constructor `set( )` sin parámetros. `{ }` **NO crea un conjunto vacío, sino un diccionario vacío.** Usa `set( )` si quieres crear un conjunto sin elementos."
   ]
  },
  {
   "attachments": {},
   "cell_type": "markdown",
   "metadata": {},
   "source": [
    "## Métodos de diccionarios en Python"
   ]
  },
  {
   "attachments": {},
   "cell_type": "markdown",
   "metadata": {},
   "source": [
    "<table >\n",
    "<tr>\n",
    "<td><b><tt>len(D)</tt></b>\n",
    "<td>Devuelve la longitud del diccionario <tt>D</tt>.\n",
    "<tr>\n",
    "<td><b><tt>D[k]</tt></b>\n",
    "<td>Devuelve el valor de la clave <tt>k</tt> del diccionario <tt>D</tt>, <br>\n",
    "o un error si <tt>k</tt> no se encuentra en el diccionario.\n",
    "<tr>\n",
    "<td><b><tt>D[k] = v</tt></b>\n",
    "<td>Asigna el valor <tt>v</tt> a la clave <tt>k</tt> del diccionario <tt>D</tt>.\n",
    "<tr>\n",
    "<td><b><tt>del D[k]</tt></b>\n",
    "<td>Elimina el item <tt>k</tt> del diccionario <tt>D</tt>.\n",
    "<tr>\n",
    "<td><b><tt>k in D</tt></b>\n",
    "<td>Devuelve <tt>True</tt> si <tt>k</tt> es una clave de <tt>D</tt>.\n",
    "<tr>\n",
    "<td><b><tt>D.keys()</tt></b>\n",
    "<td>Devuelve todas las claves en el diccionario <tt>D</tt>.\n",
    "<tr>\n",
    "<td><b><tt>D.values()</tt></b>\n",
    "<td>Devuelve todos los valores en el diccionario <tt>D</tt>.\n",
    "<tr>\n",
    "<td><b><tt>D.items()</tt></b>\n",
    "<td>Devuelve tuples <tt>(clave, valor)</tt> por cada ítem en el diccionario <tt>D</tt>.\n",
    "<tr>\n",
    "<td><b><tt>D.clear()</tt></b>\n",
    "<td>Borra todos los ítem en el diccionario <tt>D</tt>.\n",
    "<tr>\n",
    "<td><b><tt>D.copy()</tt></b>\n",
    "<td>Devuelve una copia del diccionario <tt>D</tt>.\n",
    "<tr>\n",
    "<td><b><tt>D1.update(D2)</tt></b>\n",
    "<td>Fusiona todas las entradas de <tt>D2</tt> en <tt>D1</tt>. Similar a<br>\n",
    "<tt>for (k, v) in D2.items(): D1[k] = v</tt>.\n",
    "<tr>\n",
    "<td><b><tt>D.get(k [, default])</tt></b>\n",
    "<td>Similar a <tt>D[k]</tt>, pero si <tt>k</tt> no se encuentra en el diccionario devuelve<br>\n",
    "el default (o <tt>None</tt> si no hay default) en vez de dar un error.\n",
    "<tr>\n",
    "<td><b><tt>D.setdefault(k, [, default])</tt></b>\n",
    "<td>Similar a <tt>D.get(key, default)</tt>, pero además asigna la clave <tt>k</tt><br>\n",
    "al valor por default si no se encuentra en el diccionario.\n",
    "<tr>\n",
    "<td><b><tt>D.popitem()</tt></b>\n",
    "<td>Devuelve y elimina un par arbitrario <tt>(clave, valor)</tt>.\n",
    "<tr>\n",
    "<td><b><tt>D.pop(k [, default])</tt></b>\n",
    "<td>Si <tt>k</tt> se encuentra en el diccionario, devuelve <tt>D[k]</tt> y borra <tt>k</tt>.<br>\n",
    "De lo contrario, devuelve el default.\n",
    "<tr>\n",
    "<td><b><tt>D.fromkeys(seq [, value])</tt></b>\n",
    "<td>Crea un nuevo diccionario con claves a partir de una secuencia <tt>seq</tt><br>\n",
    "y con valores asignados a <tt>value</tt>.\n",
    "</table>"
   ]
  },
  {
   "attachments": {},
   "cell_type": "markdown",
   "metadata": {},
   "source": [
    "# Archivos en Python "
   ]
  },
  {
   "attachments": {},
   "cell_type": "markdown",
   "metadata": {},
   "source": [
    "Al igual que en otros lenguajes de programación, en Python es posible **abrir archivos de texto** y **leer su contenido**. Los archivos o archivos pueden ser de lo más variado, desde un simple texto a contenido binario. Ahora nos veremos como **leer un archivo de texto**."
   ]
  },
  {
   "attachments": {},
   "cell_type": "markdown",
   "metadata": {},
   "source": [
    "## Abrir archivos en Python"
   ]
  },
  {
   "attachments": {},
   "cell_type": "markdown",
   "metadata": {},
   "source": [
    "Imagínate  que tienes un archivo de texto con  datos, como podría ser un **.txt** o un **.csv**, y quieres leer su contenido para realizar algún tipo de operaciones sobre el mismo."
   ]
  },
  {
   "attachments": {},
   "cell_type": "markdown",
   "metadata": {},
   "source": [
    "Podemos utilizar la función `open( )` para abrir el archivo que queremos abrir pasando como *argumento* el nombre o la ruta del archivo."
   ]
  },
  {
   "cell_type": "code",
   "execution_count": null,
   "metadata": {},
   "outputs": [],
   "source": [
    "archivo = open('../Python/Archivos/archivo.txt')"
   ]
  },
  {
   "attachments": {},
   "cell_type": "markdown",
   "metadata": {},
   "source": [
    "La función `open()` retorna un ***objeto file***. Los objetos file contienen métodos y atributos que se usan para recolectar información sobre el archivo que acabamos de abrir, así como también para manipular dicho archivo."
   ]
  },
  {
   "attachments": {},
   "cell_type": "markdown",
   "metadata": {},
   "source": [
    "## `encoding='utf-8'`"
   ]
  },
  {
   "attachments": {},
   "cell_type": "markdown",
   "metadata": {},
   "source": [
    "`encoding='utf-8'` es un parámetro utilizado en Python para especificar la codificación de caracteres que se utilizará al leer o escribir archivos de texto."
   ]
  },
  {
   "cell_type": "code",
   "execution_count": 1,
   "metadata": {},
   "outputs": [],
   "source": [
    "archivo = open('../Python/Archivos/archivo.txt', encoding='utf-8')"
   ]
  },
  {
   "attachments": {},
   "cell_type": "markdown",
   "metadata": {},
   "source": [
    "En el código anterior el parámetro ***encoding='utf-8'*** se utiliza al abrir un archivo en Python para asegurarse de que se esté utilizando la codificación de caracteres correcta para leer el archivo. Si el archivo está codificado en **UTF-8**, especificar `encoding='utf-8'` garantiza que Python lo lea correctamente."
   ]
  },
  {
   "attachments": {},
   "cell_type": "markdown",
   "metadata": {},
   "source": [
    "## Modo de apertura de los archivos: Argumentos de `open()`"
   ]
  },
  {
   "attachments": {},
   "cell_type": "markdown",
   "metadata": {},
   "source": [
    "La función `open()` tiene un segundo parametro opcional que es importante especificar para indicar el modo en que se abrirá el archivo. Se trata del **modo de apertura del archivo**. Los principales modos de apertura son:"
   ]
  },
  {
   "attachments": {},
   "cell_type": "markdown",
   "metadata": {},
   "source": [
    "* **Modo sólo  lectura** `‘r’`: Este es el valor por defecto para el segundo parámetro, en este caso no es posible realizar modificaciones sobre el archivo, solamente leer su contenido del archivo.\n",
    "  \n",
    "* **Modo sólo escritura** `‘w’`: En este caso el archivo es \"vaciado\" si es que ya existiera, y se crea uno nuevo con el nombre indicado si no existe aún el archivo.\n",
    "  \n",
    "  \n",
    "* **Modo sólo escritura posicionándose al final del archivo** `‘a’`: En este caso se crea el archivo, si no existe, pero en caso de que exista se posiciona al final, manteniendo el contenido original. El archivo se abre para añadir contenido a un archivo ya existente.\n",
    "  \n"
   ]
  },
  {
   "attachments": {},
   "cell_type": "markdown",
   "metadata": {},
   "source": [
    "Por otro lado, en cualquiera de estos modos se puede agregar un `+` para pasar a un **modo lectura-escritura**. Sin embargo, observa que el comportamiento de `r+` y de `w+` no es el mismo, ya que en el primer caso se tiene el archivo completo, y en el segundo caso se vacia el archivo, perdiendo así los datos."
   ]
  },
  {
   "attachments": {},
   "cell_type": "markdown",
   "metadata": {},
   "source": [
    "Aunque el modo `r` sea por defecto, es una buena práctica indicarlo para darle a entender a otras personas que lean nuestro código que no queremos modificarlo, tan solo leerlo. Por lo tanto lo estrictamete correcto si queremos sólo leer el archivo sería hacer lo siguiente. "
   ]
  },
  {
   "cell_type": "code",
   "execution_count": null,
   "metadata": {},
   "outputs": [],
   "source": [
    "archivo = open('../Python/Archivos/archivo.txt','r')"
   ]
  },
  {
   "attachments": {},
   "cell_type": "markdown",
   "metadata": {},
   "source": [
    "**Observaciones:**\n",
    "\n",
    "* Si un archivo no existe y se lo intenta abrir en modo lectura, se generará un error; en cambio si se lo abre para escritura, Python se encargará de crear el archivo al momento de abrirlo, ya sea con `w`, `a`, `w+` o con `a+`).\n",
    "\n",
    "* Si un archivo existente se abre en modo escritura (`w` o `w+`), todos los datos anteriores son borrados y reemplazados por lo que se escriba en él."
   ]
  },
  {
   "attachments": {},
   "cell_type": "markdown",
   "metadata": {},
   "source": [
    "Otros modos de apertura de un documento son:\n",
    "\n",
    "* `‘x’`: Para crear de un archivo nuevo, devuelve un error si ya existe un archivo con el mismo nombre especificado.\n",
    "\n",
    "* `‘b’`: Para abrir el archivo en modo binario."
   ]
  },
  {
   "attachments": {},
   "cell_type": "markdown",
   "metadata": {},
   "source": [
    "## Leer archivos en Python"
   ]
  },
  {
   "attachments": {},
   "cell_type": "markdown",
   "metadata": {},
   "source": [
    "La operación más sencilla a realizar sobre un archivo es leer su contenido. Podemos realizar esto mediante diferentes métodos."
   ]
  },
  {
   "attachments": {},
   "cell_type": "markdown",
   "metadata": {},
   "source": [
    "### Método 1:  `read( )`"
   ]
  },
  {
   "attachments": {},
   "cell_type": "markdown",
   "metadata": {},
   "source": [
    "Con `open()` tendremos ya en archivo el contenido del documento listo para usar, y podemos imprimir su contenido con `read( )`. El siguiente código imprime todo el archivo."
   ]
  },
  {
   "cell_type": "code",
   "execution_count": null,
   "metadata": {},
   "outputs": [],
   "source": [
    "archivo = open('../Python/Archivos/archivo.txt','r')\n",
    "contenido = archivo.read()\n",
    "print(contenido)"
   ]
  },
  {
   "attachments": {},
   "cell_type": "markdown",
   "metadata": {},
   "source": [
    "### Método 2:  `readline( )`"
   ]
  },
  {
   "attachments": {},
   "cell_type": "markdown",
   "metadata": {},
   "source": [
    "Es posible también **leer un número de líneas determinado** y no todo el archivo de golpe. Para ello hacemos uso de la función `readline( )`. Cada vez que se llama a la función, se lee una línea."
   ]
  },
  {
   "cell_type": "code",
   "execution_count": null,
   "metadata": {},
   "outputs": [],
   "source": [
    "archivo = open('../Python/Archivos/archivo.txt')\n",
    "linea_archivo = archivo.readline()\n",
    "print(linea_archivo, end=\"\")\n",
    "linea_archivo = archivo.readline()\n",
    "print(linea_archivo)\n"
   ]
  },
  {
   "attachments": {},
   "cell_type": "markdown",
   "metadata": {},
   "source": [
    "Esto funciona ya que cada archivo que se encuentre abierto tiene una posición asociada, que indica el último punto que fue leido. Cada vez que se lee una línea, avanza esa posición. Es por ello que `readline()` devuelve cada vez una línea distinta y no siempre la misma."
   ]
  },
  {
   "attachments": {},
   "cell_type": "markdown",
   "metadata": {},
   "source": [
    "**Observación:** Es muy importante saber que **una vez hayas leído todas las línea del archivo, la función ya no devolverá nada, porque se habrá llegado al final**. Si quieres que `readline( )` funcione otra vez, podrías por ejemplo volver a leer el archivo con `open()`. "
   ]
  },
  {
   "attachments": {},
   "cell_type": "markdown",
   "metadata": {},
   "source": [
    "El método `readline()` lee línea por línea el archivo. Podemos utilizar un bucle `while` para leer líneas mientras que no se haya llegado al final. Es por eso por lo que comparamos **linea != ''**, ya que se devuelve un string vació cuando se ha llegado al final."
   ]
  },
  {
   "cell_type": "code",
   "execution_count": null,
   "metadata": {},
   "outputs": [],
   "source": [
    "archivo = open('../Python/Archivos/archivo.txt')\n",
    "linea = archivo.readline()\n",
    "while linea != '':\n",
    "        print(linea, end='')\n",
    "        linea = archivo.readline()"
   ]
  },
  {
   "attachments": {},
   "cell_type": "markdown",
   "metadata": {},
   "source": [
    "Enseguida se presenta una forma equivalente de realizar lo presentado en el ejemplo anterior."
   ]
  },
  {
   "cell_type": "code",
   "execution_count": null,
   "metadata": {},
   "outputs": [],
   "source": [
    "archivo = open('../Python/Archivos/archivo.txt')\n",
    "for linea in archivo:\n",
    "    print(linea, end='')"
   ]
  },
  {
   "attachments": {},
   "cell_type": "markdown",
   "metadata": {},
   "source": [
    "De esta manera, la variable `línea` irá almacenando distintas cadenas correspondientes a cada una de las líneas del archivo."
   ]
  },
  {
   "attachments": {},
   "cell_type": "markdown",
   "metadata": {},
   "source": [
    "####  `readline()` con argumentos: `readline(#)`"
   ]
  },
  {
   "attachments": {},
   "cell_type": "markdown",
   "metadata": {},
   "source": [
    "Otra forma de usar `readline( )` es pasando como argumento un número. Este número **leerá un determinado número de caracteres**. El siguiente código lee todo el archivo carácter por carácter."
   ]
  },
  {
   "cell_type": "code",
   "execution_count": null,
   "metadata": {},
   "outputs": [],
   "source": [
    "archivo = open('../Python/Archivos/archivo.txt')\n",
    "caracter = archivo.readline(1)\n",
    "#print(caracter)\n",
    "while caracter != \"\":\n",
    "    print(caracter)\n",
    "    caracter = archivo.readline(5)\n"
   ]
  },
  {
   "attachments": {},
   "cell_type": "markdown",
   "metadata": {},
   "source": [
    "### Método 3: `readlines( )`"
   ]
  },
  {
   "attachments": {},
   "cell_type": "markdown",
   "metadata": {},
   "source": [
    "Es posible, además, obtener todas las líneas del archivo utilizando una sola llamada a función: `readlines()`, que **devuelve una lista donde cada elemento es una línea del archivo de texto**."
   ]
  },
  {
   "cell_type": "code",
   "execution_count": null,
   "metadata": {},
   "outputs": [],
   "source": [
    "archivo = open('../Python/Archivos/archivo.txt')\n",
    "lineas = archivo.readlines()\n",
    "print(lineas)"
   ]
  },
  {
   "attachments": {},
   "cell_type": "markdown",
   "metadata": {},
   "source": [
    "De manera muy sencilla podemos **iterar las líneas e imprimirlas en pantalla**."
   ]
  },
  {
   "cell_type": "code",
   "execution_count": null,
   "metadata": {},
   "outputs": [],
   "source": [
    "archivo = open('../Python/Archivos/archivo.txt')\n",
    "lineas = archivo.readlines()\n",
    "for linea in lineas:\n",
    "    print(linea)"
   ]
  },
  {
   "attachments": {},
   "cell_type": "markdown",
   "metadata": {},
   "source": [
    "En este caso, la variable `líneas` tendrá una lista de cadenas con todas las líneas del archivo."
   ]
  },
  {
   "attachments": {},
   "cell_type": "markdown",
   "metadata": {},
   "source": [
    "**Observación:** Es importante tener en cuenta que cuando se utilizan el método `readlines()`, se está cargando en memoria el archivo completo. Siempre que una instrucción cargue un archivo completo en memoria debe tenerse cuidado de utilizarla sólo con archivos pequeños, ya que de otro modo podria agotarse la memoria de la computadora."
   ]
  },
  {
   "attachments": {},
   "cell_type": "markdown",
   "metadata": {},
   "source": [
    "## Cerrar archivos"
   ]
  },
  {
   "attachments": {},
   "cell_type": "markdown",
   "metadata": {},
   "source": [
    "Otra cosa que debemos hacer cuando trabajamos con archivos en Python, es **cerrarlos una vez que ya hemos acabado con ellos**. Aunque es verdad que el archivo normalmente acabará siendo cerrado automáticamente, es importante especificarlo para evitar tener comportamientos inesperados.\n",
    "\n",
    "Cuando queremos cerrar un archivo sólo tenemos que usar la función `close()`"
   ]
  },
  {
   "attachments": {},
   "cell_type": "markdown",
   "metadata": {},
   "source": [
    "En **resumen** cuando trabajamos con archivos en Python se siguen en general tres pasos:\n",
    "\n",
    "* Abrir el archivo que queramos. En modo texto se tiene por defecto:  `‘r’`.\n",
    "  \n",
    "* Usamos el archivo para *recopilar* o *procesar* los datos que necesitábamos.\n",
    "\n",
    "* Cuando hayamos acabado, cerramos el archivo implementando la función: `close()` ."
   ]
  },
  {
   "attachments": {},
   "cell_type": "markdown",
   "metadata": {},
   "source": [
    "### Método 1"
   ]
  },
  {
   "cell_type": "code",
   "execution_count": null,
   "metadata": {},
   "outputs": [],
   "source": [
    "archivo = open('../Python/Archivos/archivo.txt','r')\n",
    "\n",
    "archivo.close()"
   ]
  },
  {
   "attachments": {},
   "cell_type": "markdown",
   "metadata": {},
   "source": [
    "### Método 2"
   ]
  },
  {
   "attachments": {},
   "cell_type": "markdown",
   "metadata": {},
   "source": [
    "Existen otras formas de hacerlo, como con el uso de **excepciones** que veremos más adelante. \n",
    "\n",
    "No pasa nada si aún no entiendes pleamente el uso de `try` y `finally`, el bloque de código en la sección `finally` se ejecuta siempre sin importar si hay un error o no. De esta manera el `close( )` siempre será ejecutado."
   ]
  },
  {
   "cell_type": "code",
   "execution_count": null,
   "metadata": {},
   "outputs": [],
   "source": [
    "archivo = open('../Python/Archivos/archivo.txt','r')\n",
    "try:\n",
    "    # Aquí agregas las instrucciones para indicar lo que quieres realizar con el archivo\n",
    "    pass\n",
    "finally:\n",
    "    # Esta sección siempre se ejecuta\n",
    "    archivo.close()"
   ]
  },
  {
   "attachments": {},
   "cell_type": "markdown",
   "metadata": {},
   "source": [
    "### Método 3"
   ]
  },
  {
   "attachments": {},
   "cell_type": "markdown",
   "metadata": {},
   "source": [
    "Y por si no fuera poco, existe otra forma de cerrar el archivo automáticamente. Si hacemos uso de `with()`, el archivo **se cerrará automáticamente una vez se salga de ese bloque de código**."
   ]
  },
  {
   "cell_type": "code",
   "execution_count": null,
   "metadata": {},
   "outputs": [],
   "source": [
    "with open('../Python/Archivos/archivo.txt','r') as archivo:\n",
    "    # Aquí agregas las instrucciones para indicar lo que quieres realizar con el archivo\n",
    "    lineas = archivo.readlines()\n",
    "    for linea in lineas:\n",
    "        print(linea)\n",
    "    pass"
   ]
  },
  {
   "attachments": {},
   "cell_type": "markdown",
   "metadata": {},
   "source": [
    "Como `readlines()` nos devuelve directamente una lista que podemos iterar con las líneas. Podemos utilizar el ciclo `for` de la siguiente manera:"
   ]
  },
  {
   "cell_type": "code",
   "execution_count": null,
   "metadata": {},
   "outputs": [],
   "source": [
    "with open('../Python/Archivos/archivo.txt','r') as archivo:\n",
    "    for linea in archivo.readlines(): \n",
    "        print(linea, end='')"
   ]
  },
  {
   "attachments": {},
   "cell_type": "markdown",
   "metadata": {},
   "source": [
    "Nótese que usamos el `end=''` para decirle a Python que no imprima el salto de línea `\\n` al final del `print`. Pero puede ser simplificado aún más de la siguiente manera."
   ]
  },
  {
   "cell_type": "code",
   "execution_count": null,
   "metadata": {},
   "outputs": [],
   "source": [
    "with open('../Python/Archivos/archivo.txt','r') as archivo:\n",
    "    for linea in archivo:\n",
    "        print(linea, end='')"
   ]
  },
  {
   "attachments": {},
   "cell_type": "markdown",
   "metadata": {},
   "source": [
    "**Observación** Es muy importante el uso de `close()` ya que si dejamos el archivo abierto, podríamos llegar a tener un comportamiento inesperado que queremos evitar. Por lo tanto, siempre que se abre un archivo es necesario cerrarlo cuando hayamos acabado."
   ]
  },
  {
   "attachments": {},
   "cell_type": "markdown",
   "metadata": {},
   "source": [
    "## Escribir en un archivo en Python"
   ]
  },
  {
   "attachments": {},
   "cell_type": "markdown",
   "metadata": {},
   "source": [
    "Imagínate que tienes unos datos que te gustaría guardar en un archivo para su posterior análisis. A continuación veremos como guardarlos en un archivo, por ejemplo, `.txt`."
   ]
  },
  {
   "attachments": {},
   "cell_type": "markdown",
   "metadata": {},
   "source": [
    "Lo primero que debemos de hacer es **crear un objeto para el archivo**, con el nombre que queramos. Además del nombre se puede pasar un segundo parámetro que indica el **modo en el que se tratará el archivo**. \n",
    "\n",
    "* `‘w’`: Borra el archivo si ya existiese y crea uno nuevo con el nombre indicado.\n",
    "* `‘a’`: Añadirá el contenido al final del archivo si ya existiese (append end Inglés)\n",
    "* `‘x’`: Si ya existe el archivo se devuelve un error."
   ]
  },
  {
   "attachments": {},
   "cell_type": "markdown",
   "metadata": {},
   "source": [
    "Por lo tanto con la siguiente línea estamos creando un archivo con el *mi_primer_archivo.txt.*"
   ]
  },
  {
   "cell_type": "code",
   "execution_count": null,
   "metadata": {},
   "outputs": [],
   "source": [
    "archivo = open(\"../Python/Archivos/mi_primer_archivo.txt\", 'w')"
   ]
  },
  {
   "attachments": {},
   "cell_type": "markdown",
   "metadata": {},
   "source": [
    "El uso de `‘x’` hace que si el archivo ya existe se devuelve un error. En el siguiente código intentamos crear un archivo con el mismo nombre: *mi_primer_archivo.txt* con la opción `‘x’`. Por lo tanto se devolverá un error."
   ]
  },
  {
   "cell_type": "code",
   "execution_count": null,
   "metadata": {},
   "outputs": [],
   "source": [
    "archivo = open(\"../Python/Archivos/mi_primer_archivo.txt\", 'x')"
   ]
  },
  {
   "attachments": {},
   "cell_type": "markdown",
   "metadata": {},
   "source": [
    "### Agregar información a un archivo"
   ]
  },
  {
   "attachments": {},
   "cell_type": "markdown",
   "metadata": {},
   "source": [
    "Si por lo contrario **queremos añadir contenido al ya existente en un archivo de texto previo**, podemos hacerlo en el modo `append` como se ha indicado antes."
   ]
  },
  {
   "cell_type": "code",
   "execution_count": null,
   "metadata": {},
   "outputs": [],
   "source": [
    "archivo = open(\"../Python/Archivos/mi_primer_archivo.txt\", 'w')"
   ]
  },
  {
   "attachments": {},
   "cell_type": "markdown",
   "metadata": {},
   "source": [
    "## Método 1: `write( )`"
   ]
  },
  {
   "cell_type": "code",
   "execution_count": null,
   "metadata": {},
   "outputs": [],
   "source": [
    "#archivo = open(\"datos_guardados.txt\", 'w')\n",
    "archivo = open(\"../Python/Archivos/mi_primer_archivo.txt\", 'a')\n",
    "archivo.write(\"Esta es una linea que voy a agregar\\n\")\n",
    "archivo.close()"
   ]
  },
  {
   "attachments": {},
   "cell_type": "markdown",
   "metadata": {},
   "source": [
    "Por lo tanto si ahora abrimos el archivo *archivo.txt*, veremos como efectivamente contiene la línea: \"Esta es la última linea que voy a agregar\"."
   ]
  },
  {
   "attachments": {},
   "cell_type": "markdown",
   "metadata": {},
   "source": [
    "Ahora **vamos a guardar una lista de elementos en el archivo**, donde cada elemento de la lista se almacenará en una línea distinta."
   ]
  },
  {
   "cell_type": "code",
   "execution_count": null,
   "metadata": {},
   "outputs": [],
   "source": [
    "archivo = open(\"../Python/Archivos/mi_primer_archivo.txt\", 'w')\n",
    "lista = [\"Edith\", \"Miguel\", \"Dalia\", \"Franco\", \"Javier\"]\n",
    "for nombre in lista:\n",
    "    archivo.write(nombre + \"\\n\")\n",
    "archivo.close()\n",
    "archivo = open(\"../Python/Archivos/mi_primer_archivo.txt\", 'r')\n",
    "print(archivo.read())"
   ]
  },
  {
   "attachments": {},
   "cell_type": "markdown",
   "metadata": {},
   "source": [
    "**Observaciòn:** Estamos almacenando la línea mas `\\n`. Es importante añadir el salto de línea porque por defecto no se añade, y si queremos que cada elemento de la lista se almacena en una línea distinta, será necesario su uso."
   ]
  },
  {
   "attachments": {},
   "cell_type": "markdown",
   "metadata": {},
   "source": [
    "## Método 2: `writelines( )`"
   ]
  },
  {
   "attachments": {},
   "cell_type": "markdown",
   "metadata": {},
   "source": [
    "También podemos usar el método `writelines( )` y pasarle una lista. Dicho método se encargará de guardar todos los elementos de la lista en el archivo."
   ]
  },
  {
   "cell_type": "code",
   "execution_count": null,
   "metadata": {},
   "outputs": [],
   "source": [
    "archivo = open(\"../Python/Archivos/mi_primer_archivo.txt\", 'w')\n",
    "lista = [\"Edith\", \"Miguel\", \"Dalia\", \"Franco\", \"Javier\"]\n",
    "archivo.writelines(lista)\n",
    "archivo.close()\n",
    "archivo = open(\"../Python/Archivos/mi_primer_archivo.txt\", 'r')\n",
    "print(archivo.read())\n",
    "archivo.close()"
   ]
  },
  {
   "attachments": {},
   "cell_type": "markdown",
   "metadata": {},
   "source": [
    "**Observación:** En realidad lo que se guarda es *EdithMiguelDaliaFrancoJavier*, todo junto. Si queremos que cada elemento se almacene en una línea distinta, deberíamos añadir el salto de línea en cada elemento de la lista como se muestra a continuación."
   ]
  },
  {
   "cell_type": "code",
   "execution_count": null,
   "metadata": {},
   "outputs": [],
   "source": [
    "archivo = open(\"../Python/Archivos/mi_primer_archivo.txt\", 'w')\n",
    "lista = [\"Edith\\n\", \"Miguel\\n\", \"Dalia\\n\", \"Franco\\n\", \"Javier\\n\"]\n",
    "\n",
    "archivo.writelines(lista)\n",
    "archivo.close()\n",
    "archivo = open(\"../Python/Archivos/mi_primer_archivo.txt\", 'r')\n",
    "print(archivo.read())\n",
    "archivo.close()\n"
   ]
  },
  {
   "attachments": {},
   "cell_type": "markdown",
   "metadata": {},
   "source": [
    "## Usando el `with`"
   ]
  },
  {
   "attachments": {},
   "cell_type": "markdown",
   "metadata": {},
   "source": [
    "Utilizando la instrucción `with` podemos ahorrararnos una línea de código. En este caso nos podemos ahorrar la llamada al `close()` ya que se realiza automáticamente. El código anterior se podría reescribir de la siguiente manera:"
   ]
  },
  {
   "cell_type": "code",
   "execution_count": null,
   "metadata": {},
   "outputs": [],
   "source": [
    "lista = [\"Edith\\n\", \"Miguel\\n\", \"Dalia\\n\", \"Franco\\n\", \"Javier\\n\"]\n",
    "with open(\"../Python/Archivos/mi_primer_archivo.txt\", 'w') as archivo:\n",
    "     archivo.writelines(lista)\n",
    "     \n",
    "archivo = open(\"../Python/Archivos/mi_primer_archivo.txt\", 'r')\n",
    "print(archivo.read())\n",
    "archivo.close()\n"
   ]
  },
  {
   "attachments": {},
   "cell_type": "markdown",
   "metadata": {},
   "source": [
    "# A practicar ... \n",
    "<center>\n",
    "<img src=\"../Imagenes/gorila_music.png\" alt=\"\", width=\"25%\" height=\"auto\">\n",
    "<!-- ![Tablero de ajedrez](./Quizes_Imagenes/tablero_ajedrez.jpg) -->\n",
    "</center>"
   ]
  },
  {
   "attachments": {},
   "cell_type": "markdown",
   "metadata": {},
   "source": [
    "# Iterables e iteradores"
   ]
  },
  {
   "attachments": {},
   "cell_type": "markdown",
   "metadata": {},
   "source": [
    "## Iterables"
   ]
  },
  {
   "attachments": {},
   "cell_type": "markdown",
   "metadata": {},
   "source": [
    "Los ***iterables*** son objetos en Python que como su nombre lo indica, **pueden ser *iterados***, que dicho de otra forma es, que **pueden ser *indexados***. Si piensas en una *lista* en Python, podemos indexarlo como: `lista[i]` por ejemplo, por lo que sería un iterable.\n",
    "\n",
    "Algunos ejemplos de iterables en Python son las *strings*, *listas*, *tuplas*, *diccionarios* o *ficheros*. "
   ]
  },
  {
   "attachments": {},
   "cell_type": "markdown",
   "metadata": {},
   "source": [
    "Si tenemos un iterable, podemos usarlo a la derecha del `for` de la siguiente manera:\n",
    "\n",
    "<center>\n",
    "<code>for elemento in iterable:</code>\n",
    "</center>\n",
    "\n",
    "Si usamos el `for` como acabamos de mostrar, la variable `elemento` irá tomando los valores de cada elemento presente en el `iterable`. De esta manera, ya no tenemos que ir accediendo manualmente con `[ ]` a cada elemento."
   ]
  },
  {
   "attachments": {},
   "cell_type": "markdown",
   "metadata": {},
   "source": [
    "**Observación:** Tenemos que tener claro que en un `for`, lo que va después del `in` deberá ser siempre un *iterable*."
   ]
  },
  {
   "attachments": {},
   "cell_type": "markdown",
   "metadata": {},
   "source": [
    "Por lo tanto, las *listas* y las *cadenas* son iterables, pero un entero no lo es. Es por eso por lo que no podemos hacer lo siguiente, ya que daría un error. De hecho el error sería `TypeError: int' object is not iterable`."
   ]
  },
  {
   "cell_type": "code",
   "execution_count": null,
   "metadata": {},
   "outputs": [],
   "source": [
    "numero = 10\n",
    "for i in numero:\n",
    "    print(i)"
   ]
  },
  {
   "attachments": {},
   "cell_type": "markdown",
   "metadata": {},
   "source": [
    "Python nos ofrece también diferentes métodos que pueden ser usados sobre clases iterables:\n",
    "\n",
    "* `list()` convierte a lista una clase iterable.\n",
    "\n",
    "* `sum()` cuando sea posible, suma los elementos de una clase iterable.\n",
    "\n",
    "* `join()` permite unir cada elemento de una clase iterable con el primer argumento usado."
   ]
  },
  {
   "cell_type": "code",
   "execution_count": null,
   "metadata": {},
   "outputs": [],
   "source": [
    "print(list('Hola mundo'))"
   ]
  },
  {
   "cell_type": "code",
   "execution_count": null,
   "metadata": {},
   "outputs": [],
   "source": [
    "print(sum([1,2,3,4,5]))"
   ]
  },
  {
   "cell_type": "code",
   "execution_count": null,
   "metadata": {},
   "outputs": [],
   "source": [
    "print(\"-\".join('Hola mundo'))\n",
    "print('Pablo'.join('Jorge'))"
   ]
  },
  {
   "attachments": {},
   "cell_type": "markdown",
   "metadata": {},
   "source": [
    "Recordemos que de la misma forma que iteramos una *cadena* o una *lista*, también podemos iterar un *diccionario*. El iterador del diccionario devuelve las *claves* o *keys* del mismo."
   ]
  },
  {
   "cell_type": "code",
   "execution_count": null,
   "metadata": {},
   "outputs": [],
   "source": [
    "mi_diccionario = dict( a=1, b=2, c=3)\n",
    "print(mi_diccionario)\n",
    "\n",
    "for x,y in mi_diccionario.items():\n",
    "    print(x,y)"
   ]
  },
  {
   "attachments": {},
   "cell_type": "markdown",
   "metadata": {},
   "source": [
    "## Diferencia entre iteradores e iterables"
   ]
  },
  {
   "attachments": {},
   "cell_type": "markdown",
   "metadata": {},
   "source": [
    "Se podría explicar la **diferencia entre *iteradores* e *iterables*** usando un libro como analogía. **El libro sería nuestra clase *iterable***, ya que tiene diferentes páginas a las que podemos acceder. El libro podría ser una lista, y cada página un elemento de la lista. Por otro lado, **el *iterador* sería un marcapáginas**, es decir, una referencia que nos indica en qué posición estamos del libro, y que puede ser usado para “navegar” por él."
   ]
  },
  {
   "attachments": {},
   "cell_type": "markdown",
   "metadata": {},
   "source": [
    "## Iteradores"
   ]
  },
  {
   "attachments": {},
   "cell_type": "markdown",
   "metadata": {},
   "source": [
    "Para entender los **iteradores**, es importante conocer la función `iter()` en Python. Dicha función **puede ser llamada sobre un objeto que sea iterable**, y **nos devolverá un iterador**.\n",
    "\n",
    "Es posible obtener un iterador a partir de una clase iterable con la función `iter()`. "
   ]
  },
  {
   "attachments": {},
   "cell_type": "markdown",
   "metadata": {},
   "source": [
    " Siguiendo la analogía del libro consideremos el  siguiente ejemplo:"
   ]
  },
  {
   "cell_type": "code",
   "execution_count": null,
   "metadata": {},
   "outputs": [],
   "source": [
    "libro = ['Pagina 1', 'Pagina 2', 'Pagina 3', 'Pagina 4', 'Pagina 5', 'Pagina 6' ]\n",
    "marcapaginas = iter(libro)\n",
    "print(marcapaginas)      \n",
    "print(type(marcapaginas))"
   ]
  },
  {
   "attachments": {},
   "cell_type": "markdown",
   "metadata": {},
   "source": [
    "En este punto, *marcapaginas* almacena un iterador, de la `clase list_iterator`. Esta variable iteradora, hace referencia a la lista original, se trata de un objeto que podemos usar para navegar a través del libro y nos permite **acceder a sus elementos** usando la función `next()` sobre el iterador `marcapaginas`, podemos ir accediendo secuencialmente a cada elemento de nuestra lista (las páginas de libro). Por lo tanto, si queremos acceder al elemento $4$, tendremos que llamar $4$ veces a `next()`."
   ]
  },
  {
   "cell_type": "code",
   "execution_count": null,
   "metadata": {},
   "outputs": [],
   "source": [
    "libro = ['Pagina 1', 'Pagina 2', 'Pagina 3', 'Pagina 4', 'Pagina 5', 'Pagina 6' ]\n",
    "marcapaginas = iter(libro)\n",
    "print(next(marcapaginas))\n",
    "print(next(marcapaginas))\n",
    "print(next(marcapaginas))\n",
    "print(next(marcapaginas))\n",
    "print(next(marcapaginas))\n",
    "print(next(marcapaginas))\n",
    "print(next(marcapaginas))"
   ]
  },
  {
   "attachments": {},
   "cell_type": "markdown",
   "metadata": {},
   "source": [
    "Consideremos otro ejemplo:"
   ]
  },
  {
   "cell_type": "code",
   "execution_count": null,
   "metadata": {},
   "outputs": [],
   "source": [
    "lista = [5, 6, 3, 2]\n",
    "it = iter(lista)\n",
    "elemento = next(it)\n",
    "print(elemento)\n",
    "elemento = next(it)\n",
    "print(elemento)\n",
    "elemento = next(it)\n",
    "print(elemento)\n",
    "elemento = next(it)\n",
    "print(elemento)\n"
   ]
  },
  {
   "attachments": {},
   "cell_type": "markdown",
   "metadata": {},
   "source": [
    "**Observación:** Cuando el iterador es obtenido con la función `iter()`, apunta por defecto fuera de la lista. Es decir, si queremos acceder al primer elemento de la lista, deberemos llamar una vez a `next()`.\n",
    "\n",
    "Por otro lado, a diferencia de un marcapáginas de un libro (en el mundo real), el iterador sólo puede ir hacia delante. **No es posible retroceder**."
   ]
  },
  {
   "attachments": {},
   "cell_type": "markdown",
   "metadata": {},
   "source": [
    "# Función `zip()`en Python"
   ]
  },
  {
   "attachments": {},
   "cell_type": "markdown",
   "metadata": {},
   "source": [
    "La función `zip()` de Python puede ser usada sin tener que importarse."
   ]
  },
  {
   "attachments": {},
   "cell_type": "markdown",
   "metadata": {},
   "source": [
    "Dadas dos listas, digamos *lista1* y *lista2*, al pasarlas a `zip()` como entrada, el *elemento 1* de *lista1* se asocia con el *elemento 1* de *lista2*, el *elemento 2* de *lista1* se asocia con el *elemento 2* de *lista2*, el *elemento 3* de *lista1* se asocia con el *elemento 3* de *lista2*, y así sucesivamente. Finalmene el resultado será una tupla donde cada elemento sera una tupla de la forma: `(i-esimo_elemento_lista1, i-esimo_elemento_lista2)`."
   ]
  },
  {
   "cell_type": "code",
   "execution_count": null,
   "metadata": {},
   "outputs": [],
   "source": [
    "lista1 = [1,2]\n",
    "lista2 = ['uno','dos']\n",
    "\n",
    "lista = zip(lista1,lista2)\n",
    "type(lista)\n",
    "print(list(lista))"
   ]
  },
  {
   "attachments": {},
   "cell_type": "markdown",
   "metadata": {},
   "source": [
    "## Iterar con `zip()` en Python"
   ]
  },
  {
   "attachments": {},
   "cell_type": "markdown",
   "metadata": {},
   "source": [
    "Puede parecer una función no muy relevante, pero es realmente útil combinada con un `for` para iterar dos listas simultaneamente:"
   ]
  },
  {
   "cell_type": "code",
   "execution_count": null,
   "metadata": {},
   "outputs": [],
   "source": [
    "a = [1, 2]\n",
    "b = [\"Uno\", \"Dos\"]\n",
    "c = zip(a, b)\n",
    "\n",
    "for numero, texto in zip(a, b):\n",
    "    print(\"Número:\", numero, \"Letra:\", texto)"
   ]
  },
  {
   "attachments": {},
   "cell_type": "markdown",
   "metadata": {},
   "source": [
    "## `zip()` con n argumentos"
   ]
  },
  {
   "attachments": {},
   "cell_type": "markdown",
   "metadata": {},
   "source": [
    "Ya hemos visto el uso de zip con dos listas, pero es posible pasar un número arbitrario de iterables como entrada.\n",
    "\n",
    "Veamos un ejemplo con varias listas. Es importante notar que todas tienen la misma longitud, dos."
   ]
  },
  {
   "cell_type": "code",
   "execution_count": null,
   "metadata": {},
   "outputs": [],
   "source": [
    "numeros = [1, 2]\n",
    "espanol = [\"Uno\", \"Dos\"]\n",
    "ingles = [\"One\", \"Two\"]\n",
    "frances = [\"Un\", \"Deux\"]\n",
    "c = zip(numeros, espanol, ingles, frances)\n",
    "print(list(c))\n",
    "\n",
    "for n, e, i, f in zip(numeros, espanol, ingles, frances):\n",
    "    print(n, e, i, f)\n"
   ]
  },
  {
   "attachments": {},
   "cell_type": "markdown",
   "metadata": {},
   "source": [
    "## `zip()` con diferentes longitudes"
   ]
  },
  {
   "attachments": {},
   "cell_type": "markdown",
   "metadata": {},
   "source": [
    "También podemos usar zip usando iterables de diferentes longitudes. En este caso lo que pasará es que el iterador para cuando la lista más pequeña se acaba.\n",
    "\n"
   ]
  },
  {
   "cell_type": "code",
   "execution_count": null,
   "metadata": {},
   "outputs": [],
   "source": [
    "numeros = [1, 2, 3, 4, 5]\n",
    "espanol = [\"Uno\", \"Dos\"]\n",
    "\n",
    "for n, e in zip(numeros, espanol):\n",
    "    print(n, e)"
   ]
  },
  {
   "attachments": {},
   "cell_type": "markdown",
   "metadata": {},
   "source": [
    "Resulta lógico que este sea el comportamiento, porque de no ser así y se continuara, no tendríamos valores para usar."
   ]
  },
  {
   "attachments": {},
   "cell_type": "markdown",
   "metadata": {},
   "source": [
    "## `zip()` con un argumento"
   ]
  },
  {
   "attachments": {},
   "cell_type": "markdown",
   "metadata": {},
   "source": [
    "Como cabría esperar, dado que zip está definido para un número arbitrario de parámetros de entrada, es posible también posible usar un único valor. El resultado son tuplas de un elemento."
   ]
  },
  {
   "cell_type": "code",
   "execution_count": null,
   "metadata": {},
   "outputs": [],
   "source": [
    "numeros = [1, 2, 3, 4, 5]\n",
    "zz = zip(numeros)\n",
    "print(list(zz))"
   ]
  },
  {
   "attachments": {},
   "cell_type": "markdown",
   "metadata": {},
   "source": [
    "**Recuerda:** Las tuplas se representan escribiendo los elementos entre paréntesis y separados por comas. Una tupla puede no contener ningún elemento, es decir, ser una tupla vacía. Una tupla puede incluir un único elemento, pero para que Python entienda que nos estamos refiriendo a una tupla es necesario escribir al menos una coma."
   ]
  },
  {
   "attachments": {},
   "cell_type": "markdown",
   "metadata": {},
   "source": [
    "## `zip()` con diccionarios"
   ]
  },
  {
   "attachments": {},
   "cell_type": "markdown",
   "metadata": {},
   "source": [
    "Hasta ahora sólo hemos usado  `zip()` con listas, pero la función está definida para cualquier clase iterable. Por lo tanto podemos usarla también con diccionarios."
   ]
  },
  {
   "attachments": {},
   "cell_type": "markdown",
   "metadata": {},
   "source": [
    "En las siguientes lineas de codigo, `a,b` toman los valores de las *key* del diccionario."
   ]
  },
  {
   "cell_type": "code",
   "execution_count": null,
   "metadata": {},
   "outputs": [],
   "source": [
    "espanish = {'1': 'Uno', '2': 'Dos', '3': 'Tres'}\n",
    "english = {'1': 'One', '2': 'Two', '3': 'Three'}\n",
    "\n",
    "for a, b in zip(espanish, english):\n",
    "    print(a, b)"
   ]
  },
  {
   "attachments": {},
   "cell_type": "markdown",
   "metadata": {},
   "source": [
    "Sin embargo, si hacemos uso de la función `items`, podemos acceder al *key* y *value* de cada elemento."
   ]
  },
  {
   "cell_type": "code",
   "execution_count": null,
   "metadata": {},
   "outputs": [],
   "source": [
    "espanish = {'1': 'Uno', '2': 'Dos', '3': 'Tres'}\n",
    "english = {'1': 'One', '2': 'Two', '3': 'Three'}\n",
    "\n",
    "for (k1, v1), (k2, v2) in zip(espanish.items(), english.items()):\n",
    "    print(k1, v1, k2, v2)"
   ]
  },
  {
   "attachments": {},
   "cell_type": "markdown",
   "metadata": {},
   "source": [
    "Nótese que en este caso ambas key k1 y k2 son iguales, pero no es necesario que lo sean."
   ]
  },
  {
   "attachments": {},
   "cell_type": "markdown",
   "metadata": {},
   "source": [
    "## Deshacer el `zip()`"
   ]
  },
  {
   "attachments": {},
   "cell_type": "markdown",
   "metadata": {},
   "source": [
    "Es posible deshacer el `zip` en una sola línea de código. Supongamos que hemos usado `zip` para obtener `c`."
   ]
  },
  {
   "cell_type": "code",
   "execution_count": null,
   "metadata": {},
   "outputs": [],
   "source": [
    "a = [1, 2, 3]\n",
    "b = [\"One\", \"Two\", \"Three\"]\n",
    "c = zip(a, b)\n",
    "print(list(c))"
   ]
  },
  {
   "attachments": {},
   "cell_type": "markdown",
   "metadata": {},
   "source": [
    "¿Es posible obtener `a` y `b` desde `c`? "
   ]
  },
  {
   "cell_type": "code",
   "execution_count": null,
   "metadata": {},
   "outputs": [],
   "source": [
    "c = [(1, 'One'), (2, 'Two'), (3, 'Three')]\n",
    "a, b = zip(*c)\n",
    "aa = list(a)\n",
    "type(list(zip(*c)))\n",
    "\n",
    "print(aa)  \n",
    "#print(b)  "
   ]
  },
  {
   "attachments": {},
   "cell_type": "markdown",
   "metadata": {},
   "source": [
    "El uso de `*c`, lo que es conocido como ***unpacking*** en Python"
   ]
  },
  {
   "attachments": {},
   "cell_type": "markdown",
   "metadata": {},
   "source": [
    " "
   ]
  },
  {
   "attachments": {},
   "cell_type": "markdown",
   "metadata": {},
   "source": [
    "# Comprensiones de listas"
   ]
  },
  {
   "attachments": {},
   "cell_type": "markdown",
   "metadata": {},
   "source": [
    "Una de las principales ventajas de Python es que una misma funcionalidad puede ser escrita de maneras muy diferentes. Las ***list comprehension*** o ***comprensión de listas*** son una de ellas. Las *list comprehension* nos permiten crear listas de elementos en una sola línea de código. "
   ]
  },
  {
   "attachments": {},
   "cell_type": "markdown",
   "metadata": {},
   "source": [
    "## Sintaxis"
   ]
  },
  {
   "attachments": {},
   "cell_type": "markdown",
   "metadata": {},
   "source": [
    " La sintaxis general de las comprensiones de listas es:"
   ]
  },
  {
   "cell_type": "code",
   "execution_count": null,
   "metadata": {},
   "outputs": [],
   "source": [
    " # lista = [expresion for elemento in iterable if condicion]"
   ]
  },
  {
   "attachments": {},
   "cell_type": "markdown",
   "metadata": {},
   "source": [
    "Aquí, \"lista\" es la lista que se va a crear, \"expresion\" es la expresión que se va a aplicar a cada elemento de \"iterable\", \"elemento\" es una variable que toma el valor de cada elemento de \"iterable\" en orden, y \"condicion\" es una expresión booleana **opcional** que se utiliza para filtrar los elementos de \"iterable\" que se incluirán en \"lista\"."
   ]
  },
  {
   "attachments": {},
   "cell_type": "markdown",
   "metadata": {},
   "source": [
    "Es decir, por un lado tenemos el `for elemento in iterable if condicion`, que itera un determinado iterable que cumpla la condicion y “almacena” cada uno de estos elementos en `elemento`. Por otro lado, tenemos la `expresión`, que es lo que será añadido a la lista en cada iteración.\n",
    "\n",
    "La expresión puede ser una operación como veremos más adelante, pero también puede ser un valor constante."
   ]
  },
  {
   "cell_type": "code",
   "execution_count": null,
   "metadata": {},
   "outputs": [],
   "source": [
    "cuadrados = [i**2 for i in range(5)]\n",
    "print(cuadrados)"
   ]
  },
  {
   "attachments": {},
   "cell_type": "markdown",
   "metadata": {},
   "source": [
    "De no existir, podríamos hacer lo mismo de la siguiente forma, pero necesitamos alguna que otra línea más de código."
   ]
  },
  {
   "cell_type": "code",
   "execution_count": null,
   "metadata": {},
   "outputs": [],
   "source": [
    "cuadrados = []\n",
    "for i in range(5):\n",
    "    cuadrados.append(i**2)\n",
    "print(cuadrados)"
   ]
  },
  {
   "attachments": {},
   "cell_type": "markdown",
   "metadata": {},
   "source": [
    " El siguiente ejemplo genera una lista de cinco unos:"
   ]
  },
  {
   "cell_type": "code",
   "execution_count": null,
   "metadata": {},
   "outputs": [],
   "source": [
    "unos = [1 for i in range(11)]\n",
    "print(unos)"
   ]
  },
  {
   "attachments": {},
   "cell_type": "markdown",
   "metadata": {},
   "source": [
    "**Observación:** La expresión también puede ser una llamada a una función."
   ]
  },
  {
   "attachments": {},
   "cell_type": "markdown",
   "metadata": {},
   "source": [
    "Cualquier elemento que sea iterable puede ser usado con las list comprehensions. Anteriormente hemos iterado range() pero podemos hacer lo mismo para una lista. En el siguiente ejemplo vemos como dividir todos los números de una lista entre 10."
   ]
  },
  {
   "cell_type": "code",
   "execution_count": null,
   "metadata": {},
   "outputs": [],
   "source": [
    "lista = [10, 20, 30, 40 , 50]\n",
    "nueva_lista = [int(i/10) for i in lista]\n",
    "print(nueva_lista)"
   ]
  },
  {
   "attachments": {},
   "cell_type": "markdown",
   "metadata": {},
   "source": [
    "## Añadiendo condicionales"
   ]
  },
  {
   "attachments": {},
   "cell_type": "markdown",
   "metadata": {},
   "source": [
    "¿Y si quisiéramos realizar la operación sobre el elemento sólo si una determinada condición se cumple? Es posible añadir un condicional `if`. "
   ]
  },
  {
   "cell_type": "code",
   "execution_count": null,
   "metadata": {},
   "outputs": [],
   "source": [
    "# lista = [expresión for elemento in iterable if condición]"
   ]
  },
  {
   "attachments": {},
   "cell_type": "markdown",
   "metadata": {},
   "source": [
    "Por lo tanto la `expresión` sólo se aplicará al `elemento` si se cumple la `condición`. "
   ]
  },
  {
   "attachments": {},
   "cell_type": "markdown",
   "metadata": {},
   "source": [
    "Veamos un ejemplo con una frase, de la que queremos saber el número de 'a' que tiene."
   ]
  },
  {
   "cell_type": "code",
   "execution_count": null,
   "metadata": {},
   "outputs": [],
   "source": [
    "frase = \"Anita lava la tina\" \n",
    "letra_a = [i.lower() for i in frase if i.lower() == 'a']\n",
    "print(letra_a)"
   ]
  },
  {
   "attachments": {},
   "cell_type": "markdown",
   "metadata": {},
   "source": [
    "Lo que hace el código anterior es *iterar* cada letra de la frase, y si es una 'a', se añade a la lista. De esta manera el resultado es una lista con tantas letras 'a' como la frase original tiene, y podemos calcular las veces que se repite con `len()`."
   ]
  },
  {
   "cell_type": "code",
   "execution_count": null,
   "metadata": {},
   "outputs": [],
   "source": [
    "print(len(letra_a))"
   ]
  },
  {
   "attachments": {},
   "cell_type": "markdown",
   "metadata": {},
   "source": []
  },
  {
   "attachments": {},
   "cell_type": "markdown",
   "metadata": {},
   "source": [
    "# Comprensiones de conjuntos"
   ]
  },
  {
   "attachments": {},
   "cell_type": "markdown",
   "metadata": {},
   "source": [
    "Las ***set comprehensions*** son muy similares a las listas que hemos visto con anterioridad. La única diferencia es que debemos cambiar el `[]` por `{}`. Como resulta evidente, dado que los set no permiten duplicados, si intentamos añadir un elemento que ya existe en el set, simplemente no se añadirá."
   ]
  },
  {
   "cell_type": "code",
   "execution_count": null,
   "metadata": {},
   "outputs": [],
   "source": [
    "frase = \"Anita lava la tina\"\n",
    "letra_a = {i for i in frase if i.lower() == 'a'}\n",
    "print(letra_a)"
   ]
  },
  {
   "attachments": {},
   "cell_type": "markdown",
   "metadata": {},
   "source": [
    "# Comprension de diccionarios"
   ]
  },
  {
   "attachments": {},
   "cell_type": "markdown",
   "metadata": {},
   "source": [
    "# Funcion `Max()`"
   ]
  },
  {
   "attachments": {},
   "cell_type": "markdown",
   "metadata": {},
   "source": [
    "La función `max()` en Python devuelve el valor máximo de un iterable, que puede ser una *lista*, *tupla*, *conjunto*, o cualquier otro objeto iterable. La sintaxis de la función `max()` es la siguiente:\n",
    "\n",
    "`maximo = max(iterable, *iterables, key=None, default=None)`\n",
    "\n",
    "Donde:\n",
    "\n",
    "* ***`iterable`*** es el objeto iterable del cual se desea obtener el valor máximo.\n",
    " \n",
    "* ***`*iterables`*** son argumentos opcionales adicionales que se pueden incluir si se desea comparar varios iterables juntos.\n",
    " \n",
    "* ***`key`*** es un argumento opcional que especifica una función de un sólo argumento para personalizar el ordenamiento. Por defecto, la comparación se realiza utilizando el orden natural de los elementos.\n",
    "\n",
    "* ***`default`*** es un argumento opcional que especifica el valor a devolver si el iterable está vacío.\n",
    "\n",
    "De esta manera, la función `max()` devuelve el elemento máximo del iterable. Si se especifica el argumento `key`, se utiliza la función especificada para transformar cada elemento del iterable antes de realizar la comparación. El argumento `default` se utiliza si el iterable está vacío y no se puede devolver un valor máximo"
   ]
  },
  {
   "cell_type": "code",
   "execution_count": null,
   "metadata": {},
   "outputs": [
    {
     "name": "stdout",
     "output_type": "stream",
     "text": [
      "[35, 24, 50, 12, 4, 24, 77, 58, 67, 92]\n",
      "92\n"
     ]
    }
   ],
   "source": [
    "\n",
    "import random \n",
    "numeros = [random.randint(1, 100) for i in range(10)] # Usando list comprehensions\n",
    "print(numeros)\n",
    "maximo = max(numeros)\n",
    "print(maximo)"
   ]
  },
  {
   "cell_type": "code",
   "execution_count": null,
   "metadata": {},
   "outputs": [
    {
     "name": "stdout",
     "output_type": "stream",
     "text": [
      "dificultades\n",
      "La longitud de la palabra mas larga es: 12\n"
     ]
    }
   ],
   "source": [
    "archivo = open('../Python/Archivos/frases.txt','r')\n",
    "contenido = archivo.read()\n",
    "#print(contenido)\n",
    "archivo.close()\n",
    "\n",
    "#palabras = contenido.split()\n",
    "\n",
    "palabra_mas_larga = max(palabras,key=len)\n",
    "print(palabra_mas_larga)\n",
    "print('La longitud de la palabra mas larga es: {}'.format(len(palabra_mas_larga)))\n"
   ]
  },
  {
   "attachments": {},
   "cell_type": "markdown",
   "metadata": {},
   "source": []
  },
  {
   "attachments": {},
   "cell_type": "markdown",
   "metadata": {},
   "source": [
    "ambién tenemos las comprensiones de diccionarios. Son muy similares a las anteriores, con la única diferencia que debemos especificar la *key* o llave. Veamos un ejemplo.\n",
    "\n"
   ]
  },
  {
   "cell_type": "code",
   "execution_count": null,
   "metadata": {},
   "outputs": [],
   "source": [
    "lista1 = ['nombre', 'edad', 'semestre']\n",
    "lista2 = ['Jorge', 30, 'Octavo']\n",
    "\n",
    "mi_diccionario = { i:j for i,j in zip(lista1, lista2)}\n",
    "print(mi_diccionario)"
   ]
  },
  {
   "attachments": {},
   "cell_type": "markdown",
   "metadata": {},
   "source": [
    "**Observación** Usando `:` asignamos un valor a una llave. Hemos usado también `zip()`, que nos permite iterar dos listas paralelamente.\n",
    "Por lo tanto, en este ejemplo estamos convirtiendo dos listas a un diccionario."
   ]
  },
  {
   "attachments": {},
   "cell_type": "markdown",
   "metadata": {},
   "source": [
    "Las comprensiones de listas, sets o diccionarios son una herramienta muy útil para hacer que nuestro código resulte más compacto y fácil de leer. Siempre que tengamos una colección iterable que queramos modificar, son una buena opción para evitar tener que escribir bucles for.\n",
    "\n"
   ]
  }
 ],
 "metadata": {
  "kernelspec": {
   "display_name": "Python 3",
   "language": "python",
   "name": "python3"
  },
  "language_info": {
   "codemirror_mode": {
    "name": "ipython",
    "version": 3
   },
   "file_extension": ".py",
   "mimetype": "text/x-python",
   "name": "python",
   "nbconvert_exporter": "python",
   "pygments_lexer": "ipython3",
   "version": "3.11.2"
  },
  "orig_nbformat": 4
 },
 "nbformat": 4,
 "nbformat_minor": 2
}
