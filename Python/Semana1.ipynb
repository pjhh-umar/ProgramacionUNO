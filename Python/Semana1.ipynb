{
 "cells": [
  {
   "attachments": {},
   "cell_type": "markdown",
   "metadata": {},
   "source": [
    "## Ejecutando un  Script de Python "
   ]
  },
  {
   "attachments": {},
   "cell_type": "markdown",
   "metadata": {},
   "source": [
    "Un **script** es un archivo independiente  con  instrucciones/comandos (un programa) en lenguaje  Python  que se ejecuta sin la necesidad (explicita) de usar el comando `python`. "
   ]
  },
  {
   "attachments": {},
   "cell_type": "markdown",
   "metadata": {},
   "source": [
    "En sistemas operativos tipo Unix, como *Linux* y *Mac OS* se utiliza una *línea shebang* para indicar al sistema operativo qué intérprete  se dede utilizar para ejecutar el script.\n",
    "\n",
    "Un **shebang** es una línea especial que se coloca en la parte superior del archivo Python, antes de cualquier código Python y que debe empezar con '**`#`**', seguido de un signo de exclamación '**`!`**', y luego la ruta completa del intérprete de Python."
   ]
  },
  {
   "attachments": {},
   "cell_type": "markdown",
   "metadata": {},
   "source": [
    "Esta  línea  indica  la *ruta* al  interprete de Python a utilizar con el resto del archivo, i.e. la ruta que que la computadora debe tomarpara encontrar el interprete de Python específico.\n"
   ]
  },
  {
   "attachments": {},
   "cell_type": "markdown",
   "metadata": {},
   "source": [
    " ## Usando Python en un IDE\n",
    "\n",
    " ### Configurando el ambiente python\n",
    "\n",
    " Esto es necesario porque cuando ejecuta un programa de Python, busca el intérprete de Python que se utiliza para ejecutar su programa o secuencia de comandos. Sin el intérprete de python instalado en su máquina, los programas de Python son solo archivos de texto"
   ]
  },
  {
   "cell_type": "code",
   "execution_count": 7,
   "metadata": {},
   "outputs": [
    {
     "name": "stdout",
     "output_type": "stream",
     "text": [
      "[1, 1, 1, 1, 1, 1, 1, 1, 1, 1, 1, 1, 1, 1, 1, 1, 1, 1, 1, 1, 1, 1, 1, 1, 1, 1, 1, 1, 1, 1, 1, 1]\n"
     ]
    }
   ],
   "source": [
    "n=5\n",
    "lista=[1]*(2**n)\n",
    "\n",
    "print(lista)\n"
   ]
  },
  {
   "cell_type": "code",
   "execution_count": null,
   "metadata": {},
   "outputs": [],
   "source": []
  }
 ],
 "metadata": {
  "kernelspec": {
   "display_name": "Python 3",
   "language": "python",
   "name": "python3"
  },
  "language_info": {
   "codemirror_mode": {
    "name": "ipython",
    "version": 3
   },
   "file_extension": ".py",
   "mimetype": "text/x-python",
   "name": "python",
   "nbconvert_exporter": "python",
   "pygments_lexer": "ipython3",
   "version": "3.11.2"
  },
  "orig_nbformat": 4,
  "vscode": {
   "interpreter": {
    "hash": "1606ed296fe21ab67c1d4b49f3f22d72247524c93f58d404930dbd4d15d6017c"
   }
  }
 },
 "nbformat": 4,
 "nbformat_minor": 2
}
