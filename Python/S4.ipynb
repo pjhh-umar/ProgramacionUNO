{
 "cells": [
  {
   "attachments": {},
   "cell_type": "markdown",
   "metadata": {},
   "source": [
    "# A practicar ... \n",
    "<center>\n",
    "<img src=\"../Imagenes/gorila_music.png\" alt=\"\", width=\"25%\" height=\"auto\">\n",
    "<!-- ![Tablero de ajedrez](./Quizes_Imagenes/tablero_ajedrez.jpg) -->\n",
    "</center>"
   ]
  },
  {
   "attachments": {},
   "cell_type": "markdown",
   "metadata": {},
   "source": [
    "## Practica 4.1 \"Años perrunos\"\n",
    "\n",
    "##### Se dice que un año humano equivale a $7$ años caninos. Sin embargo, esta simple conversión no reconoce que los perros alcanzan la edad adulta en aproximadamente dos años. Como resultado, algunas personas creen que es mejor contar cada uno de los dos primeros años humanos como $10.5$ años caninos y luego contar cada año humano adicional como $4$ años caninos.\n",
    "\n",
    "##### Escriba un programaen Python que implemente la conversion descrita en el párrafo anterior y solicite al usuario (validando entrada: número positivo) los años humano que tiene tu amigo perruno y e imprima los correspondientes años caninos de tu mascota. Asegurate de que tu programa funcione correctamente para conversiones de menos de dos años humanos y para conversiones de dos o más años humanos.\n"
   ]
  },
  {
   "attachments": {},
   "cell_type": "markdown",
   "metadata": {},
   "source": [
    "## Practica 4.2 \n",
    "\n",
    "#### Crea un programa en Python utilizando el módulo Turtle para dibujar 60 cuadrados, girando a la derecha 5 grados después de cada cuadrado"
   ]
  },
  {
   "attachments": {},
   "cell_type": "markdown",
   "metadata": {},
   "source": [
    "## Practica 4.3\n",
    "\n",
    "#### Crea un programa en Python utilizando el módulo Turtle para dibujar 60 cuadrados, girando 5 grados después de cada cuadrado y haciendo que cada cuadrado sucesivo sea más grande. Comience con una longitud de 5 e incremente 5 unidades cada cuadrado. "
   ]
  },
  {
   "attachments": {},
   "cell_type": "markdown",
   "metadata": {},
   "source": [
    "## Practica 4.4 \n",
    "\n",
    "#### Crea un programa en Python utilizando el módulo Turtle para dibujar la siguiente figura:\n",
    "<center>\n",
    "<img src=\"../Imagenes/espiral_turtle.png\" alt=\"\", width=\"35%\" height=\"auto\">\n",
    "\n",
    "</center>\n",
    "\n",
    "<b>Observación</b> ¡Omitir los colores!"
   ]
  },
  {
   "attachments": {},
   "cell_type": "markdown",
   "metadata": {},
   "source": []
  }
 ],
 "metadata": {
  "kernelspec": {
   "display_name": "Python 3",
   "language": "python",
   "name": "python3"
  },
  "language_info": {
   "codemirror_mode": {
    "name": "ipython",
    "version": 3
   },
   "file_extension": ".py",
   "mimetype": "text/x-python",
   "name": "python",
   "nbconvert_exporter": "python",
   "pygments_lexer": "ipython3",
   "version": "3.11.1"
  },
  "orig_nbformat": 4,
  "vscode": {
   "interpreter": {
    "hash": "aee8b7b246df8f9039afb4144a1f6fd8d2ca17a180786b69acc140d282b71a49"
   }
  }
 },
 "nbformat": 4,
 "nbformat_minor": 2
}
