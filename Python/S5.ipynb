{
 "cells": [
  {
   "attachments": {},
   "cell_type": "markdown",
   "metadata": {},
   "source": [
    "# Sets"
   ]
  },
  {
   "attachments": {},
   "cell_type": "markdown",
   "metadata": {},
   "source": [
    "Los **sets** en Python son una estructura de datos usada para almacenar elementos de una manera similar a las listas, pero con ciertas diferencias.\n",
    "\n",
    "* Los elementos de un set son **únicos**, lo que significa que no **puede haber elementos duplicados**.\n",
    "  \n",
    "* Los set son **desordenados**, lo que significa que **no mantienen el orden de cuando son declarados**.\n",
    "  \n",
    "* Sus elementos son **inmutables**."
   ]
  },
  {
   "attachments": {},
   "cell_type": "markdown",
   "metadata": {},
   "source": [
    "## Crear set Python"
   ]
  },
  {
   "attachments": {},
   "cell_type": "markdown",
   "metadata": {},
   "source": [
    "Para crear un set en Python se puede hacer con `set()` y pasando como entrada cualquier tipo iterable, como puede ser una lista. Se puede ver como a pesar de pasar elementos duplicados como dos `8` y en un orden determinado, al imprimir el set no conserva ese orden y los duplicados se han eliminado."
   ]
  },
  {
   "cell_type": "code",
   "execution_count": null,
   "metadata": {},
   "outputs": [],
   "source": [
    "s = set([5, 4, 6, 8, 8, 1,1]) \n",
    "print(s)\n",
    "# print(type(s))"
   ]
  },
  {
   "attachments": {},
   "cell_type": "markdown",
   "metadata": {},
   "source": [
    "Se puede hacer lo mismo haciendo uso de `{ }`,  en lugar de usar la palabra `set( )` como se muestra a continuación:"
   ]
  },
  {
   "cell_type": "code",
   "execution_count": null,
   "metadata": {},
   "outputs": [],
   "source": [
    "s = {5, 4, 6, 8, 8, 1}\n",
    "print(s)      \n",
    "#print(type(s))"
   ]
  },
  {
   "cell_type": "code",
   "execution_count": null,
   "metadata": {},
   "outputs": [],
   "source": [
    "colores = {'rojo', 'naranja', 'amarillo', 'verde', 'rojo', 'azul'}\n",
    "print(colores)"
   ]
  },
  {
   "attachments": {},
   "cell_type": "markdown",
   "metadata": {},
   "source": [
    "## Características de los  `sets`"
   ]
  },
  {
   "attachments": {},
   "cell_type": "markdown",
   "metadata": {},
   "source": [
    "A diferencia de las listas, en los set's **no podemos acceder ni modificar un elemento a través de su índice**. Si lo intentamos, tendremos un `TypeError`."
   ]
  },
  {
   "cell_type": "code",
   "execution_count": null,
   "metadata": {},
   "outputs": [],
   "source": [
    "s = set([5, 6, 7, 8])\n",
    "#s[0]\n",
    "s[0]=9"
   ]
  },
  {
   "attachments": {},
   "cell_type": "markdown",
   "metadata": {},
   "source": [
    "**Los elementos de un `set` deben ser inmutables**, por lo que **un elemento de un set no puede ser** ni un *`diccionario`* ni una *`lista`*. Si lo intentamos tendremos un `TypeError`"
   ]
  },
  {
   "cell_type": "code",
   "execution_count": null,
   "metadata": {},
   "outputs": [],
   "source": [
    "lista = [\"Perú\", \"Argentina\"]\n",
    "s = set([\"México\", \"España\", lista]) "
   ]
  },
  {
   "attachments": {},
   "cell_type": "markdown",
   "metadata": {},
   "source": [
    "Los sets **se pueden iterar de la misma forma que las listas**."
   ]
  },
  {
   "cell_type": "code",
   "execution_count": null,
   "metadata": {},
   "outputs": [],
   "source": [
    "s = set([5, 6, 7, 7,8,8])\n",
    "for elemento in s:\n",
    "    print(elemento)"
   ]
  },
  {
   "cell_type": "code",
   "execution_count": null,
   "metadata": {},
   "outputs": [],
   "source": [
    "letras=set('actuaria')\n",
    "print(letras)"
   ]
  },
  {
   "attachments": {},
   "cell_type": "markdown",
   "metadata": {},
   "source": [
    "## Determinar la longitud de un conjunto"
   ]
  },
  {
   "attachments": {},
   "cell_type": "markdown",
   "metadata": {},
   "source": [
    "Con la función `len( )` podemos saber la **longitud total del set**. Recuerda que los duplicados son eliminados."
   ]
  },
  {
   "cell_type": "code",
   "execution_count": null,
   "metadata": {},
   "outputs": [],
   "source": [
    "s = set([1, 2, 2, 3, 4])\n",
    "print(len(s)) \n",
    "\n",
    "letras=set('actuaria')\n",
    "print(len(letras))\n"
   ]
  },
  {
   "attachments": {},
   "cell_type": "markdown",
   "metadata": {},
   "source": [
    "## Determinar si un elemento se encuentra en el conjunto"
   ]
  },
  {
   "attachments": {},
   "cell_type": "markdown",
   "metadata": {},
   "source": [
    "También **podemos saber si un elemento está presente en un set con el operador `in`**. Se el valor existe en el set, se devolverá `True`."
   ]
  },
  {
   "cell_type": "code",
   "execution_count": null,
   "metadata": {},
   "outputs": [],
   "source": [
    "colores = {'rojo', 'naranja', 'amarillo', 'verde', 'rojo', 'azul'}\n",
    "\n",
    "print('rojo' in colores)\n",
    "\n",
    "print('morado' in colores)\n",
    "\n",
    "print('morado' not in colores)"
   ]
  },
  {
   "cell_type": "code",
   "execution_count": null,
   "metadata": {},
   "outputs": [],
   "source": [
    "frutas = set([\"mango\", \"sandia\", \"melon\",'melon'])\n",
    "print(frutas)\n",
    "print(\"platano\" in frutas)"
   ]
  },
  {
   "attachments": {},
   "cell_type": "markdown",
   "metadata": {},
   "source": [
    "# Crear un conjunto con un función `set`\n",
    " "
   ]
  },
  {
   "cell_type": "code",
   "execution_count": null,
   "metadata": {},
   "outputs": [],
   "source": [
    "numbers = list(range(10)) + list(range(5))\n",
    "print(numbers)\n",
    "print(set(numbers))"
   ]
  },
  {
   "attachments": {},
   "cell_type": "markdown",
   "metadata": {},
   "source": [
    "# Comparar conjuntos"
   ]
  },
  {
   "cell_type": "code",
   "execution_count": null,
   "metadata": {},
   "outputs": [],
   "source": [
    "s1={1,2,3,4,5}\n",
    "s2={1,2,3,4,5}\n",
    "s3={2,3,4,5}\n",
    "\n",
    "print(s1==s2)\n",
    "print(s1==s3)\n",
    "print(s1!=s3)\n"
   ]
  },
  {
   "attachments": {},
   "cell_type": "markdown",
   "metadata": {},
   "source": [
    "# Operaciones matematicas"
   ]
  },
  {
   "attachments": {},
   "cell_type": "markdown",
   "metadata": {},
   "source": [
    "Los sets tienen además diferentes funcionalidades, que se pueden aplicar en forma de operador o de método. Por ejemplo, el operador `|` nos permite realizar la **unión de dos sets**, lo que equivale a *juntarlos*,  lo que en Matemáticas sería realizar la Union de conjuntos. Equivalentemente podemos utilizar el método `union()` que veremos a continuación:"
   ]
  },
  {
   "cell_type": "code",
   "execution_count": null,
   "metadata": {},
   "outputs": [],
   "source": [
    "s1 = set([1, 2, 3])\n",
    "s2 = set([3, 4, 5])\n",
    "print(s1 | s2)"
   ]
  },
  {
   "cell_type": "code",
   "execution_count": null,
   "metadata": {},
   "outputs": [],
   "source": [
    "s1 = set([1, 2, 3,6])\n",
    "s2 = set([3, 4, 5,4])\n",
    "print(s1.union(s2))"
   ]
  },
  {
   "attachments": {},
   "cell_type": "markdown",
   "metadata": {},
   "source": [
    "# Iterar a traves de conjuntos"
   ]
  },
  {
   "cell_type": "code",
   "execution_count": null,
   "metadata": {},
   "outputs": [],
   "source": [
    "for color in colores:\n",
    "    print(color.upper() , end='  ')"
   ]
  },
  {
   "attachments": {},
   "cell_type": "markdown",
   "metadata": {},
   "source": [
    "# Métodos `set` en Python "
   ]
  },
  {
   "attachments": {},
   "cell_type": "markdown",
   "metadata": {},
   "source": [
    " <table class=\"post-table\">\n",
    "                                                <thead>\n",
    "                                                    <td>Método</td>\n",
    "                                                    <td>Descripción</td>\n",
    "                                                </thead>\n",
    "                                                <tr>\n",
    "                                                    <td>\n",
    "                                                        <code>add(e)</code>\n",
    "                                                    </td>\n",
    "                                                    <td>Añade un elemento al conjunto.</td>\n",
    "                                                </tr>\n",
    "                                                <tr>\n",
    "                                                    <td>\n",
    "                                                        <code>clear()</code>\n",
    "                                                    </td>\n",
    "                                                    <td>Elimina todos los elementos del conjunto.</td>\n",
    "                                                </tr>\n",
    "                                                <tr>\n",
    "                                                    <td>\n",
    "                                                        <code>copy()</code>\n",
    "                                                    </td>\n",
    "                                                    <td>Devuelve una copia  del conjunto.</td>\n",
    "                                                </tr>\n",
    "                                                <tr>\n",
    "                                                    <td>\n",
    "                                                        <code>difference(iterable)</code>\n",
    "                                                    </td>\n",
    "                                                    <td>\n",
    "                                                        Devuelve la diferencia del conjunto con el \n",
    "                                                        <code>iterable</code>\n",
    "                                                         como un conjunto nuevo.\n",
    "                                                    </td>\n",
    "                                                </tr>\n",
    "                                                <tr>\n",
    "                                                    <td>\n",
    "                                                        <code>difference_update(iterable)</code>\n",
    "                                                    </td>\n",
    "                                                    <td>\n",
    "                                                        Actualiza el conjunto tras realizar la diferencia con el \n",
    "                                                        <code>iterable</code>\n",
    "                                                        .\n",
    "                                                    </td>\n",
    "                                                </tr>\n",
    "                                                <tr>\n",
    "                                                    <td>\n",
    "                                                        <code>discard(e)</code>\n",
    "                                                    </td>\n",
    "                                                    <td>Elimina, si existe, el elemento del conjunto.</td>\n",
    "                                                </tr>\n",
    "                                                <tr>\n",
    "                                                    <td>\n",
    "                                                        <code>intersection(iterable)</code>\n",
    "                                                    </td>\n",
    "                                                    <td>\n",
    "                                                        Devuelve la intersección del conjunto con el \n",
    "                                                        <code>iterable</code>\n",
    "                                                         como un conjunto nuevo.\n",
    "                                                    </td>\n",
    "                                                </tr>\n",
    "                                                <tr>\n",
    "                                                    <td>\n",
    "                                                        <code>intersection_update(iterable)</code>\n",
    "                                                    </td>\n",
    "                                                    <td>\n",
    "                                                        Actualiza el conjunto tras realizar la intersección con el \n",
    "                                                        <code>iterable</code>\n",
    "                                                        .\n",
    "                                                    </td>\n",
    "                                                </tr>\n",
    "                                                <tr>\n",
    "                                                    <td>\n",
    "                                                        <code>isdisjoint(iterable)</code>\n",
    "                                                    </td>\n",
    "                                                    <td>\n",
    "                                                        Devuelve \n",
    "                                                        <code>True</code>\n",
    "                                                         si dos conjuntos son disjuntos.\n",
    "                                                    </td>\n",
    "                                                </tr>\n",
    "                                                <tr>\n",
    "                                                    <td>\n",
    "                                                        <code>issubset(iterable)</code>\n",
    "                                                    </td>\n",
    "                                                    <td>\n",
    "                                                        Devuelve \n",
    "                                                        <code>True</code>\n",
    "                                                         si el conjunto es subconjunto del \n",
    "                                                        <code>iterable</code>\n",
    "                                                        .\n",
    "                                                    </td>\n",
    "                                                </tr>\n",
    "                                                <tr>\n",
    "                                                    <td>\n",
    "                                                        <code>issuperset(iterable)</code>\n",
    "                                                    </td>\n",
    "                                                    <td>\n",
    "                                                        Devuelve \n",
    "                                                        <code>True</code>\n",
    "                                                         si el conjunto es superconjunto del \n",
    "                                                        <code>iterable</code>\n",
    "                                                        .\n",
    "                                                    </td>\n",
    "                                                </tr>\n",
    "                                                <tr>\n",
    "                                                    <td>\n",
    "                                                        <code>pop()</code>\n",
    "                                                    </td>\n",
    "                                                    <td>Obtiene y elimina un elemento de forma aleatoria del conjunto.</td>\n",
    "                                                </tr>\n",
    "                                                <tr>\n",
    "                                                    <td>\n",
    "                                                        <code>remove(e)</code>\n",
    "                                                    </td>\n",
    "                                                    <td>Elimina el elemento del conjunto. Si no existe lanza un error.</td>\n",
    "                                                </tr>\n",
    "                                                <tr>\n",
    "                                                    <td>\n",
    "                                                        <code>symmetric_difference(iterable)</code>\n",
    "                                                    </td>\n",
    "                                                    <td>\n",
    "                                                        Devuelve la diferencia simétrica del conjunto con el \n",
    "                                                        <code>iterable</code>\n",
    "                                                         como un conjunto nuevo.\n",
    "                                                    </td>\n",
    "                                                </tr>\n",
    "                                                <tr>\n",
    "                                                    <td>\n",
    "                                                        <code>symmetric_difference_update(iterable)</code>\n",
    "                                                    </td>\n",
    "                                                    <td>\n",
    "                                                        Actualiza el conjunto tras realizar la diferencia simétrica con el \n",
    "                                                        <code>iterable</code>\n",
    "                                                        .\n",
    "                                                    </td>\n",
    "                                                </tr>\n",
    "                                                <tr>\n",
    "                                                    <td>\n",
    "                                                        <code>union(iterable)</code>\n",
    "                                                    </td>\n",
    "                                                    <td>\n",
    "                                                        Devuelve la unión del conjunto con el \n",
    "                                                        <code>iterable</code>\n",
    "                                                         como un conjunto nuevo.\n",
    "                                                    </td>\n",
    "                                                </tr>\n",
    "                                                <tr>\n",
    "                                                    <td>\n",
    "                                                        <code>update(iterable)</code>\n",
    "                                                    </td>\n",
    "                                                    <td>\n",
    "                                                        Actualiza el conjunto tras realizar la unión con el \n",
    "                                                        <code>iterable</code>\n",
    "                                                        .\n",
    "                                                    </td>\n",
    "                                                </tr>\n",
    "                                            </table>"
   ]
  },
  {
   "attachments": {},
   "cell_type": "markdown",
   "metadata": {},
   "source": [
    "# Tuplas (tuple) en Python"
   ]
  },
  {
   "attachments": {},
   "cell_type": "markdown",
   "metadata": {},
   "source": [
    "Las **tuplas** o **tuples**  en Python son un tipo o estructura de datos que permite almacenar datos de una manera muy parecida a las *listas*, con la salvedad de que son ***inmutables***. Usualmente en las tuplas almacenan datos *heterogéneos*, pero los datos pueden ser *homogéneos*."
   ]
  },
  {
   "attachments": {},
   "cell_type": "markdown",
   "metadata": {},
   "source": [
    "Las **tuplas** en Python son **muy similares a las listas**, pero con la diferencia de que son **inmutables**, es decir, sus elementos  no pueden ser modificados. Al igual que con las *cadenas*, las componentes de las tuplas no pueden ser modificadas una vez declaradas. "
   ]
  },
  {
   "attachments": {},
   "cell_type": "markdown",
   "metadata": {},
   "source": [
    "## Crear tupla Python"
   ]
  },
  {
   "attachments": {},
   "cell_type": "markdown",
   "metadata": {},
   "source": [
    "Para crear una tupla en Python se inicializa con  `( )` en lugar de corchetes."
   ]
  },
  {
   "cell_type": "code",
   "execution_count": null,
   "metadata": {},
   "outputs": [],
   "source": [
    "tupla = (1,2,3,1,3)\n",
    "print(tupla)"
   ]
  },
  {
   "attachments": {},
   "cell_type": "markdown",
   "metadata": {},
   "source": [
    "También pueden declararse sin `( )`, separando por **`,`** todos sus elementos:"
   ]
  },
  {
   "cell_type": "code",
   "execution_count": null,
   "metadata": {},
   "outputs": [],
   "source": [
    "tupla = 1,2,3,1,3\n",
    "print(type(tupla))\n",
    "print(tupla)"
   ]
  },
  {
   "attachments": {},
   "cell_type": "markdown",
   "metadata": {},
   "source": [
    "## Accediendo a los elementos de la tupla"
   ]
  },
  {
   "attachments": {},
   "cell_type": "markdown",
   "metadata": {},
   "source": [
    "Como hemos comentado, las tuplas son tipos inmutables, lo que significa que una vez asignado su valor, no puede ser modificado. Si se intenta, tendremos un TypeError."
   ]
  },
  {
   "cell_type": "code",
   "execution_count": null,
   "metadata": {},
   "outputs": [],
   "source": [
    "tupla = (1,2,3,1,3)\n",
    "tupla[0] = 5"
   ]
  },
  {
   "attachments": {},
   "cell_type": "markdown",
   "metadata": {},
   "source": [
    "Sin embargo, **si es posible acceder  a cada uno de sus elementos mediante sus índices**:"
   ]
  },
  {
   "cell_type": "code",
   "execution_count": 2,
   "metadata": {},
   "outputs": [
    {
     "name": "stdout",
     "output_type": "stream",
     "text": [
      "True\n"
     ]
    },
    {
     "data": {
      "text/plain": [
       "1"
      ]
     },
     "execution_count": 2,
     "metadata": {},
     "output_type": "execute_result"
    }
   ],
   "source": [
    "tupla = (1,2,3,1,3)\n",
    "print(3 in tupla)\n",
    "tupla[0] "
   ]
  },
  {
   "attachments": {},
   "cell_type": "markdown",
   "metadata": {},
   "source": [
    "Al igual que las listas, las tuplas también pueden ser anidadas."
   ]
  },
  {
   "cell_type": "code",
   "execution_count": null,
   "metadata": {},
   "outputs": [],
   "source": [
    "tupla = 1,2,('a', 'b'),3\n",
    "print(tupla)      \n",
    "print(tupla[2][0])"
   ]
  },
  {
   "attachments": {},
   "cell_type": "markdown",
   "metadata": {},
   "source": [
    "## Agregar elementos a una cadena o tupla"
   ]
  },
  {
   "attachments": {},
   "cell_type": "markdown",
   "metadata": {},
   "source": [
    "Al igual que con las listas, la declaración de asignación  `+=` se puede usar con cadenas y tuplas, aunque son inmutables. En el siguiente código, después de las dos asignaciones, `tuple1` y `tuple2` se refieren al mismo objeto de tupla"
   ]
  },
  {
   "cell_type": "code",
   "execution_count": 5,
   "metadata": {},
   "outputs": [
    {
     "data": {
      "text/plain": [
       "(10, 20, 30)"
      ]
     },
     "execution_count": 5,
     "metadata": {},
     "output_type": "execute_result"
    }
   ],
   "source": [
    "tuple1 = (10, 20, 30)\n",
    "tuple2 = tuple1\n",
    "\n",
    "tuple2"
   ]
  },
  {
   "attachments": {},
   "cell_type": "markdown",
   "metadata": {},
   "source": [
    "Concatenar la tupla `(40, 50)` a `tupla1` crea una nueva tupla, luego le asigna una referencia a la variable `tupla1`, mientras que `tupla2` todavía se refiere a la tupla original: "
   ]
  },
  {
   "cell_type": "code",
   "execution_count": 6,
   "metadata": {},
   "outputs": [
    {
     "data": {
      "text/plain": [
       "(10, 20, 30, 40, 50)"
      ]
     },
     "execution_count": 6,
     "metadata": {},
     "output_type": "execute_result"
    }
   ],
   "source": [
    "tuple1 += (40, 50)\n",
    "\n",
    "tuple1\n",
    "\n"
   ]
  },
  {
   "attachments": {},
   "cell_type": "markdown",
   "metadata": {},
   "source": [
    "### Observación:\n",
    "\n",
    "Para una cadena o tupla, el elemento a la derecha de += debe ser una cadena o tupla, respectivamente. Mezclar tipos provoca un `TypeError`."
   ]
  },
  {
   "attachments": {},
   "cell_type": "markdown",
   "metadata": {},
   "source": [
    "## Agregar tuplas a las listas"
   ]
  },
  {
   "attachments": {},
   "cell_type": "markdown",
   "metadata": {},
   "source": [
    "Se puede utilizar `+=` para agregar una *tupla* a una *lista*:"
   ]
  },
  {
   "cell_type": "code",
   "execution_count": 9,
   "metadata": {},
   "outputs": [
    {
     "name": "stdout",
     "output_type": "stream",
     "text": [
      "[1, 2, 3, 4, 5, 6, 7]\n"
     ]
    },
    {
     "ename": "ValueError",
     "evalue": "0 is not in list",
     "output_type": "error",
     "traceback": [
      "\u001b[0;31m---------------------------------------------------------------------------\u001b[0m",
      "\u001b[0;31mValueError\u001b[0m                                Traceback (most recent call last)",
      "\u001b[0;32m/var/folders/cv/9b0z6xrs33j_klsdlq5l4_2c0000gn/T/ipykernel_27295/420418591.py\u001b[0m in \u001b[0;36m<module>\u001b[0;34m\u001b[0m\n\u001b[1;32m      4\u001b[0m \u001b[0;34m\u001b[0m\u001b[0m\n\u001b[1;32m      5\u001b[0m \u001b[0mprint\u001b[0m\u001b[0;34m(\u001b[0m\u001b[0mnumbers\u001b[0m\u001b[0;34m)\u001b[0m\u001b[0;34m\u001b[0m\u001b[0;34m\u001b[0m\u001b[0m\n\u001b[0;32m----> 6\u001b[0;31m \u001b[0mnumbers\u001b[0m\u001b[0;34m.\u001b[0m\u001b[0mindex\u001b[0m\u001b[0;34m(\u001b[0m\u001b[0;36m0\u001b[0m\u001b[0;34m)\u001b[0m\u001b[0;34m\u001b[0m\u001b[0;34m\u001b[0m\u001b[0m\n\u001b[0m",
      "\u001b[0;31mValueError\u001b[0m: 0 is not in list"
     ]
    }
   ],
   "source": [
    "numbers = [1, 2, 3, 4, 5]\n",
    "\n",
    "numbers += (6, 7)\n",
    "\n",
    "print(numbers)\n",
    "numbers.index(0)"
   ]
  },
  {
   "attachments": {},
   "cell_type": "markdown",
   "metadata": {},
   "source": [
    "## Convertir una lista en una tupla"
   ]
  },
  {
   "attachments": {},
   "cell_type": "markdown",
   "metadata": {},
   "source": [
    "También es posible **convertir una lista en tupla** haciendo uso de la función `tuple( )`."
   ]
  },
  {
   "cell_type": "code",
   "execution_count": null,
   "metadata": {},
   "outputs": [],
   "source": [
    "lista = [1,2,3,1,3]\n",
    "tupla = tuple(lista)\n",
    "print(type(tupla)) \n",
    "print(tupla) "
   ]
  },
  {
   "attachments": {},
   "cell_type": "markdown",
   "metadata": {},
   "source": [
    "## Iterandos sobre tuplas"
   ]
  },
  {
   "attachments": {},
   "cell_type": "markdown",
   "metadata": {},
   "source": [
    "Se puede iterar una tupla de la misma forma que se hacía con las listas."
   ]
  },
  {
   "cell_type": "code",
   "execution_count": null,
   "metadata": {},
   "outputs": [],
   "source": [
    "tupla = (1,2,3,1,3)\n",
    "for t in tupla:\n",
    "    print(t)"
   ]
  },
  {
   "attachments": {},
   "cell_type": "markdown",
   "metadata": {},
   "source": [
    "## Desempaquetado secuencias"
   ]
  },
  {
   "attachments": {},
   "cell_type": "markdown",
   "metadata": {},
   "source": [
    "Se puede también **asignar el valor de una tupla con $n$ elementos a $n$ variables**."
   ]
  },
  {
   "cell_type": "code",
   "execution_count": null,
   "metadata": {},
   "outputs": [],
   "source": [
    "tupla = (1, 2, 3)\n",
    "x, y, z = tupla\n",
    "print(x, y, z)"
   ]
  },
  {
   "cell_type": "code",
   "execution_count": null,
   "metadata": {},
   "outputs": [],
   "source": [
    "tupla_estudiante = ('Amanda', [9.8, 8.5, 8.7,6])\n",
    "nombre, calificaciones = tupla_estudiante\n",
    "\n",
    "print(nombre)\n",
    "\n",
    "print(calificaciones)"
   ]
  },
  {
   "cell_type": "code",
   "execution_count": null,
   "metadata": {},
   "outputs": [],
   "source": [
    "number1 = 99\n",
    "number2 = 22\n",
    "\n",
    "number1, number2 = (number2, number1)\n",
    "\n",
    "print(f'number1 = {number1}, number2 = {number2}')"
   ]
  },
  {
   "attachments": {},
   "cell_type": "markdown",
   "metadata": {},
   "source": [
    "El siguiente código desempaqueta una cadena, una lista y una secuencia producida por rango:"
   ]
  },
  {
   "cell_type": "code",
   "execution_count": null,
   "metadata": {},
   "outputs": [],
   "source": [
    "primero, segundo = 'Hi'"
   ]
  },
  {
   "cell_type": "code",
   "execution_count": null,
   "metadata": {},
   "outputs": [],
   "source": [
    "number1, number2, number3 = [2, 3, 5]"
   ]
  },
  {
   "cell_type": "code",
   "execution_count": null,
   "metadata": {},
   "outputs": [],
   "source": [
    "number1, number2, number3 = range(10, 40, 10)"
   ]
  },
  {
   "attachments": {},
   "cell_type": "markdown",
   "metadata": {},
   "source": [
    "# Tuplas con un sólo elemento "
   ]
  },
  {
   "attachments": {},
   "cell_type": "markdown",
   "metadata": {},
   "source": [
    "Aunque tal vez no tenga mucho sentido a nivel práctico, es posible crear una tupla de un solo elemento. Para ello debes usar , antes del paréntesis, porque de lo contrario (2) sería interpretado como int."
   ]
  },
  {
   "cell_type": "code",
   "execution_count": null,
   "metadata": {},
   "outputs": [],
   "source": [
    "tupla = (2,)\n",
    "print(type(tupla)) \n",
    "print(tupla)"
   ]
  },
  {
   "attachments": {},
   "cell_type": "markdown",
   "metadata": {},
   "source": [
    "# Longitud de una tupla"
   ]
  },
  {
   "attachments": {},
   "cell_type": "markdown",
   "metadata": {},
   "source": [
    "A las tuplas  se les puede aplicar la función `len()` para calcular su longitud. El valor de esta función aplicada a una tupla nos indica cuántas componentes tiene esa tupla."
   ]
  },
  {
   "attachments": {},
   "cell_type": "markdown",
   "metadata": {},
   "source": [
    "## Métodos tuplas"
   ]
  },
  {
   "attachments": {},
   "cell_type": "markdown",
   "metadata": {},
   "source": [
    "### Método `count( )`\n",
    "\n",
    "El método `count( )` cuenta el número de veces que el objeto pasado como parámetro se ha encontrado en la lista."
   ]
  },
  {
   "cell_type": "code",
   "execution_count": null,
   "metadata": {},
   "outputs": [],
   "source": [
    "tupla = [1, 1, 1, 3, 5]\n",
    "print(tupla.count(1))"
   ]
  },
  {
   "attachments": {},
   "cell_type": "markdown",
   "metadata": {},
   "source": [
    "### Método `index( )`\n",
    "\n",
    "El método `index( )` **busca el objeto que se le pasa como parámetro** y **devuelve el índice en el que se ha encontrado**"
   ]
  },
  {
   "cell_type": "code",
   "execution_count": null,
   "metadata": {},
   "outputs": [],
   "source": [
    "tupla = [7, 7, 7, 3, 5]\n",
    "print(tupla.index(5))"
   ]
  },
  {
   "attachments": {},
   "cell_type": "markdown",
   "metadata": {},
   "source": [
    "En el caso de no encontrarse, se devuelve un ValueError."
   ]
  },
  {
   "cell_type": "code",
   "execution_count": null,
   "metadata": {},
   "outputs": [],
   "source": [
    "l = [7, 7, 7, 3, 5]\n",
    "print(l.index(35))"
   ]
  },
  {
   "attachments": {},
   "cell_type": "markdown",
   "metadata": {},
   "source": [
    "### Método `index( )`\n",
    " \n",
    "El método `index( )` también acepta un segundo parámetro opcional, que indica a partir de que índice empezar a buscar el objeto."
   ]
  },
  {
   "cell_type": "code",
   "execution_count": null,
   "metadata": {},
   "outputs": [],
   "source": [
    "tupla = [7, 7, 7, 3, 5]\n",
    "print(tupla.index(7, 2))"
   ]
  },
  {
   "attachments": {},
   "cell_type": "markdown",
   "metadata": {},
   "source": [
    "## Acceder a índices y valores con la función integrada enumerar"
   ]
  },
  {
   "attachments": {},
   "cell_type": "markdown",
   "metadata": {},
   "source": [
    "## Indices"
   ]
  },
  {
   "attachments": {},
   "cell_type": "markdown",
   "metadata": {},
   "source": [
    "Para acceder al índice y valor de un elementoes recomendable utilizar la función integrada `enumerate`. Esta función recibe un *iterable* y crea un *iterador* que, para cada elemento, devuelve una *tupla* que contiene el *índice* y el *valor del elemento*. \n",
    "\n",
    "El siguiente código utiliza la función predefinida `list` para crear una lista que contiene los resultados de `enumerate`"
   ]
  },
  {
   "cell_type": "code",
   "execution_count": null,
   "metadata": {},
   "outputs": [],
   "source": [
    "colores = ['rojo','verde','amarillo','azul']\n",
    "list(enumerate(colores))"
   ]
  },
  {
   "attachments": {},
   "cell_type": "markdown",
   "metadata": {},
   "source": [
    "Similarmente, la función predefinida `tuple` crea una tupla de una secuencia: "
   ]
  },
  {
   "cell_type": "code",
   "execution_count": null,
   "metadata": {},
   "outputs": [],
   "source": [
    "tuple(enumerate(colores))"
   ]
  },
  {
   "attachments": {},
   "cell_type": "markdown",
   "metadata": {},
   "source": [
    "En  el codigo siguiente el ciclo `for` *desempaqueta* cada tupla retornada por enumerate en las variables `indice` y `valor`  y las muestra:"
   ]
  },
  {
   "cell_type": "code",
   "execution_count": null,
   "metadata": {},
   "outputs": [],
   "source": [
    "for indice, valor in enumerate(colores):\n",
    "    print(f'{indice}: {valor}')"
   ]
  },
  {
   "attachments": {},
   "cell_type": "markdown",
   "metadata": {},
   "source": [
    "## Métodos de tuplas en Python"
   ]
  },
  {
   "attachments": {},
   "cell_type": "markdown",
   "metadata": {},
   "source": [
    "<table>\n",
    "  <tr>\n",
    "    <th>Método</th>\n",
    "    <th>Descripción</th>\n",
    "    <th>Ejemplo</th>\n",
    "  </tr>\n",
    "  <tr>\n",
    "    <td><strong>count()</strong></td>\n",
    "    <td>Cuenta el número de ocurrencias de un elemento en una tupla</td>\n",
    "    <td>(1,2,3,2,2).count(2) devuelve 3</td>\n",
    "  </tr>\n",
    "  <tr>\n",
    "    <td><strong>index()</strong></td>\n",
    "    <td>Devuelve el índice de la primera ocurrencia de un elemento en una tupla</td>\n",
    "    <td>(1,2,3,2,2).index(2) devuelve 1</td>\n",
    "  </tr>\n",
    "  <tr>\n",
    "    <td><strong>len()</strong></td>\n",
    "    <td>Devuelve la longitud de una tupla</td>\n",
    "    <td>len((1,2,3)) devuelve 3</td>\n",
    "  </tr>\n",
    "  <tr>\n",
    "    <td><strong>max()</strong></td>\n",
    "    <td>Devuelve el elemento máximo de una tupla</td>\n",
    "    <td>max((1,2,3)) devuelve 3</td>\n",
    "  </tr>\n",
    "  <tr>\n",
    "    <td><strong>min()</strong></td>\n",
    "    <td>Devuelve el elemento mínimo de una tupla</td>\n",
    "    <td>min((1,2,3)) devuelve 1</td>\n",
    "  </tr>\n",
    "  <tr>\n",
    "    <td><strong>sorted()</strong></td>\n",
    "    <td>Devuelve una lista ordenada de los elementos de una tupla</td>\n",
    "    <td>sorted((3,2,1)) devuelve [1,2,3]</td>\n",
    "  </tr>\n",
    "  <tr>\n",
    "    <td><strong>tuple()</strong></td>\n",
    "    <td>Convierte una secuencia en una tupla</td>\n",
    "    <td>tuple([1,2,3]) devuelve (1,2,3)</td>\n",
    "  </tr>\n",
    "  <tr>\n",
    "    <td><strong>+(operador de concatenación)</strong></td>\n",
    "    <td>Concatena dos tuplas</td>\n",
    "    <td>(1,2) + (3,4) devuelve (1,2,3,4)</td>\n",
    "  </tr>\n",
    "  <tr>\n",
    "    <td><strong>*</strong></td>\n",
    "    <td>Repite una tupla n veces</td>\n",
    "    <td>(1,2)*3 devuelve (1,2,1,2,1,2)</td>\n",
    "  </tr>\n",
    "  <tr>\n",
    "    <td><strong>in</strong></td>\n",
    "    <td>Devuelve True si un elemento está presente en una tupla</td>\n",
    "    <td>2 in (1,2,3) devuelve True</td>\n",
    "  </tr>\n",
    "</table>\n"
   ]
  },
  {
   "attachments": {},
   "cell_type": "markdown",
   "metadata": {},
   "source": []
  }
 ],
 "metadata": {
  "kernelspec": {
   "display_name": "Python 3",
   "language": "python",
   "name": "python3"
  },
  "language_info": {
   "codemirror_mode": {
    "name": "ipython",
    "version": 3
   },
   "file_extension": ".py",
   "mimetype": "text/x-python",
   "name": "python",
   "nbconvert_exporter": "python",
   "pygments_lexer": "ipython3",
   "version": "3.9.13"
  },
  "orig_nbformat": 4,
  "vscode": {
   "interpreter": {
    "hash": "1606ed296fe21ab67c1d4b49f3f22d72247524c93f58d404930dbd4d15d6017c"
   }
  }
 },
 "nbformat": 4,
 "nbformat_minor": 2
}
