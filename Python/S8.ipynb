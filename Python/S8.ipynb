{
 "cells": [
  {
   "attachments": {},
   "cell_type": "markdown",
   "metadata": {},
   "source": [
    "# Errores y excepciones\n"
   ]
  },
  {
   "attachments": {},
   "cell_type": "markdown",
   "metadata": {},
   "source": [
    "En un programa podemos encontrarnos con distintos tipos de errores pero a grandes rasgos podemos decir que todos los errores pertenecen a una de las siguientes categorías."
   ]
  },
  {
   "attachments": {},
   "cell_type": "markdown",
   "metadata": {},
   "source": [
    "\n",
    "***Errores de sintaxis:*** estos errores son seguramente los más simples de resolver, pues son detectados por el intérprete (o por el compilador, según el tipo de lenguaje que estemos utilizando) al procesar el código fuente y generalmente son consecuencia de equivocaciones al escribir el programa. En el caso de Python estos errores son indicados con un mensaje `SyntaxError`. Por ejemplo, si trabajando con Python intentamos definir una función y en lugar de `def` escribimos `dev`.\n",
    "\n",
    "***Errores semánticos:*** se dan cuando un programa, a pesar de no generar mensajes de error, no produce el resultado esperado. Esto puede deberse, por ejemplo, a un algoritmo incorrecto o a la omisión de una sentencia.\n",
    "\n",
    "***Errores de ejecución:*** estos errores aparecen durante la ejecución del programa y su origen puede ser diverso. En ocasiones pueden producirse por un uso incorrecto del programa por parte del usuario, por ejemplo si el usuario ingresa una cadena cuando se espera un número. En otras ocasiones pueden deberse a errores de programación, por ejemplo si una función intenta acceder a la quinta posición de una lista de 3 elementos o realizar una división por cero. Una causa común de errores de ejecución que generalmente excede al programador y al usuario, son los recursos externos al programa, por ejemplo si el programa intenta leer un archivo y el mismo se encuentra dañado.\n"
   ]
  },
  {
   "attachments": {},
   "cell_type": "markdown",
   "metadata": {},
   "source": [
    "Tanto a los errores de sintaxis como a los semánticos se los puede detectar y corregir durante la construcción del programa ayudados por el intérprete y la ejecución de pruebas. Pero no ocurre esto con los errores de ejecución ya que no siempre es posible saber cuando ocurrirán y puede resultar muy complejo (o incluso casi imposible) reproducirlos. Es por ello nos centraremos en cómo preparar nuestros programas para lidiar con este tipo de errores."
   ]
  },
  {
   "attachments": {},
   "cell_type": "markdown",
   "metadata": {},
   "source": [
    "Los errores de ejecución son llamados comúnmente **excepciones**. Durante la ejecución de un programa, si dentro de una función surge una excepción y la función no la *maneja*, la excepción se propaga hacia la función que la invocó, si esta otra tampoco la *maneja*, la excepción continua propagándose hasta llegar a la función inicial del programa y si esta tampoco la *maneja* se interrumpe la ejecución del programa."
   ]
  },
  {
   "attachments": {},
   "cell_type": "markdown",
   "metadata": {},
   "source": [
    "## Excepciones en Python"
   ]
  },
  {
   "attachments": {},
   "cell_type": "markdown",
   "metadata": {},
   "source": [
    "\n",
    "Las ***excepciones*** en Python son una herramienta muy potente, se trata de una forma de controlar el comportamiento de un programa cuando se produce un error.\n",
    "\n",
    "Esto es muy importante ya que salvo que tratemos este error, el programa se parará, y esto es algo que en determinadas aplicaciones no es una opción válida."
   ]
  },
  {
   "attachments": {},
   "cell_type": "markdown",
   "metadata": {},
   "source": [
    "Imaginemos que tenemos el siguiente código con dos variables `a` y `b` y realizamos su división `a/b`."
   ]
  },
  {
   "cell_type": "code",
   "execution_count": 2,
   "metadata": {},
   "outputs": [],
   "source": [
    "a = 4\n",
    "b = 2\n",
    "c = a/b\n"
   ]
  },
  {
   "attachments": {},
   "cell_type": "markdown",
   "metadata": {},
   "source": [
    "Pero imaginemos ahora que por cualquier motivo las variables tienen otro valor, y que por ejemplo `b` tiene el valor `0`. **Si intentamos hacer la división entre cero**, este programa dará un error y su ejecución terminará de manera abrupta."
   ]
  },
  {
   "cell_type": "code",
   "execution_count": 3,
   "metadata": {},
   "outputs": [
    {
     "ename": "ZeroDivisionError",
     "evalue": "division by zero",
     "output_type": "error",
     "traceback": [
      "\u001b[0;31m---------------------------------------------------------------------------\u001b[0m",
      "\u001b[0;31mZeroDivisionError\u001b[0m                         Traceback (most recent call last)",
      "Cell \u001b[0;32mIn[3], line 3\u001b[0m\n\u001b[1;32m      1\u001b[0m a \u001b[39m=\u001b[39m \u001b[39m4\u001b[39m\n\u001b[1;32m      2\u001b[0m b \u001b[39m=\u001b[39m \u001b[39m0\u001b[39m\n\u001b[0;32m----> 3\u001b[0m \u001b[39mprint\u001b[39m(a\u001b[39m/\u001b[39;49mb)\n",
      "\u001b[0;31mZeroDivisionError\u001b[0m: division by zero"
     ]
    }
   ],
   "source": [
    "a = 4\n",
    "b = 0\n",
    "print(a/b)"
   ]
  },
  {
   "attachments": {},
   "cell_type": "markdown",
   "metadata": {},
   "source": [
    "Ese *error* que decimos que ha ocurrido es lanzado por Python ya que la división entre cero es una operación que matemáticamente no está definida. Se trata de la excepción` ZeroDivisionError`. "
   ]
  },
  {
   "attachments": {},
   "cell_type": "markdown",
   "metadata": {},
   "source": [
    "**Veamos un ejemplo con otra excepción**. ¿Que pasaría si intentásemos sumar un número con un texto? Evidentemente esto no tiene ningún sentido, y Python define una excepción para esto llamada `TypeError`."
   ]
  },
  {
   "cell_type": "code",
   "execution_count": 4,
   "metadata": {},
   "outputs": [
    {
     "ename": "TypeError",
     "evalue": "unsupported operand type(s) for +: 'int' and 'str'",
     "output_type": "error",
     "traceback": [
      "\u001b[0;31m---------------------------------------------------------------------------\u001b[0m",
      "\u001b[0;31mTypeError\u001b[0m                                 Traceback (most recent call last)",
      "Cell \u001b[0;32mIn[4], line 1\u001b[0m\n\u001b[0;32m----> 1\u001b[0m \u001b[39mprint\u001b[39m(\u001b[39m2\u001b[39;49m \u001b[39m+\u001b[39;49m \u001b[39m\"\u001b[39;49m\u001b[39m2\u001b[39;49m\u001b[39m\"\u001b[39;49m)\n",
      "\u001b[0;31mTypeError\u001b[0m: unsupported operand type(s) for +: 'int' and 'str'"
     ]
    }
   ],
   "source": [
    "print(2 + \"2\")"
   ]
  },
  {
   "cell_type": "code",
   "execution_count": 5,
   "metadata": {},
   "outputs": [
    {
     "ename": "ValueError",
     "evalue": "invalid literal for int() with base 10: 't'",
     "output_type": "error",
     "traceback": [
      "\u001b[0;31m---------------------------------------------------------------------------\u001b[0m",
      "\u001b[0;31mValueError\u001b[0m                                Traceback (most recent call last)",
      "Cell \u001b[0;32mIn[5], line 1\u001b[0m\n\u001b[0;32m----> 1\u001b[0m x\u001b[39m=\u001b[39m\u001b[39mint\u001b[39;49m(\u001b[39minput\u001b[39;49m(\u001b[39m'\u001b[39;49m\u001b[39mIngresa un numero\u001b[39;49m\u001b[39m'\u001b[39;49m))\n",
      "\u001b[0;31mValueError\u001b[0m: invalid literal for int() with base 10: 't'"
     ]
    }
   ],
   "source": [
    "x=int(input('Ingresa un numero'))"
   ]
  },
  {
   "attachments": {},
   "cell_type": "markdown",
   "metadata": {},
   "source": [
    "Es muy importante controlar las excepciones, porque por muchas comprobaciones que realicemos es posible que en algún momento ocurra una, y si no se hace nada el programa se detendrá."
   ]
  },
  {
   "attachments": {},
   "cell_type": "markdown",
   "metadata": {},
   "source": [
    "**¿Puedes imaginar que en un avión, el metro de la CDMX o un cajero automático ocurra un error y se detenga por completo?**"
   ]
  },
  {
   "attachments": {},
   "cell_type": "markdown",
   "metadata": {},
   "source": [
    " ## Manejo de excepciones"
   ]
  },
  {
   "attachments": {},
   "cell_type": "markdown",
   "metadata": {},
   "source": [
    "Una primera aproximación al control de excepciones podría ser el siguiente ejemplo. Podemos realizar una comprobación manual de que no estamos dividiendo por cero, para así evitar tener un error tipo `ZeroDivisionError`."
   ]
  },
  {
   "cell_type": "code",
   "execution_count": null,
   "metadata": {},
   "outputs": [],
   "source": [
    "a = 5\n",
    "b = 0\n",
    "if b!=0:\n",
    "    print(a/b)\n",
    "else:\n",
    "    print(\"No se puede dividir!\")"
   ]
  },
  {
   "attachments": {},
   "cell_type": "markdown",
   "metadata": {},
   "source": [
    "Para el **manejo de excepciones** Python provee ciertas palabras reservadas, que nos permiten manejar las excepciones que puedan surgir y tomar acciones de recuperación para evitar la interrupción del programa o, al menos, para realizar algunas acciones adicionales antes de interrumpir el programa."
   ]
  },
  {
   "attachments": {},
   "cell_type": "markdown",
   "metadata": {},
   "source": [
    "En el caso de Python, el manejo de excepciones se hace mediante los bloques que utilizan las sentencias `try`, `except` y `finally`"
   ]
  },
  {
   "attachments": {},
   "cell_type": "markdown",
   "metadata": {},
   "source": [
    "# Sentencias `try` - `except`"
   ]
  },
  {
   "attachments": {},
   "cell_type": "markdown",
   "metadata": {},
   "source": [
    "Las excepciones que hemos visto antes, pueden ser capturadas y manejadas adecuadamente, sin que el programa se detenga. Veamos un ejemplo con la división entre cero."
   ]
  },
  {
   "cell_type": "code",
   "execution_count": 7,
   "metadata": {},
   "outputs": [
    {
     "name": "stdout",
     "output_type": "stream",
     "text": [
      "¡No se ha podido realizar la división, division entre cero!\n"
     ]
    }
   ],
   "source": [
    "a = 5; b = 0\n",
    "try:\n",
    "    c = a/b\n",
    "    print(c)\n",
    "except:\n",
    "    print(\"¡No se ha podido realizar la división, division entre cero!\")"
   ]
  },
  {
   "attachments": {},
   "cell_type": "markdown",
   "metadata": {},
   "source": [
    "En este caso, se levantó la excepción `ZeroDivisionError` cuando se quiso hacer la división. Para evitar que se levante la excepción y se detenga la ejecución del programa, se utiliza el bloque `try-except`."
   ]
  },
  {
   "attachments": {},
   "cell_type": "markdown",
   "metadata": {},
   "source": [
    "En este caso no verificamos que `b!=0`. Directamente intentamos realizar la división y en el caso de que se lance la excepción `ZeroDivisionError`, la ***capturamos*** y la ***tratamos*** adecuadamente."
   ]
  },
  {
   "attachments": {},
   "cell_type": "markdown",
   "metadata": {},
   "source": [
    "* La sentencia `try` **contiene el bloque de código que puede *ocasionar* o *levantar* una excepción** o un error. Se utiliza el término levantar para referirse a la acción de generar una excepción.\n",
    "\n",
    "* A continuación se ubica el bloque `except`, que se encarga de capturar la excepción y nos da la oportunidad de procesarla mostrando por ejemplo un mensaje adecuado al usuario. **Contiene el bloque de código que se ejecutará si y sólo si un error es detectado** en nuestro código. "
   ]
  },
  {
   "attachments": {},
   "cell_type": "markdown",
   "metadata": {},
   "source": [
    "\n",
    "Por ejemplo, las siguientes líneas de código siguiente nos dará error si el usuario introduce letras en lugar de números:  "
   ]
  },
  {
   "cell_type": "code",
   "execution_count": 8,
   "metadata": {},
   "outputs": [
    {
     "ename": "ValueError",
     "evalue": "invalid literal for int() with base 10: 'hi'",
     "output_type": "error",
     "traceback": [
      "\u001b[0;31m---------------------------------------------------------------------------\u001b[0m",
      "\u001b[0;31mValueError\u001b[0m                                Traceback (most recent call last)",
      "Cell \u001b[0;32mIn[8], line 1\u001b[0m\n\u001b[0;32m----> 1\u001b[0m num\u001b[39m=\u001b[39m\u001b[39mint\u001b[39;49m(\u001b[39minput\u001b[39;49m(\u001b[39m'\u001b[39;49m\u001b[39m¿Cuantos años tienes?\u001b[39;49m\u001b[39m'\u001b[39;49m))\n\u001b[1;32m      2\u001b[0m \u001b[39mprint\u001b[39m(\u001b[39mf\u001b[39m\u001b[39m'\u001b[39m\u001b[39mTienes  \u001b[39m\u001b[39m{\u001b[39;00mnum\u001b[39m}\u001b[39;00m\u001b[39m años\u001b[39m\u001b[39m'\u001b[39m)\n",
      "\u001b[0;31mValueError\u001b[0m: invalid literal for int() with base 10: 'hi'"
     ]
    }
   ],
   "source": [
    "num=int(input('¿Cuantos años tienes?'))\n",
    "print(f'Tienes  {num} años')"
   ]
  },
  {
   "attachments": {},
   "cell_type": "markdown",
   "metadata": {},
   "source": [
    "Por lo tanto podemos implementar la sentencia `try-except`:"
   ]
  },
  {
   "cell_type": "code",
   "execution_count": 10,
   "metadata": {},
   "outputs": [
    {
     "name": "stdout",
     "output_type": "stream",
     "text": [
      "Tipo de dato incorrecto\n",
      "Tienes  9 años\n"
     ]
    }
   ],
   "source": [
    "try:\n",
    "    num=int(input('¿Cuantos años tienes?'))\n",
    "    print(f'Tienes  {num} años')\n",
    "except:\n",
    "    print('Tipo de dato incorrecto')\n",
    "    num=int(input('¿Cuantos años tienes?'))\n",
    "    print(f'Tienes  {num} años')"
   ]
  },
  {
   "attachments": {},
   "cell_type": "markdown",
   "metadata": {},
   "source": [
    "## Multiples excepciones"
   ]
  },
  {
   "attachments": {},
   "cell_type": "markdown",
   "metadata": {},
   "source": [
    "Dado que dentro de un mismo bloque `try` pueden producirse excepciones de distinto tipo, es posible utilizar varios bloques `except`, cada uno para capturar un tipo distinto de excepción."
   ]
  },
  {
   "attachments": {},
   "cell_type": "markdown",
   "metadata": {},
   "source": [
    "En algunas ocasiones dentro de un mismo bloque `try` pueden producirse excepciones de distinto tipo y será necesario agregar **multiples excepciones**, para esto es posible utilizar varios bloques `except`, cada uno para capturar un tipo *distinto de excepción*. \n",
    "\n",
    "Esto se hace especificando a continuación de la sentencia `except` el nombre de la excepción (Python cuenta con palabras reservadas para *clasificar el tipo de error*) que se pretende capturar. Un mismo bloque `except` puede atrapar varios tipos de excepciones, lo cual se hace especificando los nombres de la excepciones separados por comas y entre parentesis a continuación de la palabra `except`. Es importante destacar que si bien luego de un bloque `try` puede haber varios bloques `except`, se ejecutará, a lo más uno de ellos."
   ]
  },
  {
   "cell_type": "code",
   "execution_count": 12,
   "metadata": {},
   "outputs": [
    {
     "name": "stdout",
     "output_type": "stream",
     "text": [
      "No se puede dividir entre cero!\n"
     ]
    }
   ],
   "source": [
    "try:\n",
    "    c = 5/0      \n",
    "    #d = 2 + \"Hola\"\n",
    "except ZeroDivisionError:\n",
    "    print(\"No se puede dividir entre cero!\")\n",
    "except TypeError:\n",
    "    print(\"Problema de tipos!\")"
   ]
  },
  {
   "attachments": {},
   "cell_type": "markdown",
   "metadata": {},
   "source": [
    "Puedes también hacer que un determinado número de excepciones se traten de la misma manera con el mismo bloque de código. Sin embargo suele ser más interesante tratar a diferentes excepciones de diference manera."
   ]
  },
  {
   "cell_type": "code",
   "execution_count": 13,
   "metadata": {},
   "outputs": [
    {
     "name": "stdout",
     "output_type": "stream",
     "text": [
      "Excepcion ZeroDivisionError o TypeError\n"
     ]
    }
   ],
   "source": [
    "try:\n",
    "    #c = 5/0       \n",
    "    d = 2 + \"Hola\" \n",
    "except (ZeroDivisionError, TypeError):\n",
    "    print(\"Excepcion ZeroDivisionError o TypeError\")"
   ]
  },
  {
   "attachments": {},
   "cell_type": "markdown",
   "metadata": {},
   "source": [
    "Si no sabes que excepción puede saltar, puedes usar la clase genérica `Exception`. En este caso se controla cualquier tipo de excepción. De hecho todas las excepciones heredan de `Exception`."
   ]
  },
  {
   "cell_type": "code",
   "execution_count": 14,
   "metadata": {},
   "outputs": [
    {
     "name": "stdout",
     "output_type": "stream",
     "text": [
      "Ha ocurrido una excepción\n"
     ]
    }
   ],
   "source": [
    "try:\n",
    "    #c = 5/0       \n",
    "    d = 2 + \"Hola\" \n",
    "except Exception:\n",
    "    print(\"Ha ocurrido una excepción\")"
   ]
  },
  {
   "attachments": {},
   "cell_type": "markdown",
   "metadata": {},
   "source": [
    "No obstante hay una forma de saber que excepción ha sido la que ha ocurrido."
   ]
  },
  {
   "cell_type": "code",
   "execution_count": 15,
   "metadata": {},
   "outputs": [
    {
     "name": "stdout",
     "output_type": "stream",
     "text": [
      "Ha habido una excepción <class 'TypeError'>\n"
     ]
    }
   ],
   "source": [
    "try:\n",
    "    d = 2 + \"Hola\" \n",
    "except Exception as ex:\n",
    "    print(\"Ha habido una excepción\", type(ex))\n"
   ]
  },
  {
   "attachments": {},
   "cell_type": "markdown",
   "metadata": {},
   "source": [
    "## Uso de `else`"
   ]
  },
  {
   "attachments": {},
   "cell_type": "markdown",
   "metadata": {},
   "source": [
    "A la sentencia `try-except` le podemos añadir un bloque más, el `else`. Dicho bloque **se ejecutará si no ha ocurrido ninguna excepción**. Fíjate en la diferencia entre los siguientes códigos."
   ]
  },
  {
   "cell_type": "code",
   "execution_count": 17,
   "metadata": {},
   "outputs": [
    {
     "name": "stdout",
     "output_type": "stream",
     "text": [
      "Entra en except, ha ocurrido una excepción\n"
     ]
    }
   ],
   "source": [
    "try:\n",
    "    #x = 2/5\n",
    "    x = 2/0\n",
    "except:\n",
    "    print(\"Entra en except, ha ocurrido una excepción\")\n",
    "else:\n",
    "    print(\"Entra en else, no ha ocurrido ninguna excepción\")"
   ]
  },
  {
   "attachments": {},
   "cell_type": "markdown",
   "metadata": {},
   "source": [
    "## Uso de finally"
   ]
  },
  {
   "attachments": {},
   "cell_type": "markdown",
   "metadata": {},
   "source": [
    "Finalmente, puede agregarse un bloque `finally` donde se escriben las sentencias de finalización, que son típicamente acciones de limpieza. La particularidad del bloque `finally` es que **se ejecuta siempre, haya surgido una excepción o no**. Si hay un bloque `except`, no es necesario que esté presente el finally, y es posible tener un bloque `try` sólo con finally, sin `except`.\n",
    "\n"
   ]
  },
  {
   "attachments": {},
   "cell_type": "markdown",
   "metadata": {},
   "source": [
    "Este bloque se suele usar si queremos **ejecutar algún tipo de acción de limpieza**. Si por ejemplo estamos escribiendo datos en un fichero pero ocurre una excepción, tal vez queramos borrar el contenido que hemos escrito con anterioridad, para no dejar datos inconsistenes en el fichero."
   ]
  },
  {
   "attachments": {},
   "cell_type": "markdown",
   "metadata": {},
   "source": [
    "En el siguiente código vemos un ejemplo. Haya o no haya excepción el código que haya dentro de finally será ejecutado."
   ]
  },
  {
   "cell_type": "code",
   "execution_count": 19,
   "metadata": {},
   "outputs": [
    {
     "name": "stdout",
     "output_type": "stream",
     "text": [
      "Entra en finally, se ejecuta el bloque finally\n"
     ]
    }
   ],
   "source": [
    "try:\n",
    "    x = 2/1\n",
    "except:\n",
    "    print(\"Entra en except, ha ocurrido una excepción\")\n",
    "finally:\n",
    "    print(\"Entra en finally, se ejecuta el bloque finally\")"
   ]
  },
  {
   "attachments": {},
   "cell_type": "markdown",
   "metadata": {},
   "source": [
    "**Resumen**\n",
    "\n",
    "Veamos ahora como es que actúa Python al encontrarse con estos bloques. \n",
    "\n",
    "Python comienza a ejecutar las instrucciones que se encuentran dentro de un bloque `try` normalmente. Si durante la ejecución de esas instrucciones se levanta una excepción, Python interrumpe la ejecución en el punto exacto en que surgió la excepción y pasa a la ejecución del bloque `except` correspondiente.\n",
    "\n",
    "Para ello, Python verifica uno a uno los bloques `except` y si encuentra alguno cuyo tipo haga referencia al tipo de excepción levantada, comienza a ejecutarlo. Sino encuentra ningún bloque del tipo correspondiente pero hay un bloque `except` sin tipo, lo ejecuta. Al terminar de ejecutar el bloque correspondiente, se pasa a la ejecución del bloque `finally`, si se encuentra definido.\n",
    "\n",
    "Si, por otra parte, no hay problemas durante la ejecución del bloque `try`, se completa la ejecución del bloque, y luego se pasa directamente a la ejecución del bloque `finally` (si es que está definido)."
   ]
  },
  {
   "attachments": {},
   "cell_type": "markdown",
   "metadata": {},
   "source": [
    "### Ejemplo"
   ]
  },
  {
   "attachments": {},
   "cell_type": "markdown",
   "metadata": {},
   "source": [
    "Supongamos que tenemos que escribir un  programa que tiene que procesar cierta información ingresada por el usuario y guardarla en un archivo. \n",
    "\n",
    "Dado que el acceso a archivos puede levantar excepciones, siempre deberíamos colocar el código de manipulación de archivos dentro de un bloque `try`. \n",
    "\n",
    "Luego deberíamos colocar un bloque `except` que atrape una excepción del tipo `IOError`, que es el **tipo de excepciones que lanzan la funciones de manipulación de archivos**. \n",
    "\n",
    "También  podríamos agregar un bloque `except` sin tipo por si surge alguna otra excepción. \n",
    "\n",
    "Finalmente deberíamos agregar un bloque `finally` para cerrar el archivo, haya surgido o no una excepción."
   ]
  },
  {
   "cell_type": "code",
   "execution_count": null,
   "metadata": {},
   "outputs": [],
   "source": [
    "try:\n",
    "    archivo = open('../Python/Archivos/archivo.txt','r')\n",
    "except IOError:\n",
    "    print (\"Error de entrada/salida.\")\n",
    "except:\n",
    "    # procesar la excepción\n",
    "    print('excepcion')\n",
    "finally:\n",
    "    if not(archivo.closed):\n",
    "        archivo.close()"
   ]
  },
  {
   "attachments": {},
   "cell_type": "markdown",
   "metadata": {},
   "source": [
    "## Procesamiento y propagación de excepciones"
   ]
  },
  {
   "attachments": {},
   "cell_type": "markdown",
   "metadata": {},
   "source": [
    "Hemos visto cómo atrapar excepciones, es necesario ahora que veamos qué se supone que hagamos al atrapar una excepción. En primer lugar podríamos ejecutar alguna lógica particular del caso como: cerrar un archivo, realizar una procesamiento alternativo al del bloque `try`, etc. Pero más allá de esto tenemos algunas opciones genéricas que consisten en: **dejar constancia de la ocurrencia de la excepción**, **propagar la excepción** o, incluso, hacer ambas cosas.\n",
    "\n",
    "Para dejar constancia de la ocurrencia de la excepción, se puede escribir en un archivo de log o simplemente mostrar un mensaje en pantalla. Generalmente cuando se deja constancia de la ocurrencia de una excepción se suele brindar alguna información del contexto en que ocurrió la excepción, por ejemplo: tipo de excepción ocurrida, momento en que ocurrió la excepción y cuáles fueron las llamadas previas a la excepción. El objetivo de esta información es facilitar el diagnóstico en caso de que alguien deba corregir el programa para evitar que la excepción siga apareciendo.\n",
    "\n",
    "Es posible, por otra parte, que luego de realizar algún procesamiento particular del caso se quiera que la excepción se propague hacia la función que había invocado a la función actual. Para hacer esto Python nos brinda la instrucción `raise()`.\n",
    "\n",
    "Si se invoca esta instrucción dentro de un bloque `except`, sin pasarle parámetros, Python levantará la excepción atrapada por ese bloque.\n",
    "\n",
    "También podría ocurrir que en lugar de propagar la excepción tal cual fue atrapada, quisiéramos lanzar una excepción distinta, más significativa para quien invocó a la función actual y que posiblemente contenga cierta información de contexto. Para levantar una excepción de cualquier tipo, utilizamos también la sentencia `raise`, pero indicándole el tipo de excepción que deseamos lanzar y pasando a la excepción los parámetros con información adicional que queramos brindar.\n",
    "\n"
   ]
  },
  {
   "attachments": {},
   "cell_type": "markdown",
   "metadata": {},
   "source": [
    "El siguiente fragmento de código muestra este uso de `raise`."
   ]
  },
  {
   "cell_type": "code",
   "execution_count": 20,
   "metadata": {},
   "outputs": [],
   "source": [
    "def dividir(dividendo, divisor):\n",
    "    try:\n",
    "        resultado = dividendo / divisor\n",
    "        return resultado\n",
    "    except ZeroDivisionError:\n",
    "        raise ZeroDivisionError(\"El divisor no puede ser cero\")"
   ]
  },
  {
   "cell_type": "code",
   "execution_count": 22,
   "metadata": {},
   "outputs": [
    {
     "ename": "ZeroDivisionError",
     "evalue": "El divisor no puede ser cero",
     "output_type": "error",
     "traceback": [
      "\u001b[0;31m---------------------------------------------------------------------------\u001b[0m",
      "\u001b[0;31mZeroDivisionError\u001b[0m                         Traceback (most recent call last)",
      "Cell \u001b[0;32mIn[20], line 3\u001b[0m, in \u001b[0;36mdividir\u001b[0;34m(dividendo, divisor)\u001b[0m\n\u001b[1;32m      2\u001b[0m \u001b[39mtry\u001b[39;00m:\n\u001b[0;32m----> 3\u001b[0m     resultado \u001b[39m=\u001b[39m dividendo \u001b[39m/\u001b[39;49m divisor\n\u001b[1;32m      4\u001b[0m     \u001b[39mreturn\u001b[39;00m resultado\n",
      "\u001b[0;31mZeroDivisionError\u001b[0m: division by zero",
      "\nDuring handling of the above exception, another exception occurred:\n",
      "\u001b[0;31mZeroDivisionError\u001b[0m                         Traceback (most recent call last)",
      "Cell \u001b[0;32mIn[22], line 1\u001b[0m\n\u001b[0;32m----> 1\u001b[0m dividir(\u001b[39m2\u001b[39;49m,\u001b[39m0\u001b[39;49m)\n",
      "Cell \u001b[0;32mIn[20], line 6\u001b[0m, in \u001b[0;36mdividir\u001b[0;34m(dividendo, divisor)\u001b[0m\n\u001b[1;32m      4\u001b[0m     \u001b[39mreturn\u001b[39;00m resultado\n\u001b[1;32m      5\u001b[0m \u001b[39mexcept\u001b[39;00m \u001b[39mZeroDivisionError\u001b[39;00m:\n\u001b[0;32m----> 6\u001b[0m     \u001b[39mraise\u001b[39;00m \u001b[39mZeroDivisionError\u001b[39;00m(\u001b[39m\"\u001b[39m\u001b[39mEl divisor no puede ser cero\u001b[39m\u001b[39m\"\u001b[39m)\n",
      "\u001b[0;31mZeroDivisionError\u001b[0m: El divisor no puede ser cero"
     ]
    }
   ],
   "source": [
    "dividir(2,0)"
   ]
  },
  {
   "attachments": {},
   "cell_type": "markdown",
   "metadata": {},
   "source": [
    "Podemos ser nosotros los que lancemos `ZeroDivisionError` o `NameError` usando `raise`:"
   ]
  },
  {
   "cell_type": "code",
   "execution_count": 23,
   "metadata": {},
   "outputs": [
    {
     "ename": "ZeroDivisionError",
     "evalue": "Informacion de la excepcion: Por ejemplo Division entre cero",
     "output_type": "error",
     "traceback": [
      "\u001b[0;31m---------------------------------------------------------------------------\u001b[0m",
      "\u001b[0;31mZeroDivisionError\u001b[0m                         Traceback (most recent call last)",
      "Cell \u001b[0;32mIn[23], line 1\u001b[0m\n\u001b[0;32m----> 1\u001b[0m \u001b[39mraise\u001b[39;00m \u001b[39mZeroDivisionError\u001b[39;00m(\u001b[39m\"\u001b[39m\u001b[39mInformacion de la excepcion: Por ejemplo Division entre cero\u001b[39m\u001b[39m\"\u001b[39m)\n",
      "\u001b[0;31mZeroDivisionError\u001b[0m: Informacion de la excepcion: Por ejemplo Division entre cero"
     ]
    }
   ],
   "source": [
    "raise ZeroDivisionError(\"Informacion de la excepcion: Por ejemplo Division entre cero\")"
   ]
  },
  {
   "cell_type": "markdown",
   "metadata": {},
   "source": [
    "O podemos lanzar otro de tipo `NameError`."
   ]
  },
  {
   "cell_type": "code",
   "execution_count": 24,
   "metadata": {},
   "outputs": [
    {
     "ename": "NameError",
     "evalue": "Información de la excepción",
     "output_type": "error",
     "traceback": [
      "\u001b[0;31m---------------------------------------------------------------------------\u001b[0m",
      "\u001b[0;31mNameError\u001b[0m                                 Traceback (most recent call last)",
      "Cell \u001b[0;32mIn[24], line 1\u001b[0m\n\u001b[0;32m----> 1\u001b[0m \u001b[39mraise\u001b[39;00m \u001b[39mNameError\u001b[39;00m(\u001b[39m\"\u001b[39m\u001b[39mInformación de la excepción\u001b[39m\u001b[39m\"\u001b[39m)\n",
      "\u001b[0;31mNameError\u001b[0m: Información de la excepción"
     ]
    }
   ],
   "source": [
    "raise NameError(\"Información de la excepción\")"
   ]
  },
  {
   "cell_type": "markdown",
   "metadata": {},
   "source": [
    "El string que hemos pasado se imprime a continuación de la excepción. Se puede llamar también sin ningún parámetro como se hace a continuación.\n"
   ]
  },
  {
   "cell_type": "code",
   "execution_count": null,
   "metadata": {},
   "outputs": [],
   "source": [
    "raise ZeroDivisionError"
   ]
  }
 ],
 "metadata": {
  "kernelspec": {
   "display_name": "Python 3",
   "language": "python",
   "name": "python3"
  },
  "language_info": {
   "codemirror_mode": {
    "name": "ipython",
    "version": 3
   },
   "file_extension": ".py",
   "mimetype": "text/x-python",
   "name": "python",
   "nbconvert_exporter": "python",
   "pygments_lexer": "ipython3",
   "version": "3.11.2"
  },
  "orig_nbformat": 4,
  "vscode": {
   "interpreter": {
    "hash": "ce4d963573401a72c80fabe1ef75418dde5088fa46d743e51eca5fefbd048d5c"
   }
  }
 },
 "nbformat": 4,
 "nbformat_minor": 2
}
