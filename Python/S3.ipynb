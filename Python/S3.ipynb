{
 "cells": [
  {
   "attachments": {},
   "cell_type": "markdown",
   "metadata": {},
   "source": [
    "# Operadores de asignación"
   ]
  },
  {
   "attachments": {},
   "cell_type": "markdown",
   "metadata": {},
   "source": [
    "Los **operadores de asignación en Python** son una forma de simplificar la **asignación de valores a una variable**. \n",
    "\n",
    "En la siguiente  tabla se describen los operadores de asignación disponibles en Python, su sintaxis, y su equivalente a la sintaxis tradicional de asignación.\n",
    "<!-- \n",
    "* `=` : asigna el valor de la expresión del lado derecho al nombre de variable del lado izquierdo. Por ejemplo: `a = 10`.\n",
    "\n",
    "* `+=` : incrementa el valor de la variable del lado izquierdo por el valor de la expresión del lado derecho, y luego asigna el resultado a la misma variable. Por ejemplo, `x += 3` es equivalente a `x = x + 3`.\n",
    "\n",
    "* `-=` : disminuye el valor de la variable del lado izquierdo por el valor de la expresión del lado derecho, y luego asigna el resultado a la misma variable. Por ejemplo, `x -= 3` es equivalente a `x = x - 3`.\n",
    "\n",
    "* `*=` : multiplica el valor de la variable del lado izquierdo por el valor de la expresión del lado derecho, y luego asigna el resultado a la misma variable. Por ejemplo, `x *= 3` es equivalente a `x = x * 3`.\n",
    "\n",
    "* `/=` : divide el valor de la variable del lado izquierdo por el valor de la expresión del lado derecho, y luego asigna el resultado a la misma variable. Por ejemplo, `x /= 3` es equivalente a `x = x / 3`.\n",
    "\n",
    "* `//=` : realiza la división entera del valor de la variable del lado izquierdo por el valor de la expresión del lado derecho, y luego asigna el resultado a la misma variable. Por ejemplo, `x //= 3` es equivalente a `x = x // 3`.\n",
    "\n",
    "* `%=` : asigna el resto de la división del valor de la variable del lado izquierdo por el valor de la expresión del lado derecho, y luego asigna el resultado a la misma variable. Por ejemplo, `x %= 3` es equivalente a `x = x % 3`.\n",
    "\n",
    "* `**=`: asigna el resultado de elevar el valor de la variable del lado izquierdo a la potencia de la expresión del lado derecho y luego lo asigna a la misma variable. Por ejemplo, `x **= 3` es equivalente a `x = x ** 3`.\n",
    "\n",
    "\n",
    "En resumen tenemos lo siguiente: -->\n",
    "\n",
    "<center>\n",
    "\n",
    "| Operador | Ejemplo | Equivalente a |\n",
    "|----------|---------|---------------|\n",
    "| `=`      | `x = 5` | `x = 5`       |\n",
    "| `+=`     | `x += 5`| `x = x + 5`   |\n",
    "| `-=`     | `x -= 5`| `x = x - 5`   |\n",
    "| `*=`     | `x *= 5`| `x = x * 5`   |\n",
    "| `/=`     | `x /= 5`| `x = x / 5`   |\n",
    "| `%=`     | `x %= 5`| `x = x % 5`   |\n",
    "| `//=`    | `x //= 5`| `x = x // 5`  |\n",
    "| `**=`    | `x **= 5`| `x = x ** 5`  |\n",
    "\n",
    "</center>"
   ]
  },
  {
   "attachments": {},
   "cell_type": "markdown",
   "metadata": {},
   "source": [
    "Los operadores de asignación son útiles cuando se quiere **actualizar el valor de una variable en función de su valor actual**. "
   ]
  },
  {
   "attachments": {},
   "cell_type": "markdown",
   "metadata": {},
   "source": [
    "Por ejemplo, si `a` es igual a `5`, se puede utilizar el operador `+=` para incrementar su valor en `3` de la siguiente manera: `a += 3`, lo que resultaría en que a tenga un valor de `8`."
   ]
  },
  {
   "cell_type": "code",
   "execution_count": 1,
   "metadata": {},
   "outputs": [
    {
     "name": "stdout",
     "output_type": "stream",
     "text": [
      "15\n"
     ]
    }
   ],
   "source": [
    "a=5\n",
    "a*=3\n",
    "print(a)"
   ]
  },
  {
   "cell_type": "markdown",
   "metadata": {},
   "source": [
    "Aquí hay un ejemplo que utiliza los operadores de asignación:"
   ]
  },
  {
   "cell_type": "code",
   "execution_count": 2,
   "metadata": {},
   "outputs": [
    {
     "name": "stdout",
     "output_type": "stream",
     "text": [
      "13\n",
      "6.5\n",
      "0.5\n"
     ]
    }
   ],
   "source": [
    "x = 10\n",
    "x += 3  # x ahora es 13\n",
    "print(x)\n",
    "x /= 2  # x ahora es 6.5\n",
    "print(x)\n",
    "x %= 3  # x ahora es 0.5\n",
    "print(x)\n"
   ]
  },
  {
   "attachments": {},
   "cell_type": "markdown",
   "metadata": {},
   "source": [
    "En este ejemplo, se inicializa la variable `x` con el valor `10`. Luego se utilizan los operadores de asignación `+=`, `/=` y `%=` para incrementar, dividir y calcular el módulo del valor de `x`, respectivamente. Cada operación utiliza el valor actual de la variable y la cantidad especificada, y luego asigna el resultado a la misma variable."
   ]
  },
  {
   "attachments": {},
   "cell_type": "markdown",
   "metadata": {},
   "source": [
    "# Operadores de comparación"
   ]
  },
  {
   "attachments": {},
   "cell_type": "markdown",
   "metadata": {},
   "source": [
    "Los **operadores de comparación** se utilizan para comparar dos valores y devuelven un resultado verdadero o falso. En Python, los siguientes operadores de comparación están disponibles:\n",
    "\n",
    "<center>\n",
    "\n",
    "| Operador | Descripción              |\n",
    "|----------|--------------------------|\n",
    "| `==`     | Igual a                  |\n",
    "| `!=`     | Diferente de             |\n",
    "| `<`      | Menor que                |\n",
    "| `>`      | Mayor que                |\n",
    "| `<=`     | Menor o igual que        |\n",
    "| `>=`     | Mayor o igual que        |\n",
    "\n",
    "</center>\n",
    "\n",
    "Veamos cada uno de ellos en detalle:\n",
    "\n",
    "* `==` : El operador `==` compara dos valores y devuelve True si son iguales, y `False` en caso contrario. Por ejemplo: `3 == 3` devuelve `True`, mientras que `3 == 4` devuelve `False`.\n",
    "\n",
    "* `!=` : El operador `!=` compara dos valores y devuelve `True` si son diferentes, y `False` en caso contrario. Por ejemplo: `3 != 4` devuelve `True`, mientras que `3 != 3` devuelve False.\n",
    "\n",
    "* `<` : El operador `<` compara dos valores y devuelve `True` si el valor de la izquierda es menor que el de la derecha, y `False` en caso contrario. Por ejemplo: `3 < 4` devuelve `True`, mientras que` 4 < 3` devuelve `False`.\n",
    "\n",
    "* `>` : El operador `>` compara dos valores y devuelve `True` si el valor de la izquierda es mayor que el de la derecha, y `False` en caso contrario. Por ejemplo: `4 > 3` devuelve `True`, mientras que `3 > 4` devuelve `False`.\n",
    "\n",
    "* `<=` : El operador `<=` compara dos valores y devuelve `True` si el valor de la izquierda es menor o igual que el de la derecha, y `False` en caso contrario. Por ejemplo: `3 <= 3` devuelve `True`, mientras que `3 <= 2` devuelve `False`.\n",
    "\n",
    "* `>=` : El operador `>=` compara dos valores y devuelve `True` si el valor de la izquierda es mayor o igual que el de la derecha, y `False` en caso contrario. Por ejemplo: `3 >= 3` devuelve `True`, mientras que `2 >= 3` devuelve `False`."
   ]
  },
  {
   "cell_type": "markdown",
   "metadata": {},
   "source": [
    "Puede comparar los valores de dos variables utilizando los operadores mayor que y menor que . Aquí está cómo usarlos:"
   ]
  },
  {
   "cell_type": "code",
   "execution_count": 3,
   "metadata": {},
   "outputs": [
    {
     "name": "stdout",
     "output_type": "stream",
     "text": [
      "False\n"
     ]
    }
   ],
   "source": [
    "num1 = 3\n",
    "num2 = 6\n",
    "print(num1 > num2) "
   ]
  },
  {
   "cell_type": "code",
   "execution_count": 4,
   "metadata": {},
   "outputs": [
    {
     "name": "stdout",
     "output_type": "stream",
     "text": [
      "True\n"
     ]
    }
   ],
   "source": [
    "num1 = 3\n",
    "num2 = 6\n",
    "print(num1 < num2) "
   ]
  },
  {
   "cell_type": "code",
   "execution_count": 5,
   "metadata": {},
   "outputs": [
    {
     "name": "stdout",
     "output_type": "stream",
     "text": [
      "False\n"
     ]
    }
   ],
   "source": [
    "num1 = 3;num2 = 3\n",
    "\n",
    "print(num1 != num2)"
   ]
  },
  {
   "cell_type": "markdown",
   "metadata": {},
   "source": [
    "En el caso de que necesite verificar si un valor es menor , mayor o igual que otro valor, Python también tiene un operador para eso. Parece una combinación de los operadores que vimos antes:"
   ]
  },
  {
   "cell_type": "code",
   "execution_count": 6,
   "metadata": {},
   "outputs": [
    {
     "name": "stdout",
     "output_type": "stream",
     "text": [
      "True\n",
      "False\n",
      "True\n",
      "False\n"
     ]
    }
   ],
   "source": [
    "print(3 <= 5)\n",
    "print(3 >= 5)\n",
    "print(7 <= 8)\n",
    "print(7 >= 9)"
   ]
  },
  {
   "attachments": {},
   "cell_type": "markdown",
   "metadata": {},
   "source": [
    "# Operadores lógicos"
   ]
  },
  {
   "attachments": {},
   "cell_type": "markdown",
   "metadata": {},
   "source": [
    "En Python, existen tres operadores lógicos básicos: **`and`**, **`or`** y **`not`**. Estos operadores se utilizan para combinar valores lógicos o expresiones booleanas y evaluar si son verdaderos o falsos. A continuación se describen en detalle cada uno de los operadores lógicos en Python:"
   ]
  },
  {
   "attachments": {},
   "cell_type": "markdown",
   "metadata": {},
   "source": [
    "* **Operador `and`**\n",
    "\n",
    "El operador and devuelve True si y solo si ambos operandos son verdaderos. Si uno o ambos operandos son falsos, devuelve False. La tabla de verdad del operador and es la siguiente:\n",
    "<center>\n",
    "\n",
    "| A     | B     | A and B |\n",
    "|-------|-------|---------|\n",
    "| True  | True  | True    |\n",
    "| True  | False | False   |\n",
    "| False | True  | False   |\n",
    "| False | False | False   |\n",
    "</center>"
   ]
  },
  {
   "attachments": {},
   "cell_type": "markdown",
   "metadata": {},
   "source": [
    "* **Operador `or`**\n",
    "\n",
    "El operador or devuelve True si al menos uno de los operandos es verdadero. Si ambos operandos son falsos, devuelve False. La tabla de verdad del operador or es la siguiente:\n",
    "<center>\n",
    "\n",
    "| A     | B     | A or B  |\n",
    "|-------|-------|---------|\n",
    "| True  | True  | True    |\n",
    "| True  | False | True    |\n",
    "| False | True  | True    |\n",
    "| False | False | False   |\n",
    "</center>"
   ]
  },
  {
   "attachments": {},
   "cell_type": "markdown",
   "metadata": {},
   "source": [
    "* **Operador `not`**\n",
    "\n",
    "El operador not devuelve el valor opuesto a su operando. Si el operando es verdadero, devuelve False, y si es falso, devuelve True. La tabla de verdad del operador not es la siguiente:\n",
    "<center>\n",
    "\n",
    "| A    | not A |\n",
    "|------|-------|\n",
    "| True | False |\n",
    "| False| True  |\n",
    "\n",
    "</center>"
   ]
  },
  {
   "attachments": {},
   "cell_type": "markdown",
   "metadata": {},
   "source": [
    "# Operadores de pertenencia"
   ]
  },
  {
   "attachments": {},
   "cell_type": "markdown",
   "metadata": {},
   "source": [
    "\n",
    "Los operadores de pertenencia se utilizan para **verificar si un valor se encuentra en una secuencia**, como una cadena de texto, una *lista*, una *tupla* o un *conjunto*. En Python, los siguientes operadores de pertenencia están disponibles:\n",
    "\n",
    "<center>\n",
    "\n",
    "| Operador | Descripción |\n",
    "|----------|-------------|\n",
    "| `in`     | Si un valor está en la secuencia |\n",
    "| `not in` | Si un valor no está en la secuencia |\n",
    "\n",
    "\n",
    "</center>\n",
    "\n",
    "Veamos cada uno de ellos en detalle:\n",
    "\n",
    "* `in` : El operador `in` devuelve `True` si un valor está presente en una secuencia, y `False` en caso contrario. Por ejemplo: `3 in [1, 2, 3]` devuelve `True`, mientras que `4 in [1, 2, 3]` devuelve `False`.\n",
    "\n",
    "* `not in` : El operador `not` in devuelve `True` si un valor no está presente en una secuencia, y `False` en caso contrario. Por ejemplo: `4 not in [1, 2, 3]` devuelve `True`, mientras que `3 not in [1, 2, 3]` devuelve `False`."
   ]
  },
  {
   "cell_type": "code",
   "execution_count": 7,
   "metadata": {},
   "outputs": [
    {
     "name": "stdout",
     "output_type": "stream",
     "text": [
      "False\n"
     ]
    }
   ],
   "source": [
    "print(5 not in [1,4,5,6])"
   ]
  },
  {
   "cell_type": "markdown",
   "metadata": {},
   "source": []
  },
  {
   "attachments": {},
   "cell_type": "markdown",
   "metadata": {},
   "source": [
    "# Operadores de identidad "
   ]
  },
  {
   "attachments": {},
   "cell_type": "markdown",
   "metadata": {},
   "source": [
    "\n",
    "Los operadores de identidad en Python se utilizan para comparar si dos variables **apuntan a la misma ubicación en memoria**. En Python, los siguientes operadores de identidad están disponibles:\n",
    "\n",
    "<center>\n",
    "\n",
    "| Operador | Descripción |\n",
    "|----------|-------------|\n",
    "| `is`     | Si dos variables son el mismo objeto |\n",
    "| `is not` | Si dos variables no son el mismo objeto |\n",
    "\n",
    "\n",
    "</center>\n",
    "\n",
    "Veamos cada uno de ellos en detalle:\n",
    "\n",
    "* `is` : El operador `is` devuelve `True` si dos variables apuntan al mismo objeto en memoria, y `False` en caso contrario. Por ejemplo: `a is b` devuelve `True` si `a` y `b` apuntan al mismo objeto en memoria, mientras que `a is b` devuelve `False` si `a` y `b` no apuntan al mismo objeto en memoria.\n",
    "\n",
    "* `is not`: El operador `is not` devuelve `True` si dos variables no apuntan al mismo objeto en memoria, y `False` en caso contrario. Por ejemplo: `a is not b` devuelve `True` si `a` y `b` no apuntan al mismo objeto en memoria, mientras que `a is not b` devuelve `False` si `a` y `b` apuntan al mismo objeto en memoria."
   ]
  },
  {
   "cell_type": "code",
   "execution_count": 8,
   "metadata": {},
   "outputs": [
    {
     "name": "stdout",
     "output_type": "stream",
     "text": [
      "True\n"
     ]
    }
   ],
   "source": [
    "a=3\n",
    "g=3\n",
    "print(a is g)\n",
    "# b=6\n",
    "# c=2\n",
    "# d=b//c\n",
    "\n",
    "# print(a is d)"
   ]
  },
  {
   "cell_type": "markdown",
   "metadata": {},
   "source": []
  },
  {
   "cell_type": "markdown",
   "metadata": {},
   "source": [
    "# Estructuras selectivas"
   ]
  },
  {
   "attachments": {},
   "cell_type": "markdown",
   "metadata": {},
   "source": [
    "Ahora que podemos comparar dos valores, podemos hacer algo con ese resultado. Utilizando **condicionales**, ahora podemos tomar diferentes rutas de código dependiendo de si el valor dentro de él es **Verdadero** (`true`)  o **Falso** (`false`)."
   ]
  },
  {
   "attachments": {},
   "cell_type": "markdown",
   "metadata": {},
   "source": [
    "## If"
   ]
  },
  {
   "attachments": {},
   "cell_type": "markdown",
   "metadata": {},
   "source": [
    "Usar la instrucción `if` es muy sencillo. Si lo que está comprobando es `true`, se ejecutará lo que esté dentro del siguiente *bloque de código*.\n"
   ]
  },
  {
   "cell_type": "code",
   "execution_count": 9,
   "metadata": {},
   "outputs": [
    {
     "name": "stdout",
     "output_type": "stream",
     "text": [
      "El numero 5 es mayor o igual que 0\n",
      "Este mensaje se imprime sólo en caso de que num1 >= num2\n"
     ]
    }
   ],
   "source": [
    "num1=5; num2=0;\n",
    "if num1>=num2:\n",
    "    print(f'El numero {num1} es mayor o igual que {num2}')\n",
    "    print('Este mensaje se imprime sólo en caso de que num1 >= num2')"
   ]
  },
  {
   "attachments": {},
   "cell_type": "markdown",
   "metadata": {},
   "source": [
    "Es muy importante tener en cuenta que la sentencia `if` debe ir terminada por `:` y el bloque de código a ejecutar debe estar identado. Si usas algún editor de código, seguramente la identación se producirá automáticamente al presionar enter. Nótese que el bloque de código puede también contener más de una línea, es decir puede contener más de una instrucción.\n",
    "\n",
    "Todo lo que vaya después del `if` y esté identado, será parte del bloque de código que se ejecutará si la condición se cumple."
   ]
  },
  {
   "cell_type": "code",
   "execution_count": 10,
   "metadata": {},
   "outputs": [],
   "source": [
    "burritos = 4\n",
    "\n",
    "if (burritos > 5):\n",
    "    print(\"You ordered too many burritos.\")"
   ]
  },
  {
   "cell_type": "code",
   "execution_count": 11,
   "metadata": {},
   "outputs": [
    {
     "name": "stdout",
     "output_type": "stream",
     "text": [
      "You ordered too many burritos.\n"
     ]
    }
   ],
   "source": [
    "burritos = 8\n",
    "\n",
    "if (burritos > 5):\n",
    "    print(\"You ordered too many burritos.\")"
   ]
  },
  {
   "cell_type": "code",
   "execution_count": 12,
   "metadata": {},
   "outputs": [
    {
     "name": "stdout",
     "output_type": "stream",
     "text": [
      "positivo\n"
     ]
    }
   ],
   "source": [
    "x = float(input('Ingresa un numero'))\n",
    "\n",
    "if(x>0):\n",
    "    print('positivo')\n",
    "else:\n",
    "    print('No positivo')\n",
    "    "
   ]
  },
  {
   "attachments": {},
   "cell_type": "markdown",
   "metadata": {},
   "source": [
    "Se puede también **combinar varias condiciones entre el `if` y los `:` **. Por ejemplo, se puede requerir que un número sea mayor que $5$ y además menor que $15$. Tenemos en realidad tres operadores usados conjuntamente, que serán evaluados por separado hasta devolver el resultado final, que será `True` si la condición se cumple o `False` de lo contrario."
   ]
  },
  {
   "attachments": {},
   "cell_type": "markdown",
   "metadata": {},
   "source": [
    "## `Pass`"
   ]
  },
  {
   "attachments": {},
   "cell_type": "markdown",
   "metadata": {},
   "source": [
    "**Importante:** A diferencia de otros lenguajes, en Python **no puede haber** un bloque `if` vacío. El siguiente código daría un `SyntaxError`.\n",
    "\n",
    "Por lo tanto si tenemos un `if` sin contenido, tal vez porque sea una tarea pendiente que estamos dejando para implementar en un futuro, es necesario hacer uso de `pass` para evitar el error. Realmente `pass` no hace nada, simplemente es para tener contento y tranquilo al interprete de código."
   ]
  },
  {
   "cell_type": "code",
   "execution_count": 13,
   "metadata": {},
   "outputs": [],
   "source": [
    "if a > 5:\n",
    "    pass"
   ]
  },
  {
   "attachments": {},
   "cell_type": "markdown",
   "metadata": {},
   "source": [
    "## If-Else: `else`"
   ]
  },
  {
   "attachments": {},
   "cell_type": "markdown",
   "metadata": {},
   "source": [
    "Es posible que no solo queramos hacer algo si una determinada condición se cumple, sino que además queramos hacer algo en caso contrario, i.e. en caso de no cumplirse la condición. Es aquí donde entra la instrucción `else`. La parte del `if` se comporta de la manera que ya sabemos, con la diferencia que si esa condición no se cumple, se ejecutará el código presente dentro del `else`. Observa que  **ambos bloque de código son excluyentes** i.e. se entra o en uno o en otro, pero nunca se ejecutarán los dos."
   ]
  },
  {
   "cell_type": "code",
   "execution_count": 14,
   "metadata": {},
   "outputs": [
    {
     "name": "stdout",
     "output_type": "stream",
     "text": [
      "No es 5\n"
     ]
    }
   ],
   "source": [
    "x = 8\n",
    "if x == 5:\n",
    "    print(\"Es 5\")\n",
    "else:\n",
    "    print(\"No es 5\")"
   ]
  },
  {
   "cell_type": "code",
   "execution_count": 15,
   "metadata": {},
   "outputs": [
    {
     "name": "stdout",
     "output_type": "stream",
     "text": [
      "Tu necesitas ordenar mas burritos.\n"
     ]
    }
   ],
   "source": [
    "burritos = 3\n",
    "\n",
    "if (burritos < 5):\n",
    "    print(\"Tu necesitas ordenar mas burritos.\")\n",
    "else:\n",
    "    print(\"Tu ordenaste el numero correcto de burritos ;) \")"
   ]
  },
  {
   "attachments": {},
   "cell_type": "markdown",
   "metadata": {},
   "source": [
    "## Else-If: `elif`"
   ]
  },
  {
   "attachments": {},
   "cell_type": "markdown",
   "metadata": {},
   "source": [
    "Hasta ahora hemos visto como ejecutar un bloque de código si se cumple una instrucción, u otro si no se cumple, pero no es suficiente. En muchos casos, podemos tener varias condiciones diferentes y para cada una queremos un código distinto. Es aquí donde entra en juego la instrucción  `elif`."
   ]
  },
  {
   "cell_type": "code",
   "execution_count": 16,
   "metadata": {},
   "outputs": [
    {
     "name": "stdout",
     "output_type": "stream",
     "text": [
      "Es 7\n"
     ]
    }
   ],
   "source": [
    "x = 7\n",
    "if x == 5:\n",
    "    print(\"Es 5\")\n",
    "elif x == 6:\n",
    "    print(\"Es 6\")\n",
    "elif x == 7:\n",
    "    print(\"Es 7\")"
   ]
  },
  {
   "attachments": {},
   "cell_type": "markdown",
   "metadata": {},
   "source": [
    "Con la instrucción `elif` podemos ejecutar tantos bloques de código distintos como queramos según la condición. "
   ]
  },
  {
   "attachments": {},
   "cell_type": "markdown",
   "metadata": {},
   "source": [
    "Se puede **usar también de manera conjunta todo**, el `if` con el `elif` y un `else` al final. Es muy importante notar que `if` y `else` **solamente puede haber uno**, mientras que `elif` puede haber varios."
   ]
  },
  {
   "cell_type": "code",
   "execution_count": 17,
   "metadata": {},
   "outputs": [
    {
     "name": "stdout",
     "output_type": "stream",
     "text": [
      "Es otro\n"
     ]
    }
   ],
   "source": [
    "x = 0\n",
    "if x == 5:\n",
    "    print(\"Es 5\")\n",
    "elif x == 6:\n",
    "    print(\"Es 6\")\n",
    "elif x == 7:\n",
    "    print(\"Es 7\")\n",
    "else:\n",
    "    print(\"Es otro\")"
   ]
  },
  {
   "attachments": {},
   "cell_type": "markdown",
   "metadata": {},
   "source": [
    "**Observacioón:** Si vienes de otros lenguajes de programación, sabrás que el `switch` es una forma alternativa de `elif`, sin embargo en Python esta instrucción no existe."
   ]
  },
  {
   "attachments": {},
   "cell_type": "markdown",
   "metadata": {},
   "source": [
    "# Secuencias de datos en Python"
   ]
  },
  {
   "attachments": {},
   "cell_type": "markdown",
   "metadata": {},
   "source": [
    "En muchas aplicaciones resulta conveniente ser capaz de almacenar en memoria, para luego manipular a conveniencia y de forma consistente, un determinado conjunto de datos.\n",
    "\n",
    "Hasta el momento, hemos introducido tipos de ***datos escalares***, `int`, `float`, `complex` y `bool`, datos que conceptualmente contienen un único valor. Y de hecho, ya hemos introducido un ***contenedor de datos***, las *cadenas de caracteres* `str`.\n",
    "\n",
    "Supongamos, por un momento, que se desea retener un conjunto de $5$ enteros en memoria, para luego manipularlos, posiblemente de diversas formas: *sumándolos*, o hallando el *máximo* de los mismos, o *graficándolos*, etc.\n",
    "\n",
    "Con lo visto hasta ahora el recurso lógico es definir $5$ variables enteras y tratarlas individualmente."
   ]
  },
  {
   "cell_type": "code",
   "execution_count": 2,
   "metadata": {},
   "outputs": [],
   "source": [
    "a0 = 10\n",
    "a1 = 5\n",
    "a2 = 1\n",
    "a3 = 130\n",
    "a4 = -2\n",
    "\n",
    "suma = a0 + a1 + a2 + a3 + a4"
   ]
  },
  {
   "attachments": {},
   "cell_type": "markdown",
   "metadata": {},
   "source": [
    "¿Qué solución adoptaríamos si ahora se necesitaran 100 variables? Habría que crear otras tantas variables, con nombres diferentes y extender el código previo manteniendo la idea básica. ¡Algo impracticable!\n",
    "\n",
    "Para tratar estas situaciones, Python dispone de tipos nativos que actúan como ***contenedores*** (***containers***) de datos, que cubren esa necesidad."
   ]
  },
  {
   "attachments": {},
   "cell_type": "markdown",
   "metadata": {},
   "source": [
    "Todos los lenguajes de programación brindan la posibilidad de trabajar con colecciones de datos de una forma consistente. Por ejemplo, en C/C++ se tiene el concepto de vector (array).\n",
    "\n",
    "Python ofrece un conjunto de opciones muy efectivas y flexibles para resolver este tipo de problemas. Permiten representar tipos de datos contenedores de otros datos de forma nativa.\n",
    "\n",
    "Los tipos nativos contenedor más relevantes son:"
   ]
  },
  {
   "attachments": {},
   "cell_type": "markdown",
   "metadata": {},
   "source": [
    "## Secuencias en Python"
   ]
  },
  {
   "attachments": {},
   "cell_type": "markdown",
   "metadata": {},
   "source": [
    "Las **secuencias** son *contenedores* donde los elementos se almacenan siguiendo un orden. ***Listas***, ***tuplas*** y ***rangos*** son las secuencias básicas en  Python.Así también, las ***cadena de caracteres***, son  secuencias ordenada de caracteres alfanuméricos."
   ]
  },
  {
   "attachments": {},
   "cell_type": "markdown",
   "metadata": {},
   "source": [
    "## Contenedores en Python"
   ]
  },
  {
   "attachments": {},
   "cell_type": "markdown",
   "metadata": {},
   "source": [
    "<table>\n",
    "  <thead>\n",
    "    <tr>\n",
    "      <th>Nombre</th>\n",
    "      <th>Tipo</th>\n",
    "      <th>Ejemplo</th>\n",
    "      <th>Descripción</th>\n",
    "    </tr>\n",
    "  </thead>\n",
    "  <tbody>\n",
    "    <tr>\n",
    "      <td>Lista (List)</td>\n",
    "      <td><code>list</code></td>\n",
    "      <td><code>[1, 2, 3]</code></td>\n",
    "      <td>Contenedor que almacena una secuencia ordenada, heterogenea y mutable de datos.</td>\n",
    "    </tr>\n",
    "    <tr>\n",
    "      <td>Tupla </td>\n",
    "      <td><code>tuple</code></td>\n",
    "      <td><code>1,2,3</code> o <code>(1, 2, 3)</code></td>\n",
    "      <td>Contenedor que almacena una secuencia ordenada, heterogenea e inmutable de datos.</td>\n",
    "    </tr>\n",
    "    <tr>\n",
    "      <td>Rango </td>\n",
    "      <td><code>range</code></td>\n",
    "      <td><code>range(1, 10, 2)</code> </td>\n",
    "      <td>Contenedor que almacena una secuencia ordenada de enteros inmutable.</td>\n",
    "    </tr>\n",
    "    <tr>\n",
    "      <td>Conjunto</td>\n",
    "      <td><code>Set</code></td>\n",
    "      <td><code>{1, 2, 3}</code></td>\n",
    "      <td>Contenedor que almacena elementos únicos en un orden no especificado.</td>\n",
    "    </tr>\n",
    "    <tr>\n",
    "      <td>Diccionario (Dictionary)</td>\n",
    "      <td><code>dict</code></td>\n",
    "      <td><code>{\"key\": \"value\", \"nombre\": \"Juan\"}</code></td>\n",
    "      <td>Contenedor que almacena pares asociativos de valores unicos: (clave,valor).</td>\n",
    "    </tr>\n",
    "  </tbody>\n",
    "</table>\n"
   ]
  },
  {
   "attachments": {},
   "cell_type": "markdown",
   "metadata": {},
   "source": [
    "**Observación**\n",
    "\n",
    "El uso de corchetes, `[]`, paréntesis, `()` o llaves, `{}`, es lo que distingue entre sí la naturaleza de algunos de los contenedores anteriores."
   ]
  },
  {
   "attachments": {},
   "cell_type": "markdown",
   "metadata": {},
   "source": [
    "# Ciclos en Python"
   ]
  },
  {
   "cell_type": "markdown",
   "metadata": {},
   "source": [
    "Los bucles son una parte importante de cualquier lenguaje de programación. Nos permiten ejecutar el mismo bloque de código una y otra vez, lo que evita que tengamos que copiarlo y pegarlo.\n",
    "\n",
    "En esta lección, veremos los dos bucles principales en Python , además de algunas declaraciones que puede usar para controlar el flujo mientras está dentro de los bucles."
   ]
  },
  {
   "attachments": {},
   "cell_type": "markdown",
   "metadata": {},
   "source": [
    "##  `Range` en Python "
   ]
  },
  {
   "attachments": {},
   "cell_type": "markdown",
   "metadata": {},
   "source": [
    "`range` es un tipo de dato que representa una secuencia de números inmutable. Para crear un objeto de tipo `range`, se pueden realizar lo siguiente:\n",
    "\n",
    "* `range(fin)`: Crea una secuencia numérica que va desde $0$ hasta $fin-1$.\n",
    "* `range(inicio,fin,[salto])`:Crea una secuencia numérica que va desde $inicio$ hasta $fin - 1$. Si además se indica el parámetro $paso$, la secuencia genera los números de $paso$ en $paso$."
   ]
  },
  {
   "attachments": {},
   "cell_type": "markdown",
   "metadata": {},
   "source": [
    "Esto es,  `range()` genera una secuencia de números  donde el primer parametro es el **inicio de la secuencia**, el segundo **el final** y el tercero (opcional) indica **el salto** que se desea entre números. Por defecto se empieza en $0$ y el valor predeterminado del salto  es de $1$.\n",
    "\n",
    "<center>\n",
    "<code>range(inicio, fin, salto)</code>\n",
    "</center>"
   ]
  },
  {
   "attachments": {},
   "cell_type": "markdown",
   "metadata": {},
   "source": [
    "**Observación:** Si se llama al constructor `range()` con **parámetros incorrectos**, se obtendrá un **objeto vacío**."
   ]
  },
  {
   "attachments": {},
   "cell_type": "markdown",
   "metadata": {},
   "source": [
    "### Uso de `range() ` "
   ]
  },
  {
   "attachments": {},
   "cell_type": "markdown",
   "metadata": {},
   "source": [
    " Enseguida se generarán números de $0$ a $19$ de dos en dos. Un truco es que  `range( )` se puede convertir en `list`."
   ]
  },
  {
   "cell_type": "code",
   "execution_count": 18,
   "metadata": {},
   "outputs": [
    {
     "name": "stdout",
     "output_type": "stream",
     "text": [
      "[0, 1, 2, 3, 4, 5, 6, 7, 8, 9, 10]\n"
     ]
    }
   ],
   "source": [
    "secuencia = range(0,11)\n",
    "print(list(secuencia))"
   ]
  },
  {
   "attachments": {},
   "cell_type": "markdown",
   "metadata": {},
   "source": [
    "**Observación:**  `range` además de ser un **tipo secuencial** es un **tipo iterable** con una particularidad: a diferencia de los tipos `list` o `tuple`, range calcula los ítems cuando los necesita. Como `list` acepta un objeto iterable como parámetro, podemos pasar un objeto `range` al constructor de `list`, para que se muestre por pantalla la secuencia completa que se genera con range."
   ]
  },
  {
   "attachments": {},
   "cell_type": "markdown",
   "metadata": {},
   "source": [
    "### Ventajas de usar range en Python\n",
    "\n"
   ]
  },
  {
   "attachments": {},
   "cell_type": "markdown",
   "metadata": {},
   "source": [
    "La principal ventaja de usar `range` sobre `list` o `tuple` es que es un iterable que genera los elementos solo en el momento en que realmente los necesita. Esto implica que **usa una cantidad de memoria mínima**, por muy grande que sea el rango de números que represente.\n",
    "\n"
   ]
  },
  {
   "attachments": {},
   "cell_type": "markdown",
   "metadata": {},
   "source": [
    "#### Módulo sys \n",
    "El **módulo sys** es un módulo integrado en Python que proporciona funciones y variables que interactúan con el intérprete de Python y el sistema operativo en el que se ejecuta.\n",
    "\n",
    "`sys.getsizeof()` Es una función que devuelve el tamaño de un objeto en bytes."
   ]
  },
  {
   "attachments": {},
   "cell_type": "markdown",
   "metadata": {},
   "source": [
    "Veamos una comparación de una `lista` que almacena los números del $0$ al $100,000$ y un `range` del $0$ al $100,000$:"
   ]
  },
  {
   "cell_type": "code",
   "execution_count": 19,
   "metadata": {},
   "outputs": [],
   "source": [
    "import sys\n",
    "\n",
    "lista = list(range(0, 100000))\n",
    "\n",
    "rango = range(0, 100000)"
   ]
  },
  {
   "cell_type": "code",
   "execution_count": 20,
   "metadata": {},
   "outputs": [
    {
     "data": {
      "text/plain": [
       "800056"
      ]
     },
     "execution_count": 20,
     "metadata": {},
     "output_type": "execute_result"
    }
   ],
   "source": [
    "sys.getsizeof(lista)"
   ]
  },
  {
   "cell_type": "code",
   "execution_count": 21,
   "metadata": {},
   "outputs": [
    {
     "data": {
      "text/plain": [
       "48"
      ]
     },
     "execution_count": 21,
     "metadata": {},
     "output_type": "execute_result"
    }
   ],
   "source": [
    "sys.getsizeof(rango)"
   ]
  },
  {
   "attachments": {},
   "cell_type": "markdown",
   "metadata": {},
   "source": [
    "## Ciclo `for`"
   ]
  },
  {
   "attachments": {},
   "cell_type": "markdown",
   "metadata": {},
   "source": [
    "El ciclo `for` es un tipo de bucle, parecido al `while` pero con ciertas diferencias. Una de estas diferencias es que el número de iteraciones de un `for` esta previamente definido, mientras que en un `while` no. Por otro lado,  la diferencia principal con respecto al `while` se encuentra en la condición. Mientras que en el while la condición es evaluada en cada iteración para decidir si volver a ejecutar o no el código, en el `for` no existe tal condición, sino un iterable que define las veces que se ejecutará el código"
   ]
  },
  {
   "cell_type": "code",
   "execution_count": 22,
   "metadata": {},
   "outputs": [
    {
     "name": "stdout",
     "output_type": "stream",
     "text": [
      "1\n",
      "2\n",
      "3\n",
      "4\n",
      "5\n",
      "6\n",
      "7\n",
      "8\n",
      "9\n",
      "10\n"
     ]
    }
   ],
   "source": [
    "for i in range(1, 11):\n",
    "    print(i)"
   ]
  },
  {
   "attachments": {},
   "cell_type": "markdown",
   "metadata": {},
   "source": [
    "**En Python se puede iterar prácticamente todo**, como por ejemplo una cadena. En el siguiente ejemplo vemos como la `i` va tomando los valores de cada letra de la cadena. "
   ]
  },
  {
   "cell_type": "code",
   "execution_count": 23,
   "metadata": {},
   "outputs": [
    {
     "name": "stdout",
     "output_type": "stream",
     "text": [
      "P\n",
      "y\n",
      "t\n",
      "h\n",
      "o\n",
      "n\n"
     ]
    }
   ],
   "source": [
    "for i in \"Python\":\n",
    "    print(i)"
   ]
  },
  {
   "attachments": {},
   "cell_type": "markdown",
   "metadata": {},
   "source": [
    "Python hace que \"**recorrer**\" las cosas sea muy sencillo."
   ]
  },
  {
   "attachments": {},
   "cell_type": "markdown",
   "metadata": {},
   "source": [
    "## Ciclos `for` anidados"
   ]
  },
  {
   "attachments": {},
   "cell_type": "markdown",
   "metadata": {},
   "source": [
    "Es posible anidar los for, es decir, meter uno dentro de otro. Esto puede ser muy útil si queremos iterar algún objeto que en cada elemento, tiene a su vez otra clase iterable. Podemos tener por ejemplo, una lista de listas, una especie de matriz."
   ]
  },
  {
   "cell_type": "code",
   "execution_count": 24,
   "metadata": {},
   "outputs": [
    {
     "data": {
      "text/plain": [
       "[[56, 34, 1], [12, 4, 5]]"
      ]
     },
     "execution_count": 24,
     "metadata": {},
     "output_type": "execute_result"
    }
   ],
   "source": [
    "lista = [[56, 34, 1],\n",
    "         [12, 4, 5],\n",
    "         [9, 4, 3]]\n",
    "lista[:2]"
   ]
  },
  {
   "attachments": {},
   "cell_type": "markdown",
   "metadata": {},
   "source": [
    "Si iteramos usando sólo un for, estaremos realmente accediendo a la segunda lista, pero no a los elementos individuales."
   ]
  },
  {
   "cell_type": "code",
   "execution_count": 25,
   "metadata": {},
   "outputs": [
    {
     "name": "stdout",
     "output_type": "stream",
     "text": [
      "[56, 34, 1]\n",
      "[12, 4, 5]\n",
      "[9, 4, 3]\n"
     ]
    }
   ],
   "source": [
    "for i in lista:\n",
    "    print(i)"
   ]
  },
  {
   "attachments": {},
   "cell_type": "markdown",
   "metadata": {},
   "source": [
    "Si queremos acceder a cada elemento individualmente, podemos anidar dos for. Uno de ellos se encargará de iterar las columnas y el otro las filas."
   ]
  },
  {
   "cell_type": "code",
   "execution_count": 26,
   "metadata": {},
   "outputs": [
    {
     "name": "stdout",
     "output_type": "stream",
     "text": [
      "56\n",
      "34\n",
      "1\n",
      "12\n",
      "4\n",
      "5\n",
      "9\n",
      "4\n",
      "3\n"
     ]
    }
   ],
   "source": [
    "for i in lista:\n",
    "    for j in i:\n",
    "        print(j)"
   ]
  },
  {
   "cell_type": "code",
   "execution_count": 27,
   "metadata": {},
   "outputs": [],
   "source": [
    "n=5\n"
   ]
  },
  {
   "attachments": {},
   "cell_type": "markdown",
   "metadata": {},
   "source": [
    "## Ciclo `while`"
   ]
  },
  {
   "attachments": {},
   "cell_type": "markdown",
   "metadata": {},
   "source": [
    "El uso del ciclo `while` nos **permite ejecutar una sección de código repetidas veces**, de ahí su nombre. El código se ejecutará **mientras una condición determinada se cumpla**. Cuando se deje de cumplir, se saldrá del bucle y se continuará la ejecución normal. Llamaremos iteración a una ejecución completa del bloque de código."
   ]
  },
  {
   "attachments": {},
   "cell_type": "markdown",
   "metadata": {},
   "source": [
    "El `while` tiene dos partes:\n",
    "\n",
    "* La **condición** que se tiene que cumplir para que se ejecute el código.\n",
    "\n",
    "\n",
    "* El **bloque de código** que se ejecutará mientras la condición se cumpla."
   ]
  },
  {
   "cell_type": "code",
   "execution_count": 28,
   "metadata": {},
   "outputs": [
    {
     "name": "stdout",
     "output_type": "stream",
     "text": [
      "1\n",
      "2\n",
      "3\n",
      "4\n",
      "5\n",
      "6\n",
      "7\n",
      "8\n",
      "9\n",
      "10\n"
     ]
    }
   ],
   "source": [
    "contador = 1\n",
    "\n",
    "while contador <= 10:\n",
    "    print(contador)\n",
    "    contador +=  1"
   ]
  },
  {
   "attachments": {},
   "cell_type": "markdown",
   "metadata": {},
   "source": [
    "En el siguiente ejemplo  tenemos un caso sencillo de `while`. Tenemos una condición `x>0` y un bloque de código a ejecutar mientras dure esa condición se ejecutaran. Por lo tanto mientras que `x` sea mayor que `0`, se ejecutará el código:  `x-=1` y `print(x)`. Una vez se llega al final, se vuelve a empezar y si la condición se cumple, se ejecuta otra vez. En este caso se entra al bloque de código `5` veces, hasta que en la sexta, `x` vale cero y por lo tanto la condición ya no se cumple. "
   ]
  },
  {
   "cell_type": "code",
   "execution_count": 29,
   "metadata": {},
   "outputs": [
    {
     "name": "stdout",
     "output_type": "stream",
     "text": [
      "4\n",
      "3\n",
      "2\n",
      "1\n",
      "0\n"
     ]
    }
   ],
   "source": [
    "x = 5\n",
    "while x > 0:\n",
    "    x -=1\n",
    "    print(x)"
   ]
  },
  {
   "attachments": {},
   "cell_type": "markdown",
   "metadata": {},
   "source": [
    "**Importante:** Ten cuidado ya que un mal uso del `while` puede **dar lugar a bucles infinitos y problemas**. Es cierto que en algún caso tal vez nos interese tener un bucle infinito, pero salvo que estemos seguros de lo que estamos haciendo, hay que tener cuidado. \n",
    "\n",
    "Imaginemos que tenemos un bucle cuya condición siempre se cumple. Por ejemplo, si ponemos `True` en la condición del `while`, siempre que se evalúe esa expresión, el resultado será `True` y se ejecutará el bloque de código. Una vez llegado al final del bloque, se volverá a evaluar la condición, se cumplirá, y vuelta a empezar."
   ]
  },
  {
   "cell_type": "code",
   "execution_count": 30,
   "metadata": {},
   "outputs": [],
   "source": [
    "#while True:\n",
    "#  print(\"Bucle infinito\")"
   ]
  },
  {
   "attachments": {},
   "cell_type": "markdown",
   "metadata": {},
   "source": [
    "## Instrucción `break`"
   ]
  },
  {
   "attachments": {},
   "cell_type": "markdown",
   "metadata": {},
   "source": [
    "La sentencia `break` **nos permite alterar el comportamiento de los bucles** `while` y `for`. Concretamente, **permite terminar con la ejecución del bucle**.\n",
    "\n",
    "Esto significa que una vez se encuentra la palabra `break`, el bucle se habrá terminado."
   ]
  },
  {
   "attachments": {},
   "cell_type": "markdown",
   "metadata": {},
   "source": [
    "### Break con bucles for"
   ]
  },
  {
   "cell_type": "code",
   "execution_count": null,
   "metadata": {},
   "outputs": [],
   "source": [
    "for i in range(1, 11):\n",
    "    print(i)\n",
    "    if (i == 5):\n",
    "        break"
   ]
  },
  {
   "attachments": {},
   "cell_type": "markdown",
   "metadata": {},
   "source": [
    "El ciclo que normalmente habría continuado hasta que $10$ se imprimió el número, se detuvo en $5$ porque usamos `break`."
   ]
  },
  {
   "attachments": {},
   "cell_type": "markdown",
   "metadata": {},
   "source": [
    "Un ejemplo un poco más útil, sería el de buscar una letra en una palabra. Se itera toda la palabra y en el momento en el que se encuentra la letra que buscábamos, se rompe el bucle y se sale.\n",
    "\n",
    "Esto es algo muy útil porque si ya encontramos lo que estábamos buscando, no tendría mucho sentido seguir iterando la lista, ya que desperdiciaríamos recursos."
   ]
  },
  {
   "cell_type": "code",
   "execution_count": null,
   "metadata": {},
   "outputs": [],
   "source": [
    "cadena = 'Python'\n",
    "for letra in cadena:\n",
    "    if letra == 'h':\n",
    "        print(\"Se encontró la h\")\n",
    "        break\n",
    "    print(letra)"
   ]
  },
  {
   "attachments": {},
   "cell_type": "markdown",
   "metadata": {},
   "source": [
    "### Break con bucles while"
   ]
  },
  {
   "attachments": {},
   "cell_type": "markdown",
   "metadata": {},
   "source": [
    "La instrucción `break` también nos permite alterar el comportamiento del `while`."
   ]
  },
  {
   "attachments": {},
   "cell_type": "markdown",
   "metadata": {},
   "source": [
    " En el siguiente ejemplo la condición `while True` haría que la sección de código se ejecutara indefinidamente, pero al hacer uso del `break`, el bucle se romperá cuando `x` valga cero."
   ]
  },
  {
   "cell_type": "code",
   "execution_count": null,
   "metadata": {},
   "outputs": [],
   "source": [
    "x = 5\n",
    "while True:\n",
    "    x -= 1\n",
    "    print(x)\n",
    "    if x == 0:\n",
    "        break\n",
    "    print(\"Fin del bucle\")\n"
   ]
  },
  {
   "attachments": {},
   "cell_type": "markdown",
   "metadata": {},
   "source": [
    "### Break y bucles anidados"
   ]
  },
  {
   "attachments": {},
   "cell_type": "markdown",
   "metadata": {},
   "source": [
    "El uso de `break` rompe el bucle, pero **sólo aquel en el que está dentro**.\n",
    "\n",
    "Es decir, si tenemos dos bucles anidados, el `break` romperá el bucle anidado, pero no el exterior."
   ]
  },
  {
   "cell_type": "code",
   "execution_count": null,
   "metadata": {},
   "outputs": [],
   "source": [
    "for i in range(0, 4):\n",
    "    for j in range(0, 4):\n",
    "        break\n",
    "        #Nunca se realiza más de una iteración\n",
    "    # El break no afecta a este for\n",
    "    print(i, end=\",\")\n",
    "    print(j)"
   ]
  },
  {
   "attachments": {},
   "cell_type": "markdown",
   "metadata": {},
   "source": [
    "## Instrucción `continuar` "
   ]
  },
  {
   "attachments": {},
   "cell_type": "markdown",
   "metadata": {},
   "source": [
    "El uso de `continue` al igual que el `break`, nos permite modificar el comportamiento de de los bucles `while` y `for`.\n",
    "\n",
    "*  `continue` **se salta todo el código restante en la iteración actual y vuelve al principio en el caso de que aún queden iteraciones por completar**.\n",
    "\n",
    "* La diferencia entre el `break` y `continue` es que el `continue` **no rompe el bucle, si no que pasa a la siguiente iteración saltando el código pendiente**."
   ]
  },
  {
   "cell_type": "code",
   "execution_count": null,
   "metadata": {},
   "outputs": [],
   "source": [
    "for i in range(1, 11):\n",
    "    if (i == 3 or i == 6):\n",
    "        continue\n",
    "    print(i)"
   ]
  },
  {
   "attachments": {},
   "cell_type": "markdown",
   "metadata": {},
   "source": [
    "En el código anterior los números $3$ y $6$ los omitimos porque continuamos con la siguiente iteración del ciclo en lugar de permitir que se impriman."
   ]
  },
  {
   "attachments": {},
   "cell_type": "markdown",
   "metadata": {},
   "source": [
    "**Observación:** A diferencia del `break`, el `continue` no rompe el bucle sino que finaliza la iteración actual, haciendo que todo el código que va después se salte, y se vuelva al principio a evaluar la condición."
   ]
  },
  {
   "attachments": {},
   "cell_type": "markdown",
   "metadata": {},
   "source": [
    "En el siguiente ejemplo podemos ver como cuando `x` vale $3$, se llama al `continue`, lo que hace que se salte el resto de código de la iteración (el `print()`). Por ello, vemos como el número `3` no se imprime en pantalla."
   ]
  },
  {
   "cell_type": "code",
   "execution_count": null,
   "metadata": {},
   "outputs": [],
   "source": [
    "x = 5\n",
    "while x > 0:\n",
    "    x -= 1\n",
    "    if x == 3:\n",
    "        continue\n",
    "    print(x)"
   ]
  },
  {
   "attachments": {},
   "cell_type": "markdown",
   "metadata": {},
   "source": [
    "## Instrucción Pass "
   ]
  },
  {
   "attachments": {},
   "cell_type": "markdown",
   "metadata": {},
   "source": [
    "La instrucción `pass` en Python es una sentencia nula que **se utiliza como un relleno cuando se necesita escribir una sentencia vacía o placeholder en un bloque de código**.\n",
    "\n",
    " Por ejemplo, se puede usar `pass` en una estructura de control de flujo como un `if` o un `bucle for` para indicar que no se debe hacer nada si se cumple una determinada condición:"
   ]
  },
  {
   "cell_type": "code",
   "execution_count": null,
   "metadata": {},
   "outputs": [],
   "source": [
    "x=-5\n",
    "if x > 0:\n",
    "    pass\n",
    "else:\n",
    "    print(\"x es negativo o cero\")\n"
   ]
  },
  {
   "attachments": {},
   "cell_type": "markdown",
   "metadata": {},
   "source": [
    "O se puede usar `pass` en la definición de una función o una clase para indicar que aún no se ha implementado ninguna funcionalidad:"
   ]
  },
  {
   "cell_type": "code",
   "execution_count": null,
   "metadata": {},
   "outputs": [],
   "source": [
    "def mi_funcion():\n",
    "    pass\n",
    "\n",
    "class MiClase:\n",
    "    pass\n"
   ]
  },
  {
   "cell_type": "markdown",
   "metadata": {},
   "source": [
    "En general, pass es útil en casos en los que se requiere escribir una sentencia vacía, pero se requiere una sintaxis válida en el bloque de código."
   ]
  },
  {
   "cell_type": "markdown",
   "metadata": {},
   "source": [
    "# Listas"
   ]
  },
  {
   "attachments": {},
   "cell_type": "markdown",
   "metadata": {},
   "source": [
    "Las **listas** en Python son un tipo de dato que **permite almacenar datos de cualquier tipo**. Son **mutables** y **dinámicas**, lo cual es la principal diferencia con los `sets` y las `tuplas`."
   ]
  },
  {
   "attachments": {},
   "cell_type": "markdown",
   "metadata": {},
   "source": [
    "## Propiedades de las listas en Python\n",
    "\n",
    "\n",
    "Una lista en Python es:\n",
    "\n",
    "1. **Ordenada**: los elementos dentro de ella están *indexados* y se accede a ellos a través de una locación indexada. \n",
    "\n",
    "2. **Editable**  o **mutables**: los elementos dentro de una lista pueden *editarse*, *añadir nuevos* o *eliminar* los que ya tiene. \n",
    "\n",
    "3. Las listas pueden contener *diferentes tipos de datos* (incluso otras listas, i.e. se pueden *anidar* listar) y hasta de objetos. \n",
    "\n",
    "4. **No única**: esencialmente, esto quiere decir que la lista puede contener elementos duplicados sin que arroje un error. "
   ]
  },
  {
   "attachments": {},
   "cell_type": "markdown",
   "metadata": {},
   "source": [
    "## Crear una lista en Python"
   ]
  },
  {
   "attachments": {},
   "cell_type": "markdown",
   "metadata": {},
   "source": [
    "### Método 1 "
   ]
  },
  {
   "attachments": {},
   "cell_type": "markdown",
   "metadata": {},
   "source": [
    "En Python una lista sea crea con `[ ]` separando sus elementos con comas **`,`** .  Las listas en Python son uno de los tipos o estructuras de datos más versátiles del lenguaje, ya que permiten almacenar un conjunto arbitrario de diferente tipo de datos. "
   ]
  },
  {
   "cell_type": "code",
   "execution_count": null,
   "metadata": {},
   "outputs": [],
   "source": [
    "lista = [1, 2, 3, 4]\n",
    "type(lista)\n",
    "print(lista)"
   ]
  },
  {
   "attachments": {},
   "cell_type": "markdown",
   "metadata": {},
   "source": [
    "### Método 2"
   ]
  },
  {
   "attachments": {},
   "cell_type": "markdown",
   "metadata": {},
   "source": [
    "El segundo método es utilizando el  utilizando el **constructor de lista** `list` y pasando un objeto `iterable`."
   ]
  },
  {
   "cell_type": "code",
   "execution_count": null,
   "metadata": {},
   "outputs": [],
   "source": [
    "lista1 = list(\"1234\")\n",
    "lista2 = list(range(1,5))\n",
    "lista3 = list((1,2,3,4))\n",
    "\n",
    "print(lista1)\n",
    "print(lista2)\n",
    "print(lista3)"
   ]
  },
  {
   "cell_type": "markdown",
   "metadata": {},
   "source": [
    "Una gran ventaja es que pueden almacenar tipos de datos distintos."
   ]
  },
  {
   "cell_type": "code",
   "execution_count": null,
   "metadata": {},
   "outputs": [],
   "source": [
    "lista = [1, \"Hola\", 3.67, [1, 2, 3]]\n",
    "print(lista[1][3])\n"
   ]
  },
  {
   "cell_type": "markdown",
   "metadata": {},
   "source": [
    "## Acceder y modificar listas"
   ]
  },
  {
   "attachments": {},
   "cell_type": "markdown",
   "metadata": {},
   "source": [
    "Todas las secuencias en Python comienzan a numerarse desde $0$. Es por eso que se produce un error si se quiere acceder al $n$-ésimo elemento de una lista de longitud $n$."
   ]
  },
  {
   "cell_type": "code",
   "execution_count": null,
   "metadata": {},
   "outputs": [],
   "source": [
    "a = [90, \"Python\", 3.87]\n",
    "print(a[0]) \n",
    "print(a[1]) \n",
    "print(a[2]) "
   ]
  },
  {
   "cell_type": "markdown",
   "metadata": {},
   "source": [
    "## Listas anidadas"
   ]
  },
  {
   "attachments": {},
   "cell_type": "markdown",
   "metadata": {},
   "source": [
    "También podemos tener **listas anidadas**, es decir, una lista dentro de otra. Incluso podemos tener una lista dentro de otra lista y a su vez dentro de otra lista. Para acceder a sus elementos sólo tenemos que usar `[]` tantas veces como niveles de anidado tengamos."
   ]
  },
  {
   "cell_type": "code",
   "execution_count": null,
   "metadata": {},
   "outputs": [],
   "source": [
    "x = [1, 2, 3,' ',  ['python', 'Hola', [4,5,6]]]\n",
    "#print(x[3][0])    \n",
    "#print(x[3][2][0]) \n",
    "#print(x[3][2][2]) \n",
    "y=-2\n",
    "#print(x[-1][-1][y])\n",
    "z=x[4][2][1:3]\n",
    "#print(type(z)\n",
    "print(z)"
   ]
  },
  {
   "attachments": {},
   "cell_type": "markdown",
   "metadata": {},
   "source": [
    "También es posible crear sublistas más pequeñas de una más grande. Para ello debemos de usar `:` entre corchetes, indicando a la izquierda el valor de inicio, y a la izquierda el valor final que no está incluido. Por lo tanto `[0:2]` creará una lista con los elementos `[0]` y `[1]` de la original."
   ]
  },
  {
   "cell_type": "code",
   "execution_count": null,
   "metadata": {},
   "outputs": [],
   "source": [
    "l = list(range(101))\n",
    "print(l[0:2]) \n",
    "print(l[2:6]) "
   ]
  },
  {
   "attachments": {},
   "cell_type": "markdown",
   "metadata": {},
   "source": [
    "Y de la misma manera podemos modificar múltiples valores de la lista a la vez usando `:`."
   ]
  },
  {
   "cell_type": "code",
   "execution_count": null,
   "metadata": {},
   "outputs": [],
   "source": [
    "l = list(range(101))\n",
    "\n",
    "l[0:3] = [0, 0, 0]\n",
    "print(l) #[0, 0, 0, 4, 5, 6]"
   ]
  },
  {
   "attachments": {},
   "cell_type": "markdown",
   "metadata": {},
   "source": [
    "Hay ciertos operadores como el `+` que pueden ser usados sobre las listas."
   ]
  },
  {
   "cell_type": "code",
   "execution_count": null,
   "metadata": {},
   "outputs": [],
   "source": [
    "x=5\n",
    "x -= 6 # x = x-6\n",
    "print(x)\n",
    "\n",
    "l = [1, 2, 3]\n",
    "\n",
    "l = l + [4, 5]\n",
    "print(l) "
   ]
  },
  {
   "cell_type": "markdown",
   "metadata": {},
   "source": [
    "Y una funcionalidad muy interesante es que se puede asignar una lista con n elementos a n variables."
   ]
  },
  {
   "cell_type": "code",
   "execution_count": null,
   "metadata": {},
   "outputs": [],
   "source": [
    "l = [1, 2, 3]\n",
    "x, y, z = l\n",
    "print(x, y, z) "
   ]
  },
  {
   "cell_type": "markdown",
   "metadata": {},
   "source": [
    "## Iterar listas"
   ]
  },
  {
   "cell_type": "markdown",
   "metadata": {},
   "source": [
    "En Python es muy fácil iterar una lista, mucho más que en otros lenguajes de programación."
   ]
  },
  {
   "cell_type": "code",
   "execution_count": null,
   "metadata": {},
   "outputs": [],
   "source": [
    "lista = [5, 9, 10, 'Programacion', 'UMAR']\n",
    "for l in lista:\n",
    "    print(l)"
   ]
  },
  {
   "cell_type": "markdown",
   "metadata": {},
   "source": [
    "Si necesitamos un índice acompañado con la lista, que tome valores desde 0 hasta n-1, se puede hacer de la siguiente manera."
   ]
  },
  {
   "cell_type": "code",
   "execution_count": null,
   "metadata": {},
   "outputs": [],
   "source": [
    "lista = [5, 9, 10]\n",
    "for index, l in enumerate(lista):\n",
    "    print(index, l)"
   ]
  },
  {
   "attachments": {},
   "cell_type": "markdown",
   "metadata": {},
   "source": [
    "## Métodos para listas en Python\n",
    "\n",
    "<!-- <a href=\"https://docs.python.org/es/3/tutorial/datastructures.html \"> Métodos para listas en Python</a> -->"
   ]
  },
  {
   "attachments": {},
   "cell_type": "markdown",
   "metadata": {},
   "source": [
    "<table>\n",
    "  <thead>\n",
    "    <tr>\n",
    "      <th>Método</th>\n",
    "      <th>Descripción</th>\n",
    "      <th>Ejemplo</th>\n",
    "    </tr>\n",
    "  </thead>\n",
    "  <tbody>\n",
    "    <tr>\n",
    "      <td><strong>append()</strong></td>\n",
    "      <td>Agrega un elemento al final de la lista.</td>\n",
    "      <td><code>lista.append('nuevo')</code></td>\n",
    "    </tr>\n",
    "    <tr>\n",
    "      <td><strong>clear()</strong></td>\n",
    "      <td>Elimina todos los elementos de la lista.</td>\n",
    "      <td><code>lista.clear()</code></td>\n",
    "    </tr>\n",
    "    <tr>\n",
    "      <td><strong>copy()</strong></td>\n",
    "      <td>Devuelve una copia superficial de la lista.</td>\n",
    "      <td><code>nueva_lista = lista.copy()</code></td>\n",
    "    </tr>\n",
    "    <tr>\n",
    "      <td><strong>count()</strong></td>\n",
    "      <td>Devuelve el número de veces que aparece un elemento en la lista.</td>\n",
    "      <td><code>lista.count('elemento')</code></td>\n",
    "    </tr>\n",
    "    <tr>\n",
    "      <td><strong>extend()</strong></td>\n",
    "      <td>Agrega elementos de otra lista al final de la lista actual.</td>\n",
    "      <td><code>lista.extend([1, 2, 3])</code></td>\n",
    "    </tr>\n",
    "    <tr>\n",
    "      <td><strong>index()</strong></td>\n",
    "      <td>Devuelve el índice de la primera aparición de un elemento en la lista.</td>\n",
    "      <td><code>lista.index('elemento')</code></td>\n",
    "    </tr>\n",
    "    <tr>\n",
    "      <td><strong>insert()</strong></td>\n",
    "      <td>Inserta un elemento en una posición específica.</td>\n",
    "      <td><code>lista.insert(2, 'elemento')</code></td>\n",
    "    </tr>\n",
    "    <tr>\n",
    "      <td><strong>pop()</strong></td>\n",
    "      <td>Elimina y devuelve el último elemento de la lista.</td>\n",
    "      <td><code>lista.pop()</code></td>\n",
    "    </tr>\n",
    "    <tr>\n",
    "      <td><strong>remove()</strong></td>\n",
    "      <td>Elimina la primera aparición de un elemento de la lista.</td>\n",
    "      <td><code>lista.remove('elemento')</code></td>\n",
    "    </tr>\n",
    "    <tr>\n",
    "      <td><strong>reverse()</strong></td>\n",
    "      <td>Invierte el orden de los elementos de la lista.</td>\n",
    "      <td><code>lista.reverse()</code></td>\n",
    "    </tr>\n",
    "    <tr>\n",
    "      <td><strong>sort()</strong></td>\n",
    "      <td>Ordena los elementos de la lista.</td>\n",
    "      <td><code>lista.sort()</code></td>\n",
    "    </tr>\n",
    "  </tbody>\n",
    "</table>\n"
   ]
  },
  {
   "attachments": {},
   "cell_type": "markdown",
   "metadata": {},
   "source": [
    "#### <a href=\"https://docs.python.org/es/3/tutorial/datastructures.html \"> Métodos para listas en Python</a>"
   ]
  },
  {
   "cell_type": "code",
   "execution_count": null,
   "metadata": {},
   "outputs": [],
   "source": []
  }
 ],
 "metadata": {
  "kernelspec": {
   "display_name": "Python 3",
   "language": "python",
   "name": "python3"
  },
  "language_info": {
   "codemirror_mode": {
    "name": "ipython",
    "version": 3
   },
   "file_extension": ".py",
   "mimetype": "text/x-python",
   "name": "python",
   "nbconvert_exporter": "python",
   "pygments_lexer": "ipython3",
   "version": "3.11.2"
  },
  "orig_nbformat": 4
 },
 "nbformat": 4,
 "nbformat_minor": 2
}
